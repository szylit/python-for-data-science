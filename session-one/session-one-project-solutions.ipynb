{
 "cells": [
  {
   "cell_type": "markdown",
   "metadata": {},
   "source": [
    "# Python for Data Science Practicce Session 1: Social Sciences"
   ]
  },
  {
   "cell_type": "markdown",
   "metadata": {},
   "source": [
    "## How is Coronavirus Affecting Lives Across the World?"
   ]
  },
  {
   "cell_type": "markdown",
   "metadata": {},
   "source": [
    "The [COVIDiSTRESS global survey](https://osf.io/z39us/) is an international collaborative undertaking for gathering data on human experiences, behaviour and attitudes during the COVID-19 pandemic. The survey focuses on psychological stress, compliance with behavioural guidelines to slow the spread of Coronavirus, and trust in governmental institutions and their preventive measures. \n",
    "\n",
    "In this notebook we are going to use the results of the COVIDiSTRESS survey conducted in April–May 2020 to investigate the impact of the Coronavirus pandemic on the perceived level of stress by individuals across the world as well as explore other related factors. "
   ]
  },
  {
   "cell_type": "markdown",
   "metadata": {},
   "source": [
    "Before we get started we need to import the `pandas` packages"
   ]
  },
  {
   "cell_type": "code",
   "execution_count": 1,
   "metadata": {},
   "outputs": [],
   "source": [
    "# Import pandas\n",
    "import pandas as pd"
   ]
  },
  {
   "cell_type": "markdown",
   "metadata": {},
   "source": [
    "## Data Preprocessing"
   ]
  },
  {
   "cell_type": "markdown",
   "metadata": {},
   "source": [
    "### Import"
   ]
  },
  {
   "cell_type": "markdown",
   "metadata": {},
   "source": [
    "You can download the relevant dataset as a CSV file from this session's [materials](https://education.wdss.io/python-for-data-science/session-one/)."
   ]
  },
  {
   "cell_type": "markdown",
   "metadata": {},
   "source": [
    "This dataset is more complex than the one we looked at in the teaching session and so we will need to acquaint ourselves with some more optional arguments of the `read_csv` function. Namely, look at the [documentation](https://pandas.pydata.org/pandas-docs/stable/reference/api/pandas.read_csv.html) of the function, to see what the following parameters are for:\n",
    "\n",
    "- `low_memory`\n",
    "- `parse_dates`\n",
    "- `dayfirst`\n",
    "- `index_col`"
   ]
  },
  {
   "cell_type": "markdown",
   "metadata": {},
   "source": [
    "Use this knowledge to import the dataset and assign it to the variable `raw_df`. Pay close attention to the following points:\n",
    "\n",
    "- The dataset has a date column `RecordedDate` which uses day first format\n",
    "- Because many columns have lots of missing values, there will likely be mixed type inference (a bad thing) when using low memory mode\n",
    "- The first column of the dataset consists of row numbers which should be read as an index"
   ]
  },
  {
   "cell_type": "code",
   "execution_count": 2,
   "metadata": {},
   "outputs": [],
   "source": [
    "raw_df = pd.read_csv(\n",
    "    'data/covidstress.csv',\n",
    "    low_memory = False,\n",
    "    parse_dates=['RecordedDate'],\n",
    "    dayfirst=True,\n",
    "    index_col=0\n",
    ")"
   ]
  },
  {
   "cell_type": "markdown",
   "metadata": {},
   "source": [
    "> **Bonus**\n",
    ">\n",
    "> Suppose we didn't trust the index column of the original dataset. How could we use the default index provide by `pandas` instead?"
   ]
  },
  {
   "cell_type": "markdown",
   "metadata": {},
   "source": [
    "Let's explore the dataset by doing the following:\n",
    "- Print the first 3 rows of the dataset\n",
    "- Print the dimensions of the dataset\n",
    "- Print numerical summaries of the columns\n",
    "- Print the data types of the columns"
   ]
  },
  {
   "cell_type": "code",
   "execution_count": 3,
   "metadata": {},
   "outputs": [
    {
     "data": {
      "text/html": [
       "<div>\n",
       "<style scoped>\n",
       "    .dataframe tbody tr th:only-of-type {\n",
       "        vertical-align: middle;\n",
       "    }\n",
       "\n",
       "    .dataframe tbody tr th {\n",
       "        vertical-align: top;\n",
       "    }\n",
       "\n",
       "    .dataframe thead th {\n",
       "        text-align: right;\n",
       "    }\n",
       "</style>\n",
       "<table border=\"1\" class=\"dataframe\">\n",
       "  <thead>\n",
       "    <tr style=\"text-align: right;\">\n",
       "      <th></th>\n",
       "      <th>Duration..in.seconds.</th>\n",
       "      <th>RecordedDate</th>\n",
       "      <th>UserLanguage</th>\n",
       "      <th>Dem_age</th>\n",
       "      <th>Dem_gender</th>\n",
       "      <th>Dem_edu</th>\n",
       "      <th>Dem_edu_mom</th>\n",
       "      <th>Dem_employment</th>\n",
       "      <th>Country</th>\n",
       "      <th>Dem_Expat</th>\n",
       "      <th>...</th>\n",
       "      <th>Final_open</th>\n",
       "      <th>PSS10_avg</th>\n",
       "      <th>SLON3_avg</th>\n",
       "      <th>neu</th>\n",
       "      <th>ext</th>\n",
       "      <th>ope</th>\n",
       "      <th>agr</th>\n",
       "      <th>con</th>\n",
       "      <th>SPS_avg</th>\n",
       "      <th>Scale_UCLA_TRI_avg</th>\n",
       "    </tr>\n",
       "  </thead>\n",
       "  <tbody>\n",
       "    <tr>\n",
       "      <th>1</th>\n",
       "      <td>180</td>\n",
       "      <td>2020-05-30 23:47:00</td>\n",
       "      <td>SAR</td>\n",
       "      <td>29</td>\n",
       "      <td>Female</td>\n",
       "      <td>College degree, bachelor, master</td>\n",
       "      <td>Some College or equivalent</td>\n",
       "      <td>Not employed</td>\n",
       "      <td>Argentina</td>\n",
       "      <td>yes</td>\n",
       "      <td>...</td>\n",
       "      <td>NaN</td>\n",
       "      <td>2.9</td>\n",
       "      <td>3.000000</td>\n",
       "      <td>NaN</td>\n",
       "      <td>NaN</td>\n",
       "      <td>NaN</td>\n",
       "      <td>NaN</td>\n",
       "      <td>NaN</td>\n",
       "      <td>NaN</td>\n",
       "      <td>NaN</td>\n",
       "    </tr>\n",
       "    <tr>\n",
       "      <th>2</th>\n",
       "      <td>3100</td>\n",
       "      <td>2020-05-29 23:30:00</td>\n",
       "      <td>UR</td>\n",
       "      <td>20</td>\n",
       "      <td>Male</td>\n",
       "      <td>College degree, bachelor, master</td>\n",
       "      <td>None</td>\n",
       "      <td>Student</td>\n",
       "      <td>Pakistan</td>\n",
       "      <td>yes</td>\n",
       "      <td>...</td>\n",
       "      <td>NaN</td>\n",
       "      <td>2.2</td>\n",
       "      <td>2.333333</td>\n",
       "      <td>2.0</td>\n",
       "      <td>5.0</td>\n",
       "      <td>5.333333</td>\n",
       "      <td>5.0</td>\n",
       "      <td>5.0</td>\n",
       "      <td>5.0</td>\n",
       "      <td>NaN</td>\n",
       "    </tr>\n",
       "    <tr>\n",
       "      <th>3</th>\n",
       "      <td>127</td>\n",
       "      <td>2020-05-30 22:40:00</td>\n",
       "      <td>SAR</td>\n",
       "      <td>47</td>\n",
       "      <td>Female</td>\n",
       "      <td>Some College, short continuing education or eq...</td>\n",
       "      <td>Some College or equivalent</td>\n",
       "      <td>Self-employed</td>\n",
       "      <td>Argentina</td>\n",
       "      <td>no</td>\n",
       "      <td>...</td>\n",
       "      <td>NaN</td>\n",
       "      <td>NaN</td>\n",
       "      <td>NaN</td>\n",
       "      <td>NaN</td>\n",
       "      <td>NaN</td>\n",
       "      <td>NaN</td>\n",
       "      <td>NaN</td>\n",
       "      <td>NaN</td>\n",
       "      <td>NaN</td>\n",
       "      <td>NaN</td>\n",
       "    </tr>\n",
       "  </tbody>\n",
       "</table>\n",
       "<p>3 rows × 152 columns</p>\n",
       "</div>"
      ],
      "text/plain": [
       "   Duration..in.seconds.        RecordedDate UserLanguage  Dem_age Dem_gender  \\\n",
       "1                    180 2020-05-30 23:47:00          SAR       29     Female   \n",
       "2                   3100 2020-05-29 23:30:00           UR       20       Male   \n",
       "3                    127 2020-05-30 22:40:00          SAR       47     Female   \n",
       "\n",
       "                                             Dem_edu  \\\n",
       "1                   College degree, bachelor, master   \n",
       "2                   College degree, bachelor, master   \n",
       "3  Some College, short continuing education or eq...   \n",
       "\n",
       "                  Dem_edu_mom Dem_employment    Country Dem_Expat  ...  \\\n",
       "1  Some College or equivalent   Not employed  Argentina       yes  ...   \n",
       "2                        None        Student   Pakistan       yes  ...   \n",
       "3  Some College or equivalent  Self-employed  Argentina        no  ...   \n",
       "\n",
       "  Final_open PSS10_avg  SLON3_avg  neu  ext       ope  agr  con SPS_avg  \\\n",
       "1        NaN       2.9   3.000000  NaN  NaN       NaN  NaN  NaN     NaN   \n",
       "2        NaN       2.2   2.333333  2.0  5.0  5.333333  5.0  5.0     5.0   \n",
       "3        NaN       NaN        NaN  NaN  NaN       NaN  NaN  NaN     NaN   \n",
       "\n",
       "  Scale_UCLA_TRI_avg  \n",
       "1                NaN  \n",
       "2                NaN  \n",
       "3                NaN  \n",
       "\n",
       "[3 rows x 152 columns]"
      ]
     },
     "execution_count": 3,
     "metadata": {},
     "output_type": "execute_result"
    }
   ],
   "source": [
    "# First 3 rows\n",
    "raw_df.head(3)"
   ]
  },
  {
   "cell_type": "code",
   "execution_count": 4,
   "metadata": {},
   "outputs": [
    {
     "data": {
      "text/plain": [
       "(65535, 152)"
      ]
     },
     "execution_count": 4,
     "metadata": {},
     "output_type": "execute_result"
    }
   ],
   "source": [
    "# Dimensions of the dataset\n",
    "raw_df.shape"
   ]
  },
  {
   "cell_type": "code",
   "execution_count": 5,
   "metadata": {},
   "outputs": [
    {
     "data": {
      "text/html": [
       "<div>\n",
       "<style scoped>\n",
       "    .dataframe tbody tr th:only-of-type {\n",
       "        vertical-align: middle;\n",
       "    }\n",
       "\n",
       "    .dataframe tbody tr th {\n",
       "        vertical-align: top;\n",
       "    }\n",
       "\n",
       "    .dataframe thead th {\n",
       "        text-align: right;\n",
       "    }\n",
       "</style>\n",
       "<table border=\"1\" class=\"dataframe\">\n",
       "  <thead>\n",
       "    <tr style=\"text-align: right;\">\n",
       "      <th></th>\n",
       "      <th>Duration..in.seconds.</th>\n",
       "      <th>Dem_age</th>\n",
       "      <th>Dem_dependents</th>\n",
       "      <th>Dem_isolation_adults</th>\n",
       "      <th>Dem_isolation_kids</th>\n",
       "      <th>Scale_PSS10_UCLA_1</th>\n",
       "      <th>Scale_PSS10_UCLA_2</th>\n",
       "      <th>Scale_PSS10_UCLA_3</th>\n",
       "      <th>Scale_PSS10_UCLA_4</th>\n",
       "      <th>Scale_PSS10_UCLA_5</th>\n",
       "      <th>...</th>\n",
       "      <th>Expl_media_6</th>\n",
       "      <th>PSS10_avg</th>\n",
       "      <th>SLON3_avg</th>\n",
       "      <th>neu</th>\n",
       "      <th>ext</th>\n",
       "      <th>ope</th>\n",
       "      <th>agr</th>\n",
       "      <th>con</th>\n",
       "      <th>SPS_avg</th>\n",
       "      <th>Scale_UCLA_TRI_avg</th>\n",
       "    </tr>\n",
       "  </thead>\n",
       "  <tbody>\n",
       "    <tr>\n",
       "      <th>count</th>\n",
       "      <td>6.553500e+04</td>\n",
       "      <td>65535.000000</td>\n",
       "      <td>63317.000000</td>\n",
       "      <td>53379.000000</td>\n",
       "      <td>52463.000000</td>\n",
       "      <td>60336.000000</td>\n",
       "      <td>60312.000000</td>\n",
       "      <td>60344.000000</td>\n",
       "      <td>60274.000000</td>\n",
       "      <td>60253.000000</td>\n",
       "      <td>...</td>\n",
       "      <td>48753.00000</td>\n",
       "      <td>60811.000000</td>\n",
       "      <td>60673.000000</td>\n",
       "      <td>56884.000000</td>\n",
       "      <td>56858.000000</td>\n",
       "      <td>56856.000000</td>\n",
       "      <td>56869.000000</td>\n",
       "      <td>56865.000000</td>\n",
       "      <td>49669.000000</td>\n",
       "      <td>51.000000</td>\n",
       "    </tr>\n",
       "    <tr>\n",
       "      <th>mean</th>\n",
       "      <td>2.125383e+03</td>\n",
       "      <td>40.741375</td>\n",
       "      <td>0.933146</td>\n",
       "      <td>1.533937</td>\n",
       "      <td>0.484513</td>\n",
       "      <td>2.556782</td>\n",
       "      <td>2.663450</td>\n",
       "      <td>3.078019</td>\n",
       "      <td>3.683612</td>\n",
       "      <td>3.158266</td>\n",
       "      <td>...</td>\n",
       "      <td>3.31034</td>\n",
       "      <td>2.628514</td>\n",
       "      <td>2.581236</td>\n",
       "      <td>3.316275</td>\n",
       "      <td>3.999156</td>\n",
       "      <td>4.478871</td>\n",
       "      <td>4.439443</td>\n",
       "      <td>4.380509</td>\n",
       "      <td>4.849583</td>\n",
       "      <td>1.818627</td>\n",
       "    </tr>\n",
       "    <tr>\n",
       "      <th>std</th>\n",
       "      <td>9.888777e+03</td>\n",
       "      <td>14.322085</td>\n",
       "      <td>1.805861</td>\n",
       "      <td>3.231931</td>\n",
       "      <td>1.275804</td>\n",
       "      <td>1.094821</td>\n",
       "      <td>1.104996</td>\n",
       "      <td>1.112253</td>\n",
       "      <td>1.049348</td>\n",
       "      <td>0.968456</td>\n",
       "      <td>...</td>\n",
       "      <td>1.37873</td>\n",
       "      <td>0.735439</td>\n",
       "      <td>0.990043</td>\n",
       "      <td>1.050524</td>\n",
       "      <td>1.116921</td>\n",
       "      <td>0.947898</td>\n",
       "      <td>0.832629</td>\n",
       "      <td>0.890780</td>\n",
       "      <td>0.907215</td>\n",
       "      <td>0.968060</td>\n",
       "    </tr>\n",
       "    <tr>\n",
       "      <th>min</th>\n",
       "      <td>2.900000e+01</td>\n",
       "      <td>18.000000</td>\n",
       "      <td>0.000000</td>\n",
       "      <td>0.000000</td>\n",
       "      <td>0.000000</td>\n",
       "      <td>1.000000</td>\n",
       "      <td>1.000000</td>\n",
       "      <td>1.000000</td>\n",
       "      <td>1.000000</td>\n",
       "      <td>1.000000</td>\n",
       "      <td>...</td>\n",
       "      <td>1.00000</td>\n",
       "      <td>1.000000</td>\n",
       "      <td>1.000000</td>\n",
       "      <td>1.000000</td>\n",
       "      <td>1.000000</td>\n",
       "      <td>1.000000</td>\n",
       "      <td>1.000000</td>\n",
       "      <td>1.000000</td>\n",
       "      <td>1.000000</td>\n",
       "      <td>0.000000</td>\n",
       "    </tr>\n",
       "    <tr>\n",
       "      <th>25%</th>\n",
       "      <td>7.120000e+02</td>\n",
       "      <td>29.000000</td>\n",
       "      <td>0.000000</td>\n",
       "      <td>1.000000</td>\n",
       "      <td>0.000000</td>\n",
       "      <td>2.000000</td>\n",
       "      <td>2.000000</td>\n",
       "      <td>2.000000</td>\n",
       "      <td>3.000000</td>\n",
       "      <td>3.000000</td>\n",
       "      <td>...</td>\n",
       "      <td>2.00000</td>\n",
       "      <td>2.100000</td>\n",
       "      <td>2.000000</td>\n",
       "      <td>2.666667</td>\n",
       "      <td>3.333333</td>\n",
       "      <td>4.000000</td>\n",
       "      <td>4.000000</td>\n",
       "      <td>3.666667</td>\n",
       "      <td>4.400000</td>\n",
       "      <td>1.000000</td>\n",
       "    </tr>\n",
       "    <tr>\n",
       "      <th>50%</th>\n",
       "      <td>1.013000e+03</td>\n",
       "      <td>40.000000</td>\n",
       "      <td>0.000000</td>\n",
       "      <td>1.000000</td>\n",
       "      <td>0.000000</td>\n",
       "      <td>3.000000</td>\n",
       "      <td>3.000000</td>\n",
       "      <td>3.000000</td>\n",
       "      <td>4.000000</td>\n",
       "      <td>3.000000</td>\n",
       "      <td>...</td>\n",
       "      <td>3.00000</td>\n",
       "      <td>2.600000</td>\n",
       "      <td>2.666667</td>\n",
       "      <td>3.333333</td>\n",
       "      <td>4.000000</td>\n",
       "      <td>4.666667</td>\n",
       "      <td>4.666667</td>\n",
       "      <td>4.333333</td>\n",
       "      <td>5.000000</td>\n",
       "      <td>1.750000</td>\n",
       "    </tr>\n",
       "    <tr>\n",
       "      <th>75%</th>\n",
       "      <td>1.454000e+03</td>\n",
       "      <td>51.000000</td>\n",
       "      <td>2.000000</td>\n",
       "      <td>2.000000</td>\n",
       "      <td>1.000000</td>\n",
       "      <td>3.000000</td>\n",
       "      <td>3.000000</td>\n",
       "      <td>4.000000</td>\n",
       "      <td>4.000000</td>\n",
       "      <td>4.000000</td>\n",
       "      <td>...</td>\n",
       "      <td>4.00000</td>\n",
       "      <td>3.100000</td>\n",
       "      <td>3.333333</td>\n",
       "      <td>4.000000</td>\n",
       "      <td>5.000000</td>\n",
       "      <td>5.000000</td>\n",
       "      <td>5.000000</td>\n",
       "      <td>5.000000</td>\n",
       "      <td>5.500000</td>\n",
       "      <td>2.500000</td>\n",
       "    </tr>\n",
       "    <tr>\n",
       "      <th>max</th>\n",
       "      <td>1.040679e+06</td>\n",
       "      <td>110.000000</td>\n",
       "      <td>110.000000</td>\n",
       "      <td>110.000000</td>\n",
       "      <td>110.000000</td>\n",
       "      <td>5.000000</td>\n",
       "      <td>5.000000</td>\n",
       "      <td>5.000000</td>\n",
       "      <td>5.000000</td>\n",
       "      <td>5.000000</td>\n",
       "      <td>...</td>\n",
       "      <td>6.00000</td>\n",
       "      <td>5.000000</td>\n",
       "      <td>5.000000</td>\n",
       "      <td>6.000000</td>\n",
       "      <td>6.000000</td>\n",
       "      <td>6.000000</td>\n",
       "      <td>6.000000</td>\n",
       "      <td>6.000000</td>\n",
       "      <td>6.000000</td>\n",
       "      <td>4.000000</td>\n",
       "    </tr>\n",
       "  </tbody>\n",
       "</table>\n",
       "<p>8 rows × 127 columns</p>\n",
       "</div>"
      ],
      "text/plain": [
       "       Duration..in.seconds.       Dem_age  Dem_dependents  \\\n",
       "count           6.553500e+04  65535.000000    63317.000000   \n",
       "mean            2.125383e+03     40.741375        0.933146   \n",
       "std             9.888777e+03     14.322085        1.805861   \n",
       "min             2.900000e+01     18.000000        0.000000   \n",
       "25%             7.120000e+02     29.000000        0.000000   \n",
       "50%             1.013000e+03     40.000000        0.000000   \n",
       "75%             1.454000e+03     51.000000        2.000000   \n",
       "max             1.040679e+06    110.000000      110.000000   \n",
       "\n",
       "       Dem_isolation_adults  Dem_isolation_kids  Scale_PSS10_UCLA_1  \\\n",
       "count          53379.000000        52463.000000        60336.000000   \n",
       "mean               1.533937            0.484513            2.556782   \n",
       "std                3.231931            1.275804            1.094821   \n",
       "min                0.000000            0.000000            1.000000   \n",
       "25%                1.000000            0.000000            2.000000   \n",
       "50%                1.000000            0.000000            3.000000   \n",
       "75%                2.000000            1.000000            3.000000   \n",
       "max              110.000000          110.000000            5.000000   \n",
       "\n",
       "       Scale_PSS10_UCLA_2  Scale_PSS10_UCLA_3  Scale_PSS10_UCLA_4  \\\n",
       "count        60312.000000        60344.000000        60274.000000   \n",
       "mean             2.663450            3.078019            3.683612   \n",
       "std              1.104996            1.112253            1.049348   \n",
       "min              1.000000            1.000000            1.000000   \n",
       "25%              2.000000            2.000000            3.000000   \n",
       "50%              3.000000            3.000000            4.000000   \n",
       "75%              3.000000            4.000000            4.000000   \n",
       "max              5.000000            5.000000            5.000000   \n",
       "\n",
       "       Scale_PSS10_UCLA_5  ...  Expl_media_6     PSS10_avg     SLON3_avg  \\\n",
       "count        60253.000000  ...   48753.00000  60811.000000  60673.000000   \n",
       "mean             3.158266  ...       3.31034      2.628514      2.581236   \n",
       "std              0.968456  ...       1.37873      0.735439      0.990043   \n",
       "min              1.000000  ...       1.00000      1.000000      1.000000   \n",
       "25%              3.000000  ...       2.00000      2.100000      2.000000   \n",
       "50%              3.000000  ...       3.00000      2.600000      2.666667   \n",
       "75%              4.000000  ...       4.00000      3.100000      3.333333   \n",
       "max              5.000000  ...       6.00000      5.000000      5.000000   \n",
       "\n",
       "                neu           ext           ope           agr           con  \\\n",
       "count  56884.000000  56858.000000  56856.000000  56869.000000  56865.000000   \n",
       "mean       3.316275      3.999156      4.478871      4.439443      4.380509   \n",
       "std        1.050524      1.116921      0.947898      0.832629      0.890780   \n",
       "min        1.000000      1.000000      1.000000      1.000000      1.000000   \n",
       "25%        2.666667      3.333333      4.000000      4.000000      3.666667   \n",
       "50%        3.333333      4.000000      4.666667      4.666667      4.333333   \n",
       "75%        4.000000      5.000000      5.000000      5.000000      5.000000   \n",
       "max        6.000000      6.000000      6.000000      6.000000      6.000000   \n",
       "\n",
       "            SPS_avg  Scale_UCLA_TRI_avg  \n",
       "count  49669.000000           51.000000  \n",
       "mean       4.849583            1.818627  \n",
       "std        0.907215            0.968060  \n",
       "min        1.000000            0.000000  \n",
       "25%        4.400000            1.000000  \n",
       "50%        5.000000            1.750000  \n",
       "75%        5.500000            2.500000  \n",
       "max        6.000000            4.000000  \n",
       "\n",
       "[8 rows x 127 columns]"
      ]
     },
     "execution_count": 5,
     "metadata": {},
     "output_type": "execute_result"
    }
   ],
   "source": [
    "# Numerical summaries of the columns\n",
    "raw_df.describe()"
   ]
  },
  {
   "cell_type": "code",
   "execution_count": 6,
   "metadata": {},
   "outputs": [
    {
     "data": {
      "text/plain": [
       "Duration..in.seconds.             int64\n",
       "RecordedDate             datetime64[ns]\n",
       "UserLanguage                     object\n",
       "Dem_age                           int64\n",
       "Dem_gender                       object\n",
       "                              ...      \n",
       "ope                             float64\n",
       "agr                             float64\n",
       "con                             float64\n",
       "SPS_avg                         float64\n",
       "Scale_UCLA_TRI_avg              float64\n",
       "Length: 152, dtype: object"
      ]
     },
     "execution_count": 6,
     "metadata": {},
     "output_type": "execute_result"
    }
   ],
   "source": [
    "# Data types of columns\n",
    "raw_df.dtypes"
   ]
  },
  {
   "cell_type": "markdown",
   "metadata": {},
   "source": [
    "> **Bonus**\n",
    ">\n",
    "> When printing the above, we only get to see 10 columns in total. For printing out full datasets and series, checkout the [option context](https://pandas.pydata.org/pandas-docs/stable/reference/api/pandas.option_context.html)"
   ]
  },
  {
   "cell_type": "markdown",
   "metadata": {},
   "source": [
    "### Cleaning"
   ]
  },
  {
   "cell_type": "markdown",
   "metadata": {},
   "source": [
    "There are 152 columns in the dataset, many of which we won't need in our analysis. Instead, we want to focus on the following variables.\n",
    "\n",
    "| description | variable name | measurement |\n",
    "| --- | --- | --- |\n",
    "| date of record | `RecordedDate` | date \"DD/MM/YYYY hh:mm\"\n",
    "| age | `Dem_age` | age in years\n",
    "| gender | `Dem_gender` | Male/Female\n",
    "| country | `Country` | country name\n",
    "| employment status| `Dem_employment` | type of employment\n",
    "| perceived stress for the past week | `Scale_PSS10_UCLA_1` to `Scale_PSS10_UCLA_10` | 1=never, 5=very often; 10 items\n",
    "| trust in institutions | `OECD_insititutions_1` (government), `OECD_insititutions_4` (health system) | 0=not at all, 10=completely\n",
    "| trust in country's preventive measures | `Trust_countrymeasure` | 0=too little, 5= appropriate, 11=too much"
   ]
  },
  {
   "cell_type": "markdown",
   "metadata": {},
   "source": [
    "Stress was meassured in 10 different categories. Create a list, `stress_columns` of column names `Scale_PSS10_UCLA_X`, where `X` ranges from 1 to 10."
   ]
  },
  {
   "cell_type": "code",
   "execution_count": 7,
   "metadata": {},
   "outputs": [],
   "source": [
    "stress_columns = ['Scale_PSS10_UCLA_' + str(x) for x in range(1, 11)]"
   ]
  },
  {
   "cell_type": "markdown",
   "metadata": {},
   "source": [
    "We can then combine these with the other column names."
   ]
  },
  {
   "cell_type": "code",
   "execution_count": 8,
   "metadata": {},
   "outputs": [],
   "source": [
    "columns = [\n",
    "    'RecordedDate', 'Dem_age', 'Dem_gender', 'Country', 'Dem_employment',\n",
    "    'OECD_insititutions_1', 'OECD_insititutions_4', 'Trust_countrymeasure'\n",
    "] + stress_columns"
   ]
  },
  {
   "cell_type": "markdown",
   "metadata": {},
   "source": [
    "Now, create a subset of this dataset, `covid_stress`, containing only columns of interest."
   ]
  },
  {
   "cell_type": "code",
   "execution_count": 9,
   "metadata": {},
   "outputs": [],
   "source": [
    "covid_stress = raw_df[columns]"
   ]
  },
  {
   "cell_type": "markdown",
   "metadata": {},
   "source": [
    "The original dataset is fairly large so we may want to remove it from memory now that we no longer need it."
   ]
  },
  {
   "cell_type": "code",
   "execution_count": 10,
   "metadata": {},
   "outputs": [],
   "source": [
    "# Clear up memory\n",
    "del raw_df"
   ]
  },
  {
   "cell_type": "markdown",
   "metadata": {},
   "source": [
    "Many fields in the dataset have missing/unknown values. We can use `covid_stress.isna()` to return a Boolean dataset where each value is `True` if the original value in that field was missing. Let's investigate where these missing values are."
   ]
  },
  {
   "cell_type": "markdown",
   "metadata": {},
   "source": [
    "> Remember, `True`/`False` are converted to `1`/`0` respectively when cast to integers. This means we can use the `sum` and `mean` methods on a Boolean dataset or series to count or find proportions of `True`'s"
   ]
  },
  {
   "cell_type": "code",
   "execution_count": 11,
   "metadata": {},
   "outputs": [
    {
     "data": {
      "text/plain": [
       "RecordedDate               0\n",
       "Dem_age                    0\n",
       "Dem_gender               154\n",
       "Country                  345\n",
       "Dem_employment           659\n",
       "OECD_insititutions_1    8074\n",
       "OECD_insititutions_4    7547\n",
       "Trust_countrymeasure    7304\n",
       "Scale_PSS10_UCLA_1      5199\n",
       "Scale_PSS10_UCLA_2      5223\n",
       "Scale_PSS10_UCLA_3      5191\n",
       "Scale_PSS10_UCLA_4      5261\n",
       "Scale_PSS10_UCLA_5      5282\n",
       "Scale_PSS10_UCLA_6      5188\n",
       "Scale_PSS10_UCLA_7      5277\n",
       "Scale_PSS10_UCLA_8      5298\n",
       "Scale_PSS10_UCLA_9      5163\n",
       "Scale_PSS10_UCLA_10     5190\n",
       "dtype: int64"
      ]
     },
     "execution_count": 11,
     "metadata": {},
     "output_type": "execute_result"
    }
   ],
   "source": [
    "# How many missing values are there in each column?\n",
    "covid_stress.isna().sum()"
   ]
  },
  {
   "cell_type": "code",
   "execution_count": 12,
   "metadata": {},
   "outputs": [
    {
     "data": {
      "text/plain": [
       "0.1706111238269627"
      ]
     },
     "execution_count": 12,
     "metadata": {},
     "output_type": "execute_result"
    }
   ],
   "source": [
    "# What proportion of records (rows) have at least one missing value?\n",
    "covid_stress.isna().any(axis=1).mean()"
   ]
  },
  {
   "cell_type": "markdown",
   "metadata": {},
   "source": [
    "Given that we have 65535 records in total we can drop all the records with at least one missing value and still have many tens of thousands left. We will learn how to deal with missing values properly in later sessions."
   ]
  },
  {
   "cell_type": "markdown",
   "metadata": {},
   "source": [
    "To do this, we use the `dropna` method of the dataframe. Search for \"pandas drop missing values\" on the web to find the documentation for this. Save the cleaned dataset as `covid_stress_clean`"
   ]
  },
  {
   "cell_type": "code",
   "execution_count": 13,
   "metadata": {},
   "outputs": [],
   "source": [
    "covid_stress_clean = covid_stress.dropna()"
   ]
  },
  {
   "cell_type": "markdown",
   "metadata": {},
   "source": [
    "> **Bonus**\n",
    ">\n",
    "> Recall from the teaching session that many pandas operations can be done _inplace_. How would we drop rows with missing values in this fashion (check the documentation again if needed)."
   ]
  },
  {
   "cell_type": "markdown",
   "metadata": {},
   "source": [
    "Let's take a random sample of 10 rows and verify that they have no missing values."
   ]
  },
  {
   "cell_type": "code",
   "execution_count": 14,
   "metadata": {},
   "outputs": [
    {
     "data": {
      "text/html": [
       "<div>\n",
       "<style scoped>\n",
       "    .dataframe tbody tr th:only-of-type {\n",
       "        vertical-align: middle;\n",
       "    }\n",
       "\n",
       "    .dataframe tbody tr th {\n",
       "        vertical-align: top;\n",
       "    }\n",
       "\n",
       "    .dataframe thead th {\n",
       "        text-align: right;\n",
       "    }\n",
       "</style>\n",
       "<table border=\"1\" class=\"dataframe\">\n",
       "  <thead>\n",
       "    <tr style=\"text-align: right;\">\n",
       "      <th></th>\n",
       "      <th>RecordedDate</th>\n",
       "      <th>Dem_age</th>\n",
       "      <th>Dem_gender</th>\n",
       "      <th>Country</th>\n",
       "      <th>Dem_employment</th>\n",
       "      <th>OECD_insititutions_1</th>\n",
       "      <th>OECD_insititutions_4</th>\n",
       "      <th>Trust_countrymeasure</th>\n",
       "      <th>Scale_PSS10_UCLA_1</th>\n",
       "      <th>Scale_PSS10_UCLA_2</th>\n",
       "      <th>Scale_PSS10_UCLA_3</th>\n",
       "      <th>Scale_PSS10_UCLA_4</th>\n",
       "      <th>Scale_PSS10_UCLA_5</th>\n",
       "      <th>Scale_PSS10_UCLA_6</th>\n",
       "      <th>Scale_PSS10_UCLA_7</th>\n",
       "      <th>Scale_PSS10_UCLA_8</th>\n",
       "      <th>Scale_PSS10_UCLA_9</th>\n",
       "      <th>Scale_PSS10_UCLA_10</th>\n",
       "    </tr>\n",
       "  </thead>\n",
       "  <tbody>\n",
       "    <tr>\n",
       "      <th>50248</th>\n",
       "      <td>2020-04-05 12:00:00</td>\n",
       "      <td>24</td>\n",
       "      <td>Female</td>\n",
       "      <td>Pakistan</td>\n",
       "      <td>Part time employed</td>\n",
       "      <td>3.0</td>\n",
       "      <td>4.0</td>\n",
       "      <td>4.0</td>\n",
       "      <td>5.0</td>\n",
       "      <td>5.0</td>\n",
       "      <td>5.0</td>\n",
       "      <td>2.0</td>\n",
       "      <td>1.0</td>\n",
       "      <td>5.0</td>\n",
       "      <td>1.0</td>\n",
       "      <td>3.0</td>\n",
       "      <td>5.0</td>\n",
       "      <td>4.0</td>\n",
       "    </tr>\n",
       "    <tr>\n",
       "      <th>14773</th>\n",
       "      <td>2020-04-17 11:32:00</td>\n",
       "      <td>28</td>\n",
       "      <td>Female</td>\n",
       "      <td>Denmark</td>\n",
       "      <td>Part time employed</td>\n",
       "      <td>5.0</td>\n",
       "      <td>9.0</td>\n",
       "      <td>4.0</td>\n",
       "      <td>2.0</td>\n",
       "      <td>3.0</td>\n",
       "      <td>3.0</td>\n",
       "      <td>4.0</td>\n",
       "      <td>4.0</td>\n",
       "      <td>3.0</td>\n",
       "      <td>4.0</td>\n",
       "      <td>3.0</td>\n",
       "      <td>2.0</td>\n",
       "      <td>1.0</td>\n",
       "    </tr>\n",
       "    <tr>\n",
       "      <th>53197</th>\n",
       "      <td>2020-04-05 05:10:00</td>\n",
       "      <td>38</td>\n",
       "      <td>Female</td>\n",
       "      <td>Japan</td>\n",
       "      <td>Not employed</td>\n",
       "      <td>5.0</td>\n",
       "      <td>5.0</td>\n",
       "      <td>4.0</td>\n",
       "      <td>3.0</td>\n",
       "      <td>4.0</td>\n",
       "      <td>4.0</td>\n",
       "      <td>3.0</td>\n",
       "      <td>2.0</td>\n",
       "      <td>5.0</td>\n",
       "      <td>2.0</td>\n",
       "      <td>3.0</td>\n",
       "      <td>3.0</td>\n",
       "      <td>3.0</td>\n",
       "    </tr>\n",
       "    <tr>\n",
       "      <th>19806</th>\n",
       "      <td>2020-04-14 17:15:00</td>\n",
       "      <td>52</td>\n",
       "      <td>Female</td>\n",
       "      <td>Finland</td>\n",
       "      <td>Full time employed</td>\n",
       "      <td>8.0</td>\n",
       "      <td>8.0</td>\n",
       "      <td>5.0</td>\n",
       "      <td>4.0</td>\n",
       "      <td>1.0</td>\n",
       "      <td>3.0</td>\n",
       "      <td>5.0</td>\n",
       "      <td>3.0</td>\n",
       "      <td>1.0</td>\n",
       "      <td>1.0</td>\n",
       "      <td>4.0</td>\n",
       "      <td>4.0</td>\n",
       "      <td>3.0</td>\n",
       "    </tr>\n",
       "    <tr>\n",
       "      <th>17903</th>\n",
       "      <td>2020-04-17 12:11:00</td>\n",
       "      <td>44</td>\n",
       "      <td>Female</td>\n",
       "      <td>Netherlands</td>\n",
       "      <td>Full time employed</td>\n",
       "      <td>7.0</td>\n",
       "      <td>10.0</td>\n",
       "      <td>5.0</td>\n",
       "      <td>1.0</td>\n",
       "      <td>1.0</td>\n",
       "      <td>2.0</td>\n",
       "      <td>5.0</td>\n",
       "      <td>4.0</td>\n",
       "      <td>1.0</td>\n",
       "      <td>5.0</td>\n",
       "      <td>5.0</td>\n",
       "      <td>1.0</td>\n",
       "      <td>1.0</td>\n",
       "    </tr>\n",
       "    <tr>\n",
       "      <th>23</th>\n",
       "      <td>2020-05-29 18:03:00</td>\n",
       "      <td>28</td>\n",
       "      <td>Female</td>\n",
       "      <td>France</td>\n",
       "      <td>Full time employed</td>\n",
       "      <td>1.0</td>\n",
       "      <td>7.0</td>\n",
       "      <td>0.0</td>\n",
       "      <td>3.0</td>\n",
       "      <td>4.0</td>\n",
       "      <td>4.0</td>\n",
       "      <td>4.0</td>\n",
       "      <td>4.0</td>\n",
       "      <td>3.0</td>\n",
       "      <td>4.0</td>\n",
       "      <td>3.0</td>\n",
       "      <td>2.0</td>\n",
       "      <td>3.0</td>\n",
       "    </tr>\n",
       "    <tr>\n",
       "      <th>25943</th>\n",
       "      <td>2020-04-12 00:05:00</td>\n",
       "      <td>52</td>\n",
       "      <td>Female</td>\n",
       "      <td>Finland</td>\n",
       "      <td>Full time employed</td>\n",
       "      <td>9.0</td>\n",
       "      <td>8.0</td>\n",
       "      <td>5.0</td>\n",
       "      <td>2.0</td>\n",
       "      <td>2.0</td>\n",
       "      <td>2.0</td>\n",
       "      <td>5.0</td>\n",
       "      <td>4.0</td>\n",
       "      <td>1.0</td>\n",
       "      <td>4.0</td>\n",
       "      <td>4.0</td>\n",
       "      <td>3.0</td>\n",
       "      <td>1.0</td>\n",
       "    </tr>\n",
       "    <tr>\n",
       "      <th>60117</th>\n",
       "      <td>2020-04-04 10:38:00</td>\n",
       "      <td>46</td>\n",
       "      <td>Female</td>\n",
       "      <td>Taiwan</td>\n",
       "      <td>Full time employed</td>\n",
       "      <td>8.0</td>\n",
       "      <td>8.0</td>\n",
       "      <td>8.0</td>\n",
       "      <td>2.0</td>\n",
       "      <td>2.0</td>\n",
       "      <td>2.0</td>\n",
       "      <td>4.0</td>\n",
       "      <td>4.0</td>\n",
       "      <td>2.0</td>\n",
       "      <td>4.0</td>\n",
       "      <td>4.0</td>\n",
       "      <td>2.0</td>\n",
       "      <td>2.0</td>\n",
       "    </tr>\n",
       "    <tr>\n",
       "      <th>46346</th>\n",
       "      <td>2020-04-06 03:42:00</td>\n",
       "      <td>50</td>\n",
       "      <td>Female</td>\n",
       "      <td>Japan</td>\n",
       "      <td>Not employed</td>\n",
       "      <td>1.0</td>\n",
       "      <td>7.0</td>\n",
       "      <td>5.0</td>\n",
       "      <td>1.0</td>\n",
       "      <td>1.0</td>\n",
       "      <td>2.0</td>\n",
       "      <td>3.0</td>\n",
       "      <td>5.0</td>\n",
       "      <td>2.0</td>\n",
       "      <td>1.0</td>\n",
       "      <td>3.0</td>\n",
       "      <td>2.0</td>\n",
       "      <td>1.0</td>\n",
       "    </tr>\n",
       "    <tr>\n",
       "      <th>12264</th>\n",
       "      <td>2020-04-20 15:20:00</td>\n",
       "      <td>38</td>\n",
       "      <td>Male</td>\n",
       "      <td>Czech Republic</td>\n",
       "      <td>Full time employed</td>\n",
       "      <td>5.0</td>\n",
       "      <td>10.0</td>\n",
       "      <td>6.0</td>\n",
       "      <td>1.0</td>\n",
       "      <td>2.0</td>\n",
       "      <td>1.0</td>\n",
       "      <td>5.0</td>\n",
       "      <td>3.0</td>\n",
       "      <td>2.0</td>\n",
       "      <td>3.0</td>\n",
       "      <td>4.0</td>\n",
       "      <td>1.0</td>\n",
       "      <td>1.0</td>\n",
       "    </tr>\n",
       "  </tbody>\n",
       "</table>\n",
       "</div>"
      ],
      "text/plain": [
       "             RecordedDate  Dem_age Dem_gender         Country  \\\n",
       "50248 2020-04-05 12:00:00       24     Female        Pakistan   \n",
       "14773 2020-04-17 11:32:00       28     Female         Denmark   \n",
       "53197 2020-04-05 05:10:00       38     Female           Japan   \n",
       "19806 2020-04-14 17:15:00       52     Female         Finland   \n",
       "17903 2020-04-17 12:11:00       44     Female     Netherlands   \n",
       "23    2020-05-29 18:03:00       28     Female          France   \n",
       "25943 2020-04-12 00:05:00       52     Female         Finland   \n",
       "60117 2020-04-04 10:38:00       46     Female          Taiwan   \n",
       "46346 2020-04-06 03:42:00       50     Female           Japan   \n",
       "12264 2020-04-20 15:20:00       38       Male  Czech Republic   \n",
       "\n",
       "           Dem_employment  OECD_insititutions_1  OECD_insititutions_4  \\\n",
       "50248  Part time employed                   3.0                   4.0   \n",
       "14773  Part time employed                   5.0                   9.0   \n",
       "53197        Not employed                   5.0                   5.0   \n",
       "19806  Full time employed                   8.0                   8.0   \n",
       "17903  Full time employed                   7.0                  10.0   \n",
       "23     Full time employed                   1.0                   7.0   \n",
       "25943  Full time employed                   9.0                   8.0   \n",
       "60117  Full time employed                   8.0                   8.0   \n",
       "46346        Not employed                   1.0                   7.0   \n",
       "12264  Full time employed                   5.0                  10.0   \n",
       "\n",
       "       Trust_countrymeasure  Scale_PSS10_UCLA_1  Scale_PSS10_UCLA_2  \\\n",
       "50248                   4.0                 5.0                 5.0   \n",
       "14773                   4.0                 2.0                 3.0   \n",
       "53197                   4.0                 3.0                 4.0   \n",
       "19806                   5.0                 4.0                 1.0   \n",
       "17903                   5.0                 1.0                 1.0   \n",
       "23                      0.0                 3.0                 4.0   \n",
       "25943                   5.0                 2.0                 2.0   \n",
       "60117                   8.0                 2.0                 2.0   \n",
       "46346                   5.0                 1.0                 1.0   \n",
       "12264                   6.0                 1.0                 2.0   \n",
       "\n",
       "       Scale_PSS10_UCLA_3  Scale_PSS10_UCLA_4  Scale_PSS10_UCLA_5  \\\n",
       "50248                 5.0                 2.0                 1.0   \n",
       "14773                 3.0                 4.0                 4.0   \n",
       "53197                 4.0                 3.0                 2.0   \n",
       "19806                 3.0                 5.0                 3.0   \n",
       "17903                 2.0                 5.0                 4.0   \n",
       "23                    4.0                 4.0                 4.0   \n",
       "25943                 2.0                 5.0                 4.0   \n",
       "60117                 2.0                 4.0                 4.0   \n",
       "46346                 2.0                 3.0                 5.0   \n",
       "12264                 1.0                 5.0                 3.0   \n",
       "\n",
       "       Scale_PSS10_UCLA_6  Scale_PSS10_UCLA_7  Scale_PSS10_UCLA_8  \\\n",
       "50248                 5.0                 1.0                 3.0   \n",
       "14773                 3.0                 4.0                 3.0   \n",
       "53197                 5.0                 2.0                 3.0   \n",
       "19806                 1.0                 1.0                 4.0   \n",
       "17903                 1.0                 5.0                 5.0   \n",
       "23                    3.0                 4.0                 3.0   \n",
       "25943                 1.0                 4.0                 4.0   \n",
       "60117                 2.0                 4.0                 4.0   \n",
       "46346                 2.0                 1.0                 3.0   \n",
       "12264                 2.0                 3.0                 4.0   \n",
       "\n",
       "       Scale_PSS10_UCLA_9  Scale_PSS10_UCLA_10  \n",
       "50248                 5.0                  4.0  \n",
       "14773                 2.0                  1.0  \n",
       "53197                 3.0                  3.0  \n",
       "19806                 4.0                  3.0  \n",
       "17903                 1.0                  1.0  \n",
       "23                    2.0                  3.0  \n",
       "25943                 3.0                  1.0  \n",
       "60117                 2.0                  2.0  \n",
       "46346                 2.0                  1.0  \n",
       "12264                 1.0                  1.0  "
      ]
     },
     "execution_count": 14,
     "metadata": {},
     "output_type": "execute_result"
    }
   ],
   "source": [
    "# Random sample of cleaned dataset\n",
    "covid_stress_clean.sample(10)"
   ]
  },
  {
   "cell_type": "markdown",
   "metadata": {},
   "source": [
    "> Note, the `covid_stress` dataset isn't too large so we don't need to worry about deleting it. Sometimes it's worth holding onto these things in case we need to go back to them and don't want to rerun cells. How big is the dataset exactly? Have a look at the documentation for the `info` method, which can answer this."
   ]
  },
  {
   "cell_type": "markdown",
   "metadata": {},
   "source": [
    "### Feature Engineering"
   ]
  },
  {
   "cell_type": "markdown",
   "metadata": {},
   "source": [
    "Before we continue, we will make a copy of the current dataframe. This will make it easier to return to this point by rerunning this cell if any mistakes are made."
   ]
  },
  {
   "cell_type": "code",
   "execution_count": 15,
   "metadata": {},
   "outputs": [],
   "source": [
    "covid_df = covid_stress_clean.copy()"
   ]
  },
  {
   "cell_type": "markdown",
   "metadata": {},
   "source": [
    "The levels of stress were measured in 10 different categories on a scale from 1=never, 5=very often. We want analyse only aggregated information about the stress level, i.e. the mean of those 10 values. For this, we create a new column `Avg_stress`"
   ]
  },
  {
   "cell_type": "code",
   "execution_count": 16,
   "metadata": {},
   "outputs": [],
   "source": [
    "# Create new column by averaging all stress columns\n",
    "covid_df['Avg_stress'] = covid_df[stress_columns].mean(axis=1)\n",
    "\n",
    "# Drop the now redundant stress columns\n",
    "covid_df = covid_df.drop(stress_columns, axis=1)"
   ]
  },
  {
   "cell_type": "markdown",
   "metadata": {},
   "source": [
    "The column names `OECD_insititutions_1`, `OECD_insititutions_4` are not the most friendly. Let's rename them to something more intuitive."
   ]
  },
  {
   "cell_type": "code",
   "execution_count": 17,
   "metadata": {},
   "outputs": [],
   "source": [
    "mapper = {\n",
    "    \"OECD_insititutions_1\" : \"Trust_gov\",\n",
    "    \"OECD_insititutions_4\" : \"Trust_health\"\n",
    "}\n",
    "covid_df = covid_df.rename(mapper, axis=1)"
   ]
  },
  {
   "cell_type": "markdown",
   "metadata": {},
   "source": [
    "We're now ready to start answering questions about the dataset. Let's print out the data types of the columns to check that everything is as expected before we continue."
   ]
  },
  {
   "cell_type": "code",
   "execution_count": 18,
   "metadata": {},
   "outputs": [
    {
     "data": {
      "text/plain": [
       "RecordedDate            datetime64[ns]\n",
       "Dem_age                          int64\n",
       "Dem_gender                      object\n",
       "Country                         object\n",
       "Dem_employment                  object\n",
       "Trust_gov                      float64\n",
       "Trust_health                   float64\n",
       "Trust_countrymeasure           float64\n",
       "Avg_stress                     float64\n",
       "dtype: object"
      ]
     },
     "execution_count": 18,
     "metadata": {},
     "output_type": "execute_result"
    }
   ],
   "source": [
    "covid_df.dtypes"
   ]
  },
  {
   "cell_type": "markdown",
   "metadata": {},
   "source": [
    "Check that the variable types of each of the column is as expected"
   ]
  },
  {
   "cell_type": "markdown",
   "metadata": {},
   "source": [
    "## Data Analysis"
   ]
  },
  {
   "cell_type": "markdown",
   "metadata": {},
   "source": [
    "### High-level Questions"
   ]
  },
  {
   "cell_type": "markdown",
   "metadata": {},
   "source": [
    "When the study was conducted? (i.e. what is the range of dates in the records?)"
   ]
  },
  {
   "cell_type": "code",
   "execution_count": 21,
   "metadata": {},
   "outputs": [
    {
     "name": "stdout",
     "output_type": "stream",
     "text": [
      "2020-04-03 14:34:00\n",
      "2020-05-30 20:14:00\n"
     ]
    }
   ],
   "source": [
    "# Minimum and maximum dates in dataset\n",
    "print(covid_df.RecordedDate.min())\n",
    "print(covid_df.RecordedDate.max())"
   ]
  },
  {
   "cell_type": "markdown",
   "metadata": {},
   "source": [
    "What proportion of observations are from Finland, Sweden, or Norway? Use `.round()` to print the answer to 3 decimal places."
   ]
  },
  {
   "cell_type": "code",
   "execution_count": 42,
   "metadata": {},
   "outputs": [
    {
     "data": {
      "text/plain": [
       "0.321"
      ]
     },
     "execution_count": 42,
     "metadata": {},
     "output_type": "execute_result"
    }
   ],
   "source": [
    "# Proportion of Finish, Swedish, Norwegian respondents\n",
    "covid_df['Country'].isin([\"Finland\", \"Norway\", \"Sweden\"]).mean().round(3)"
   ]
  },
  {
   "cell_type": "markdown",
   "metadata": {},
   "source": [
    "Print the dataset sorted by age in descending order."
   ]
  },
  {
   "cell_type": "code",
   "execution_count": 29,
   "metadata": {},
   "outputs": [
    {
     "data": {
      "text/html": [
       "<div>\n",
       "<style scoped>\n",
       "    .dataframe tbody tr th:only-of-type {\n",
       "        vertical-align: middle;\n",
       "    }\n",
       "\n",
       "    .dataframe tbody tr th {\n",
       "        vertical-align: top;\n",
       "    }\n",
       "\n",
       "    .dataframe thead th {\n",
       "        text-align: right;\n",
       "    }\n",
       "</style>\n",
       "<table border=\"1\" class=\"dataframe\">\n",
       "  <thead>\n",
       "    <tr style=\"text-align: right;\">\n",
       "      <th></th>\n",
       "      <th>RecordedDate</th>\n",
       "      <th>Dem_age</th>\n",
       "      <th>Dem_gender</th>\n",
       "      <th>Country</th>\n",
       "      <th>Dem_employment</th>\n",
       "      <th>Trust_gov</th>\n",
       "      <th>Trust_health</th>\n",
       "      <th>Trust_countrymeasure</th>\n",
       "      <th>Avg_stress</th>\n",
       "    </tr>\n",
       "  </thead>\n",
       "  <tbody>\n",
       "    <tr>\n",
       "      <th>11825</th>\n",
       "      <td>2020-04-22 21:34:00</td>\n",
       "      <td>110</td>\n",
       "      <td>Female</td>\n",
       "      <td>Argentina</td>\n",
       "      <td>Self-employed</td>\n",
       "      <td>6.0</td>\n",
       "      <td>4.0</td>\n",
       "      <td>8.0</td>\n",
       "      <td>3.1</td>\n",
       "    </tr>\n",
       "    <tr>\n",
       "      <th>27914</th>\n",
       "      <td>2020-04-10 12:19:00</td>\n",
       "      <td>108</td>\n",
       "      <td>Female</td>\n",
       "      <td>Finland</td>\n",
       "      <td>Retired</td>\n",
       "      <td>9.0</td>\n",
       "      <td>9.0</td>\n",
       "      <td>5.0</td>\n",
       "      <td>2.7</td>\n",
       "    </tr>\n",
       "    <tr>\n",
       "      <th>46264</th>\n",
       "      <td>2020-04-06 03:52:00</td>\n",
       "      <td>101</td>\n",
       "      <td>Male</td>\n",
       "      <td>Colombia</td>\n",
       "      <td>Retired</td>\n",
       "      <td>0.0</td>\n",
       "      <td>0.0</td>\n",
       "      <td>1.0</td>\n",
       "      <td>1.3</td>\n",
       "    </tr>\n",
       "    <tr>\n",
       "      <th>10156</th>\n",
       "      <td>2020-04-26 14:11:00</td>\n",
       "      <td>98</td>\n",
       "      <td>Male</td>\n",
       "      <td>Armenia</td>\n",
       "      <td>Part time employed</td>\n",
       "      <td>1.0</td>\n",
       "      <td>1.0</td>\n",
       "      <td>10.0</td>\n",
       "      <td>2.7</td>\n",
       "    </tr>\n",
       "    <tr>\n",
       "      <th>11975</th>\n",
       "      <td>2020-04-22 11:29:00</td>\n",
       "      <td>92</td>\n",
       "      <td>Female</td>\n",
       "      <td>Denmark</td>\n",
       "      <td>Retired</td>\n",
       "      <td>9.0</td>\n",
       "      <td>9.0</td>\n",
       "      <td>5.0</td>\n",
       "      <td>2.5</td>\n",
       "    </tr>\n",
       "    <tr>\n",
       "      <th>...</th>\n",
       "      <td>...</td>\n",
       "      <td>...</td>\n",
       "      <td>...</td>\n",
       "      <td>...</td>\n",
       "      <td>...</td>\n",
       "      <td>...</td>\n",
       "      <td>...</td>\n",
       "      <td>...</td>\n",
       "      <td>...</td>\n",
       "    </tr>\n",
       "    <tr>\n",
       "      <th>9428</th>\n",
       "      <td>2020-04-29 19:12:00</td>\n",
       "      <td>18</td>\n",
       "      <td>Male</td>\n",
       "      <td>Argentina</td>\n",
       "      <td>Student</td>\n",
       "      <td>3.0</td>\n",
       "      <td>7.0</td>\n",
       "      <td>3.0</td>\n",
       "      <td>3.1</td>\n",
       "    </tr>\n",
       "    <tr>\n",
       "      <th>44588</th>\n",
       "      <td>2020-04-06 10:12:00</td>\n",
       "      <td>18</td>\n",
       "      <td>Female</td>\n",
       "      <td>France</td>\n",
       "      <td>Student</td>\n",
       "      <td>1.0</td>\n",
       "      <td>4.0</td>\n",
       "      <td>4.0</td>\n",
       "      <td>2.5</td>\n",
       "    </tr>\n",
       "    <tr>\n",
       "      <th>28499</th>\n",
       "      <td>2020-04-11 06:45:00</td>\n",
       "      <td>18</td>\n",
       "      <td>Female</td>\n",
       "      <td>Croatia</td>\n",
       "      <td>Student</td>\n",
       "      <td>5.0</td>\n",
       "      <td>10.0</td>\n",
       "      <td>5.0</td>\n",
       "      <td>2.8</td>\n",
       "    </tr>\n",
       "    <tr>\n",
       "      <th>63009</th>\n",
       "      <td>2020-04-04 02:15:00</td>\n",
       "      <td>18</td>\n",
       "      <td>Female</td>\n",
       "      <td>Finland</td>\n",
       "      <td>Student</td>\n",
       "      <td>9.0</td>\n",
       "      <td>9.0</td>\n",
       "      <td>5.0</td>\n",
       "      <td>3.0</td>\n",
       "    </tr>\n",
       "    <tr>\n",
       "      <th>62164</th>\n",
       "      <td>2020-04-04 04:37:00</td>\n",
       "      <td>18</td>\n",
       "      <td>Male</td>\n",
       "      <td>Spain</td>\n",
       "      <td>Student</td>\n",
       "      <td>5.0</td>\n",
       "      <td>8.0</td>\n",
       "      <td>4.0</td>\n",
       "      <td>2.7</td>\n",
       "    </tr>\n",
       "  </tbody>\n",
       "</table>\n",
       "<p>54354 rows × 9 columns</p>\n",
       "</div>"
      ],
      "text/plain": [
       "             RecordedDate  Dem_age Dem_gender    Country      Dem_employment  \\\n",
       "11825 2020-04-22 21:34:00      110     Female  Argentina       Self-employed   \n",
       "27914 2020-04-10 12:19:00      108     Female    Finland             Retired   \n",
       "46264 2020-04-06 03:52:00      101       Male   Colombia             Retired   \n",
       "10156 2020-04-26 14:11:00       98       Male    Armenia  Part time employed   \n",
       "11975 2020-04-22 11:29:00       92     Female    Denmark             Retired   \n",
       "...                   ...      ...        ...        ...                 ...   \n",
       "9428  2020-04-29 19:12:00       18       Male  Argentina             Student   \n",
       "44588 2020-04-06 10:12:00       18     Female     France             Student   \n",
       "28499 2020-04-11 06:45:00       18     Female    Croatia             Student   \n",
       "63009 2020-04-04 02:15:00       18     Female    Finland             Student   \n",
       "62164 2020-04-04 04:37:00       18       Male      Spain             Student   \n",
       "\n",
       "       Trust_gov  Trust_health  Trust_countrymeasure  Avg_stress  \n",
       "11825        6.0           4.0                   8.0         3.1  \n",
       "27914        9.0           9.0                   5.0         2.7  \n",
       "46264        0.0           0.0                   1.0         1.3  \n",
       "10156        1.0           1.0                  10.0         2.7  \n",
       "11975        9.0           9.0                   5.0         2.5  \n",
       "...          ...           ...                   ...         ...  \n",
       "9428         3.0           7.0                   3.0         3.1  \n",
       "44588        1.0           4.0                   4.0         2.5  \n",
       "28499        5.0          10.0                   5.0         2.8  \n",
       "63009        9.0           9.0                   5.0         3.0  \n",
       "62164        5.0           8.0                   4.0         2.7  \n",
       "\n",
       "[54354 rows x 9 columns]"
      ]
     },
     "execution_count": 29,
     "metadata": {},
     "output_type": "execute_result"
    }
   ],
   "source": [
    "# Sort by decreasing age\n",
    "covid_df.sort_values('Dem_age', ascending=False)"
   ]
  },
  {
   "cell_type": "markdown",
   "metadata": {},
   "source": [
    "What about the median value for age? Print your answer as part of a meaningful sentence."
   ]
  },
  {
   "cell_type": "code",
   "execution_count": 41,
   "metadata": {},
   "outputs": [
    {
     "name": "stdout",
     "output_type": "stream",
     "text": [
      "The median age of respondents is 40.0\n"
     ]
    }
   ],
   "source": [
    "# Median age of respondents\n",
    "print(\"The median age of respondents is\", covid_df.Dem_age.median())"
   ]
  },
  {
   "cell_type": "markdown",
   "metadata": {},
   "source": [
    "### Characteristics of Respondents"
   ]
  },
  {
   "cell_type": "markdown",
   "metadata": {},
   "source": [
    "What is the gender breakdown of respondents? Use the `value_counts` method to find out (after searching for its documentation of course)."
   ]
  },
  {
   "cell_type": "code",
   "execution_count": 31,
   "metadata": {},
   "outputs": [
    {
     "data": {
      "text/plain": [
       "Female                        40286\n",
       "Male                          13468\n",
       "Other/would rather not say      600\n",
       "Name: Dem_gender, dtype: int64"
      ]
     },
     "execution_count": 31,
     "metadata": {},
     "output_type": "execute_result"
    }
   ],
   "source": [
    "# Gender breakdown\n",
    "covid_df['Dem_gender'].value_counts()"
   ]
  },
  {
   "cell_type": "markdown",
   "metadata": {},
   "source": [
    "It would be nicer to see percentages rather than absolute counts. There are many ways to do this. Take your pick or write down as many as you can think of."
   ]
  },
  {
   "cell_type": "code",
   "execution_count": 34,
   "metadata": {},
   "outputs": [
    {
     "data": {
      "text/plain": [
       "Female                        74.117820\n",
       "Male                          24.778305\n",
       "Other/would rather not say     1.103875\n",
       "Name: Dem_gender, dtype: float64"
      ]
     },
     "execution_count": 34,
     "metadata": {},
     "output_type": "execute_result"
    }
   ],
   "source": [
    "# Gender breakdown as proportions (Method 1)\n",
    "covid_df['Dem_gender'].value_counts() / covid_df.shape[0] * 100"
   ]
  },
  {
   "cell_type": "code",
   "execution_count": 35,
   "metadata": {},
   "outputs": [
    {
     "data": {
      "text/plain": [
       "Female                        74.117820\n",
       "Male                          24.778305\n",
       "Other/would rather not say     1.103875\n",
       "Name: Dem_gender, dtype: float64"
      ]
     },
     "execution_count": 35,
     "metadata": {},
     "output_type": "execute_result"
    }
   ],
   "source": [
    "# Gender breakdown as proportions (Method 2)\n",
    "covid_df['Dem_gender'].value_counts(normalize=True) * 100"
   ]
  },
  {
   "cell_type": "code",
   "execution_count": 36,
   "metadata": {},
   "outputs": [
    {
     "data": {
      "text/plain": [
       "Female                        74.117820\n",
       "Male                          24.778305\n",
       "Other/would rather not say     1.103875\n",
       "Name: Dem_gender, dtype: float64"
      ]
     },
     "execution_count": 36,
     "metadata": {},
     "output_type": "execute_result"
    }
   ],
   "source": [
    "# Gender breakdown as proportions (Method 3)\n",
    "counts = covid_df['Dem_gender'].value_counts()\n",
    "counts / counts.sum() * 100"
   ]
  },
  {
   "cell_type": "markdown",
   "metadata": {},
   "source": [
    "Suppose we want to divide the respondents in 4 age of equal width, how many respondents would land in each group? (This can also be performed using `value_counts` too)"
   ]
  },
  {
   "cell_type": "code",
   "execution_count": 40,
   "metadata": {},
   "outputs": [
    {
     "data": {
      "text/plain": [
       "(17.907, 41.0]    29455\n",
       "(41.0, 64.0]      21459\n",
       "(64.0, 87.0]       3427\n",
       "(87.0, 110.0]        13\n",
       "Name: Dem_age, dtype: int64"
      ]
     },
     "execution_count": 40,
     "metadata": {},
     "output_type": "execute_result"
    }
   ],
   "source": [
    "# Binned value counts\n",
    "covid_df['Dem_age'].value_counts(bins=4)"
   ]
  },
  {
   "cell_type": "markdown",
   "metadata": {},
   "source": [
    "What proportion of the observations have each employment type, excluding students and retirees?"
   ]
  },
  {
   "cell_type": "code",
   "execution_count": 44,
   "metadata": {},
   "outputs": [
    {
     "data": {
      "text/plain": [
       "Full time employed    0.611602\n",
       "Self-employed         0.138477\n",
       "Part time employed    0.129149\n",
       "Not employed          0.120772\n",
       "Name: Dem_employment, dtype: float64"
      ]
     },
     "execution_count": 44,
     "metadata": {},
     "output_type": "execute_result"
    }
   ],
   "source": [
    "# Employment types for non-students/retirees\n",
    "workforce = ~covid_df['Dem_employment'].isin(['Student', 'Retired'])\n",
    "covid_df['Dem_employment'][workforce].value_counts(normalize = 'True')"
   ]
  },
  {
   "cell_type": "markdown",
   "metadata": {},
   "source": [
    "### Stress During the COVID-19 Pandemic"
   ]
  },
  {
   "cell_type": "markdown",
   "metadata": {},
   "source": [
    "We can perform grouped summaries using the `groupby` method, documented [here](https://pandas.pydata.org/pandas-docs/stable/reference/api/pandas.DataFrame.groupby.html). These returned a grouped dataframe, which we can apply aggregation methods such as `mean` and `min` to, in which case the aggregation is applied separately to each group. An example is given below."
   ]
  },
  {
   "cell_type": "code",
   "execution_count": 47,
   "metadata": {},
   "outputs": [
    {
     "data": {
      "text/plain": [
       "Dem_gender\n",
       "Female                       2020-04-03 14:34:00\n",
       "Male                         2020-04-03 14:39:00\n",
       "Other/would rather not say   2020-04-03 15:19:00\n",
       "Name: RecordedDate, dtype: datetime64[ns]"
      ]
     },
     "execution_count": 47,
     "metadata": {},
     "output_type": "execute_result"
    }
   ],
   "source": [
    "# First observation for each gender\n",
    "covid_df.groupby('Dem_gender')['RecordedDate'].min()"
   ]
  },
  {
   "cell_type": "markdown",
   "metadata": {},
   "source": [
    "Identify the 10 countries with the highest average value of stress."
   ]
  },
  {
   "cell_type": "code",
   "execution_count": 51,
   "metadata": {},
   "outputs": [
    {
     "data": {
      "text/plain": [
       "Country\n",
       "Zimbabwe        4.20\n",
       "Mozambique      3.80\n",
       "Sri Lanka       3.80\n",
       "Angola          3.70\n",
       "Seychelles      3.50\n",
       "Maldives        3.50\n",
       "Belarus         3.50\n",
       "Turkmenistan    3.50\n",
       "Nicaragua       3.45\n",
       "Cuba            3.40\n",
       "Name: Avg_stress, dtype: float64"
      ]
     },
     "execution_count": 51,
     "metadata": {},
     "output_type": "execute_result"
    }
   ],
   "source": [
    "covid_df.groupby('Country')['Avg_stress'].mean() \\\n",
    "    .sort_values(ascending=False).head(10)"
   ]
  },
  {
   "cell_type": "markdown",
   "metadata": {},
   "source": [
    "How much can we trust these values? Are there enough respondents from each of those countries to make an an inference about the level of stress of the entire country? It would be helpful to aggregate both the mean stress level and observation count. We can do this using the `agg` method. Read the documentation for this then use it to recreate the above result with counts."
   ]
  },
  {
   "cell_type": "code",
   "execution_count": 61,
   "metadata": {},
   "outputs": [
    {
     "data": {
      "text/html": [
       "<div>\n",
       "<style scoped>\n",
       "    .dataframe tbody tr th:only-of-type {\n",
       "        vertical-align: middle;\n",
       "    }\n",
       "\n",
       "    .dataframe tbody tr th {\n",
       "        vertical-align: top;\n",
       "    }\n",
       "\n",
       "    .dataframe thead th {\n",
       "        text-align: right;\n",
       "    }\n",
       "</style>\n",
       "<table border=\"1\" class=\"dataframe\">\n",
       "  <thead>\n",
       "    <tr style=\"text-align: right;\">\n",
       "      <th></th>\n",
       "      <th>Mean_stress</th>\n",
       "      <th>Count</th>\n",
       "    </tr>\n",
       "    <tr>\n",
       "      <th>Country</th>\n",
       "      <th></th>\n",
       "      <th></th>\n",
       "    </tr>\n",
       "  </thead>\n",
       "  <tbody>\n",
       "    <tr>\n",
       "      <th>Zimbabwe</th>\n",
       "      <td>4.20</td>\n",
       "      <td>1</td>\n",
       "    </tr>\n",
       "    <tr>\n",
       "      <th>Mozambique</th>\n",
       "      <td>3.80</td>\n",
       "      <td>1</td>\n",
       "    </tr>\n",
       "    <tr>\n",
       "      <th>Sri Lanka</th>\n",
       "      <td>3.80</td>\n",
       "      <td>1</td>\n",
       "    </tr>\n",
       "    <tr>\n",
       "      <th>Angola</th>\n",
       "      <td>3.70</td>\n",
       "      <td>2</td>\n",
       "    </tr>\n",
       "    <tr>\n",
       "      <th>Seychelles</th>\n",
       "      <td>3.50</td>\n",
       "      <td>1</td>\n",
       "    </tr>\n",
       "    <tr>\n",
       "      <th>Maldives</th>\n",
       "      <td>3.50</td>\n",
       "      <td>2</td>\n",
       "    </tr>\n",
       "    <tr>\n",
       "      <th>Belarus</th>\n",
       "      <td>3.50</td>\n",
       "      <td>1</td>\n",
       "    </tr>\n",
       "    <tr>\n",
       "      <th>Turkmenistan</th>\n",
       "      <td>3.50</td>\n",
       "      <td>1</td>\n",
       "    </tr>\n",
       "    <tr>\n",
       "      <th>Nicaragua</th>\n",
       "      <td>3.45</td>\n",
       "      <td>2</td>\n",
       "    </tr>\n",
       "    <tr>\n",
       "      <th>Cuba</th>\n",
       "      <td>3.40</td>\n",
       "      <td>1</td>\n",
       "    </tr>\n",
       "  </tbody>\n",
       "</table>\n",
       "</div>"
      ],
      "text/plain": [
       "              Mean_stress  Count\n",
       "Country                         \n",
       "Zimbabwe             4.20      1\n",
       "Mozambique           3.80      1\n",
       "Sri Lanka            3.80      1\n",
       "Angola               3.70      2\n",
       "Seychelles           3.50      1\n",
       "Maldives             3.50      2\n",
       "Belarus              3.50      1\n",
       "Turkmenistan         3.50      1\n",
       "Nicaragua            3.45      2\n",
       "Cuba                 3.40      1"
      ]
     },
     "execution_count": 61,
     "metadata": {},
     "output_type": "execute_result"
    }
   ],
   "source": [
    "country_df = covid_df.groupby('Country').agg(\n",
    "    Mean_stress=('Avg_stress', 'mean'),\n",
    "    Count=('Country', 'count')\n",
    ")\n",
    "country_df.sort_values('Mean_stress', ascending=False).head(10)"
   ]
  },
  {
   "cell_type": "markdown",
   "metadata": {},
   "source": [
    "Suprising? Now let's identify 10 countries with highest average value of stress with at least 200 respondents."
   ]
  },
  {
   "cell_type": "code",
   "execution_count": 62,
   "metadata": {},
   "outputs": [
    {
     "data": {
      "text/html": [
       "<div>\n",
       "<style scoped>\n",
       "    .dataframe tbody tr th:only-of-type {\n",
       "        vertical-align: middle;\n",
       "    }\n",
       "\n",
       "    .dataframe tbody tr th {\n",
       "        vertical-align: top;\n",
       "    }\n",
       "\n",
       "    .dataframe thead th {\n",
       "        text-align: right;\n",
       "    }\n",
       "</style>\n",
       "<table border=\"1\" class=\"dataframe\">\n",
       "  <thead>\n",
       "    <tr style=\"text-align: right;\">\n",
       "      <th></th>\n",
       "      <th>Mean_stress</th>\n",
       "      <th>Count</th>\n",
       "    </tr>\n",
       "    <tr>\n",
       "      <th>Country</th>\n",
       "      <th></th>\n",
       "      <th></th>\n",
       "    </tr>\n",
       "  </thead>\n",
       "  <tbody>\n",
       "    <tr>\n",
       "      <th>Hungary</th>\n",
       "      <td>3.219578</td>\n",
       "      <td>332</td>\n",
       "    </tr>\n",
       "    <tr>\n",
       "      <th>Philippines</th>\n",
       "      <td>3.188251</td>\n",
       "      <td>383</td>\n",
       "    </tr>\n",
       "    <tr>\n",
       "      <th>Argentina</th>\n",
       "      <td>3.161882</td>\n",
       "      <td>3093</td>\n",
       "    </tr>\n",
       "    <tr>\n",
       "      <th>Mexico</th>\n",
       "      <td>3.135861</td>\n",
       "      <td>2585</td>\n",
       "    </tr>\n",
       "    <tr>\n",
       "      <th>Bulgaria</th>\n",
       "      <td>3.131807</td>\n",
       "      <td>2358</td>\n",
       "    </tr>\n",
       "    <tr>\n",
       "      <th>Poland</th>\n",
       "      <td>3.120000</td>\n",
       "      <td>285</td>\n",
       "    </tr>\n",
       "    <tr>\n",
       "      <th>Romania</th>\n",
       "      <td>3.113397</td>\n",
       "      <td>209</td>\n",
       "    </tr>\n",
       "    <tr>\n",
       "      <th>Indonesia</th>\n",
       "      <td>3.104659</td>\n",
       "      <td>279</td>\n",
       "    </tr>\n",
       "    <tr>\n",
       "      <th>Croatia</th>\n",
       "      <td>3.099476</td>\n",
       "      <td>1526</td>\n",
       "    </tr>\n",
       "    <tr>\n",
       "      <th>Turkey</th>\n",
       "      <td>3.091692</td>\n",
       "      <td>325</td>\n",
       "    </tr>\n",
       "  </tbody>\n",
       "</table>\n",
       "</div>"
      ],
      "text/plain": [
       "             Mean_stress  Count\n",
       "Country                        \n",
       "Hungary         3.219578    332\n",
       "Philippines     3.188251    383\n",
       "Argentina       3.161882   3093\n",
       "Mexico          3.135861   2585\n",
       "Bulgaria        3.131807   2358\n",
       "Poland          3.120000    285\n",
       "Romania         3.113397    209\n",
       "Indonesia       3.104659    279\n",
       "Croatia         3.099476   1526\n",
       "Turkey          3.091692    325"
      ]
     },
     "execution_count": 62,
     "metadata": {},
     "output_type": "execute_result"
    }
   ],
   "source": [
    "country_df[country_df['Count'] >= 200] \\\n",
    "    .sort_values('Mean_stress', ascending=False).head(10)"
   ]
  },
  {
   "cell_type": "markdown",
   "metadata": {},
   "source": [
    "To extend this comparison, we wish to create a dateset `country_fltr` which contains the mean stress, trust in health organisations, government and health measures, and the observation count for all countries with at least 200 observations."
   ]
  },
  {
   "cell_type": "code",
   "execution_count": 106,
   "metadata": {},
   "outputs": [],
   "source": [
    "country_df = covid_df.groupby('Country').agg(\n",
    "    Mean_stress=('Avg_stress', 'mean'),\n",
    "    Mean_gov_trust=('Trust_gov', 'mean'),\n",
    "    Mean_health_trust=('Trust_health', 'mean'),\n",
    "    Mean_measures_trust=('Trust_countrymeasure', 'mean'),\n",
    "    Count=('Country', 'count')\n",
    ")\n",
    "\n",
    "country_fltr = country_df[country_df.Count>200]"
   ]
  },
  {
   "cell_type": "markdown",
   "metadata": {},
   "source": [
    "Now sort `country_fltr` by different categories and in ascending/descending order, to explore these 4 measure across the countries."
   ]
  },
  {
   "cell_type": "code",
   "execution_count": 108,
   "metadata": {},
   "outputs": [
    {
     "data": {
      "text/html": [
       "<div>\n",
       "<style scoped>\n",
       "    .dataframe tbody tr th:only-of-type {\n",
       "        vertical-align: middle;\n",
       "    }\n",
       "\n",
       "    .dataframe tbody tr th {\n",
       "        vertical-align: top;\n",
       "    }\n",
       "\n",
       "    .dataframe thead th {\n",
       "        text-align: right;\n",
       "    }\n",
       "</style>\n",
       "<table border=\"1\" class=\"dataframe\">\n",
       "  <thead>\n",
       "    <tr style=\"text-align: right;\">\n",
       "      <th></th>\n",
       "      <th>Mean_stress</th>\n",
       "      <th>Mean_gov_trust</th>\n",
       "      <th>Mean_health_trust</th>\n",
       "      <th>Mean_measures_trust</th>\n",
       "      <th>Count</th>\n",
       "    </tr>\n",
       "    <tr>\n",
       "      <th>Country</th>\n",
       "      <th></th>\n",
       "      <th></th>\n",
       "      <th></th>\n",
       "      <th></th>\n",
       "      <th></th>\n",
       "    </tr>\n",
       "  </thead>\n",
       "  <tbody>\n",
       "    <tr>\n",
       "      <th>Poland</th>\n",
       "      <td>3.120000</td>\n",
       "      <td>2.561404</td>\n",
       "      <td>4.403509</td>\n",
       "      <td>4.063158</td>\n",
       "      <td>285</td>\n",
       "    </tr>\n",
       "    <tr>\n",
       "      <th>Brazil</th>\n",
       "      <td>3.008462</td>\n",
       "      <td>2.715385</td>\n",
       "      <td>5.289744</td>\n",
       "      <td>3.435897</td>\n",
       "      <td>390</td>\n",
       "    </tr>\n",
       "    <tr>\n",
       "      <th>Bulgaria</th>\n",
       "      <td>3.131807</td>\n",
       "      <td>2.793469</td>\n",
       "      <td>3.929601</td>\n",
       "      <td>5.312129</td>\n",
       "      <td>2358</td>\n",
       "    </tr>\n",
       "    <tr>\n",
       "      <th>Turkey</th>\n",
       "      <td>3.091692</td>\n",
       "      <td>3.070769</td>\n",
       "      <td>6.156923</td>\n",
       "      <td>4.430769</td>\n",
       "      <td>325</td>\n",
       "    </tr>\n",
       "    <tr>\n",
       "      <th>Romania</th>\n",
       "      <td>3.113397</td>\n",
       "      <td>3.258373</td>\n",
       "      <td>4.899522</td>\n",
       "      <td>4.846890</td>\n",
       "      <td>209</td>\n",
       "    </tr>\n",
       "  </tbody>\n",
       "</table>\n",
       "</div>"
      ],
      "text/plain": [
       "          Mean_stress  Mean_gov_trust  Mean_health_trust  Mean_measures_trust  \\\n",
       "Country                                                                         \n",
       "Poland       3.120000        2.561404           4.403509             4.063158   \n",
       "Brazil       3.008462        2.715385           5.289744             3.435897   \n",
       "Bulgaria     3.131807        2.793469           3.929601             5.312129   \n",
       "Turkey       3.091692        3.070769           6.156923             4.430769   \n",
       "Romania      3.113397        3.258373           4.899522             4.846890   \n",
       "\n",
       "          Count  \n",
       "Country          \n",
       "Poland      285  \n",
       "Brazil      390  \n",
       "Bulgaria   2358  \n",
       "Turkey      325  \n",
       "Romania     209  "
      ]
     },
     "execution_count": 108,
     "metadata": {},
     "output_type": "execute_result"
    }
   ],
   "source": [
    "country_fltr.sort_values('Mean_gov_trust', ascending = True).head()"
   ]
  },
  {
   "cell_type": "markdown",
   "metadata": {},
   "source": [
    "It might be interesting to compare the trust in country's health system with the average stress level. One way to do it is to make a scatter plot with the mean trust in health on the x-axis and mean level of stress on the y-axis. (More about plotting in next session, but I couldn't resist making at least one plot in this notebook)"
   ]
  },
  {
   "cell_type": "code",
   "execution_count": 110,
   "metadata": {},
   "outputs": [
    {
     "data": {
      "image/png": "[encoded data removed]",
      "text/plain": [
       "<Figure size 432x288 with 1 Axes>"
      ]
     },
     "metadata": {
      "needs_background": "light"
     },
     "output_type": "display_data"
    }
   ],
   "source": [
    "country_fltr.plot(x='Mean_health_trust', y='Mean_stress', kind='scatter');"
   ]
  },
  {
   "cell_type": "markdown",
   "metadata": {},
   "source": [
    "Cool! It seems like there is a negative correlation between these two variables. Can you spot the outlier? Find out which country this datapoint corresponds to. "
   ]
  },
  {
   "cell_type": "code",
   "execution_count": 111,
   "metadata": {},
   "outputs": [
    {
     "data": {
      "text/html": [
       "<div>\n",
       "<style scoped>\n",
       "    .dataframe tbody tr th:only-of-type {\n",
       "        vertical-align: middle;\n",
       "    }\n",
       "\n",
       "    .dataframe tbody tr th {\n",
       "        vertical-align: top;\n",
       "    }\n",
       "\n",
       "    .dataframe thead th {\n",
       "        text-align: right;\n",
       "    }\n",
       "</style>\n",
       "<table border=\"1\" class=\"dataframe\">\n",
       "  <thead>\n",
       "    <tr style=\"text-align: right;\">\n",
       "      <th></th>\n",
       "      <th>Mean_stress</th>\n",
       "      <th>Mean_gov_trust</th>\n",
       "      <th>Mean_health_trust</th>\n",
       "      <th>Mean_measures_trust</th>\n",
       "      <th>Count</th>\n",
       "    </tr>\n",
       "    <tr>\n",
       "      <th>Country</th>\n",
       "      <th></th>\n",
       "      <th></th>\n",
       "      <th></th>\n",
       "      <th></th>\n",
       "      <th></th>\n",
       "    </tr>\n",
       "  </thead>\n",
       "  <tbody>\n",
       "    <tr>\n",
       "      <th>Japan</th>\n",
       "      <td>2.605118</td>\n",
       "      <td>4.00631</td>\n",
       "      <td>6.444263</td>\n",
       "      <td>2.978032</td>\n",
       "      <td>4279</td>\n",
       "    </tr>\n",
       "  </tbody>\n",
       "</table>\n",
       "</div>"
      ],
      "text/plain": [
       "         Mean_stress  Mean_gov_trust  Mean_health_trust  Mean_measures_trust  \\\n",
       "Country                                                                        \n",
       "Japan       2.605118         4.00631           6.444263             2.978032   \n",
       "\n",
       "         Count  \n",
       "Country         \n",
       "Japan     4279  "
      ]
     },
     "execution_count": 111,
     "metadata": {},
     "output_type": "execute_result"
    }
   ],
   "source": [
    "country_fltr[country_fltr.Mean_stress < 2.7]"
   ]
  },
  {
   "cell_type": "markdown",
   "metadata": {},
   "source": [
    "### A Closer Look at the UK"
   ]
  },
  {
   "cell_type": "markdown",
   "metadata": {},
   "source": [
    "In this section we will draw comparisons between the United Kingdom and the rest of Europe. We have provided an Excel spreadsheet in the [session materials](https://education.wdss.io/python-for-data-science/session-one/) that maps countries to continents, which can be used to aid in this comparison. Start by loading this dataset into the notebook."
   ]
  },
  {
   "cell_type": "code",
   "execution_count": 73,
   "metadata": {},
   "outputs": [],
   "source": [
    "country_map = pd.read_excel(\"data/countries_by_continent.xlsx\")"
   ]
  },
  {
   "cell_type": "markdown",
   "metadata": {},
   "source": [
    "Create a pandas series of all European countries except the United Kingdom."
   ]
  },
  {
   "cell_type": "code",
   "execution_count": 76,
   "metadata": {},
   "outputs": [],
   "source": [
    "europe = country_map['Country'][\n",
    "    (country_map['Continent'] == \"Europe\") &\n",
    "    (country_map['Country'] != \"United Kingdom\")\n",
    "]"
   ]
  },
  {
   "cell_type": "markdown",
   "metadata": {},
   "source": [
    "Use this series to create two dataframes, `uk_df` and `euro_df` containing observations from the UK and rest of Europe respectively."
   ]
  },
  {
   "cell_type": "code",
   "execution_count": 86,
   "metadata": {},
   "outputs": [],
   "source": [
    "uk_df = covid_df[covid_df['Country'] == \"United Kingdom\"]\n",
    "euro_df = covid_df[covid_df['Country'].isin(europe)]"
   ]
  },
  {
   "cell_type": "markdown",
   "metadata": {},
   "source": [
    "Is the average stress level in the UK above or below average of the rest of Europe? By how much? "
   ]
  },
  {
   "cell_type": "code",
   "execution_count": 90,
   "metadata": {},
   "outputs": [
    {
     "name": "stdout",
     "output_type": "stream",
     "text": [
      "The UK has a higher average stress level by 1.58%\n"
     ]
    }
   ],
   "source": [
    "uk_mean_stress = uk_df['Avg_stress'].mean()\n",
    "euro_mean_stress = euro_df['Avg_stress'].mean()\n",
    "\n",
    "if uk_mean_stress > eu_mean_stress:\n",
    "    print(\"The UK has a higher average stress level by\",\n",
    "          str(round(100 * (uk_mean_stress / euro_mean_stress - 1), 2)) + \"%\")\n",
    "else:\n",
    "    print(\"The rest of Europe has a higher average stress level by\",\n",
    "          str(round(100 * (euro_mean_stress / uk_mean_stress - 1), 2)) + \"%\")"
   ]
  },
  {
   "cell_type": "markdown",
   "metadata": {},
   "source": [
    "What proportion of people in the UK aged between 40 and 60 (inclusive) reported an average stress level above 3? This is a longer question so try to break it up into sensible chunks."
   ]
  },
  {
   "cell_type": "code",
   "execution_count": 95,
   "metadata": {},
   "outputs": [
    {
     "data": {
      "text/plain": [
       "0.394"
      ]
     },
     "execution_count": 95,
     "metadata": {},
     "output_type": "execute_result"
    }
   ],
   "source": [
    "uk_middle_aged = uk_df[(uk_df.Dem_age >= 40) & (uk_df.Dem_age <= 60)]\n",
    "(uk_middle_aged['Avg_stress'] > 3).mean().round(3)"
   ]
  },
  {
   "cell_type": "markdown",
   "metadata": {},
   "source": [
    "What the average stress level for each employment status and gender pair in Europe? (Note: you can use a list of labels when grouping a dataframe)"
   ]
  },
  {
   "cell_type": "code",
   "execution_count": 92,
   "metadata": {},
   "outputs": [
    {
     "data": {
      "text/html": [
       "<div>\n",
       "<style scoped>\n",
       "    .dataframe tbody tr th:only-of-type {\n",
       "        vertical-align: middle;\n",
       "    }\n",
       "\n",
       "    .dataframe tbody tr th {\n",
       "        vertical-align: top;\n",
       "    }\n",
       "\n",
       "    .dataframe thead th {\n",
       "        text-align: right;\n",
       "    }\n",
       "</style>\n",
       "<table border=\"1\" class=\"dataframe\">\n",
       "  <thead>\n",
       "    <tr style=\"text-align: right;\">\n",
       "      <th></th>\n",
       "      <th></th>\n",
       "      <th>Avg_stress</th>\n",
       "    </tr>\n",
       "    <tr>\n",
       "      <th>Dem_employment</th>\n",
       "      <th>Dem_gender</th>\n",
       "      <th></th>\n",
       "    </tr>\n",
       "  </thead>\n",
       "  <tbody>\n",
       "    <tr>\n",
       "      <th rowspan=\"3\" valign=\"top\">Full time employed</th>\n",
       "      <th>Female</th>\n",
       "      <td>2.960419</td>\n",
       "    </tr>\n",
       "    <tr>\n",
       "      <th>Male</th>\n",
       "      <td>2.875633</td>\n",
       "    </tr>\n",
       "    <tr>\n",
       "      <th>Other/would rather not say</th>\n",
       "      <td>3.047826</td>\n",
       "    </tr>\n",
       "    <tr>\n",
       "      <th rowspan=\"3\" valign=\"top\">Not employed</th>\n",
       "      <th>Female</th>\n",
       "      <td>3.021073</td>\n",
       "    </tr>\n",
       "    <tr>\n",
       "      <th>Male</th>\n",
       "      <td>2.926990</td>\n",
       "    </tr>\n",
       "    <tr>\n",
       "      <th>Other/would rather not say</th>\n",
       "      <td>3.034000</td>\n",
       "    </tr>\n",
       "    <tr>\n",
       "      <th rowspan=\"3\" valign=\"top\">Part time employed</th>\n",
       "      <th>Female</th>\n",
       "      <td>2.963491</td>\n",
       "    </tr>\n",
       "    <tr>\n",
       "      <th>Male</th>\n",
       "      <td>2.900000</td>\n",
       "    </tr>\n",
       "    <tr>\n",
       "      <th>Other/would rather not say</th>\n",
       "      <td>2.993478</td>\n",
       "    </tr>\n",
       "    <tr>\n",
       "      <th rowspan=\"3\" valign=\"top\">Retired</th>\n",
       "      <th>Female</th>\n",
       "      <td>2.873963</td>\n",
       "    </tr>\n",
       "    <tr>\n",
       "      <th>Male</th>\n",
       "      <td>2.790598</td>\n",
       "    </tr>\n",
       "    <tr>\n",
       "      <th>Other/would rather not say</th>\n",
       "      <td>3.106250</td>\n",
       "    </tr>\n",
       "    <tr>\n",
       "      <th rowspan=\"3\" valign=\"top\">Self-employed</th>\n",
       "      <th>Female</th>\n",
       "      <td>2.986284</td>\n",
       "    </tr>\n",
       "    <tr>\n",
       "      <th>Male</th>\n",
       "      <td>2.900577</td>\n",
       "    </tr>\n",
       "    <tr>\n",
       "      <th>Other/would rather not say</th>\n",
       "      <td>2.976190</td>\n",
       "    </tr>\n",
       "    <tr>\n",
       "      <th rowspan=\"3\" valign=\"top\">Student</th>\n",
       "      <th>Female</th>\n",
       "      <td>3.090037</td>\n",
       "    </tr>\n",
       "    <tr>\n",
       "      <th>Male</th>\n",
       "      <td>2.952719</td>\n",
       "    </tr>\n",
       "    <tr>\n",
       "      <th>Other/would rather not say</th>\n",
       "      <td>3.112821</td>\n",
       "    </tr>\n",
       "  </tbody>\n",
       "</table>\n",
       "</div>"
      ],
      "text/plain": [
       "                                               Avg_stress\n",
       "Dem_employment     Dem_gender                            \n",
       "Full time employed Female                        2.960419\n",
       "                   Male                          2.875633\n",
       "                   Other/would rather not say    3.047826\n",
       "Not employed       Female                        3.021073\n",
       "                   Male                          2.926990\n",
       "                   Other/would rather not say    3.034000\n",
       "Part time employed Female                        2.963491\n",
       "                   Male                          2.900000\n",
       "                   Other/would rather not say    2.993478\n",
       "Retired            Female                        2.873963\n",
       "                   Male                          2.790598\n",
       "                   Other/would rather not say    3.106250\n",
       "Self-employed      Female                        2.986284\n",
       "                   Male                          2.900577\n",
       "                   Other/would rather not say    2.976190\n",
       "Student            Female                        3.090037\n",
       "                   Male                          2.952719\n",
       "                   Other/would rather not say    3.112821"
      ]
     },
     "execution_count": 92,
     "metadata": {},
     "output_type": "execute_result"
    }
   ],
   "source": [
    "euro_df.groupby(['Dem_employment', 'Dem_gender']).mean()[['Avg_stress']]"
   ]
  },
  {
   "cell_type": "markdown",
   "metadata": {},
   "source": [
    "> Wow! What happened there? We've just been introduced to the pandas multi-index, a relatively unique feature of the package which offers incredible power and flexibility. This is considered an advanced feature and so we will not go into any more detail about it but you can read more [here](https://pandas.pydata.org/pandas-docs/stable/user_guide/advanced.html)."
   ]
  },
  {
   "cell_type": "markdown",
   "metadata": {},
   "source": [
    "Did the trust in government tend to increase/decrease or remain stable over the period considered in the report? Compare the mean trust in government in first 3 weeks of April starting from 2020-04-06."
   ]
  },
  {
   "cell_type": "markdown",
   "metadata": {},
   "source": [
    "You can do this using base Python `for` loops. Loop through through consecutive pairs of days in the provided date list and calculate the mean trust in government for an subset of the dataset filtered to only have days between the current date in the list and 7 days in the future."
   ]
  },
  {
   "cell_type": "code",
   "execution_count": 101,
   "metadata": {},
   "outputs": [
    {
     "data": {
      "text/plain": [
       "[5.184357541899441, 4.6415094339622645, 5.428571428571429]"
      ]
     },
     "execution_count": 101,
     "metadata": {},
     "output_type": "execute_result"
    }
   ],
   "source": [
    "# Calculate the weekly average trust in government\n",
    "days = ['2020-04-06', '2020-04-13', '2020-04-20', '2020-04-27']\n",
    "weekly_mean_trust = []\n",
    "\n",
    "# Loop through pairs of consecutive days in `days`\n",
    "for d1, d2 in zip(days[:-1], days[1:]):\n",
    "    weekly_mean_trust.append(uk_df[(uk_df.RecordedDate >= d1) &\n",
    "                                   (uk_df.RecordedDate < d2)]['Trust_gov'].mean())\n",
    "    \n",
    "weekly_mean_trust"
   ]
  },
  {
   "cell_type": "markdown",
   "metadata": {},
   "source": [
    "This isn't the most elegant and is certainly not the most efficient. A better solution is below, though it goes to show that pandas and base Python can be used together when needed."
   ]
  },
  {
   "cell_type": "code",
   "execution_count": 104,
   "metadata": {},
   "outputs": [
    {
     "data": {
      "text/plain": [
       "week\n",
       "14    3.794872\n",
       "15    5.184358\n",
       "16    4.641509\n",
       "17    5.428571\n",
       "18    3.583333\n",
       "19    4.058824\n",
       "20    3.166667\n",
       "21    5.000000\n",
       "22    2.857143\n",
       "Name: Trust_gov, dtype: float64"
      ]
     },
     "execution_count": 104,
     "metadata": {},
     "output_type": "execute_result"
    }
   ],
   "source": [
    "uk_df.groupby(uk_df.RecordedDate.dt.isocalendar().week).mean()['Trust_gov']"
   ]
  },
  {
   "cell_type": "markdown",
   "metadata": {},
   "source": [
    "## Your Time to Shine"
   ]
  },
  {
   "cell_type": "markdown",
   "metadata": {},
   "source": [
    "Come up with some new questions about this dataset and try to answer them using your newly obtained skills."
   ]
  },
  {
   "cell_type": "code",
   "execution_count": null,
   "metadata": {},
   "outputs": [],
   "source": []
  },
  {
   "cell_type": "code",
   "execution_count": null,
   "metadata": {},
   "outputs": [],
   "source": []
  },
  {
   "cell_type": "code",
   "execution_count": null,
   "metadata": {},
   "outputs": [],
   "source": []
  }
 ],
 "metadata": {
  "kernelspec": {
   "display_name": "Python 3",
   "language": "python",
   "name": "python3"
  },
  "language_info": {
   "codemirror_mode": {
    "name": "ipython",
    "version": 3
   },
   "file_extension": ".py",
   "mimetype": "text/x-python",
   "name": "python",
   "nbconvert_exporter": "python",
   "pygments_lexer": "ipython3",
   "version": "3.8.2"
  }
 },
 "nbformat": 4,
 "nbformat_minor": 4
}
