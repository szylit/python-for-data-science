{
 "cells": [
  {
   "cell_type": "markdown",
   "metadata": {},
   "source": [
    "         O OH\n",
    "H3PO4 (OH P OH) is an example of an oxyacid. \n",
    "The pKa of an any oxyacid can be estimated using Pauling's rules which state:\n",
    "The  pKa  of an oxyacid of general formula  E(OH)q(O)p  is given by pKa=8−5×p.\n",
    "\n",
    "Assign the structural formula for phosphoric accid to an array called PHOSACID. "
   ]
  },
  {
   "cell_type": "code",
   "execution_count": null,
   "metadata": {},
   "outputs": [],
   "source": []
  },
  {
   "cell_type": "markdown",
   "metadata": {},
   "source": [
    "You can use the .count(\" \") method to work out the total number of a specific character in a string. Using the .count(\" \") method work out the values for q and p and print the values."
   ]
  },
  {
   "cell_type": "code",
   "execution_count": null,
   "metadata": {},
   "outputs": [],
   "source": []
  },
  {
   "cell_type": "markdown",
   "metadata": {},
   "source": [
    "Now using the pKa = 8-5xp, workout the pKa of phosphoric acid and print this value."
   ]
  },
  {
   "cell_type": "code",
   "execution_count": null,
   "metadata": {},
   "outputs": [],
   "source": []
  },
  {
   "cell_type": "markdown",
   "metadata": {},
   "source": [
    "We can use the import method to import useful python libraries that can help us with various things. We are going to import some libraries that will help with plotting graphs and maths."
   ]
  },
  {
   "cell_type": "code",
   "execution_count": 3,
   "metadata": {},
   "outputs": [],
   "source": [
    "import matplotlib.pyplot as plt\n",
    "import numpy as np"
   ]
  },
  {
   "cell_type": "markdown",
   "metadata": {},
   "source": [
    "We are going to use a function called linspace found in the numpy library to generate equally spaced numbers between -5 and 5 and assign these numbers to a variable called x. Then assign the graph 2x+1 to a variable called y."
   ]
  },
  {
   "cell_type": "code",
   "execution_count": null,
   "metadata": {},
   "outputs": [],
   "source": []
  },
  {
   "cell_type": "markdown",
   "metadata": {},
   "source": [
    "We are now going to plot the graph y = 2x+1 using the matplotlib.pyplot library and then print it."
   ]
  },
  {
   "cell_type": "code",
   "execution_count": null,
   "metadata": {},
   "outputs": [],
   "source": []
  },
  {
   "cell_type": "markdown",
   "metadata": {},
   "source": [
    "We can do more with a plot, we can add colour, grids or we can even plot trickier graphs. \n",
    "\n",
    "The potential energy of two argon atoms separated by a distance r\n",
    "can be roughly given by the following function,$$V(r)= 4\\epsilon[(\\frac{\\sigma}{r})^{12}\\\\-(\\frac{\\sigma}{r})^{6}]$$\n",
    "\n",
    "Using the python libraries we have imported, plot $$f(x)=\\frac{1}{x^{12}}$$ and $$f(x)=-\\frac{1}{x^{6}}$$\n",
    "\n",
    "Remember that both of these graphs have an asymptote, that will cause a zero error."
   ]
  },
  {
   "cell_type": "code",
   "execution_count": null,
   "metadata": {},
   "outputs": [],
   "source": []
  },
  {
   "cell_type": "code",
   "execution_count": null,
   "metadata": {},
   "outputs": [],
   "source": []
  },
  {
   "cell_type": "markdown",
   "metadata": {},
   "source": [
    "\n"
   ]
  }
 ],
 "metadata": {
  "kernelspec": {
   "display_name": "Python 3",
   "language": "python",
   "name": "python3"
  },
  "language_info": {
   "codemirror_mode": {
    "name": "ipython",
    "version": 3
   },
   "file_extension": ".py",
   "mimetype": "text/x-python",
   "name": "python",
   "nbconvert_exporter": "python",
   "pygments_lexer": "ipython3",
   "version": "3.8.5"
  }
 },
 "nbformat": 4,
 "nbformat_minor": 4
}
