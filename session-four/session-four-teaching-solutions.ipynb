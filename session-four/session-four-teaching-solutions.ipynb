{
 "cells": [
  {
   "cell_type": "markdown",
   "metadata": {},
   "source": [
    "# Python for Data Science Teaching Session 4: Data Transformation"
   ]
  },
  {
   "cell_type": "markdown",
   "metadata": {},
   "source": [
    "## Introduction"
   ]
  },
  {
   "cell_type": "markdown",
   "metadata": {},
   "source": [
    "### Session Objectives"
   ]
  },
  {
   "cell_type": "markdown",
   "metadata": {},
   "source": [
    "- Combining datasets and filtering joins\n",
    "- Dealing with missing values\n",
    "- Reshaping data\n",
    "- Dummifying categorical variables"
   ]
  },
  {
   "cell_type": "markdown",
   "metadata": {},
   "source": [
    "### Coming Full Circle"
   ]
  },
  {
   "cell_type": "markdown",
   "metadata": {},
   "source": [
    "In this session, we will be returning to Pandas, to learn how we can use it for transforming data. We will start by importing the package as well as another we'll need for loading the datasets we'll be working with."
   ]
  },
  {
   "cell_type": "code",
   "execution_count": 1,
   "metadata": {},
   "outputs": [],
   "source": [
    "# Import packages\n",
    "from urllib.request import urlopen\n",
    "\n",
    "import pandas as pd"
   ]
  },
  {
   "cell_type": "markdown",
   "metadata": {},
   "source": [
    "## Combining Datasets"
   ]
  },
  {
   "cell_type": "markdown",
   "metadata": {},
   "source": [
    "In this section, we will be working with a collection of datasets related to airline data for planes departing NYC in 2013. The code below loads in a selection of dataframes from this course's GitHub repository, saving them in a dictionary, `data`."
   ]
  },
  {
   "cell_type": "code",
   "execution_count": 2,
   "metadata": {},
   "outputs": [],
   "source": [
    "base_url = ('https://raw.githubusercontent.com/warwickdatasciencesociety/'\n",
    "            'python-for-data-science/master/session-four/data/nycflights13/')\n",
    "# Collect list of file names\n",
    "with urlopen(base_url + 'names.txt') as f:\n",
    "    names = f.read().decode('utf-8').split()\n",
    "    \n",
    "# Import data\n",
    "data = {}\n",
    "for n in names:\n",
    "    data[n] = pd.read_csv(base_url + n + '.csv')"
   ]
  },
  {
   "cell_type": "markdown",
   "metadata": {},
   "source": [
    "We can see a list of the dataframes and view any particular one using standard dictionary techniques."
   ]
  },
  {
   "cell_type": "code",
   "execution_count": 3,
   "metadata": {},
   "outputs": [
    {
     "name": "stdout",
     "output_type": "stream",
     "text": [
      "airlines | airports_loc | airports_tz | flights_q12 | flights_q34 | planes\n"
     ]
    }
   ],
   "source": [
    "# Dataset list\n",
    "print(*data.keys(), sep=' | ')"
   ]
  },
  {
   "cell_type": "code",
   "execution_count": 16,
   "metadata": {},
   "outputs": [
    {
     "data": {
      "text/html": [
       "<div>\n",
       "<style scoped>\n",
       "    .dataframe tbody tr th:only-of-type {\n",
       "        vertical-align: middle;\n",
       "    }\n",
       "\n",
       "    .dataframe tbody tr th {\n",
       "        vertical-align: top;\n",
       "    }\n",
       "\n",
       "    .dataframe thead th {\n",
       "        text-align: right;\n",
       "    }\n",
       "</style>\n",
       "<table border=\"1\" class=\"dataframe\">\n",
       "  <thead>\n",
       "    <tr style=\"text-align: right;\">\n",
       "      <th></th>\n",
       "      <th>faa</th>\n",
       "      <th>name</th>\n",
       "      <th>lat</th>\n",
       "      <th>lon</th>\n",
       "      <th>alt</th>\n",
       "      <th>dst</th>\n",
       "    </tr>\n",
       "  </thead>\n",
       "  <tbody>\n",
       "    <tr>\n",
       "      <th>0</th>\n",
       "      <td>04G</td>\n",
       "      <td>Lansdowne Airport</td>\n",
       "      <td>41.130472</td>\n",
       "      <td>-80.619583</td>\n",
       "      <td>1044</td>\n",
       "      <td>A</td>\n",
       "    </tr>\n",
       "    <tr>\n",
       "      <th>1</th>\n",
       "      <td>06A</td>\n",
       "      <td>Moton Field Municipal Airport</td>\n",
       "      <td>32.460572</td>\n",
       "      <td>-85.680028</td>\n",
       "      <td>264</td>\n",
       "      <td>A</td>\n",
       "    </tr>\n",
       "    <tr>\n",
       "      <th>2</th>\n",
       "      <td>06C</td>\n",
       "      <td>Schaumburg Regional</td>\n",
       "      <td>41.989341</td>\n",
       "      <td>-88.101243</td>\n",
       "      <td>801</td>\n",
       "      <td>A</td>\n",
       "    </tr>\n",
       "    <tr>\n",
       "      <th>3</th>\n",
       "      <td>06N</td>\n",
       "      <td>Randall Airport</td>\n",
       "      <td>41.431912</td>\n",
       "      <td>-74.391561</td>\n",
       "      <td>523</td>\n",
       "      <td>A</td>\n",
       "    </tr>\n",
       "    <tr>\n",
       "      <th>4</th>\n",
       "      <td>09J</td>\n",
       "      <td>Jekyll Island Airport</td>\n",
       "      <td>31.074472</td>\n",
       "      <td>-81.427778</td>\n",
       "      <td>11</td>\n",
       "      <td>A</td>\n",
       "    </tr>\n",
       "    <tr>\n",
       "      <th>...</th>\n",
       "      <td>...</td>\n",
       "      <td>...</td>\n",
       "      <td>...</td>\n",
       "      <td>...</td>\n",
       "      <td>...</td>\n",
       "      <td>...</td>\n",
       "    </tr>\n",
       "    <tr>\n",
       "      <th>1453</th>\n",
       "      <td>ZUN</td>\n",
       "      <td>Black Rock</td>\n",
       "      <td>35.083228</td>\n",
       "      <td>-108.791778</td>\n",
       "      <td>6454</td>\n",
       "      <td>A</td>\n",
       "    </tr>\n",
       "    <tr>\n",
       "      <th>1454</th>\n",
       "      <td>ZVE</td>\n",
       "      <td>New Haven Rail Station</td>\n",
       "      <td>41.298669</td>\n",
       "      <td>-72.925992</td>\n",
       "      <td>7</td>\n",
       "      <td>A</td>\n",
       "    </tr>\n",
       "    <tr>\n",
       "      <th>1455</th>\n",
       "      <td>ZWI</td>\n",
       "      <td>Wilmington Amtrak Station</td>\n",
       "      <td>39.736667</td>\n",
       "      <td>-75.551667</td>\n",
       "      <td>0</td>\n",
       "      <td>A</td>\n",
       "    </tr>\n",
       "    <tr>\n",
       "      <th>1456</th>\n",
       "      <td>ZWU</td>\n",
       "      <td>Washington Union Station</td>\n",
       "      <td>38.897460</td>\n",
       "      <td>-77.006430</td>\n",
       "      <td>76</td>\n",
       "      <td>A</td>\n",
       "    </tr>\n",
       "    <tr>\n",
       "      <th>1457</th>\n",
       "      <td>ZYP</td>\n",
       "      <td>Penn Station</td>\n",
       "      <td>40.750500</td>\n",
       "      <td>-73.993500</td>\n",
       "      <td>35</td>\n",
       "      <td>A</td>\n",
       "    </tr>\n",
       "  </tbody>\n",
       "</table>\n",
       "<p>1458 rows × 6 columns</p>\n",
       "</div>"
      ],
      "text/plain": [
       "      faa                           name        lat         lon   alt dst\n",
       "0     04G              Lansdowne Airport  41.130472  -80.619583  1044   A\n",
       "1     06A  Moton Field Municipal Airport  32.460572  -85.680028   264   A\n",
       "2     06C            Schaumburg Regional  41.989341  -88.101243   801   A\n",
       "3     06N                Randall Airport  41.431912  -74.391561   523   A\n",
       "4     09J          Jekyll Island Airport  31.074472  -81.427778    11   A\n",
       "...   ...                            ...        ...         ...   ...  ..\n",
       "1453  ZUN                     Black Rock  35.083228 -108.791778  6454   A\n",
       "1454  ZVE         New Haven Rail Station  41.298669  -72.925992     7   A\n",
       "1455  ZWI      Wilmington Amtrak Station  39.736667  -75.551667     0   A\n",
       "1456  ZWU       Washington Union Station  38.897460  -77.006430    76   A\n",
       "1457  ZYP                   Penn Station  40.750500  -73.993500    35   A\n",
       "\n",
       "[1458 rows x 6 columns]"
      ]
     },
     "execution_count": 16,
     "metadata": {},
     "output_type": "execute_result"
    }
   ],
   "source": [
    "# Airlines dataset\n",
    "data['airports_loc']"
   ]
  },
  {
   "cell_type": "markdown",
   "metadata": {},
   "source": [
    "### Concatenation"
   ]
  },
  {
   "cell_type": "markdown",
   "metadata": {},
   "source": [
    "We will begin by learning how to concatenate data. Concatenation is used when we have two dataframes that either share the same columns or same rows. We can then join along the non-matching axis to obtain a single dataframe. This is done using the `pd.concat()` function which accepts a list-like object of dataframes to combine as well as the axis to combine over."
   ]
  },
  {
   "cell_type": "markdown",
   "metadata": {},
   "source": [
    "We start by concatenating rows. In this case, we use `axis=0`. This is the default, so we don't need to specify it, but it is helpful to people reading our code later (which may even be us) to include it."
   ]
  },
  {
   "cell_type": "markdown",
   "metadata": {},
   "source": [
    "We can do this for the two flights dataset, which contain the same columns but for different quarters. Before combining, it is best practice to check that the columns do indeed match up (though order doesn't matter)."
   ]
  },
  {
   "cell_type": "code",
   "execution_count": 11,
   "metadata": {},
   "outputs": [
    {
     "data": {
      "text/plain": [
       "True"
      ]
     },
     "execution_count": 11,
     "metadata": {},
     "output_type": "execute_result"
    }
   ],
   "source": [
    "# Check both flight datasets have the same columns\n",
    "set(data['flights_q12'].columns) == set(data['flights_q34'].columns)"
   ]
  },
  {
   "cell_type": "code",
   "execution_count": 13,
   "metadata": {},
   "outputs": [
    {
     "data": {
      "text/html": [
       "<div>\n",
       "<style scoped>\n",
       "    .dataframe tbody tr th:only-of-type {\n",
       "        vertical-align: middle;\n",
       "    }\n",
       "\n",
       "    .dataframe tbody tr th {\n",
       "        vertical-align: top;\n",
       "    }\n",
       "\n",
       "    .dataframe thead th {\n",
       "        text-align: right;\n",
       "    }\n",
       "</style>\n",
       "<table border=\"1\" class=\"dataframe\">\n",
       "  <thead>\n",
       "    <tr style=\"text-align: right;\">\n",
       "      <th></th>\n",
       "      <th>year</th>\n",
       "      <th>month</th>\n",
       "      <th>day</th>\n",
       "      <th>dep_time</th>\n",
       "      <th>sched_dep_time</th>\n",
       "      <th>dep_delay</th>\n",
       "      <th>arr_time</th>\n",
       "      <th>sched_arr_time</th>\n",
       "      <th>arr_delay</th>\n",
       "      <th>carrier</th>\n",
       "      <th>flight</th>\n",
       "      <th>tailnum</th>\n",
       "      <th>origin</th>\n",
       "      <th>dest</th>\n",
       "      <th>air_time</th>\n",
       "      <th>distance</th>\n",
       "      <th>hour</th>\n",
       "      <th>minute</th>\n",
       "      <th>time_hour</th>\n",
       "    </tr>\n",
       "  </thead>\n",
       "  <tbody>\n",
       "    <tr>\n",
       "      <th>158021</th>\n",
       "      <td>2013</td>\n",
       "      <td>6</td>\n",
       "      <td>22</td>\n",
       "      <td>1110.0</td>\n",
       "      <td>1125</td>\n",
       "      <td>-15.0</td>\n",
       "      <td>1211.0</td>\n",
       "      <td>1231</td>\n",
       "      <td>-20.0</td>\n",
       "      <td>B6</td>\n",
       "      <td>2380</td>\n",
       "      <td>N348JB</td>\n",
       "      <td>EWR</td>\n",
       "      <td>BOS</td>\n",
       "      <td>43.0</td>\n",
       "      <td>200</td>\n",
       "      <td>11</td>\n",
       "      <td>25</td>\n",
       "      <td>2013-06-22T15:00:00Z</td>\n",
       "    </tr>\n",
       "    <tr>\n",
       "      <th>81375</th>\n",
       "      <td>2013</td>\n",
       "      <td>12</td>\n",
       "      <td>28</td>\n",
       "      <td>1603.0</td>\n",
       "      <td>1610</td>\n",
       "      <td>-7.0</td>\n",
       "      <td>1727.0</td>\n",
       "      <td>1801</td>\n",
       "      <td>-34.0</td>\n",
       "      <td>9E</td>\n",
       "      <td>2900</td>\n",
       "      <td>N925XJ</td>\n",
       "      <td>JFK</td>\n",
       "      <td>BNA</td>\n",
       "      <td>124.0</td>\n",
       "      <td>765</td>\n",
       "      <td>16</td>\n",
       "      <td>10</td>\n",
       "      <td>2013-12-28T21:00:00Z</td>\n",
       "    </tr>\n",
       "    <tr>\n",
       "      <th>43752</th>\n",
       "      <td>2013</td>\n",
       "      <td>2</td>\n",
       "      <td>20</td>\n",
       "      <td>657.0</td>\n",
       "      <td>700</td>\n",
       "      <td>-3.0</td>\n",
       "      <td>1012.0</td>\n",
       "      <td>1025</td>\n",
       "      <td>-13.0</td>\n",
       "      <td>WN</td>\n",
       "      <td>20</td>\n",
       "      <td>N936WN</td>\n",
       "      <td>EWR</td>\n",
       "      <td>HOU</td>\n",
       "      <td>230.0</td>\n",
       "      <td>1411</td>\n",
       "      <td>7</td>\n",
       "      <td>0</td>\n",
       "      <td>2013-02-20T12:00:00Z</td>\n",
       "    </tr>\n",
       "    <tr>\n",
       "      <th>47445</th>\n",
       "      <td>2013</td>\n",
       "      <td>2</td>\n",
       "      <td>24</td>\n",
       "      <td>906.0</td>\n",
       "      <td>910</td>\n",
       "      <td>-4.0</td>\n",
       "      <td>1033.0</td>\n",
       "      <td>1053</td>\n",
       "      <td>-20.0</td>\n",
       "      <td>B6</td>\n",
       "      <td>885</td>\n",
       "      <td>N266JB</td>\n",
       "      <td>JFK</td>\n",
       "      <td>RDU</td>\n",
       "      <td>69.0</td>\n",
       "      <td>427</td>\n",
       "      <td>9</td>\n",
       "      <td>10</td>\n",
       "      <td>2013-02-24T14:00:00Z</td>\n",
       "    </tr>\n",
       "    <tr>\n",
       "      <th>62608</th>\n",
       "      <td>2013</td>\n",
       "      <td>3</td>\n",
       "      <td>12</td>\n",
       "      <td>1445.0</td>\n",
       "      <td>1450</td>\n",
       "      <td>-5.0</td>\n",
       "      <td>1603.0</td>\n",
       "      <td>1627</td>\n",
       "      <td>-24.0</td>\n",
       "      <td>9E</td>\n",
       "      <td>4357</td>\n",
       "      <td>N8783E</td>\n",
       "      <td>JFK</td>\n",
       "      <td>ORF</td>\n",
       "      <td>56.0</td>\n",
       "      <td>290</td>\n",
       "      <td>14</td>\n",
       "      <td>50</td>\n",
       "      <td>2013-03-12T18:00:00Z</td>\n",
       "    </tr>\n",
       "  </tbody>\n",
       "</table>\n",
       "</div>"
      ],
      "text/plain": [
       "        year  month  day  dep_time  sched_dep_time  dep_delay  arr_time  \\\n",
       "158021  2013      6   22    1110.0            1125      -15.0    1211.0   \n",
       "81375   2013     12   28    1603.0            1610       -7.0    1727.0   \n",
       "43752   2013      2   20     657.0             700       -3.0    1012.0   \n",
       "47445   2013      2   24     906.0             910       -4.0    1033.0   \n",
       "62608   2013      3   12    1445.0            1450       -5.0    1603.0   \n",
       "\n",
       "        sched_arr_time  arr_delay carrier  flight tailnum origin dest  \\\n",
       "158021            1231      -20.0      B6    2380  N348JB    EWR  BOS   \n",
       "81375             1801      -34.0      9E    2900  N925XJ    JFK  BNA   \n",
       "43752             1025      -13.0      WN      20  N936WN    EWR  HOU   \n",
       "47445             1053      -20.0      B6     885  N266JB    JFK  RDU   \n",
       "62608             1627      -24.0      9E    4357  N8783E    JFK  ORF   \n",
       "\n",
       "        air_time  distance  hour  minute             time_hour  \n",
       "158021      43.0       200    11      25  2013-06-22T15:00:00Z  \n",
       "81375      124.0       765    16      10  2013-12-28T21:00:00Z  \n",
       "43752      230.0      1411     7       0  2013-02-20T12:00:00Z  \n",
       "47445       69.0       427     9      10  2013-02-24T14:00:00Z  \n",
       "62608       56.0       290    14      50  2013-03-12T18:00:00Z  "
      ]
     },
     "execution_count": 13,
     "metadata": {},
     "output_type": "execute_result"
    }
   ],
   "source": [
    "# Combine the flights datasets\n",
    "data['flights'] = pd.concat(\n",
    "    (data['flights_q12'], data['flights_q34']),\n",
    "    axis=0\n",
    ")\n",
    "data['flights'].sample(5)"
   ]
  },
  {
   "cell_type": "markdown",
   "metadata": {},
   "source": [
    "> Note, there is no limit to how many dataframes you can pass into `pd.concat`."
   ]
  },
  {
   "cell_type": "markdown",
   "metadata": {},
   "source": [
    "Likewise, we use `axis=1` to be combine columns. We can use this to combine the two datasets giving location and timezone information for airports. In this case, both datasets contain the columns `faa` and `name` so we will remove these from the latter. Like before, we check the indices match before concatenating."
   ]
  },
  {
   "cell_type": "code",
   "execution_count": 17,
   "metadata": {},
   "outputs": [
    {
     "data": {
      "text/plain": [
       "True"
      ]
     },
     "execution_count": 17,
     "metadata": {},
     "output_type": "execute_result"
    }
   ],
   "source": [
    "# Check both airport datasets have the same rows\n",
    "set(data['airports_loc'].index) == set(data['airports_tz'].index)"
   ]
  },
  {
   "cell_type": "code",
   "execution_count": 18,
   "metadata": {},
   "outputs": [
    {
     "data": {
      "text/html": [
       "<div>\n",
       "<style scoped>\n",
       "    .dataframe tbody tr th:only-of-type {\n",
       "        vertical-align: middle;\n",
       "    }\n",
       "\n",
       "    .dataframe tbody tr th {\n",
       "        vertical-align: top;\n",
       "    }\n",
       "\n",
       "    .dataframe thead th {\n",
       "        text-align: right;\n",
       "    }\n",
       "</style>\n",
       "<table border=\"1\" class=\"dataframe\">\n",
       "  <thead>\n",
       "    <tr style=\"text-align: right;\">\n",
       "      <th></th>\n",
       "      <th>faa</th>\n",
       "      <th>name</th>\n",
       "      <th>lat</th>\n",
       "      <th>lon</th>\n",
       "      <th>alt</th>\n",
       "      <th>dst</th>\n",
       "      <th>tz</th>\n",
       "      <th>tzone</th>\n",
       "    </tr>\n",
       "  </thead>\n",
       "  <tbody>\n",
       "    <tr>\n",
       "      <th>0</th>\n",
       "      <td>04G</td>\n",
       "      <td>Lansdowne Airport</td>\n",
       "      <td>41.130472</td>\n",
       "      <td>-80.619583</td>\n",
       "      <td>1044</td>\n",
       "      <td>A</td>\n",
       "      <td>-5</td>\n",
       "      <td>America/New_York</td>\n",
       "    </tr>\n",
       "    <tr>\n",
       "      <th>1</th>\n",
       "      <td>06A</td>\n",
       "      <td>Moton Field Municipal Airport</td>\n",
       "      <td>32.460572</td>\n",
       "      <td>-85.680028</td>\n",
       "      <td>264</td>\n",
       "      <td>A</td>\n",
       "      <td>-6</td>\n",
       "      <td>America/Chicago</td>\n",
       "    </tr>\n",
       "    <tr>\n",
       "      <th>2</th>\n",
       "      <td>06C</td>\n",
       "      <td>Schaumburg Regional</td>\n",
       "      <td>41.989341</td>\n",
       "      <td>-88.101243</td>\n",
       "      <td>801</td>\n",
       "      <td>A</td>\n",
       "      <td>-6</td>\n",
       "      <td>America/Chicago</td>\n",
       "    </tr>\n",
       "    <tr>\n",
       "      <th>3</th>\n",
       "      <td>06N</td>\n",
       "      <td>Randall Airport</td>\n",
       "      <td>41.431912</td>\n",
       "      <td>-74.391561</td>\n",
       "      <td>523</td>\n",
       "      <td>A</td>\n",
       "      <td>-5</td>\n",
       "      <td>America/New_York</td>\n",
       "    </tr>\n",
       "    <tr>\n",
       "      <th>4</th>\n",
       "      <td>09J</td>\n",
       "      <td>Jekyll Island Airport</td>\n",
       "      <td>31.074472</td>\n",
       "      <td>-81.427778</td>\n",
       "      <td>11</td>\n",
       "      <td>A</td>\n",
       "      <td>-5</td>\n",
       "      <td>America/New_York</td>\n",
       "    </tr>\n",
       "  </tbody>\n",
       "</table>\n",
       "</div>"
      ],
      "text/plain": [
       "   faa                           name        lat        lon   alt dst  tz  \\\n",
       "0  04G              Lansdowne Airport  41.130472 -80.619583  1044   A  -5   \n",
       "1  06A  Moton Field Municipal Airport  32.460572 -85.680028   264   A  -6   \n",
       "2  06C            Schaumburg Regional  41.989341 -88.101243   801   A  -6   \n",
       "3  06N                Randall Airport  41.431912 -74.391561   523   A  -5   \n",
       "4  09J          Jekyll Island Airport  31.074472 -81.427778    11   A  -5   \n",
       "\n",
       "              tzone  \n",
       "0  America/New_York  \n",
       "1   America/Chicago  \n",
       "2   America/Chicago  \n",
       "3  America/New_York  \n",
       "4  America/New_York  "
      ]
     },
     "execution_count": 18,
     "metadata": {},
     "output_type": "execute_result"
    }
   ],
   "source": [
    "# Combine the airports datasets\n",
    "data['airports'] = pd.concat(\n",
    "    (data['airports_loc'], data['airports_tz'].drop(['faa', 'name'], 1)),\n",
    "    axis=1\n",
    ")\n",
    "data['airports'].head()"
   ]
  },
  {
   "cell_type": "markdown",
   "metadata": {},
   "source": [
    "There are a few edge-cases we might want to consider."
   ]
  },
  {
   "cell_type": "markdown",
   "metadata": {},
   "source": [
    "What if we don't have matching rows/columns? In this case, the default behaviour is to use missing values to fill any gaps. If however, we specify `join='inner'`, any rows/columns not found in all dataframes will be removed."
   ]
  },
  {
   "cell_type": "markdown",
   "metadata": {},
   "source": [
    "What if we have duplicate columns or indexes? This can result in strange behaviour as this is not the intended use case of `concat`."
   ]
  },
  {
   "cell_type": "markdown",
   "metadata": {},
   "source": [
    "If you find yourself in either of the two situations above, you probably want a join, which we will learn about now."
   ]
  },
  {
   "cell_type": "markdown",
   "metadata": {},
   "source": [
    "> **Further Reading**\n",
    ">\n",
    "> The `pd.concat()` function has a large number of optional parameters for handling special cases and applying post-processing steps. Read [the documentation](https://pandas.pydata.org/pandas-docs/stable/reference/api/pandas.concat.html) to learn more."
   ]
  },
  {
   "cell_type": "markdown",
   "metadata": {},
   "source": [
    "### Merges and Joins"
   ]
  },
  {
   "cell_type": "markdown",
   "metadata": {},
   "source": [
    "Many programming languages and database management systems facilitate the joining of data. This is used when we have two columns in two dataframes that represent the same variable and we intend to use this to combine the data into one table. This differs from concatenation in that there is no expectation that the two columns columns used in the join share the same values or that there are no duplicates. In fact, joins are meant for exactly these two cases."
   ]
  },
  {
   "cell_type": "markdown",
   "metadata": {},
   "source": [
    "We will create two dummy datasets to introduce the concept of joins. These relate to the employees in a fictional company and the sales they made. Notice how Cat made no sales, and sales were made by Dan despite him no longer being an employee."
   ]
  },
  {
   "cell_type": "code",
   "execution_count": 19,
   "metadata": {},
   "outputs": [
    {
     "data": {
      "text/html": [
       "<div>\n",
       "<style scoped>\n",
       "    .dataframe tbody tr th:only-of-type {\n",
       "        vertical-align: middle;\n",
       "    }\n",
       "\n",
       "    .dataframe tbody tr th {\n",
       "        vertical-align: top;\n",
       "    }\n",
       "\n",
       "    .dataframe thead th {\n",
       "        text-align: right;\n",
       "    }\n",
       "</style>\n",
       "<table border=\"1\" class=\"dataframe\">\n",
       "  <thead>\n",
       "    <tr style=\"text-align: right;\">\n",
       "      <th></th>\n",
       "      <th>name</th>\n",
       "      <th>years_exp</th>\n",
       "    </tr>\n",
       "  </thead>\n",
       "  <tbody>\n",
       "    <tr>\n",
       "      <th>0</th>\n",
       "      <td>Ann</td>\n",
       "      <td>4</td>\n",
       "    </tr>\n",
       "    <tr>\n",
       "      <th>1</th>\n",
       "      <td>Bob</td>\n",
       "      <td>2</td>\n",
       "    </tr>\n",
       "    <tr>\n",
       "      <th>2</th>\n",
       "      <td>Cat</td>\n",
       "      <td>1</td>\n",
       "    </tr>\n",
       "  </tbody>\n",
       "</table>\n",
       "</div>"
      ],
      "text/plain": [
       "  name  years_exp\n",
       "0  Ann          4\n",
       "1  Bob          2\n",
       "2  Cat          1"
      ]
     },
     "metadata": {},
     "output_type": "display_data"
    },
    {
     "data": {
      "text/html": [
       "<div>\n",
       "<style scoped>\n",
       "    .dataframe tbody tr th:only-of-type {\n",
       "        vertical-align: middle;\n",
       "    }\n",
       "\n",
       "    .dataframe tbody tr th {\n",
       "        vertical-align: top;\n",
       "    }\n",
       "\n",
       "    .dataframe thead th {\n",
       "        text-align: right;\n",
       "    }\n",
       "</style>\n",
       "<table border=\"1\" class=\"dataframe\">\n",
       "  <thead>\n",
       "    <tr style=\"text-align: right;\">\n",
       "      <th></th>\n",
       "      <th>name</th>\n",
       "      <th>day</th>\n",
       "      <th>value</th>\n",
       "    </tr>\n",
       "  </thead>\n",
       "  <tbody>\n",
       "    <tr>\n",
       "      <th>0</th>\n",
       "      <td>Ann</td>\n",
       "      <td>Mon</td>\n",
       "      <td>5</td>\n",
       "    </tr>\n",
       "    <tr>\n",
       "      <th>1</th>\n",
       "      <td>Bob</td>\n",
       "      <td>Mon</td>\n",
       "      <td>7</td>\n",
       "    </tr>\n",
       "    <tr>\n",
       "      <th>2</th>\n",
       "      <td>Dan</td>\n",
       "      <td>Tue</td>\n",
       "      <td>3</td>\n",
       "    </tr>\n",
       "    <tr>\n",
       "      <th>3</th>\n",
       "      <td>Ann</td>\n",
       "      <td>Wed</td>\n",
       "      <td>8</td>\n",
       "    </tr>\n",
       "    <tr>\n",
       "      <th>4</th>\n",
       "      <td>Dan</td>\n",
       "      <td>Thu</td>\n",
       "      <td>3</td>\n",
       "    </tr>\n",
       "    <tr>\n",
       "      <th>5</th>\n",
       "      <td>Bob</td>\n",
       "      <td>Thu</td>\n",
       "      <td>4</td>\n",
       "    </tr>\n",
       "    <tr>\n",
       "      <th>6</th>\n",
       "      <td>Ann</td>\n",
       "      <td>Fri</td>\n",
       "      <td>8</td>\n",
       "    </tr>\n",
       "  </tbody>\n",
       "</table>\n",
       "</div>"
      ],
      "text/plain": [
       "  name  day  value\n",
       "0  Ann  Mon      5\n",
       "1  Bob  Mon      7\n",
       "2  Dan  Tue      3\n",
       "3  Ann  Wed      8\n",
       "4  Dan  Thu      3\n",
       "5  Bob  Thu      4\n",
       "6  Ann  Fri      8"
      ]
     },
     "metadata": {},
     "output_type": "display_data"
    }
   ],
   "source": [
    "# Create example datasets\n",
    "employee = pd.DataFrame({\n",
    "    'name': [\"Ann\", \"Bob\", \"Cat\"],\n",
    "    'years_exp': [4, 2, 1]\n",
    "})\n",
    "sale = pd.DataFrame({\n",
    "    'name': [\"Ann\", \"Bob\", \"Dan\", \"Ann\", \"Dan\", \"Bob\", \"Ann\"],\n",
    "    'day': [\"Mon\", \"Mon\", \"Tue\", \"Wed\", \"Thu\", \"Thu\", \"Fri\"],\n",
    "    'value': [5, 7, 3, 8, 3, 4, 8]\n",
    "})\n",
    "display(employee)\n",
    "display(sale)"
   ]
  },
  {
   "cell_type": "markdown",
   "metadata": {},
   "source": [
    "The column used to join the two dataframes is referred to as the key, in this case it is the employee name. There are four common types of join that differ in how they handle values that don't appear in one of the key columns:\n",
    "\n",
    "- `inner` (default): keep only rows that have matching key values in both dataframes\n",
    "- `left`: keep only rows for every key value in the left-hand dataframe\n",
    "- `right`: keep only rows for every key value in the right-hand dataframe\n",
    "- `outer`: keep all rows"
   ]
  },
  {
   "cell_type": "markdown",
   "metadata": {},
   "source": [
    "All joins but the inner join can introduce missing values, as we will see in a moment. When we talk about the left/right-hand tables, we are referring to which comes first (left) and second (right) in the function call. Confusingly, Pandas uses the function `merge` to perform what is typically called a `join`. The `join` function performs a similar function which we will see later."
   ]
  },
  {
   "cell_type": "markdown",
   "metadata": {},
   "source": [
    "The simplest join is the inner join, only keeping key values that appeared in both tables. We perform an inner join as so."
   ]
  },
  {
   "cell_type": "code",
   "execution_count": 20,
   "metadata": {},
   "outputs": [
    {
     "data": {
      "text/html": [
       "<div>\n",
       "<style scoped>\n",
       "    .dataframe tbody tr th:only-of-type {\n",
       "        vertical-align: middle;\n",
       "    }\n",
       "\n",
       "    .dataframe tbody tr th {\n",
       "        vertical-align: top;\n",
       "    }\n",
       "\n",
       "    .dataframe thead th {\n",
       "        text-align: right;\n",
       "    }\n",
       "</style>\n",
       "<table border=\"1\" class=\"dataframe\">\n",
       "  <thead>\n",
       "    <tr style=\"text-align: right;\">\n",
       "      <th></th>\n",
       "      <th>name</th>\n",
       "      <th>years_exp</th>\n",
       "      <th>day</th>\n",
       "      <th>value</th>\n",
       "    </tr>\n",
       "  </thead>\n",
       "  <tbody>\n",
       "    <tr>\n",
       "      <th>0</th>\n",
       "      <td>Ann</td>\n",
       "      <td>4</td>\n",
       "      <td>Mon</td>\n",
       "      <td>5</td>\n",
       "    </tr>\n",
       "    <tr>\n",
       "      <th>1</th>\n",
       "      <td>Ann</td>\n",
       "      <td>4</td>\n",
       "      <td>Wed</td>\n",
       "      <td>8</td>\n",
       "    </tr>\n",
       "    <tr>\n",
       "      <th>2</th>\n",
       "      <td>Ann</td>\n",
       "      <td>4</td>\n",
       "      <td>Fri</td>\n",
       "      <td>8</td>\n",
       "    </tr>\n",
       "    <tr>\n",
       "      <th>3</th>\n",
       "      <td>Bob</td>\n",
       "      <td>2</td>\n",
       "      <td>Mon</td>\n",
       "      <td>7</td>\n",
       "    </tr>\n",
       "    <tr>\n",
       "      <th>4</th>\n",
       "      <td>Bob</td>\n",
       "      <td>2</td>\n",
       "      <td>Thu</td>\n",
       "      <td>4</td>\n",
       "    </tr>\n",
       "  </tbody>\n",
       "</table>\n",
       "</div>"
      ],
      "text/plain": [
       "  name  years_exp  day  value\n",
       "0  Ann          4  Mon      5\n",
       "1  Ann          4  Wed      8\n",
       "2  Ann          4  Fri      8\n",
       "3  Bob          2  Mon      7\n",
       "4  Bob          2  Thu      4"
      ]
     },
     "execution_count": 20,
     "metadata": {},
     "output_type": "execute_result"
    }
   ],
   "source": [
    "# Perform an inner join\n",
    "pd.merge(employee, sale, how='inner', on='name')"
   ]
  },
  {
   "cell_type": "markdown",
   "metadata": {},
   "source": [
    "A left join, gives precedence to the left-hand dataframe, keeping all values of its key column. This might involve filling unknown values with `np.nan`s."
   ]
  },
  {
   "cell_type": "code",
   "execution_count": 12,
   "metadata": {},
   "outputs": [
    {
     "data": {
      "text/html": [
       "<div>\n",
       "<style scoped>\n",
       "    .dataframe tbody tr th:only-of-type {\n",
       "        vertical-align: middle;\n",
       "    }\n",
       "\n",
       "    .dataframe tbody tr th {\n",
       "        vertical-align: top;\n",
       "    }\n",
       "\n",
       "    .dataframe thead th {\n",
       "        text-align: right;\n",
       "    }\n",
       "</style>\n",
       "<table border=\"1\" class=\"dataframe\">\n",
       "  <thead>\n",
       "    <tr style=\"text-align: right;\">\n",
       "      <th></th>\n",
       "      <th>name</th>\n",
       "      <th>years_exp</th>\n",
       "      <th>day</th>\n",
       "      <th>value</th>\n",
       "    </tr>\n",
       "  </thead>\n",
       "  <tbody>\n",
       "    <tr>\n",
       "      <th>0</th>\n",
       "      <td>Ann</td>\n",
       "      <td>4</td>\n",
       "      <td>Mon</td>\n",
       "      <td>5.0</td>\n",
       "    </tr>\n",
       "    <tr>\n",
       "      <th>1</th>\n",
       "      <td>Ann</td>\n",
       "      <td>4</td>\n",
       "      <td>Wed</td>\n",
       "      <td>8.0</td>\n",
       "    </tr>\n",
       "    <tr>\n",
       "      <th>2</th>\n",
       "      <td>Ann</td>\n",
       "      <td>4</td>\n",
       "      <td>Fri</td>\n",
       "      <td>8.0</td>\n",
       "    </tr>\n",
       "    <tr>\n",
       "      <th>3</th>\n",
       "      <td>Bob</td>\n",
       "      <td>2</td>\n",
       "      <td>Mon</td>\n",
       "      <td>7.0</td>\n",
       "    </tr>\n",
       "    <tr>\n",
       "      <th>4</th>\n",
       "      <td>Bob</td>\n",
       "      <td>2</td>\n",
       "      <td>Thu</td>\n",
       "      <td>4.0</td>\n",
       "    </tr>\n",
       "    <tr>\n",
       "      <th>5</th>\n",
       "      <td>Cat</td>\n",
       "      <td>1</td>\n",
       "      <td>NaN</td>\n",
       "      <td>NaN</td>\n",
       "    </tr>\n",
       "  </tbody>\n",
       "</table>\n",
       "</div>"
      ],
      "text/plain": [
       "  name  years_exp  day  value\n",
       "0  Ann          4  Mon    5.0\n",
       "1  Ann          4  Wed    8.0\n",
       "2  Ann          4  Fri    8.0\n",
       "3  Bob          2  Mon    7.0\n",
       "4  Bob          2  Thu    4.0\n",
       "5  Cat          1  NaN    NaN"
      ]
     },
     "execution_count": 12,
     "metadata": {},
     "output_type": "execute_result"
    }
   ],
   "source": [
    "# Perform a left join\n",
    "pd.merge(employee, sale, how='left', on='name')"
   ]
  },
  {
   "cell_type": "markdown",
   "metadata": {},
   "source": [
    "A right join has the reverse effect."
   ]
  },
  {
   "cell_type": "code",
   "execution_count": 13,
   "metadata": {},
   "outputs": [
    {
     "data": {
      "text/html": [
       "<div>\n",
       "<style scoped>\n",
       "    .dataframe tbody tr th:only-of-type {\n",
       "        vertical-align: middle;\n",
       "    }\n",
       "\n",
       "    .dataframe tbody tr th {\n",
       "        vertical-align: top;\n",
       "    }\n",
       "\n",
       "    .dataframe thead th {\n",
       "        text-align: right;\n",
       "    }\n",
       "</style>\n",
       "<table border=\"1\" class=\"dataframe\">\n",
       "  <thead>\n",
       "    <tr style=\"text-align: right;\">\n",
       "      <th></th>\n",
       "      <th>name</th>\n",
       "      <th>years_exp</th>\n",
       "      <th>day</th>\n",
       "      <th>value</th>\n",
       "    </tr>\n",
       "  </thead>\n",
       "  <tbody>\n",
       "    <tr>\n",
       "      <th>0</th>\n",
       "      <td>Ann</td>\n",
       "      <td>4.0</td>\n",
       "      <td>Mon</td>\n",
       "      <td>5</td>\n",
       "    </tr>\n",
       "    <tr>\n",
       "      <th>1</th>\n",
       "      <td>Bob</td>\n",
       "      <td>2.0</td>\n",
       "      <td>Mon</td>\n",
       "      <td>7</td>\n",
       "    </tr>\n",
       "    <tr>\n",
       "      <th>2</th>\n",
       "      <td>Dan</td>\n",
       "      <td>NaN</td>\n",
       "      <td>Tue</td>\n",
       "      <td>3</td>\n",
       "    </tr>\n",
       "    <tr>\n",
       "      <th>3</th>\n",
       "      <td>Ann</td>\n",
       "      <td>4.0</td>\n",
       "      <td>Wed</td>\n",
       "      <td>8</td>\n",
       "    </tr>\n",
       "    <tr>\n",
       "      <th>4</th>\n",
       "      <td>Dan</td>\n",
       "      <td>NaN</td>\n",
       "      <td>Thu</td>\n",
       "      <td>3</td>\n",
       "    </tr>\n",
       "    <tr>\n",
       "      <th>5</th>\n",
       "      <td>Bob</td>\n",
       "      <td>2.0</td>\n",
       "      <td>Thu</td>\n",
       "      <td>4</td>\n",
       "    </tr>\n",
       "    <tr>\n",
       "      <th>6</th>\n",
       "      <td>Ann</td>\n",
       "      <td>4.0</td>\n",
       "      <td>Fri</td>\n",
       "      <td>8</td>\n",
       "    </tr>\n",
       "  </tbody>\n",
       "</table>\n",
       "</div>"
      ],
      "text/plain": [
       "  name  years_exp  day  value\n",
       "0  Ann        4.0  Mon      5\n",
       "1  Bob        2.0  Mon      7\n",
       "2  Dan        NaN  Tue      3\n",
       "3  Ann        4.0  Wed      8\n",
       "4  Dan        NaN  Thu      3\n",
       "5  Bob        2.0  Thu      4\n",
       "6  Ann        4.0  Fri      8"
      ]
     },
     "execution_count": 13,
     "metadata": {},
     "output_type": "execute_result"
    }
   ],
   "source": [
    "# Perform a right join\n",
    "pd.merge(employee, sale, how='right', on='name')"
   ]
  },
  {
   "cell_type": "markdown",
   "metadata": {},
   "source": [
    "An outer join (also called a full/full outer join) is the most lenient, including any key value that appears in either table."
   ]
  },
  {
   "cell_type": "code",
   "execution_count": 14,
   "metadata": {},
   "outputs": [
    {
     "data": {
      "text/html": [
       "<div>\n",
       "<style scoped>\n",
       "    .dataframe tbody tr th:only-of-type {\n",
       "        vertical-align: middle;\n",
       "    }\n",
       "\n",
       "    .dataframe tbody tr th {\n",
       "        vertical-align: top;\n",
       "    }\n",
       "\n",
       "    .dataframe thead th {\n",
       "        text-align: right;\n",
       "    }\n",
       "</style>\n",
       "<table border=\"1\" class=\"dataframe\">\n",
       "  <thead>\n",
       "    <tr style=\"text-align: right;\">\n",
       "      <th></th>\n",
       "      <th>name</th>\n",
       "      <th>years_exp</th>\n",
       "      <th>day</th>\n",
       "      <th>value</th>\n",
       "    </tr>\n",
       "  </thead>\n",
       "  <tbody>\n",
       "    <tr>\n",
       "      <th>0</th>\n",
       "      <td>Ann</td>\n",
       "      <td>4.0</td>\n",
       "      <td>Mon</td>\n",
       "      <td>5.0</td>\n",
       "    </tr>\n",
       "    <tr>\n",
       "      <th>1</th>\n",
       "      <td>Ann</td>\n",
       "      <td>4.0</td>\n",
       "      <td>Wed</td>\n",
       "      <td>8.0</td>\n",
       "    </tr>\n",
       "    <tr>\n",
       "      <th>2</th>\n",
       "      <td>Ann</td>\n",
       "      <td>4.0</td>\n",
       "      <td>Fri</td>\n",
       "      <td>8.0</td>\n",
       "    </tr>\n",
       "    <tr>\n",
       "      <th>3</th>\n",
       "      <td>Bob</td>\n",
       "      <td>2.0</td>\n",
       "      <td>Mon</td>\n",
       "      <td>7.0</td>\n",
       "    </tr>\n",
       "    <tr>\n",
       "      <th>4</th>\n",
       "      <td>Bob</td>\n",
       "      <td>2.0</td>\n",
       "      <td>Thu</td>\n",
       "      <td>4.0</td>\n",
       "    </tr>\n",
       "    <tr>\n",
       "      <th>5</th>\n",
       "      <td>Cat</td>\n",
       "      <td>1.0</td>\n",
       "      <td>NaN</td>\n",
       "      <td>NaN</td>\n",
       "    </tr>\n",
       "    <tr>\n",
       "      <th>6</th>\n",
       "      <td>Dan</td>\n",
       "      <td>NaN</td>\n",
       "      <td>Tue</td>\n",
       "      <td>3.0</td>\n",
       "    </tr>\n",
       "    <tr>\n",
       "      <th>7</th>\n",
       "      <td>Dan</td>\n",
       "      <td>NaN</td>\n",
       "      <td>Thu</td>\n",
       "      <td>3.0</td>\n",
       "    </tr>\n",
       "  </tbody>\n",
       "</table>\n",
       "</div>"
      ],
      "text/plain": [
       "  name  years_exp  day  value\n",
       "0  Ann        4.0  Mon    5.0\n",
       "1  Ann        4.0  Wed    8.0\n",
       "2  Ann        4.0  Fri    8.0\n",
       "3  Bob        2.0  Mon    7.0\n",
       "4  Bob        2.0  Thu    4.0\n",
       "5  Cat        1.0  NaN    NaN\n",
       "6  Dan        NaN  Tue    3.0\n",
       "7  Dan        NaN  Thu    3.0"
      ]
     },
     "execution_count": 14,
     "metadata": {},
     "output_type": "execute_result"
    }
   ],
   "source": [
    "# Perform an outer join\n",
    "pd.merge(employee, sale, how='outer', on='name')"
   ]
  },
  {
   "cell_type": "markdown",
   "metadata": {},
   "source": [
    "In this session, we don't have to time to explain why we store data in a format that requires joining or why we would choose one join type over another. We will instead discuss this in the project sessions with a practical example."
   ]
  },
  {
   "cell_type": "markdown",
   "metadata": {},
   "source": [
    "In the case when our key columns have different names, we use `left_on` and `right_on` instead of the single `on`."
   ]
  },
  {
   "cell_type": "markdown",
   "metadata": {},
   "source": [
    "A join in Pandas is used when we want to join the index of one dataframe with a column or index from another. Essentially, it is a more restrictive version of `merge` (which can also use indices—check [the docs](https://pandas.pydata.org/pandas-docs/stable/reference/api/pandas.DataFrame.merge.html)), enjoying more efficiency in return. Since `merge` encompasses this functionality, we will look at one example and then move on. Feel free to read up more on `join` if you are keen to use best practice."
   ]
  },
  {
   "cell_type": "code",
   "execution_count": 21,
   "metadata": {},
   "outputs": [
    {
     "data": {
      "text/html": [
       "<div>\n",
       "<style scoped>\n",
       "    .dataframe tbody tr th:only-of-type {\n",
       "        vertical-align: middle;\n",
       "    }\n",
       "\n",
       "    .dataframe tbody tr th {\n",
       "        vertical-align: top;\n",
       "    }\n",
       "\n",
       "    .dataframe thead th {\n",
       "        text-align: right;\n",
       "    }\n",
       "</style>\n",
       "<table border=\"1\" class=\"dataframe\">\n",
       "  <thead>\n",
       "    <tr style=\"text-align: right;\">\n",
       "      <th></th>\n",
       "      <th>years_exp</th>\n",
       "    </tr>\n",
       "    <tr>\n",
       "      <th>name</th>\n",
       "      <th></th>\n",
       "    </tr>\n",
       "  </thead>\n",
       "  <tbody>\n",
       "    <tr>\n",
       "      <th>Ann</th>\n",
       "      <td>4</td>\n",
       "    </tr>\n",
       "    <tr>\n",
       "      <th>Bob</th>\n",
       "      <td>2</td>\n",
       "    </tr>\n",
       "    <tr>\n",
       "      <th>Cat</th>\n",
       "      <td>1</td>\n",
       "    </tr>\n",
       "  </tbody>\n",
       "</table>\n",
       "</div>"
      ],
      "text/plain": [
       "      years_exp\n",
       "name           \n",
       "Ann           4\n",
       "Bob           2\n",
       "Cat           1"
      ]
     },
     "execution_count": 21,
     "metadata": {},
     "output_type": "execute_result"
    }
   ],
   "source": [
    "# Convert name column to an index\n",
    "employee_index = employee.set_index('name')\n",
    "employee_index"
   ]
  },
  {
   "cell_type": "code",
   "execution_count": 16,
   "metadata": {},
   "outputs": [
    {
     "data": {
      "text/html": [
       "<div>\n",
       "<style scoped>\n",
       "    .dataframe tbody tr th:only-of-type {\n",
       "        vertical-align: middle;\n",
       "    }\n",
       "\n",
       "    .dataframe tbody tr th {\n",
       "        vertical-align: top;\n",
       "    }\n",
       "\n",
       "    .dataframe thead th {\n",
       "        text-align: right;\n",
       "    }\n",
       "</style>\n",
       "<table border=\"1\" class=\"dataframe\">\n",
       "  <thead>\n",
       "    <tr style=\"text-align: right;\">\n",
       "      <th></th>\n",
       "      <th>name</th>\n",
       "      <th>day</th>\n",
       "      <th>value</th>\n",
       "      <th>years_exp</th>\n",
       "    </tr>\n",
       "  </thead>\n",
       "  <tbody>\n",
       "    <tr>\n",
       "      <th>0</th>\n",
       "      <td>Ann</td>\n",
       "      <td>Mon</td>\n",
       "      <td>5</td>\n",
       "      <td>4.0</td>\n",
       "    </tr>\n",
       "    <tr>\n",
       "      <th>1</th>\n",
       "      <td>Bob</td>\n",
       "      <td>Mon</td>\n",
       "      <td>7</td>\n",
       "      <td>2.0</td>\n",
       "    </tr>\n",
       "    <tr>\n",
       "      <th>2</th>\n",
       "      <td>Dan</td>\n",
       "      <td>Tue</td>\n",
       "      <td>3</td>\n",
       "      <td>NaN</td>\n",
       "    </tr>\n",
       "    <tr>\n",
       "      <th>3</th>\n",
       "      <td>Ann</td>\n",
       "      <td>Wed</td>\n",
       "      <td>8</td>\n",
       "      <td>4.0</td>\n",
       "    </tr>\n",
       "    <tr>\n",
       "      <th>4</th>\n",
       "      <td>Dan</td>\n",
       "      <td>Thu</td>\n",
       "      <td>3</td>\n",
       "      <td>NaN</td>\n",
       "    </tr>\n",
       "    <tr>\n",
       "      <th>5</th>\n",
       "      <td>Bob</td>\n",
       "      <td>Thu</td>\n",
       "      <td>4</td>\n",
       "      <td>2.0</td>\n",
       "    </tr>\n",
       "    <tr>\n",
       "      <th>6</th>\n",
       "      <td>Ann</td>\n",
       "      <td>Fri</td>\n",
       "      <td>8</td>\n",
       "      <td>4.0</td>\n",
       "    </tr>\n",
       "  </tbody>\n",
       "</table>\n",
       "</div>"
      ],
      "text/plain": [
       "  name  day  value  years_exp\n",
       "0  Ann  Mon      5        4.0\n",
       "1  Bob  Mon      7        2.0\n",
       "2  Dan  Tue      3        NaN\n",
       "3  Ann  Wed      8        4.0\n",
       "4  Dan  Thu      3        NaN\n",
       "5  Bob  Thu      4        2.0\n",
       "6  Ann  Fri      8        4.0"
      ]
     },
     "execution_count": 16,
     "metadata": {},
     "output_type": "execute_result"
    }
   ],
   "source": [
    "# Perform a join using the index\n",
    "sale.join(employee_index, on='name')  # default is 'left'"
   ]
  },
  {
   "cell_type": "markdown",
   "metadata": {},
   "source": [
    "> **Going Beyond**\n",
    ">\n",
    "> We've only just scratched the surface of what Pandas joins and merges can do. Here are a few extra ideas for you to play with:\n",
    ">\n",
    "> - We can join by a key composed of multiple columns by using a list of column names for `on`, `left_on`, `right_on`\n",
    "> - We can also write `pd.merge(df1, df2, ...)` as `df1.merge(df2, ...)`\n",
    "> - There is another type of join called a cross-join used for creating all combinations of keys\n",
    "> - When dataframes have overlapping column names, suffixes are applied to each, which can be specified using the `suffixes` parameter"
   ]
  },
  {
   "cell_type": "markdown",
   "metadata": {},
   "source": [
    "> **Trouble About**\n",
    ">\n",
    "> You may have noticed that the above solution breaks down if we have two employees with the same name. In this case, we need unique identifiers (UIDs). More on this in WDSS's SQL for Scientists, coming soon."
   ]
  },
  {
   "cell_type": "markdown",
   "metadata": {},
   "source": [
    "### Filtering Joins"
   ]
  },
  {
   "cell_type": "markdown",
   "metadata": {},
   "source": [
    "The joins above are known as mutating joins, as they mutate the structure of the dataframes. Another type of join is the filtering join. This is where we filter one dataframe using a key column based on the presence of values in another dataframe's corresponding key column. \n",
    "\n",
    "Whereas languages such as R have dedicated functions for this, Pandas is optimised enough to use `.isin()` and `.unique()`."
   ]
  },
  {
   "cell_type": "markdown",
   "metadata": {},
   "source": [
    "An semi-join is where we only include rows with key values that can be found in the other dataset."
   ]
  },
  {
   "cell_type": "code",
   "execution_count": 22,
   "metadata": {},
   "outputs": [
    {
     "data": {
      "text/html": [
       "<div>\n",
       "<style scoped>\n",
       "    .dataframe tbody tr th:only-of-type {\n",
       "        vertical-align: middle;\n",
       "    }\n",
       "\n",
       "    .dataframe tbody tr th {\n",
       "        vertical-align: top;\n",
       "    }\n",
       "\n",
       "    .dataframe thead th {\n",
       "        text-align: right;\n",
       "    }\n",
       "</style>\n",
       "<table border=\"1\" class=\"dataframe\">\n",
       "  <thead>\n",
       "    <tr style=\"text-align: right;\">\n",
       "      <th></th>\n",
       "      <th>name</th>\n",
       "      <th>years_exp</th>\n",
       "    </tr>\n",
       "  </thead>\n",
       "  <tbody>\n",
       "    <tr>\n",
       "      <th>0</th>\n",
       "      <td>Ann</td>\n",
       "      <td>4</td>\n",
       "    </tr>\n",
       "    <tr>\n",
       "      <th>1</th>\n",
       "      <td>Bob</td>\n",
       "      <td>2</td>\n",
       "    </tr>\n",
       "  </tbody>\n",
       "</table>\n",
       "</div>"
      ],
      "text/plain": [
       "  name  years_exp\n",
       "0  Ann          4\n",
       "1  Bob          2"
      ]
     },
     "execution_count": 22,
     "metadata": {},
     "output_type": "execute_result"
    }
   ],
   "source": [
    "# Perform a semi-join\n",
    "employee[employee.name.isin(sale.name.unique())]"
   ]
  },
  {
   "cell_type": "markdown",
   "metadata": {},
   "source": [
    "An anti-join is the reverse, keeping only rows that _don't_ match."
   ]
  },
  {
   "cell_type": "code",
   "execution_count": 18,
   "metadata": {},
   "outputs": [
    {
     "data": {
      "text/html": [
       "<div>\n",
       "<style scoped>\n",
       "    .dataframe tbody tr th:only-of-type {\n",
       "        vertical-align: middle;\n",
       "    }\n",
       "\n",
       "    .dataframe tbody tr th {\n",
       "        vertical-align: top;\n",
       "    }\n",
       "\n",
       "    .dataframe thead th {\n",
       "        text-align: right;\n",
       "    }\n",
       "</style>\n",
       "<table border=\"1\" class=\"dataframe\">\n",
       "  <thead>\n",
       "    <tr style=\"text-align: right;\">\n",
       "      <th></th>\n",
       "      <th>name</th>\n",
       "      <th>years_exp</th>\n",
       "    </tr>\n",
       "  </thead>\n",
       "  <tbody>\n",
       "    <tr>\n",
       "      <th>2</th>\n",
       "      <td>Cat</td>\n",
       "      <td>1</td>\n",
       "    </tr>\n",
       "  </tbody>\n",
       "</table>\n",
       "</div>"
      ],
      "text/plain": [
       "  name  years_exp\n",
       "2  Cat          1"
      ]
     },
     "execution_count": 18,
     "metadata": {},
     "output_type": "execute_result"
    }
   ],
   "source": [
    "# Perform an anti-join\n",
    "employee[~employee.name.isin(sale.name.unique())]"
   ]
  },
  {
   "cell_type": "markdown",
   "metadata": {},
   "source": [
    "## Missing Values"
   ]
  },
  {
   "cell_type": "markdown",
   "metadata": {},
   "source": [
    "You will have noticed above that join operations can introduce missing values, denoted as `NaN`. These also commonly arise in real-world datasets, either because we are missing data or because data was invalid. It is important to be able to find missing values and handle them appropriately. To learn more about missing values, we will work with the `adult` dataset, which contains information about various US adults and their income level. You can download this dataset from the [session webpage](https://education.wdss.io/python-for-data-science/session-four/). The dataset contains many missing values which are marked with a \"?\"."
   ]
  },
  {
   "cell_type": "code",
   "execution_count": 23,
   "metadata": {},
   "outputs": [],
   "source": [
    "# Column names not included in dataset so we add them manually\n",
    "column_names = (\n",
    "    'age', 'workclass', 'fnlwgt', 'education', 'education-num', \n",
    "    'marital-status', 'occupation', 'relationship', 'race', 'sex',\n",
    "    'capital-gain', 'capital-loss', 'hours-per-week', 'native-country',\n",
    "    'income'\n",
    ")\n",
    "adult = pd.read_csv('data/adult.csv', names=column_names, na_values='?')\n",
    "# Drop unnecessary columns\n",
    "adult = adult.drop(['fnlwgt', 'education'], axis=1)"
   ]
  },
  {
   "cell_type": "code",
   "execution_count": 24,
   "metadata": {},
   "outputs": [
    {
     "data": {
      "text/html": [
       "<div>\n",
       "<style scoped>\n",
       "    .dataframe tbody tr th:only-of-type {\n",
       "        vertical-align: middle;\n",
       "    }\n",
       "\n",
       "    .dataframe tbody tr th {\n",
       "        vertical-align: top;\n",
       "    }\n",
       "\n",
       "    .dataframe thead th {\n",
       "        text-align: right;\n",
       "    }\n",
       "</style>\n",
       "<table border=\"1\" class=\"dataframe\">\n",
       "  <thead>\n",
       "    <tr style=\"text-align: right;\">\n",
       "      <th></th>\n",
       "      <th>age</th>\n",
       "      <th>workclass</th>\n",
       "      <th>education-num</th>\n",
       "      <th>marital-status</th>\n",
       "      <th>occupation</th>\n",
       "      <th>relationship</th>\n",
       "      <th>race</th>\n",
       "      <th>sex</th>\n",
       "      <th>capital-gain</th>\n",
       "      <th>capital-loss</th>\n",
       "      <th>hours-per-week</th>\n",
       "      <th>native-country</th>\n",
       "      <th>income</th>\n",
       "    </tr>\n",
       "  </thead>\n",
       "  <tbody>\n",
       "    <tr>\n",
       "      <th>0</th>\n",
       "      <td>39.0</td>\n",
       "      <td>State-gov</td>\n",
       "      <td>13</td>\n",
       "      <td>Never-married</td>\n",
       "      <td>Adm-clerical</td>\n",
       "      <td>Not-in-family</td>\n",
       "      <td>White</td>\n",
       "      <td>Male</td>\n",
       "      <td>2174</td>\n",
       "      <td>0</td>\n",
       "      <td>40</td>\n",
       "      <td>United-States</td>\n",
       "      <td>&lt;=50K</td>\n",
       "    </tr>\n",
       "    <tr>\n",
       "      <th>1</th>\n",
       "      <td>50.0</td>\n",
       "      <td>Self-emp-not-inc</td>\n",
       "      <td>13</td>\n",
       "      <td>Married-civ-spouse</td>\n",
       "      <td>Exec-managerial</td>\n",
       "      <td>Husband</td>\n",
       "      <td>White</td>\n",
       "      <td>Male</td>\n",
       "      <td>0</td>\n",
       "      <td>0</td>\n",
       "      <td>13</td>\n",
       "      <td>United-States</td>\n",
       "      <td>&lt;=50K</td>\n",
       "    </tr>\n",
       "    <tr>\n",
       "      <th>2</th>\n",
       "      <td>38.0</td>\n",
       "      <td>Private</td>\n",
       "      <td>9</td>\n",
       "      <td>Divorced</td>\n",
       "      <td>Handlers-cleaners</td>\n",
       "      <td>Not-in-family</td>\n",
       "      <td>White</td>\n",
       "      <td>Male</td>\n",
       "      <td>0</td>\n",
       "      <td>0</td>\n",
       "      <td>40</td>\n",
       "      <td>United-States</td>\n",
       "      <td>&lt;=50K</td>\n",
       "    </tr>\n",
       "    <tr>\n",
       "      <th>3</th>\n",
       "      <td>53.0</td>\n",
       "      <td>Private</td>\n",
       "      <td>7</td>\n",
       "      <td>Married-civ-spouse</td>\n",
       "      <td>Handlers-cleaners</td>\n",
       "      <td>Husband</td>\n",
       "      <td>Black</td>\n",
       "      <td>Male</td>\n",
       "      <td>0</td>\n",
       "      <td>0</td>\n",
       "      <td>40</td>\n",
       "      <td>United-States</td>\n",
       "      <td>&lt;=50K</td>\n",
       "    </tr>\n",
       "    <tr>\n",
       "      <th>4</th>\n",
       "      <td>28.0</td>\n",
       "      <td>Private</td>\n",
       "      <td>13</td>\n",
       "      <td>Married-civ-spouse</td>\n",
       "      <td>Prof-specialty</td>\n",
       "      <td>Wife</td>\n",
       "      <td>Black</td>\n",
       "      <td>Female</td>\n",
       "      <td>0</td>\n",
       "      <td>0</td>\n",
       "      <td>40</td>\n",
       "      <td>Cuba</td>\n",
       "      <td>&lt;=50K</td>\n",
       "    </tr>\n",
       "  </tbody>\n",
       "</table>\n",
       "</div>"
      ],
      "text/plain": [
       "    age         workclass  education-num      marital-status  \\\n",
       "0  39.0         State-gov             13       Never-married   \n",
       "1  50.0  Self-emp-not-inc             13  Married-civ-spouse   \n",
       "2  38.0           Private              9            Divorced   \n",
       "3  53.0           Private              7  Married-civ-spouse   \n",
       "4  28.0           Private             13  Married-civ-spouse   \n",
       "\n",
       "          occupation   relationship   race     sex  capital-gain  \\\n",
       "0       Adm-clerical  Not-in-family  White    Male          2174   \n",
       "1    Exec-managerial        Husband  White    Male             0   \n",
       "2  Handlers-cleaners  Not-in-family  White    Male             0   \n",
       "3  Handlers-cleaners        Husband  Black    Male             0   \n",
       "4     Prof-specialty           Wife  Black  Female             0   \n",
       "\n",
       "   capital-loss  hours-per-week native-country income  \n",
       "0             0              40  United-States  <=50K  \n",
       "1             0              13  United-States  <=50K  \n",
       "2             0              40  United-States  <=50K  \n",
       "3             0              40  United-States  <=50K  \n",
       "4             0              40           Cuba  <=50K  "
      ]
     },
     "execution_count": 24,
     "metadata": {},
     "output_type": "execute_result"
    }
   ],
   "source": [
    "adult.head()"
   ]
  },
  {
   "cell_type": "markdown",
   "metadata": {},
   "source": [
    "### Finding and Removing Missing Values"
   ]
  },
  {
   "cell_type": "markdown",
   "metadata": {},
   "source": [
    "First we ask how we can find missing values. We do this using the `isna()` method. This returns a Boolean dataframe the same size as the original, with `True` entries wherever the original data was missing. We can then use our usual aggregations to ask questions about the missing values."
   ]
  },
  {
   "cell_type": "code",
   "execution_count": 26,
   "metadata": {},
   "outputs": [
    {
     "data": {
      "text/plain": [
       "age               0.000041\n",
       "workclass         0.057307\n",
       "education-num     0.000000\n",
       "marital-status    0.000000\n",
       "occupation        0.057512\n",
       "relationship      0.000000\n",
       "race              0.000000\n",
       "sex               0.000000\n",
       "capital-gain      0.000000\n",
       "capital-loss      0.000000\n",
       "hours-per-week    0.000000\n",
       "native-country    0.017546\n",
       "income            0.000000\n",
       "dtype: float64"
      ]
     },
     "execution_count": 26,
     "metadata": {},
     "output_type": "execute_result"
    }
   ],
   "source": [
    "# What proportion of each column is missing?\n",
    "adult.isna().mean()"
   ]
  },
  {
   "cell_type": "code",
   "execution_count": 27,
   "metadata": {},
   "outputs": [
    {
     "data": {
      "text/html": [
       "<div>\n",
       "<style scoped>\n",
       "    .dataframe tbody tr th:only-of-type {\n",
       "        vertical-align: middle;\n",
       "    }\n",
       "\n",
       "    .dataframe tbody tr th {\n",
       "        vertical-align: top;\n",
       "    }\n",
       "\n",
       "    .dataframe thead th {\n",
       "        text-align: right;\n",
       "    }\n",
       "</style>\n",
       "<table border=\"1\" class=\"dataframe\">\n",
       "  <thead>\n",
       "    <tr style=\"text-align: right;\">\n",
       "      <th></th>\n",
       "      <th>age</th>\n",
       "      <th>workclass</th>\n",
       "      <th>education-num</th>\n",
       "      <th>marital-status</th>\n",
       "      <th>occupation</th>\n",
       "      <th>relationship</th>\n",
       "      <th>race</th>\n",
       "      <th>sex</th>\n",
       "      <th>capital-gain</th>\n",
       "      <th>capital-loss</th>\n",
       "      <th>hours-per-week</th>\n",
       "      <th>native-country</th>\n",
       "      <th>income</th>\n",
       "    </tr>\n",
       "  </thead>\n",
       "  <tbody>\n",
       "    <tr>\n",
       "      <th>61</th>\n",
       "      <td>32.0</td>\n",
       "      <td>NaN</td>\n",
       "      <td>4</td>\n",
       "      <td>Married-spouse-absent</td>\n",
       "      <td>NaN</td>\n",
       "      <td>Not-in-family</td>\n",
       "      <td>White</td>\n",
       "      <td>Male</td>\n",
       "      <td>0</td>\n",
       "      <td>0</td>\n",
       "      <td>40</td>\n",
       "      <td>NaN</td>\n",
       "      <td>&lt;=50K</td>\n",
       "    </tr>\n",
       "  </tbody>\n",
       "</table>\n",
       "</div>"
      ],
      "text/plain": [
       "     age workclass  education-num         marital-status occupation  \\\n",
       "61  32.0       NaN              4  Married-spouse-absent        NaN   \n",
       "\n",
       "     relationship   race   sex  capital-gain  capital-loss  hours-per-week  \\\n",
       "61  Not-in-family  White  Male             0             0              40   \n",
       "\n",
       "   native-country income  \n",
       "61            NaN  <=50K  "
      ]
     },
     "execution_count": 27,
     "metadata": {},
     "output_type": "execute_result"
    }
   ],
   "source": [
    "# Which row has the most missing values? Print it out\n",
    "r = adult.isna().sum(axis=1).argmax()\n",
    "adult.iloc[[r]]"
   ]
  },
  {
   "cell_type": "markdown",
   "metadata": {},
   "source": [
    "The most aggressive method of handling missing values is to either drop columns or rows with missing values. This can be done using the `dropna` method, specifying the axis to specify if we wish to remove rows (`0`, the default) or columns (`1`). By default, rows/columns with any missing values are removed but by modifying the parameters this can be changed to all missing or a above a certain number. Read more in [the docs](https://pandas.pydata.org/pandas-docs/stable/reference/api/pandas.DataFrame.dropna.html)."
   ]
  },
  {
   "cell_type": "code",
   "execution_count": 28,
   "metadata": {},
   "outputs": [
    {
     "name": "stdout",
     "output_type": "stream",
     "text": [
      "Number of rows before: 48842\n",
      "Number of rows before: 45220\n"
     ]
    }
   ],
   "source": [
    "# Drop all rows with missing values from `adult` and report the change in size\n",
    "print(\"Number of rows before:\", adult.shape[0])\n",
    "adult_dropna = adult.dropna()\n",
    "print(\"Number of rows before:\", adult_dropna.shape[0])"
   ]
  },
  {
   "cell_type": "markdown",
   "metadata": {},
   "source": [
    "In some cases, we know what value a missing value represents. For example, when we performed a left join before."
   ]
  },
  {
   "cell_type": "code",
   "execution_count": 29,
   "metadata": {},
   "outputs": [
    {
     "data": {
      "text/html": [
       "<div>\n",
       "<style scoped>\n",
       "    .dataframe tbody tr th:only-of-type {\n",
       "        vertical-align: middle;\n",
       "    }\n",
       "\n",
       "    .dataframe tbody tr th {\n",
       "        vertical-align: top;\n",
       "    }\n",
       "\n",
       "    .dataframe thead th {\n",
       "        text-align: right;\n",
       "    }\n",
       "</style>\n",
       "<table border=\"1\" class=\"dataframe\">\n",
       "  <thead>\n",
       "    <tr style=\"text-align: right;\">\n",
       "      <th></th>\n",
       "      <th>name</th>\n",
       "      <th>years_exp</th>\n",
       "      <th>day</th>\n",
       "      <th>value</th>\n",
       "    </tr>\n",
       "  </thead>\n",
       "  <tbody>\n",
       "    <tr>\n",
       "      <th>0</th>\n",
       "      <td>Ann</td>\n",
       "      <td>4</td>\n",
       "      <td>Mon</td>\n",
       "      <td>5.0</td>\n",
       "    </tr>\n",
       "    <tr>\n",
       "      <th>1</th>\n",
       "      <td>Ann</td>\n",
       "      <td>4</td>\n",
       "      <td>Wed</td>\n",
       "      <td>8.0</td>\n",
       "    </tr>\n",
       "    <tr>\n",
       "      <th>2</th>\n",
       "      <td>Ann</td>\n",
       "      <td>4</td>\n",
       "      <td>Fri</td>\n",
       "      <td>8.0</td>\n",
       "    </tr>\n",
       "    <tr>\n",
       "      <th>3</th>\n",
       "      <td>Bob</td>\n",
       "      <td>2</td>\n",
       "      <td>Mon</td>\n",
       "      <td>7.0</td>\n",
       "    </tr>\n",
       "    <tr>\n",
       "      <th>4</th>\n",
       "      <td>Bob</td>\n",
       "      <td>2</td>\n",
       "      <td>Thu</td>\n",
       "      <td>4.0</td>\n",
       "    </tr>\n",
       "    <tr>\n",
       "      <th>5</th>\n",
       "      <td>Cat</td>\n",
       "      <td>1</td>\n",
       "      <td>NaN</td>\n",
       "      <td>NaN</td>\n",
       "    </tr>\n",
       "  </tbody>\n",
       "</table>\n",
       "</div>"
      ],
      "text/plain": [
       "  name  years_exp  day  value\n",
       "0  Ann          4  Mon    5.0\n",
       "1  Ann          4  Wed    8.0\n",
       "2  Ann          4  Fri    8.0\n",
       "3  Bob          2  Mon    7.0\n",
       "4  Bob          2  Thu    4.0\n",
       "5  Cat          1  NaN    NaN"
      ]
     },
     "execution_count": 29,
     "metadata": {},
     "output_type": "execute_result"
    }
   ],
   "source": [
    "employeed_sales = pd.merge(employee, sale, how='left', on='name')\n",
    "employeed_sales"
   ]
  },
  {
   "cell_type": "markdown",
   "metadata": {},
   "source": [
    "Here, absence from the sales table implies that no sales were made and so we can replace missing values in the `value` column with `0`. We do this using the `fillna()` method. This can be applied to the entire dataframe or just one series. The method can do complex fills such as back-filling and padding, but we will look at the simplest case when we pass in a single number to fill missing values with. You can read about the other options [here](https://pandas.pydata.org/pandas-docs/stable/reference/api/pandas.DataFrame.fillna.html)."
   ]
  },
  {
   "cell_type": "code",
   "execution_count": 30,
   "metadata": {},
   "outputs": [
    {
     "data": {
      "text/plain": [
       "name\n",
       "Ann    21.0\n",
       "Bob    11.0\n",
       "Cat     0.0\n",
       "Name: value, dtype: float64"
      ]
     },
     "execution_count": 30,
     "metadata": {},
     "output_type": "execute_result"
    }
   ],
   "source": [
    "# How much did each employee make in sales?\n",
    "employeed_sales.value.fillna(0)\n",
    "employeed_sales.groupby('name').value.sum()"
   ]
  },
  {
   "cell_type": "markdown",
   "metadata": {},
   "source": [
    "### Imputation"
   ]
  },
  {
   "cell_type": "markdown",
   "metadata": {},
   "source": [
    "The two methods of handling missing values above are rather heavy handed. Instead, we may wish to use a predictive approach. This is known as imputation, and is where we guess sensible values of the missing fields. In advanced cases, this may involve using the known features to predict the missing ones, but we'll focus on a simpler case in which we fill missing values based on the non-missing values in the same column."
   ]
  },
  {
   "cell_type": "markdown",
   "metadata": {},
   "source": [
    "When dealing with missing values in continuous columns it makes the some sense to fill these values with the column mean or median."
   ]
  },
  {
   "cell_type": "code",
   "execution_count": 33,
   "metadata": {},
   "outputs": [],
   "source": [
    "# Fill missing ages with the median age\n",
    "adult.age = adult.age.fillna(adult.age.median())"
   ]
  },
  {
   "cell_type": "markdown",
   "metadata": {},
   "source": [
    "For discrete variables, these may give nonsensical results, so it is often better to use the column mode (most common value). We calculate this using the `value_counts()` method before extracting the first index."
   ]
  },
  {
   "cell_type": "code",
   "execution_count": 38,
   "metadata": {},
   "outputs": [
    {
     "name": "stdout",
     "output_type": "stream",
     "text": [
      "Modal country: United-States\n"
     ]
    }
   ],
   "source": [
    "# Fill missing countries with modal country\n",
    "modal_country = adult['native-country'].value_counts().index[0]\n",
    "print(\"Modal country:\", modal_country)\n",
    "adult['native-country'] = adult['native-country'].fillna(modal_country)"
   ]
  },
  {
   "cell_type": "markdown",
   "metadata": {},
   "source": [
    "> For a deeper discussion on how to handle missing values, check out [episode 5](https://youtu.be/BIoFwGl2Vtc?t=1150) of WDSS's podcast [DataBasic](https://podcast.wdss.io/)."
   ]
  },
  {
   "cell_type": "markdown",
   "metadata": {},
   "source": [
    "## Reshaping Data"
   ]
  },
  {
   "cell_type": "markdown",
   "metadata": {},
   "source": [
    "It is often the case that we have the correct data but in the wrong shape. In this section we will learn how to reshape data from one form to another. This is an especially important skill if you often work with data stored in Excel, as the free-form nature of spreadsheets can often encourage peculiar data structures."
   ]
  },
  {
   "cell_type": "markdown",
   "metadata": {},
   "source": [
    "We do not have the time in this course to go into detail about the pros and cons of various dataframe shapes. Instead, I strongly recommend you watch 4:25–36:42 of [session four](https://youtu.be/_1vSZ1NMgNI?t=265) from WDSS's 'Into the Tidyverse' course. The teaching is in R but the ideas presented about 'tidy' data are language agnostic and of much importance. Pandas does not take the principles of tidy data as strictly as in R's tidyverse, but they are still crucial to be aware of."
   ]
  },
  {
   "cell_type": "markdown",
   "metadata": {},
   "source": [
    "### Transposition"
   ]
  },
  {
   "cell_type": "markdown",
   "metadata": {},
   "source": [
    "The simplest reshaping method is transposition. This involves swapping the columns and rows of our dataset, flipping the entire table along its diagonal. We do this using the `.transpose()` method (which copies by reference). We will create a mock dataframe below in which it would be sensible to perform a transposition."
   ]
  },
  {
   "cell_type": "code",
   "execution_count": 40,
   "metadata": {},
   "outputs": [
    {
     "data": {
      "text/html": [
       "<div>\n",
       "<style scoped>\n",
       "    .dataframe tbody tr th:only-of-type {\n",
       "        vertical-align: middle;\n",
       "    }\n",
       "\n",
       "    .dataframe tbody tr th {\n",
       "        vertical-align: top;\n",
       "    }\n",
       "\n",
       "    .dataframe thead th {\n",
       "        text-align: right;\n",
       "    }\n",
       "</style>\n",
       "<table border=\"1\" class=\"dataframe\">\n",
       "  <thead>\n",
       "    <tr style=\"text-align: right;\">\n",
       "      <th></th>\n",
       "      <th>2016</th>\n",
       "      <th>2017</th>\n",
       "      <th>2018</th>\n",
       "      <th>2019</th>\n",
       "    </tr>\n",
       "  </thead>\n",
       "  <tbody>\n",
       "    <tr>\n",
       "      <th>rainfall</th>\n",
       "      <td>16.00</td>\n",
       "      <td>15.00</td>\n",
       "      <td>13.00</td>\n",
       "      <td>26.00</td>\n",
       "    </tr>\n",
       "    <tr>\n",
       "      <th>snowfall</th>\n",
       "      <td>1.00</td>\n",
       "      <td>4.00</td>\n",
       "      <td>0.00</td>\n",
       "      <td>2.00</td>\n",
       "    </tr>\n",
       "    <tr>\n",
       "      <th>cloud_coverage</th>\n",
       "      <td>0.24</td>\n",
       "      <td>0.21</td>\n",
       "      <td>0.25</td>\n",
       "      <td>0.32</td>\n",
       "    </tr>\n",
       "  </tbody>\n",
       "</table>\n",
       "</div>"
      ],
      "text/plain": [
       "                 2016   2017   2018   2019\n",
       "rainfall        16.00  15.00  13.00  26.00\n",
       "snowfall         1.00   4.00   0.00   2.00\n",
       "cloud_coverage   0.24   0.21   0.25   0.32"
      ]
     },
     "execution_count": 40,
     "metadata": {},
     "output_type": "execute_result"
    }
   ],
   "source": [
    "# Mock data (almost certainly) requiring transposition\n",
    "weather = pd.DataFrame({\n",
    "    2016: [16, 1, 0.24],\n",
    "    2017: [15, 4, 0.21],\n",
    "    2018: [13, 0, 0.25],\n",
    "    2019: [26, 2, 0.32],\n",
    "}, index=['rainfall', 'snowfall', 'cloud_coverage'])\n",
    "weather"
   ]
  },
  {
   "cell_type": "code",
   "execution_count": 42,
   "metadata": {},
   "outputs": [
    {
     "data": {
      "text/html": [
       "<div>\n",
       "<style scoped>\n",
       "    .dataframe tbody tr th:only-of-type {\n",
       "        vertical-align: middle;\n",
       "    }\n",
       "\n",
       "    .dataframe tbody tr th {\n",
       "        vertical-align: top;\n",
       "    }\n",
       "\n",
       "    .dataframe thead th {\n",
       "        text-align: right;\n",
       "    }\n",
       "</style>\n",
       "<table border=\"1\" class=\"dataframe\">\n",
       "  <thead>\n",
       "    <tr style=\"text-align: right;\">\n",
       "      <th></th>\n",
       "      <th>rainfall</th>\n",
       "      <th>snowfall</th>\n",
       "      <th>cloud_coverage</th>\n",
       "    </tr>\n",
       "  </thead>\n",
       "  <tbody>\n",
       "    <tr>\n",
       "      <th>2016</th>\n",
       "      <td>16.0</td>\n",
       "      <td>1.0</td>\n",
       "      <td>0.24</td>\n",
       "    </tr>\n",
       "    <tr>\n",
       "      <th>2017</th>\n",
       "      <td>15.0</td>\n",
       "      <td>4.0</td>\n",
       "      <td>0.21</td>\n",
       "    </tr>\n",
       "    <tr>\n",
       "      <th>2018</th>\n",
       "      <td>13.0</td>\n",
       "      <td>0.0</td>\n",
       "      <td>0.25</td>\n",
       "    </tr>\n",
       "    <tr>\n",
       "      <th>2019</th>\n",
       "      <td>26.0</td>\n",
       "      <td>2.0</td>\n",
       "      <td>0.32</td>\n",
       "    </tr>\n",
       "  </tbody>\n",
       "</table>\n",
       "</div>"
      ],
      "text/plain": [
       "      rainfall  snowfall  cloud_coverage\n",
       "2016      16.0       1.0            0.24\n",
       "2017      15.0       4.0            0.21\n",
       "2018      13.0       0.0            0.25\n",
       "2019      26.0       2.0            0.32"
      ]
     },
     "execution_count": 42,
     "metadata": {},
     "output_type": "execute_result"
    }
   ],
   "source": [
    "# Transpose the weather dataset\n",
    "weather.transpose()"
   ]
  },
  {
   "cell_type": "markdown",
   "metadata": {},
   "source": [
    "> **Word of Warning**\n",
    ">\n",
    "> Watch out for changing column types when reshaping data. Columns in Pandas must be of one type and so when we switch rows/columns or perform the other transformations that we'll see in a moment, we can have unexpected type coercion, which we may need to correct."
   ]
  },
  {
   "cell_type": "markdown",
   "metadata": {},
   "source": [
    "### Pivoting"
   ]
  },
  {
   "cell_type": "markdown",
   "metadata": {},
   "source": [
    "Pivoting is an operation in Pandas that we perform when we have a column containing variable names or indexes values. We perform a pivot using the `pivot` method, passing in the columns in our current dataframe whose values should be turned into indexes, columns, or stay as values. We'll again work on a mock example."
   ]
  },
  {
   "cell_type": "code",
   "execution_count": 43,
   "metadata": {},
   "outputs": [
    {
     "data": {
      "text/html": [
       "<div>\n",
       "<style scoped>\n",
       "    .dataframe tbody tr th:only-of-type {\n",
       "        vertical-align: middle;\n",
       "    }\n",
       "\n",
       "    .dataframe tbody tr th {\n",
       "        vertical-align: top;\n",
       "    }\n",
       "\n",
       "    .dataframe thead th {\n",
       "        text-align: right;\n",
       "    }\n",
       "</style>\n",
       "<table border=\"1\" class=\"dataframe\">\n",
       "  <thead>\n",
       "    <tr style=\"text-align: right;\">\n",
       "      <th></th>\n",
       "      <th>year</th>\n",
       "      <th>variable</th>\n",
       "      <th>value</th>\n",
       "    </tr>\n",
       "  </thead>\n",
       "  <tbody>\n",
       "    <tr>\n",
       "      <th>0</th>\n",
       "      <td>2016</td>\n",
       "      <td>rainfall</td>\n",
       "      <td>16</td>\n",
       "    </tr>\n",
       "    <tr>\n",
       "      <th>1</th>\n",
       "      <td>2016</td>\n",
       "      <td>snowfall</td>\n",
       "      <td>1</td>\n",
       "    </tr>\n",
       "    <tr>\n",
       "      <th>2</th>\n",
       "      <td>2017</td>\n",
       "      <td>rainfall</td>\n",
       "      <td>15</td>\n",
       "    </tr>\n",
       "    <tr>\n",
       "      <th>3</th>\n",
       "      <td>2017</td>\n",
       "      <td>snowfall</td>\n",
       "      <td>4</td>\n",
       "    </tr>\n",
       "    <tr>\n",
       "      <th>4</th>\n",
       "      <td>2018</td>\n",
       "      <td>rainfall</td>\n",
       "      <td>13</td>\n",
       "    </tr>\n",
       "    <tr>\n",
       "      <th>5</th>\n",
       "      <td>2018</td>\n",
       "      <td>snowfall</td>\n",
       "      <td>0</td>\n",
       "    </tr>\n",
       "  </tbody>\n",
       "</table>\n",
       "</div>"
      ],
      "text/plain": [
       "   year  variable  value\n",
       "0  2016  rainfall     16\n",
       "1  2016  snowfall      1\n",
       "2  2017  rainfall     15\n",
       "3  2017  snowfall      4\n",
       "4  2018  rainfall     13\n",
       "5  2018  snowfall      0"
      ]
     },
     "execution_count": 43,
     "metadata": {},
     "output_type": "execute_result"
    }
   ],
   "source": [
    "# Mock data (likely) requiring pivoting\n",
    "weather = pd.DataFrame({\n",
    "    'year': [2016, 2016, 2017, 2017, 2018, 2018],\n",
    "    'variable': ['rainfall', 'snowfall', 'rainfall',\n",
    "                 'snowfall', 'rainfall', 'snowfall'],\n",
    "    'value': [16, 1, 15, 4, 13, 0]\n",
    "})\n",
    "weather"
   ]
  },
  {
   "cell_type": "code",
   "execution_count": 44,
   "metadata": {},
   "outputs": [
    {
     "data": {
      "text/html": [
       "<div>\n",
       "<style scoped>\n",
       "    .dataframe tbody tr th:only-of-type {\n",
       "        vertical-align: middle;\n",
       "    }\n",
       "\n",
       "    .dataframe tbody tr th {\n",
       "        vertical-align: top;\n",
       "    }\n",
       "\n",
       "    .dataframe thead th {\n",
       "        text-align: right;\n",
       "    }\n",
       "</style>\n",
       "<table border=\"1\" class=\"dataframe\">\n",
       "  <thead>\n",
       "    <tr style=\"text-align: right;\">\n",
       "      <th>variable</th>\n",
       "      <th>rainfall</th>\n",
       "      <th>snowfall</th>\n",
       "    </tr>\n",
       "    <tr>\n",
       "      <th>year</th>\n",
       "      <th></th>\n",
       "      <th></th>\n",
       "    </tr>\n",
       "  </thead>\n",
       "  <tbody>\n",
       "    <tr>\n",
       "      <th>2016</th>\n",
       "      <td>16</td>\n",
       "      <td>1</td>\n",
       "    </tr>\n",
       "    <tr>\n",
       "      <th>2017</th>\n",
       "      <td>15</td>\n",
       "      <td>4</td>\n",
       "    </tr>\n",
       "    <tr>\n",
       "      <th>2018</th>\n",
       "      <td>13</td>\n",
       "      <td>0</td>\n",
       "    </tr>\n",
       "  </tbody>\n",
       "</table>\n",
       "</div>"
      ],
      "text/plain": [
       "variable  rainfall  snowfall\n",
       "year                        \n",
       "2016            16         1\n",
       "2017            15         4\n",
       "2018            13         0"
      ]
     },
     "execution_count": 44,
     "metadata": {},
     "output_type": "execute_result"
    }
   ],
   "source": [
    "# Pivot the dataframe\n",
    "weather.pivot(index='year', columns='variable', values='value')"
   ]
  },
  {
   "cell_type": "markdown",
   "metadata": {},
   "source": [
    "> **Good to Know**\n",
    ">\n",
    "> We can also pass lists of column names as any arguments of `pivot`"
   ]
  },
  {
   "cell_type": "markdown",
   "metadata": {},
   "source": [
    "> **Why Can't We All Agree**\n",
    ">\n",
    "> Don't confuse Pandas pivoting with:\n",
    ">\n",
    "> 1. Excel's pivot tables which are performed using `pd.pivot_table`\n",
    "> 2. R's pivoting, which includes both pivot (`pivot_wider`/`spread`) and melting (`pivot_longer`/`gather`)"
   ]
  },
  {
   "cell_type": "markdown",
   "metadata": {},
   "source": [
    "### Melting"
   ]
  },
  {
   "cell_type": "markdown",
   "metadata": {},
   "source": [
    "The reverse operation of pivoting is melting. This takes multiple columns and turns them into a pair of columns, one containing variable names, the other values. We do this using the `melt` method, passing in a list of variables to be kept the same `id_vars` and (optionally) the name of the new column to create `var_name`. We again practice this on a mock dataset."
   ]
  },
  {
   "cell_type": "code",
   "execution_count": 45,
   "metadata": {},
   "outputs": [
    {
     "data": {
      "text/html": [
       "<div>\n",
       "<style scoped>\n",
       "    .dataframe tbody tr th:only-of-type {\n",
       "        vertical-align: middle;\n",
       "    }\n",
       "\n",
       "    .dataframe tbody tr th {\n",
       "        vertical-align: top;\n",
       "    }\n",
       "\n",
       "    .dataframe thead th {\n",
       "        text-align: right;\n",
       "    }\n",
       "</style>\n",
       "<table border=\"1\" class=\"dataframe\">\n",
       "  <thead>\n",
       "    <tr style=\"text-align: right;\">\n",
       "      <th></th>\n",
       "      <th>name</th>\n",
       "      <th>height</th>\n",
       "      <th>weight</th>\n",
       "      <th>pace</th>\n",
       "    </tr>\n",
       "  </thead>\n",
       "  <tbody>\n",
       "    <tr>\n",
       "      <th>0</th>\n",
       "      <td>Ann</td>\n",
       "      <td>157</td>\n",
       "      <td>10.3</td>\n",
       "      <td>6.2</td>\n",
       "    </tr>\n",
       "    <tr>\n",
       "      <th>1</th>\n",
       "      <td>Bob</td>\n",
       "      <td>172</td>\n",
       "      <td>12.4</td>\n",
       "      <td>5.9</td>\n",
       "    </tr>\n",
       "    <tr>\n",
       "      <th>2</th>\n",
       "      <td>Cat</td>\n",
       "      <td>168</td>\n",
       "      <td>11.2</td>\n",
       "      <td>5.4</td>\n",
       "    </tr>\n",
       "  </tbody>\n",
       "</table>\n",
       "</div>"
      ],
      "text/plain": [
       "  name  height  weight  pace\n",
       "0  Ann     157    10.3   6.2\n",
       "1  Bob     172    12.4   5.9\n",
       "2  Cat     168    11.2   5.4"
      ]
     },
     "execution_count": 45,
     "metadata": {},
     "output_type": "execute_result"
    }
   ],
   "source": [
    "# Mock data (possibly) requiring melting\n",
    "measurements = pd.DataFrame({\n",
    "    'name': [\"Ann\", \"Bob\", \"Cat\"],\n",
    "    'height': [157, 172, 168],\n",
    "    'weight': [10.3, 12.4, 11.2],\n",
    "    'pace': [6.2, 5.9, 5.4]\n",
    "})\n",
    "measurements"
   ]
  },
  {
   "cell_type": "code",
   "execution_count": 48,
   "metadata": {},
   "outputs": [
    {
     "data": {
      "text/html": [
       "<div>\n",
       "<style scoped>\n",
       "    .dataframe tbody tr th:only-of-type {\n",
       "        vertical-align: middle;\n",
       "    }\n",
       "\n",
       "    .dataframe tbody tr th {\n",
       "        vertical-align: top;\n",
       "    }\n",
       "\n",
       "    .dataframe thead th {\n",
       "        text-align: right;\n",
       "    }\n",
       "</style>\n",
       "<table border=\"1\" class=\"dataframe\">\n",
       "  <thead>\n",
       "    <tr style=\"text-align: right;\">\n",
       "      <th></th>\n",
       "      <th>name</th>\n",
       "      <th>measurement</th>\n",
       "      <th>value</th>\n",
       "    </tr>\n",
       "  </thead>\n",
       "  <tbody>\n",
       "    <tr>\n",
       "      <th>0</th>\n",
       "      <td>Ann</td>\n",
       "      <td>height</td>\n",
       "      <td>157.0</td>\n",
       "    </tr>\n",
       "    <tr>\n",
       "      <th>1</th>\n",
       "      <td>Bob</td>\n",
       "      <td>height</td>\n",
       "      <td>172.0</td>\n",
       "    </tr>\n",
       "    <tr>\n",
       "      <th>2</th>\n",
       "      <td>Cat</td>\n",
       "      <td>height</td>\n",
       "      <td>168.0</td>\n",
       "    </tr>\n",
       "    <tr>\n",
       "      <th>3</th>\n",
       "      <td>Ann</td>\n",
       "      <td>weight</td>\n",
       "      <td>10.3</td>\n",
       "    </tr>\n",
       "    <tr>\n",
       "      <th>4</th>\n",
       "      <td>Bob</td>\n",
       "      <td>weight</td>\n",
       "      <td>12.4</td>\n",
       "    </tr>\n",
       "    <tr>\n",
       "      <th>5</th>\n",
       "      <td>Cat</td>\n",
       "      <td>weight</td>\n",
       "      <td>11.2</td>\n",
       "    </tr>\n",
       "    <tr>\n",
       "      <th>6</th>\n",
       "      <td>Ann</td>\n",
       "      <td>pace</td>\n",
       "      <td>6.2</td>\n",
       "    </tr>\n",
       "    <tr>\n",
       "      <th>7</th>\n",
       "      <td>Bob</td>\n",
       "      <td>pace</td>\n",
       "      <td>5.9</td>\n",
       "    </tr>\n",
       "    <tr>\n",
       "      <th>8</th>\n",
       "      <td>Cat</td>\n",
       "      <td>pace</td>\n",
       "      <td>5.4</td>\n",
       "    </tr>\n",
       "  </tbody>\n",
       "</table>\n",
       "</div>"
      ],
      "text/plain": [
       "  name measurement  value\n",
       "0  Ann      height  157.0\n",
       "1  Bob      height  172.0\n",
       "2  Cat      height  168.0\n",
       "3  Ann      weight   10.3\n",
       "4  Bob      weight   12.4\n",
       "5  Cat      weight   11.2\n",
       "6  Ann        pace    6.2\n",
       "7  Bob        pace    5.9\n",
       "8  Cat        pace    5.4"
      ]
     },
     "execution_count": 48,
     "metadata": {},
     "output_type": "execute_result"
    }
   ],
   "source": [
    "# Melt the three measurement columns\n",
    "measurements.melt(id_vars=['name'], var_name='measurement')"
   ]
  },
  {
   "cell_type": "markdown",
   "metadata": {},
   "source": [
    "> **To Reshape or Not To Reshape**\n",
    ">\n",
    "> It can sometimes be hard to know when to reshape data and towards what target. It is first worth noting that the best shape for data is highly contextual, depending on our objectives and whether we are focusing on human or computer readability. In general it is best to follow tidy data practices; as with all rules, however, the sign of an experienced Pandas user is that they know when to break them. This is something you will learn with time and through looking at others' code."
   ]
  },
  {
   "cell_type": "markdown",
   "metadata": {},
   "source": [
    "### Stacking"
   ]
  },
  {
   "cell_type": "markdown",
   "metadata": {},
   "source": [
    "Another important data reshaping technique is stacking and unstacking. This is right on the border between intermediate and advanced techniques, so I have decided to cover it at the start of my office hours this week (a recording of which will be made available), alongside a brief discussion about multi-indexes. "
   ]
  },
  {
   "cell_type": "markdown",
   "metadata": {},
   "source": [
    "## Encoding Variables"
   ]
  },
  {
   "cell_type": "markdown",
   "metadata": {},
   "source": [
    "Computers like numbers. So far we have seen how powerful NumPy is and we will likewise see the same with regard to scikit-learn in session five. These tools however rely on having a single datatype for our data which is most often chosen to be numeric. For that reason, we need to find a way of converting our text variables to numeric forms. This process is known as _encoding_ the variables."
   ]
  },
  {
   "cell_type": "markdown",
   "metadata": {},
   "source": [
    "### Dummy Variables"
   ]
  },
  {
   "cell_type": "markdown",
   "metadata": {},
   "source": [
    "The most common encoding technique for **categorical** text variables is called one-hot encoding. This involves creating a new binary column for every possible value the categorical variable takes, taking value one if and only if the original value corresponds to that column. This is best seen with an example."
   ]
  },
  {
   "cell_type": "markdown",
   "metadata": {},
   "source": [
    "![One-hot encoding example](images/one_hot_enc.png)"
   ]
  },
  {
   "cell_type": "markdown",
   "metadata": {},
   "source": [
    "These new columns of zero and ones are known (particularly in economics) as dummy variables. We can generate these using `pd.get_dummies`, which accepts a series or dataframe."
   ]
  },
  {
   "cell_type": "code",
   "execution_count": 83,
   "metadata": {},
   "outputs": [
    {
     "data": {
      "text/html": [
       "<div>\n",
       "<style scoped>\n",
       "    .dataframe tbody tr th:only-of-type {\n",
       "        vertical-align: middle;\n",
       "    }\n",
       "\n",
       "    .dataframe tbody tr th {\n",
       "        vertical-align: top;\n",
       "    }\n",
       "\n",
       "    .dataframe thead th {\n",
       "        text-align: right;\n",
       "    }\n",
       "</style>\n",
       "<table border=\"1\" class=\"dataframe\">\n",
       "  <thead>\n",
       "    <tr style=\"text-align: right;\">\n",
       "      <th></th>\n",
       "      <th>Amer-Indian-Eskimo</th>\n",
       "      <th>Asian-Pac-Islander</th>\n",
       "      <th>Black</th>\n",
       "      <th>Other</th>\n",
       "      <th>White</th>\n",
       "    </tr>\n",
       "  </thead>\n",
       "  <tbody>\n",
       "    <tr>\n",
       "      <th>0</th>\n",
       "      <td>0</td>\n",
       "      <td>0</td>\n",
       "      <td>0</td>\n",
       "      <td>0</td>\n",
       "      <td>1</td>\n",
       "    </tr>\n",
       "    <tr>\n",
       "      <th>1</th>\n",
       "      <td>0</td>\n",
       "      <td>0</td>\n",
       "      <td>0</td>\n",
       "      <td>0</td>\n",
       "      <td>1</td>\n",
       "    </tr>\n",
       "    <tr>\n",
       "      <th>2</th>\n",
       "      <td>0</td>\n",
       "      <td>0</td>\n",
       "      <td>0</td>\n",
       "      <td>0</td>\n",
       "      <td>1</td>\n",
       "    </tr>\n",
       "    <tr>\n",
       "      <th>3</th>\n",
       "      <td>0</td>\n",
       "      <td>0</td>\n",
       "      <td>1</td>\n",
       "      <td>0</td>\n",
       "      <td>0</td>\n",
       "    </tr>\n",
       "    <tr>\n",
       "      <th>4</th>\n",
       "      <td>0</td>\n",
       "      <td>0</td>\n",
       "      <td>1</td>\n",
       "      <td>0</td>\n",
       "      <td>0</td>\n",
       "    </tr>\n",
       "    <tr>\n",
       "      <th>...</th>\n",
       "      <td>...</td>\n",
       "      <td>...</td>\n",
       "      <td>...</td>\n",
       "      <td>...</td>\n",
       "      <td>...</td>\n",
       "    </tr>\n",
       "    <tr>\n",
       "      <th>48837</th>\n",
       "      <td>0</td>\n",
       "      <td>0</td>\n",
       "      <td>0</td>\n",
       "      <td>0</td>\n",
       "      <td>1</td>\n",
       "    </tr>\n",
       "    <tr>\n",
       "      <th>48838</th>\n",
       "      <td>0</td>\n",
       "      <td>0</td>\n",
       "      <td>1</td>\n",
       "      <td>0</td>\n",
       "      <td>0</td>\n",
       "    </tr>\n",
       "    <tr>\n",
       "      <th>48839</th>\n",
       "      <td>0</td>\n",
       "      <td>0</td>\n",
       "      <td>0</td>\n",
       "      <td>0</td>\n",
       "      <td>1</td>\n",
       "    </tr>\n",
       "    <tr>\n",
       "      <th>48840</th>\n",
       "      <td>0</td>\n",
       "      <td>1</td>\n",
       "      <td>0</td>\n",
       "      <td>0</td>\n",
       "      <td>0</td>\n",
       "    </tr>\n",
       "    <tr>\n",
       "      <th>48841</th>\n",
       "      <td>0</td>\n",
       "      <td>0</td>\n",
       "      <td>0</td>\n",
       "      <td>0</td>\n",
       "      <td>1</td>\n",
       "    </tr>\n",
       "  </tbody>\n",
       "</table>\n",
       "<p>48842 rows × 5 columns</p>\n",
       "</div>"
      ],
      "text/plain": [
       "       Amer-Indian-Eskimo  Asian-Pac-Islander  Black  Other  White\n",
       "0                       0                   0      0      0      1\n",
       "1                       0                   0      0      0      1\n",
       "2                       0                   0      0      0      1\n",
       "3                       0                   0      1      0      0\n",
       "4                       0                   0      1      0      0\n",
       "...                   ...                 ...    ...    ...    ...\n",
       "48837                   0                   0      0      0      1\n",
       "48838                   0                   0      1      0      0\n",
       "48839                   0                   0      0      0      1\n",
       "48840                   0                   1      0      0      0\n",
       "48841                   0                   0      0      0      1\n",
       "\n",
       "[48842 rows x 5 columns]"
      ]
     },
     "execution_count": 83,
     "metadata": {},
     "output_type": "execute_result"
    }
   ],
   "source": [
    "# Dummify the race column of `adult`\n",
    "pd.get_dummies(adult.race)"
   ]
  },
  {
   "cell_type": "markdown",
   "metadata": {},
   "source": [
    "Once we have our dummies, we can drop the original column and concatenate our dummies."
   ]
  },
  {
   "cell_type": "markdown",
   "metadata": {},
   "source": [
    "Hang on a second though. Let's have a look at the unique values of `adult.race`."
   ]
  },
  {
   "cell_type": "code",
   "execution_count": 84,
   "metadata": {},
   "outputs": [
    {
     "data": {
      "text/plain": [
       "array(['White', 'Black', 'Asian-Pac-Islander', 'Amer-Indian-Eskimo',\n",
       "       'Other'], dtype=object)"
      ]
     },
     "execution_count": 84,
     "metadata": {},
     "output_type": "execute_result"
    }
   ],
   "source": [
    "adult.race.unique()"
   ]
  },
  {
   "cell_type": "markdown",
   "metadata": {},
   "source": [
    "It's subtle, but there is a possible problem here. Namely, we have redundant information in our model. Every observation has a corresponding race and so if all but one of the dummy columns are zero, the last must be a one. Therefore, we don't actually need all columns but can instead one. In fact, for many algorithms (such as linear regression), this will prevent us from fitting a model. We can avoid this by using `drop_first=True` or by manually dropping a column. In this case, it makes sense for us to drop `Other`."
   ]
  },
  {
   "cell_type": "code",
   "execution_count": 49,
   "metadata": {},
   "outputs": [
    {
     "data": {
      "text/html": [
       "<div>\n",
       "<style scoped>\n",
       "    .dataframe tbody tr th:only-of-type {\n",
       "        vertical-align: middle;\n",
       "    }\n",
       "\n",
       "    .dataframe tbody tr th {\n",
       "        vertical-align: top;\n",
       "    }\n",
       "\n",
       "    .dataframe thead th {\n",
       "        text-align: right;\n",
       "    }\n",
       "</style>\n",
       "<table border=\"1\" class=\"dataframe\">\n",
       "  <thead>\n",
       "    <tr style=\"text-align: right;\">\n",
       "      <th></th>\n",
       "      <th>Amer-Indian-Eskimo</th>\n",
       "      <th>Asian-Pac-Islander</th>\n",
       "      <th>Black</th>\n",
       "      <th>White</th>\n",
       "    </tr>\n",
       "  </thead>\n",
       "  <tbody>\n",
       "    <tr>\n",
       "      <th>0</th>\n",
       "      <td>0</td>\n",
       "      <td>0</td>\n",
       "      <td>0</td>\n",
       "      <td>1</td>\n",
       "    </tr>\n",
       "    <tr>\n",
       "      <th>1</th>\n",
       "      <td>0</td>\n",
       "      <td>0</td>\n",
       "      <td>0</td>\n",
       "      <td>1</td>\n",
       "    </tr>\n",
       "    <tr>\n",
       "      <th>2</th>\n",
       "      <td>0</td>\n",
       "      <td>0</td>\n",
       "      <td>0</td>\n",
       "      <td>1</td>\n",
       "    </tr>\n",
       "    <tr>\n",
       "      <th>3</th>\n",
       "      <td>0</td>\n",
       "      <td>0</td>\n",
       "      <td>1</td>\n",
       "      <td>0</td>\n",
       "    </tr>\n",
       "    <tr>\n",
       "      <th>4</th>\n",
       "      <td>0</td>\n",
       "      <td>0</td>\n",
       "      <td>1</td>\n",
       "      <td>0</td>\n",
       "    </tr>\n",
       "    <tr>\n",
       "      <th>...</th>\n",
       "      <td>...</td>\n",
       "      <td>...</td>\n",
       "      <td>...</td>\n",
       "      <td>...</td>\n",
       "    </tr>\n",
       "    <tr>\n",
       "      <th>48837</th>\n",
       "      <td>0</td>\n",
       "      <td>0</td>\n",
       "      <td>0</td>\n",
       "      <td>1</td>\n",
       "    </tr>\n",
       "    <tr>\n",
       "      <th>48838</th>\n",
       "      <td>0</td>\n",
       "      <td>0</td>\n",
       "      <td>1</td>\n",
       "      <td>0</td>\n",
       "    </tr>\n",
       "    <tr>\n",
       "      <th>48839</th>\n",
       "      <td>0</td>\n",
       "      <td>0</td>\n",
       "      <td>0</td>\n",
       "      <td>1</td>\n",
       "    </tr>\n",
       "    <tr>\n",
       "      <th>48840</th>\n",
       "      <td>0</td>\n",
       "      <td>1</td>\n",
       "      <td>0</td>\n",
       "      <td>0</td>\n",
       "    </tr>\n",
       "    <tr>\n",
       "      <th>48841</th>\n",
       "      <td>0</td>\n",
       "      <td>0</td>\n",
       "      <td>0</td>\n",
       "      <td>1</td>\n",
       "    </tr>\n",
       "  </tbody>\n",
       "</table>\n",
       "<p>48842 rows × 4 columns</p>\n",
       "</div>"
      ],
      "text/plain": [
       "       Amer-Indian-Eskimo  Asian-Pac-Islander  Black  White\n",
       "0                       0                   0      0      1\n",
       "1                       0                   0      0      1\n",
       "2                       0                   0      0      1\n",
       "3                       0                   0      1      0\n",
       "4                       0                   0      1      0\n",
       "...                   ...                 ...    ...    ...\n",
       "48837                   0                   0      0      1\n",
       "48838                   0                   0      1      0\n",
       "48839                   0                   0      0      1\n",
       "48840                   0                   1      0      0\n",
       "48841                   0                   0      0      1\n",
       "\n",
       "[48842 rows x 4 columns]"
      ]
     },
     "execution_count": 49,
     "metadata": {},
     "output_type": "execute_result"
    }
   ],
   "source": [
    "# Dummify the race column of `adult` and drop `Other`\n",
    "pd.get_dummies(adult.race).drop('Other', axis=1)"
   ]
  },
  {
   "cell_type": "markdown",
   "metadata": {},
   "source": [
    "> **Further Reading**\n",
    ">\n",
    "> Although one-hot encoding is the most popular encoding method, there are many others available which shine in particular use cases. One other prominent example is ordinal encoding. Learn more about these [here](https://www.analyticsvidhya.com/blog/2020/08/types-of-categorical-data-encoding/), being aware that this includes techniques from `sklearn` which we will learn about in session five."
   ]
  },
  {
   "cell_type": "markdown",
   "metadata": {},
   "source": [
    "### Embeddings"
   ]
  },
  {
   "cell_type": "markdown",
   "metadata": {},
   "source": [
    "One-hot encoding and similar methods work fine for categorical data with only a few levels, but what about when we have a large or virtually infinite number of levels. One approach would be to group various categories together but this is only a temporary solution. A far more powerful solution is to use learned embeddings. An embedding is a way of mapping an input to numeric data space that attempts to capture the structure and relations of the original inputs. These are often learnt using advanced machine learning techniques such as neural networks.\n",
    "\n",
    "Thankfully, for many cases, trained models are available to us. One example is Word2Vec, which takes English words and maps them to a data space that encodes semantic meaning. This means that similar words are close together and we can form analogies such as `Queen - Woman + Man = King`. Read more about Word2Vec in this [WDSS blog post](https://research.wdss.io/word2vec/)."
   ]
  },
  {
   "cell_type": "markdown",
   "metadata": {},
   "source": [
    "## Wrapping Up"
   ]
  },
  {
   "cell_type": "markdown",
   "metadata": {},
   "source": [
    "### Date and Times"
   ]
  },
  {
   "cell_type": "markdown",
   "metadata": {},
   "source": [
    "Throughout this course, we've paid little specific focus to handling dates and times with Pandas. Unfortunately, we not have time to cover this. It is however vital to be aware of and so we hope to run workshops on the topic eventually. For now, you can read more about the available functionality in [this article](https://pandas.pydata.org/docs/user_guide/timeseries.html)."
   ]
  },
  {
   "cell_type": "markdown",
   "metadata": {},
   "source": [
    "### Window Functions"
   ]
  },
  {
   "cell_type": "markdown",
   "metadata": {},
   "source": [
    "Window functions are an advanced feature of Pandas that allow you to \"roll\" functions over a dataframe. In most cases they are not needed or can be avoid by using loops, but for big data cases, the efficiency they provide is essential. Read more about them [here](https://pandas.pydata.org/docs/user_guide/window.html)."
   ]
  },
  {
   "cell_type": "markdown",
   "metadata": {},
   "source": [
    "### Styling"
   ]
  },
  {
   "cell_type": "markdown",
   "metadata": {},
   "source": [
    "Pandas dataframes can look a bit dull. Thankfully, there is a flexible API available for styling dataframes, including highlighting specific observations, columns, and fields. You can even colour-code fields as you would with conditional formatting in Excel. The full details can be found [here](https://pandas.pydata.org/pandas-docs/stable/user_guide/style.html), but here is an example to whet your appetite."
   ]
  },
  {
   "cell_type": "code",
   "execution_count": 60,
   "metadata": {},
   "outputs": [
    {
     "data": {
      "text/html": [
       "<style  type=\"text/css\" >\n",
       "#T_be1c4_row0_col0{\n",
       "            background-color:  #26828e;\n",
       "            color:  #000000;\n",
       "        }#T_be1c4_row0_col1,#T_be1c4_row0_col2,#T_be1c4_row1_col1,#T_be1c4_row3_col0,#T_be1c4_row4_col1{\n",
       "            background-color:  #fde725;\n",
       "            color:  #000000;\n",
       "        }#T_be1c4_row1_col0{\n",
       "            background-color:  #b0dd2f;\n",
       "            color:  #000000;\n",
       "        }#T_be1c4_row1_col2,#T_be1c4_row2_col2,#T_be1c4_row3_col1,#T_be1c4_row3_col2,#T_be1c4_row4_col0,#T_be1c4_row4_col2{\n",
       "            background-color:  #440154;\n",
       "            color:  #f1f1f1;\n",
       "        }#T_be1c4_row2_col0{\n",
       "            background-color:  #2a788e;\n",
       "            color:  #000000;\n",
       "        }#T_be1c4_row2_col1{\n",
       "            background-color:  #31688e;\n",
       "            color:  #f1f1f1;\n",
       "        }</style><table id=\"T_be1c4_\" ><thead>    <tr>        <th class=\"blank level0\" ></th>        <th class=\"col_heading level0 col0\" >age</th>        <th class=\"col_heading level0 col1\" >education-num</th>        <th class=\"col_heading level0 col2\" >capital-gain</th>    </tr></thead><tbody>\n",
       "                <tr>\n",
       "                        <th id=\"T_be1c4_level0_row0\" class=\"row_heading level0 row0\" >0</th>\n",
       "                        <td id=\"T_be1c4_row0_col0\" class=\"data row0 col0\" >39.000000</td>\n",
       "                        <td id=\"T_be1c4_row0_col1\" class=\"data row0 col1\" >13</td>\n",
       "                        <td id=\"T_be1c4_row0_col2\" class=\"data row0 col2\" >2174</td>\n",
       "            </tr>\n",
       "            <tr>\n",
       "                        <th id=\"T_be1c4_level0_row1\" class=\"row_heading level0 row1\" >1</th>\n",
       "                        <td id=\"T_be1c4_row1_col0\" class=\"data row1 col0\" >50.000000</td>\n",
       "                        <td id=\"T_be1c4_row1_col1\" class=\"data row1 col1\" >13</td>\n",
       "                        <td id=\"T_be1c4_row1_col2\" class=\"data row1 col2\" >0</td>\n",
       "            </tr>\n",
       "            <tr>\n",
       "                        <th id=\"T_be1c4_level0_row2\" class=\"row_heading level0 row2\" >2</th>\n",
       "                        <td id=\"T_be1c4_row2_col0\" class=\"data row2 col0\" >38.000000</td>\n",
       "                        <td id=\"T_be1c4_row2_col1\" class=\"data row2 col1\" >9</td>\n",
       "                        <td id=\"T_be1c4_row2_col2\" class=\"data row2 col2\" >0</td>\n",
       "            </tr>\n",
       "            <tr>\n",
       "                        <th id=\"T_be1c4_level0_row3\" class=\"row_heading level0 row3\" >3</th>\n",
       "                        <td id=\"T_be1c4_row3_col0\" class=\"data row3 col0\" >53.000000</td>\n",
       "                        <td id=\"T_be1c4_row3_col1\" class=\"data row3 col1\" >7</td>\n",
       "                        <td id=\"T_be1c4_row3_col2\" class=\"data row3 col2\" >0</td>\n",
       "            </tr>\n",
       "            <tr>\n",
       "                        <th id=\"T_be1c4_level0_row4\" class=\"row_heading level0 row4\" >4</th>\n",
       "                        <td id=\"T_be1c4_row4_col0\" class=\"data row4 col0\" >28.000000</td>\n",
       "                        <td id=\"T_be1c4_row4_col1\" class=\"data row4 col1\" >13</td>\n",
       "                        <td id=\"T_be1c4_row4_col2\" class=\"data row4 col2\" >0</td>\n",
       "            </tr>\n",
       "    </tbody></table>"
      ],
      "text/plain": [
       "<pandas.io.formats.style.Styler at 0x7f37bd95c100>"
      ]
     },
     "execution_count": 60,
     "metadata": {},
     "output_type": "execute_result"
    }
   ],
   "source": [
    "adult.iloc[:5, [0, 2, 8]].style.background_gradient(cmap='viridis')"
   ]
  }
 ],
 "metadata": {
  "kernelspec": {
   "display_name": "Python 3",
   "language": "python",
   "name": "python3"
  },
  "language_info": {
   "codemirror_mode": {
    "name": "ipython",
    "version": 3
   },
   "file_extension": ".py",
   "mimetype": "text/x-python",
   "name": "python",
   "nbconvert_exporter": "python",
   "pygments_lexer": "ipython3",
   "version": "3.7.10"
  }
 },
 "nbformat": 4,
 "nbformat_minor": 4
}
