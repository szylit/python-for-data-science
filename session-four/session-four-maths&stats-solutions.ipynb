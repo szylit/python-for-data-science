{
 "cells": [
  {
   "cell_type": "markdown",
   "id": "810107f7",
   "metadata": {},
   "source": [
    "# Python for Data Science Practice Session 4 : Mathematics and Statistics"
   ]
  },
  {
   "cell_type": "code",
   "execution_count": 219,
   "id": "6f8e93b6",
   "metadata": {},
   "outputs": [],
   "source": [
    "#Import pandas, numpy, numpy.random and matplotlib.pyplot \n",
    "import pandas as pd\n",
    "import numpy as np\n",
    "from numpy import random\n",
    "import matplotlib.pyplot as plt"
   ]
  },
  {
   "cell_type": "markdown",
   "id": "02be8d07",
   "metadata": {},
   "source": [
    "## Missing data types: A closer look"
   ]
  },
  {
   "cell_type": "markdown",
   "id": "4e2e13e7",
   "metadata": {},
   "source": [
    "In this section, I would like to talk more about missing values. It is one of the most influential problems that have to be dealt with carefully by Data Scientists, and even by other practitioners in different fields who analyse and use data to help in forming decisions/conclusions. Together, we will go through the three main types of missing values: Missing Completely at Random, Missing at Random and Missing Not at Random. Then, we will build up on the imputation methods discussed in this week's teaching session by using two more complex ones, namely Expectation Maximization and Linear Regression. We will also make use of the dataframe reshaping methods that we learned in this week's teaching session to help make our lives easier throughout this project session."
   ]
  },
  {
   "cell_type": "markdown",
   "id": "9a565eef",
   "metadata": {},
   "source": [
    "Let's start by generating a mock dataset that we will use to demonstrate the different missing value types. This dataset will contain simulated data of three consecutive lap times for ten F1 racing drivers on a track.\n",
    "\n",
    "Start by creating a Pandas dataframe with column labels 'D1', 'D2', 'D3', ... , 'D10' representing the ten drivers we have, and indexes 'Lap1', 'Lap2' representing the first two lap times for each driver."
   ]
  },
  {
   "cell_type": "code",
   "execution_count": 220,
   "id": "cdc044af",
   "metadata": {},
   "outputs": [
    {
     "data": {
      "text/html": [
       "<div>\n",
       "<style scoped>\n",
       "    .dataframe tbody tr th:only-of-type {\n",
       "        vertical-align: middle;\n",
       "    }\n",
       "\n",
       "    .dataframe tbody tr th {\n",
       "        vertical-align: top;\n",
       "    }\n",
       "\n",
       "    .dataframe thead th {\n",
       "        text-align: right;\n",
       "    }\n",
       "</style>\n",
       "<table border=\"1\" class=\"dataframe\">\n",
       "  <thead>\n",
       "    <tr style=\"text-align: right;\">\n",
       "      <th></th>\n",
       "      <th>D1</th>\n",
       "      <th>D2</th>\n",
       "      <th>D3</th>\n",
       "      <th>D4</th>\n",
       "      <th>D5</th>\n",
       "      <th>D6</th>\n",
       "      <th>D7</th>\n",
       "      <th>D8</th>\n",
       "      <th>D9</th>\n",
       "      <th>D10</th>\n",
       "    </tr>\n",
       "  </thead>\n",
       "  <tbody>\n",
       "    <tr>\n",
       "      <th>Lap 1</th>\n",
       "      <td>NaN</td>\n",
       "      <td>NaN</td>\n",
       "      <td>NaN</td>\n",
       "      <td>NaN</td>\n",
       "      <td>NaN</td>\n",
       "      <td>NaN</td>\n",
       "      <td>NaN</td>\n",
       "      <td>NaN</td>\n",
       "      <td>NaN</td>\n",
       "      <td>NaN</td>\n",
       "    </tr>\n",
       "    <tr>\n",
       "      <th>Lap 2</th>\n",
       "      <td>NaN</td>\n",
       "      <td>NaN</td>\n",
       "      <td>NaN</td>\n",
       "      <td>NaN</td>\n",
       "      <td>NaN</td>\n",
       "      <td>NaN</td>\n",
       "      <td>NaN</td>\n",
       "      <td>NaN</td>\n",
       "      <td>NaN</td>\n",
       "      <td>NaN</td>\n",
       "    </tr>\n",
       "  </tbody>\n",
       "</table>\n",
       "</div>"
      ],
      "text/plain": [
       "        D1   D2   D3   D4   D5   D6   D7   D8   D9  D10\n",
       "Lap 1  NaN  NaN  NaN  NaN  NaN  NaN  NaN  NaN  NaN  NaN\n",
       "Lap 2  NaN  NaN  NaN  NaN  NaN  NaN  NaN  NaN  NaN  NaN"
      ]
     },
     "execution_count": 220,
     "metadata": {},
     "output_type": "execute_result"
    }
   ],
   "source": [
    "#Create the dataframe as specified above\n",
    "drivers = pd.DataFrame(columns=['D1', 'D2', 'D3', 'D4', 'D5', 'D6', 'D7', 'D8', 'D9', 'D10'], index = ['Lap 1', 'Lap 2'])\n",
    "drivers"
   ]
  },
  {
   "cell_type": "markdown",
   "id": "87122024",
   "metadata": {},
   "source": [
    "Now, we simulate lap time values from normal distributions. Assume that for the first lap times, data are normally distributed with a mean of 150 and standard deviation of 10. Then in lap 2, data are normally distributed with a mean of 145 and a standard deviation of 10. Simulating the data in this way allows for the possibility for some drivers improving their lap time in their second trial and some other drivers worsening their lap time in their second trial."
   ]
  },
  {
   "cell_type": "code",
   "execution_count": 221,
   "id": "89f577e5",
   "metadata": {},
   "outputs": [],
   "source": [
    "#Simulate data from normal distributions for laps 1 and 2 using the means and standard deviations specified above\n",
    "drivers.loc['Lap 1'] = random.normal(150, 10, 10)\n",
    "drivers.loc['Lap 2'] = random.normal(145, 10, 10)"
   ]
  },
  {
   "cell_type": "code",
   "execution_count": 222,
   "id": "02a45c53",
   "metadata": {},
   "outputs": [
    {
     "data": {
      "text/html": [
       "<div>\n",
       "<style scoped>\n",
       "    .dataframe tbody tr th:only-of-type {\n",
       "        vertical-align: middle;\n",
       "    }\n",
       "\n",
       "    .dataframe tbody tr th {\n",
       "        vertical-align: top;\n",
       "    }\n",
       "\n",
       "    .dataframe thead th {\n",
       "        text-align: right;\n",
       "    }\n",
       "</style>\n",
       "<table border=\"1\" class=\"dataframe\">\n",
       "  <thead>\n",
       "    <tr style=\"text-align: right;\">\n",
       "      <th></th>\n",
       "      <th>D1</th>\n",
       "      <th>D2</th>\n",
       "      <th>D3</th>\n",
       "      <th>D4</th>\n",
       "      <th>D5</th>\n",
       "      <th>D6</th>\n",
       "      <th>D7</th>\n",
       "      <th>D8</th>\n",
       "      <th>D9</th>\n",
       "      <th>D10</th>\n",
       "    </tr>\n",
       "  </thead>\n",
       "  <tbody>\n",
       "    <tr>\n",
       "      <th>Lap 1</th>\n",
       "      <td>147.582634</td>\n",
       "      <td>138.507333</td>\n",
       "      <td>153.155199</td>\n",
       "      <td>162.9858</td>\n",
       "      <td>152.104515</td>\n",
       "      <td>146.067233</td>\n",
       "      <td>150.322831</td>\n",
       "      <td>158.15057</td>\n",
       "      <td>136.673198</td>\n",
       "      <td>149.408646</td>\n",
       "    </tr>\n",
       "    <tr>\n",
       "      <th>Lap 2</th>\n",
       "      <td>150.336098</td>\n",
       "      <td>141.778606</td>\n",
       "      <td>159.799375</td>\n",
       "      <td>131.80352</td>\n",
       "      <td>129.546147</td>\n",
       "      <td>144.422052</td>\n",
       "      <td>141.831898</td>\n",
       "      <td>150.243775</td>\n",
       "      <td>144.831114</td>\n",
       "      <td>132.678621</td>\n",
       "    </tr>\n",
       "  </tbody>\n",
       "</table>\n",
       "</div>"
      ],
      "text/plain": [
       "               D1          D2          D3         D4          D5          D6  \\\n",
       "Lap 1  147.582634  138.507333  153.155199   162.9858  152.104515  146.067233   \n",
       "Lap 2  150.336098  141.778606  159.799375  131.80352  129.546147  144.422052   \n",
       "\n",
       "               D7          D8          D9         D10  \n",
       "Lap 1  150.322831   158.15057  136.673198  149.408646  \n",
       "Lap 2  141.831898  150.243775  144.831114  132.678621  "
      ]
     },
     "execution_count": 222,
     "metadata": {},
     "output_type": "execute_result"
    }
   ],
   "source": [
    "#View the dataset\n",
    "drivers"
   ]
  },
  {
   "cell_type": "markdown",
   "id": "2791cf9a",
   "metadata": {},
   "source": [
    "The structure of the dataframe is not visually pleasing in my opinion, especially that we have ten columns and only two rows. Try transposing the dataframe: "
   ]
  },
  {
   "cell_type": "code",
   "execution_count": 223,
   "id": "cde26cf8",
   "metadata": {},
   "outputs": [],
   "source": [
    "#Transpose the dataset\n",
    "drivers = drivers.transpose()"
   ]
  },
  {
   "cell_type": "code",
   "execution_count": 224,
   "id": "8e992114",
   "metadata": {},
   "outputs": [
    {
     "data": {
      "text/html": [
       "<div>\n",
       "<style scoped>\n",
       "    .dataframe tbody tr th:only-of-type {\n",
       "        vertical-align: middle;\n",
       "    }\n",
       "\n",
       "    .dataframe tbody tr th {\n",
       "        vertical-align: top;\n",
       "    }\n",
       "\n",
       "    .dataframe thead th {\n",
       "        text-align: right;\n",
       "    }\n",
       "</style>\n",
       "<table border=\"1\" class=\"dataframe\">\n",
       "  <thead>\n",
       "    <tr style=\"text-align: right;\">\n",
       "      <th></th>\n",
       "      <th>Lap 1</th>\n",
       "      <th>Lap 2</th>\n",
       "    </tr>\n",
       "  </thead>\n",
       "  <tbody>\n",
       "    <tr>\n",
       "      <th>D1</th>\n",
       "      <td>147.582634</td>\n",
       "      <td>150.336098</td>\n",
       "    </tr>\n",
       "    <tr>\n",
       "      <th>D2</th>\n",
       "      <td>138.507333</td>\n",
       "      <td>141.778606</td>\n",
       "    </tr>\n",
       "    <tr>\n",
       "      <th>D3</th>\n",
       "      <td>153.155199</td>\n",
       "      <td>159.799375</td>\n",
       "    </tr>\n",
       "    <tr>\n",
       "      <th>D4</th>\n",
       "      <td>162.9858</td>\n",
       "      <td>131.80352</td>\n",
       "    </tr>\n",
       "    <tr>\n",
       "      <th>D5</th>\n",
       "      <td>152.104515</td>\n",
       "      <td>129.546147</td>\n",
       "    </tr>\n",
       "    <tr>\n",
       "      <th>D6</th>\n",
       "      <td>146.067233</td>\n",
       "      <td>144.422052</td>\n",
       "    </tr>\n",
       "    <tr>\n",
       "      <th>D7</th>\n",
       "      <td>150.322831</td>\n",
       "      <td>141.831898</td>\n",
       "    </tr>\n",
       "    <tr>\n",
       "      <th>D8</th>\n",
       "      <td>158.15057</td>\n",
       "      <td>150.243775</td>\n",
       "    </tr>\n",
       "    <tr>\n",
       "      <th>D9</th>\n",
       "      <td>136.673198</td>\n",
       "      <td>144.831114</td>\n",
       "    </tr>\n",
       "    <tr>\n",
       "      <th>D10</th>\n",
       "      <td>149.408646</td>\n",
       "      <td>132.678621</td>\n",
       "    </tr>\n",
       "  </tbody>\n",
       "</table>\n",
       "</div>"
      ],
      "text/plain": [
       "          Lap 1       Lap 2\n",
       "D1   147.582634  150.336098\n",
       "D2   138.507333  141.778606\n",
       "D3   153.155199  159.799375\n",
       "D4     162.9858   131.80352\n",
       "D5   152.104515  129.546147\n",
       "D6   146.067233  144.422052\n",
       "D7   150.322831  141.831898\n",
       "D8    158.15057  150.243775\n",
       "D9   136.673198  144.831114\n",
       "D10  149.408646  132.678621"
      ]
     },
     "execution_count": 224,
     "metadata": {},
     "output_type": "execute_result"
    }
   ],
   "source": [
    "#View the dataset\n",
    "drivers"
   ]
  },
  {
   "cell_type": "markdown",
   "id": "0c9aa9a0",
   "metadata": {},
   "source": [
    "This looks much better, let us now proceed. \n",
    "\n",
    "Now, create a column for lap 3 times where drivers who score better lap times in their second lap than their first lap have their data generated from a normal distribution of mean of 140 and standard deviation of 5, and drivers who score worse in their second lap than their first lap have their lap 3 times generated from a normal distribution of mean 155 and standard deviation of 5. This can be thought of in the following sense: The drivers who do better in lap 2 than lap 1 are more likely to be motivated and improve on their lap 2 times with a faster lap 3 time, and people who score worse in lap 2 might be disappointed and thus more likely to score worse in lap 3. (Of course you can argue that this is not usually the case in real life, but for simplicity, we will proceed with it as it will help us in the explanation of the different missing data types)."
   ]
  },
  {
   "cell_type": "code",
   "execution_count": 225,
   "id": "ae42b47a",
   "metadata": {},
   "outputs": [],
   "source": [
    "#Create the column Lap 3 following the scenario mentioned above\n",
    "Lap3 = []\n",
    "for i in range(drivers.shape[0]):\n",
    "    if drivers.iloc[i]['Lap 2'] - drivers.iloc[i]['Lap 1']  < 0 :\n",
    "        Lap3.append(random.normal(140,5,1)[0])\n",
    "    else: \n",
    "        Lap3.append(random.normal(155,5,1)[0])\n",
    "drivers['Lap 3'] = Lap3"
   ]
  },
  {
   "cell_type": "code",
   "execution_count": 226,
   "id": "7c844c5a",
   "metadata": {},
   "outputs": [
    {
     "data": {
      "text/html": [
       "<div>\n",
       "<style scoped>\n",
       "    .dataframe tbody tr th:only-of-type {\n",
       "        vertical-align: middle;\n",
       "    }\n",
       "\n",
       "    .dataframe tbody tr th {\n",
       "        vertical-align: top;\n",
       "    }\n",
       "\n",
       "    .dataframe thead th {\n",
       "        text-align: right;\n",
       "    }\n",
       "</style>\n",
       "<table border=\"1\" class=\"dataframe\">\n",
       "  <thead>\n",
       "    <tr style=\"text-align: right;\">\n",
       "      <th></th>\n",
       "      <th>Lap 1</th>\n",
       "      <th>Lap 2</th>\n",
       "      <th>Lap 3</th>\n",
       "    </tr>\n",
       "  </thead>\n",
       "  <tbody>\n",
       "    <tr>\n",
       "      <th>D1</th>\n",
       "      <td>147.582634</td>\n",
       "      <td>150.336098</td>\n",
       "      <td>150.452330</td>\n",
       "    </tr>\n",
       "    <tr>\n",
       "      <th>D2</th>\n",
       "      <td>138.507333</td>\n",
       "      <td>141.778606</td>\n",
       "      <td>146.514403</td>\n",
       "    </tr>\n",
       "    <tr>\n",
       "      <th>D3</th>\n",
       "      <td>153.155199</td>\n",
       "      <td>159.799375</td>\n",
       "      <td>159.401573</td>\n",
       "    </tr>\n",
       "    <tr>\n",
       "      <th>D4</th>\n",
       "      <td>162.9858</td>\n",
       "      <td>131.80352</td>\n",
       "      <td>146.646486</td>\n",
       "    </tr>\n",
       "    <tr>\n",
       "      <th>D5</th>\n",
       "      <td>152.104515</td>\n",
       "      <td>129.546147</td>\n",
       "      <td>137.394809</td>\n",
       "    </tr>\n",
       "    <tr>\n",
       "      <th>D6</th>\n",
       "      <td>146.067233</td>\n",
       "      <td>144.422052</td>\n",
       "      <td>135.695247</td>\n",
       "    </tr>\n",
       "    <tr>\n",
       "      <th>D7</th>\n",
       "      <td>150.322831</td>\n",
       "      <td>141.831898</td>\n",
       "      <td>131.876461</td>\n",
       "    </tr>\n",
       "    <tr>\n",
       "      <th>D8</th>\n",
       "      <td>158.15057</td>\n",
       "      <td>150.243775</td>\n",
       "      <td>140.312829</td>\n",
       "    </tr>\n",
       "    <tr>\n",
       "      <th>D9</th>\n",
       "      <td>136.673198</td>\n",
       "      <td>144.831114</td>\n",
       "      <td>152.925621</td>\n",
       "    </tr>\n",
       "    <tr>\n",
       "      <th>D10</th>\n",
       "      <td>149.408646</td>\n",
       "      <td>132.678621</td>\n",
       "      <td>148.485007</td>\n",
       "    </tr>\n",
       "  </tbody>\n",
       "</table>\n",
       "</div>"
      ],
      "text/plain": [
       "          Lap 1       Lap 2       Lap 3\n",
       "D1   147.582634  150.336098  150.452330\n",
       "D2   138.507333  141.778606  146.514403\n",
       "D3   153.155199  159.799375  159.401573\n",
       "D4     162.9858   131.80352  146.646486\n",
       "D5   152.104515  129.546147  137.394809\n",
       "D6   146.067233  144.422052  135.695247\n",
       "D7   150.322831  141.831898  131.876461\n",
       "D8    158.15057  150.243775  140.312829\n",
       "D9   136.673198  144.831114  152.925621\n",
       "D10  149.408646  132.678621  148.485007"
      ]
     },
     "execution_count": 226,
     "metadata": {},
     "output_type": "execute_result"
    }
   ],
   "source": [
    "#View the dataset\n",
    "drivers"
   ]
  },
  {
   "cell_type": "markdown",
   "id": "30466a7d",
   "metadata": {},
   "source": [
    "## Missing Completely At Random (MCAR)"
   ]
  },
  {
   "cell_type": "markdown",
   "id": "583ba2d6",
   "metadata": {},
   "source": [
    "From its name, missing data are said to be missing completely at random if they are missing due to completely random reasons. There is no specific pattern in the dataset: \n",
    "- No relationships between the variable with missing values and other variables.\n",
    "- No relationship between the variable with missing values and itself. \n",
    "\n",
    "An example for this in our dataset would be:\n",
    "- The tracking device on one of the cars suddenly got damaged.\n",
    "- A cars' engine broke down before finishing one of the laps.\n",
    "\n",
    "We are now going to create a column called MCAR which could represent Lap 3 times from real life data where the missing Lap 3 times for some of the drivers are missing completely at random. \n",
    "\n",
    "There are plenty of ways to do so, but the one I would hint towards is multiplying each lap 3 times with a number simulated from a binomial distribution with probability of success equalling 0.5 "
   ]
  },
  {
   "cell_type": "code",
   "execution_count": 227,
   "id": "5ef77015",
   "metadata": {},
   "outputs": [],
   "source": [
    "#Create the column called MCAR for Lap 3 times, with some of them missing completely at random\n",
    "drivers['MCAR'] = random.binomial(1,0.5,size=10)*drivers['Lap 3'] \n",
    "drivers['MCAR'] = drivers['MCAR'].replace(0, np.nan)"
   ]
  },
  {
   "cell_type": "code",
   "execution_count": 228,
   "id": "910c6fd7",
   "metadata": {},
   "outputs": [
    {
     "data": {
      "text/html": [
       "<div>\n",
       "<style scoped>\n",
       "    .dataframe tbody tr th:only-of-type {\n",
       "        vertical-align: middle;\n",
       "    }\n",
       "\n",
       "    .dataframe tbody tr th {\n",
       "        vertical-align: top;\n",
       "    }\n",
       "\n",
       "    .dataframe thead th {\n",
       "        text-align: right;\n",
       "    }\n",
       "</style>\n",
       "<table border=\"1\" class=\"dataframe\">\n",
       "  <thead>\n",
       "    <tr style=\"text-align: right;\">\n",
       "      <th></th>\n",
       "      <th>Lap 1</th>\n",
       "      <th>Lap 2</th>\n",
       "      <th>Lap 3</th>\n",
       "      <th>MCAR</th>\n",
       "    </tr>\n",
       "  </thead>\n",
       "  <tbody>\n",
       "    <tr>\n",
       "      <th>D1</th>\n",
       "      <td>147.582634</td>\n",
       "      <td>150.336098</td>\n",
       "      <td>150.452330</td>\n",
       "      <td>NaN</td>\n",
       "    </tr>\n",
       "    <tr>\n",
       "      <th>D2</th>\n",
       "      <td>138.507333</td>\n",
       "      <td>141.778606</td>\n",
       "      <td>146.514403</td>\n",
       "      <td>NaN</td>\n",
       "    </tr>\n",
       "    <tr>\n",
       "      <th>D3</th>\n",
       "      <td>153.155199</td>\n",
       "      <td>159.799375</td>\n",
       "      <td>159.401573</td>\n",
       "      <td>159.401573</td>\n",
       "    </tr>\n",
       "    <tr>\n",
       "      <th>D4</th>\n",
       "      <td>162.9858</td>\n",
       "      <td>131.80352</td>\n",
       "      <td>146.646486</td>\n",
       "      <td>146.646486</td>\n",
       "    </tr>\n",
       "    <tr>\n",
       "      <th>D5</th>\n",
       "      <td>152.104515</td>\n",
       "      <td>129.546147</td>\n",
       "      <td>137.394809</td>\n",
       "      <td>NaN</td>\n",
       "    </tr>\n",
       "    <tr>\n",
       "      <th>D6</th>\n",
       "      <td>146.067233</td>\n",
       "      <td>144.422052</td>\n",
       "      <td>135.695247</td>\n",
       "      <td>135.695247</td>\n",
       "    </tr>\n",
       "    <tr>\n",
       "      <th>D7</th>\n",
       "      <td>150.322831</td>\n",
       "      <td>141.831898</td>\n",
       "      <td>131.876461</td>\n",
       "      <td>NaN</td>\n",
       "    </tr>\n",
       "    <tr>\n",
       "      <th>D8</th>\n",
       "      <td>158.15057</td>\n",
       "      <td>150.243775</td>\n",
       "      <td>140.312829</td>\n",
       "      <td>NaN</td>\n",
       "    </tr>\n",
       "    <tr>\n",
       "      <th>D9</th>\n",
       "      <td>136.673198</td>\n",
       "      <td>144.831114</td>\n",
       "      <td>152.925621</td>\n",
       "      <td>NaN</td>\n",
       "    </tr>\n",
       "    <tr>\n",
       "      <th>D10</th>\n",
       "      <td>149.408646</td>\n",
       "      <td>132.678621</td>\n",
       "      <td>148.485007</td>\n",
       "      <td>148.485007</td>\n",
       "    </tr>\n",
       "  </tbody>\n",
       "</table>\n",
       "</div>"
      ],
      "text/plain": [
       "          Lap 1       Lap 2       Lap 3        MCAR\n",
       "D1   147.582634  150.336098  150.452330         NaN\n",
       "D2   138.507333  141.778606  146.514403         NaN\n",
       "D3   153.155199  159.799375  159.401573  159.401573\n",
       "D4     162.9858   131.80352  146.646486  146.646486\n",
       "D5   152.104515  129.546147  137.394809         NaN\n",
       "D6   146.067233  144.422052  135.695247  135.695247\n",
       "D7   150.322831  141.831898  131.876461         NaN\n",
       "D8    158.15057  150.243775  140.312829         NaN\n",
       "D9   136.673198  144.831114  152.925621         NaN\n",
       "D10  149.408646  132.678621  148.485007  148.485007"
      ]
     },
     "execution_count": 228,
     "metadata": {},
     "output_type": "execute_result"
    }
   ],
   "source": [
    "#View the dataset\n",
    "drivers"
   ]
  },
  {
   "cell_type": "markdown",
   "id": "0f569c8c",
   "metadata": {},
   "source": [
    "## Missing At Random (MAR)"
   ]
  },
  {
   "cell_type": "markdown",
   "id": "62a4686a",
   "metadata": {},
   "source": [
    "Missing values are said to be Missing at Random if they are missing due to a dependance on other variable/s. This means that for any observation, a variable being missing depends on other variable/s' values. An example for this in our dataset would be: \n",
    "\n",
    "- Drivers who scored 10-seconds slower lap 2 times or more than lap 1 times are ordered by their teams not to attempt a third lap as this might indicate loss of power in the car's engine. So, the availability of lap 3 times are affected by the times for laps 1 and 2. "
   ]
  },
  {
   "cell_type": "code",
   "execution_count": 229,
   "id": "0f243d9b",
   "metadata": {},
   "outputs": [],
   "source": [
    "#Create a column called MAR that follows the scenario in the above bulletpoint\n",
    "x = []\n",
    "for i in range(drivers.shape[0]):\n",
    "    if drivers.iloc[i]['Lap 2'] - drivers.iloc[i]['Lap 1'] > 10:\n",
    "        x.append(np.nan)\n",
    "    else: \n",
    "        x.append(drivers.iloc[i]['Lap 3'])\n",
    "drivers['MAR'] = x"
   ]
  },
  {
   "cell_type": "code",
   "execution_count": 230,
   "id": "52a1c41a",
   "metadata": {},
   "outputs": [
    {
     "data": {
      "text/html": [
       "<div>\n",
       "<style scoped>\n",
       "    .dataframe tbody tr th:only-of-type {\n",
       "        vertical-align: middle;\n",
       "    }\n",
       "\n",
       "    .dataframe tbody tr th {\n",
       "        vertical-align: top;\n",
       "    }\n",
       "\n",
       "    .dataframe thead th {\n",
       "        text-align: right;\n",
       "    }\n",
       "</style>\n",
       "<table border=\"1\" class=\"dataframe\">\n",
       "  <thead>\n",
       "    <tr style=\"text-align: right;\">\n",
       "      <th></th>\n",
       "      <th>Lap 1</th>\n",
       "      <th>Lap 2</th>\n",
       "      <th>Lap 3</th>\n",
       "      <th>MCAR</th>\n",
       "      <th>MAR</th>\n",
       "    </tr>\n",
       "  </thead>\n",
       "  <tbody>\n",
       "    <tr>\n",
       "      <th>D1</th>\n",
       "      <td>147.582634</td>\n",
       "      <td>150.336098</td>\n",
       "      <td>150.452330</td>\n",
       "      <td>NaN</td>\n",
       "      <td>150.452330</td>\n",
       "    </tr>\n",
       "    <tr>\n",
       "      <th>D2</th>\n",
       "      <td>138.507333</td>\n",
       "      <td>141.778606</td>\n",
       "      <td>146.514403</td>\n",
       "      <td>NaN</td>\n",
       "      <td>146.514403</td>\n",
       "    </tr>\n",
       "    <tr>\n",
       "      <th>D3</th>\n",
       "      <td>153.155199</td>\n",
       "      <td>159.799375</td>\n",
       "      <td>159.401573</td>\n",
       "      <td>159.401573</td>\n",
       "      <td>159.401573</td>\n",
       "    </tr>\n",
       "    <tr>\n",
       "      <th>D4</th>\n",
       "      <td>162.9858</td>\n",
       "      <td>131.80352</td>\n",
       "      <td>146.646486</td>\n",
       "      <td>146.646486</td>\n",
       "      <td>146.646486</td>\n",
       "    </tr>\n",
       "    <tr>\n",
       "      <th>D5</th>\n",
       "      <td>152.104515</td>\n",
       "      <td>129.546147</td>\n",
       "      <td>137.394809</td>\n",
       "      <td>NaN</td>\n",
       "      <td>137.394809</td>\n",
       "    </tr>\n",
       "    <tr>\n",
       "      <th>D6</th>\n",
       "      <td>146.067233</td>\n",
       "      <td>144.422052</td>\n",
       "      <td>135.695247</td>\n",
       "      <td>135.695247</td>\n",
       "      <td>135.695247</td>\n",
       "    </tr>\n",
       "    <tr>\n",
       "      <th>D7</th>\n",
       "      <td>150.322831</td>\n",
       "      <td>141.831898</td>\n",
       "      <td>131.876461</td>\n",
       "      <td>NaN</td>\n",
       "      <td>131.876461</td>\n",
       "    </tr>\n",
       "    <tr>\n",
       "      <th>D8</th>\n",
       "      <td>158.15057</td>\n",
       "      <td>150.243775</td>\n",
       "      <td>140.312829</td>\n",
       "      <td>NaN</td>\n",
       "      <td>140.312829</td>\n",
       "    </tr>\n",
       "    <tr>\n",
       "      <th>D9</th>\n",
       "      <td>136.673198</td>\n",
       "      <td>144.831114</td>\n",
       "      <td>152.925621</td>\n",
       "      <td>NaN</td>\n",
       "      <td>152.925621</td>\n",
       "    </tr>\n",
       "    <tr>\n",
       "      <th>D10</th>\n",
       "      <td>149.408646</td>\n",
       "      <td>132.678621</td>\n",
       "      <td>148.485007</td>\n",
       "      <td>148.485007</td>\n",
       "      <td>148.485007</td>\n",
       "    </tr>\n",
       "  </tbody>\n",
       "</table>\n",
       "</div>"
      ],
      "text/plain": [
       "          Lap 1       Lap 2       Lap 3        MCAR         MAR\n",
       "D1   147.582634  150.336098  150.452330         NaN  150.452330\n",
       "D2   138.507333  141.778606  146.514403         NaN  146.514403\n",
       "D3   153.155199  159.799375  159.401573  159.401573  159.401573\n",
       "D4     162.9858   131.80352  146.646486  146.646486  146.646486\n",
       "D5   152.104515  129.546147  137.394809         NaN  137.394809\n",
       "D6   146.067233  144.422052  135.695247  135.695247  135.695247\n",
       "D7   150.322831  141.831898  131.876461         NaN  131.876461\n",
       "D8    158.15057  150.243775  140.312829         NaN  140.312829\n",
       "D9   136.673198  144.831114  152.925621         NaN  152.925621\n",
       "D10  149.408646  132.678621  148.485007  148.485007  148.485007"
      ]
     },
     "execution_count": 230,
     "metadata": {},
     "output_type": "execute_result"
    }
   ],
   "source": [
    "#View the dataset\n",
    "drivers"
   ]
  },
  {
   "cell_type": "markdown",
   "id": "2827bc1a",
   "metadata": {},
   "source": [
    "## Missing Not at Random (MNAR)"
   ]
  },
  {
   "cell_type": "markdown",
   "id": "a3694016",
   "metadata": {},
   "source": [
    "Missing values are said to be Missing Not at Random if they are missing because of their values themselves. This might sound unintuitive, but here is an example from our dataset that will make it clearer: \n",
    "\n",
    "- Assume that drivers on this track generally score in the range of 120-160 seconds. Drivers who score above 160 seconds on Lap 3 get disheartened by that and sometimes decide not to report their scores as they are afraid it will reflect badly on their performance. This means that missing values in lap 3 are missing because of the time scored in lap 3."
   ]
  },
  {
   "cell_type": "code",
   "execution_count": 231,
   "id": "6205c68c",
   "metadata": {},
   "outputs": [],
   "source": [
    "# Create a column called MNAR that follows the scenario in the above bulletpoint\n",
    "x = []\n",
    "for i in range(drivers.shape[0]):\n",
    "    if drivers.iloc[i]['Lap 3'] > 160:\n",
    "        x.append(np.nan)\n",
    "    else: \n",
    "        x.append(drivers.iloc[i]['Lap 3'])\n",
    "drivers['MNAR'] = x"
   ]
  },
  {
   "cell_type": "code",
   "execution_count": 232,
   "id": "1b67f596",
   "metadata": {},
   "outputs": [
    {
     "data": {
      "text/html": [
       "<div>\n",
       "<style scoped>\n",
       "    .dataframe tbody tr th:only-of-type {\n",
       "        vertical-align: middle;\n",
       "    }\n",
       "\n",
       "    .dataframe tbody tr th {\n",
       "        vertical-align: top;\n",
       "    }\n",
       "\n",
       "    .dataframe thead th {\n",
       "        text-align: right;\n",
       "    }\n",
       "</style>\n",
       "<table border=\"1\" class=\"dataframe\">\n",
       "  <thead>\n",
       "    <tr style=\"text-align: right;\">\n",
       "      <th></th>\n",
       "      <th>Lap 1</th>\n",
       "      <th>Lap 2</th>\n",
       "      <th>Lap 3</th>\n",
       "      <th>MCAR</th>\n",
       "      <th>MAR</th>\n",
       "      <th>MNAR</th>\n",
       "    </tr>\n",
       "  </thead>\n",
       "  <tbody>\n",
       "    <tr>\n",
       "      <th>D1</th>\n",
       "      <td>147.582634</td>\n",
       "      <td>150.336098</td>\n",
       "      <td>150.452330</td>\n",
       "      <td>NaN</td>\n",
       "      <td>150.452330</td>\n",
       "      <td>150.452330</td>\n",
       "    </tr>\n",
       "    <tr>\n",
       "      <th>D2</th>\n",
       "      <td>138.507333</td>\n",
       "      <td>141.778606</td>\n",
       "      <td>146.514403</td>\n",
       "      <td>NaN</td>\n",
       "      <td>146.514403</td>\n",
       "      <td>146.514403</td>\n",
       "    </tr>\n",
       "    <tr>\n",
       "      <th>D3</th>\n",
       "      <td>153.155199</td>\n",
       "      <td>159.799375</td>\n",
       "      <td>159.401573</td>\n",
       "      <td>159.401573</td>\n",
       "      <td>159.401573</td>\n",
       "      <td>159.401573</td>\n",
       "    </tr>\n",
       "    <tr>\n",
       "      <th>D4</th>\n",
       "      <td>162.9858</td>\n",
       "      <td>131.80352</td>\n",
       "      <td>146.646486</td>\n",
       "      <td>146.646486</td>\n",
       "      <td>146.646486</td>\n",
       "      <td>146.646486</td>\n",
       "    </tr>\n",
       "    <tr>\n",
       "      <th>D5</th>\n",
       "      <td>152.104515</td>\n",
       "      <td>129.546147</td>\n",
       "      <td>137.394809</td>\n",
       "      <td>NaN</td>\n",
       "      <td>137.394809</td>\n",
       "      <td>137.394809</td>\n",
       "    </tr>\n",
       "    <tr>\n",
       "      <th>D6</th>\n",
       "      <td>146.067233</td>\n",
       "      <td>144.422052</td>\n",
       "      <td>135.695247</td>\n",
       "      <td>135.695247</td>\n",
       "      <td>135.695247</td>\n",
       "      <td>135.695247</td>\n",
       "    </tr>\n",
       "    <tr>\n",
       "      <th>D7</th>\n",
       "      <td>150.322831</td>\n",
       "      <td>141.831898</td>\n",
       "      <td>131.876461</td>\n",
       "      <td>NaN</td>\n",
       "      <td>131.876461</td>\n",
       "      <td>131.876461</td>\n",
       "    </tr>\n",
       "    <tr>\n",
       "      <th>D8</th>\n",
       "      <td>158.15057</td>\n",
       "      <td>150.243775</td>\n",
       "      <td>140.312829</td>\n",
       "      <td>NaN</td>\n",
       "      <td>140.312829</td>\n",
       "      <td>140.312829</td>\n",
       "    </tr>\n",
       "    <tr>\n",
       "      <th>D9</th>\n",
       "      <td>136.673198</td>\n",
       "      <td>144.831114</td>\n",
       "      <td>152.925621</td>\n",
       "      <td>NaN</td>\n",
       "      <td>152.925621</td>\n",
       "      <td>152.925621</td>\n",
       "    </tr>\n",
       "    <tr>\n",
       "      <th>D10</th>\n",
       "      <td>149.408646</td>\n",
       "      <td>132.678621</td>\n",
       "      <td>148.485007</td>\n",
       "      <td>148.485007</td>\n",
       "      <td>148.485007</td>\n",
       "      <td>148.485007</td>\n",
       "    </tr>\n",
       "  </tbody>\n",
       "</table>\n",
       "</div>"
      ],
      "text/plain": [
       "          Lap 1       Lap 2       Lap 3        MCAR         MAR        MNAR\n",
       "D1   147.582634  150.336098  150.452330         NaN  150.452330  150.452330\n",
       "D2   138.507333  141.778606  146.514403         NaN  146.514403  146.514403\n",
       "D3   153.155199  159.799375  159.401573  159.401573  159.401573  159.401573\n",
       "D4     162.9858   131.80352  146.646486  146.646486  146.646486  146.646486\n",
       "D5   152.104515  129.546147  137.394809         NaN  137.394809  137.394809\n",
       "D6   146.067233  144.422052  135.695247  135.695247  135.695247  135.695247\n",
       "D7   150.322831  141.831898  131.876461         NaN  131.876461  131.876461\n",
       "D8    158.15057  150.243775  140.312829         NaN  140.312829  140.312829\n",
       "D9   136.673198  144.831114  152.925621         NaN  152.925621  152.925621\n",
       "D10  149.408646  132.678621  148.485007  148.485007  148.485007  148.485007"
      ]
     },
     "execution_count": 232,
     "metadata": {},
     "output_type": "execute_result"
    }
   ],
   "source": [
    "#View the dataset\n",
    "drivers"
   ]
  },
  {
   "cell_type": "markdown",
   "id": "b2b7ef57",
   "metadata": {},
   "source": [
    "A good question right now would be: How to detect whether the missing values in your dataset are MCAR, MAR or MNAR? \n",
    "\n",
    "Here is a good discussion I found on Kaggle: https://www.kaggle.com/questions-and-answers/105010 \n",
    "\n",
    "Now, we move onto the more advanced missing value imputation methods, starting with Expectation Maximization."
   ]
  },
  {
   "cell_type": "markdown",
   "id": "942d4033",
   "metadata": {},
   "source": [
    "## Expectation Maximization"
   ]
  },
  {
   "cell_type": "markdown",
   "id": "14a2a0cb",
   "metadata": {},
   "source": [
    "Expectation Maximization is an iterative algorithm used to calculate the maximum likelihood estimates for the parameters of a statistical model that depends on latent variables (or unobserved variables). Due to its nature of working with statistical models of unobserved variables, it is suitable for missing data imputations.\n",
    "\n",
    "In more details, suppose you have an explicit form for the joint distribution of $X_{obs}$ (the observed data), and $X_{mis}$ (the missing data). The goal is to estimate the parameters $\\theta \\in \\mathbb{R}^{d}$ for the statistical model of the joint distribution ($X_{obs}$,$X_{mis}$) by calculating the maximum likelihood estimates for the likelihood function of the marginal distribution of $X_{obs}$. We have that:\n",
    "$$\n",
    "L(\\theta ; X_{obs}) = p(X_{obs} | \\theta) = \\int p(X_{obs},X_{mis} | \\theta) \\, dX_{mis} = \\int p(X_{obs} | X_{mis},\\theta) p(X_{mis}|\\theta) \\, dX_{mis} \n",
    "$$\n",
    "As we do not observe the missing values $X_{mis}$, we cannot always compute the above explicitly. \n",
    "\n",
    "This is where EM comes into play. It obtains the maximum likelihood estimates for the marginal distribution of $X_{obs}$ by iteratively maximizing the expected complete-data log likelihood. Here are the two steps of the iteration:\n",
    "\n",
    "Start with an initial estimate $\\theta^{(0)}$ and let $\\theta^{(t)}$ be the iterate for the parameter $\\theta$ in the  $t^{th}$ iteration of the algorithm.\n",
    "\n",
    "<b> 1) Expectation: </b> Compute the expectation of the log likelihood of the complete-data with respect to the conditional distribution of $X_{mis}$ parameterized by $\\theta^{(t)}$: \n",
    "$$\n",
    "Q(\\theta, \\theta^{(t)}) = \\mathbb{E}_{X_{mis} | X_{obs},\\theta^{(t)}}[log(l(\\theta ; X_{obs}, X_{mis})]\n",
    "$$\n",
    "\n",
    "<b> 2) Maximization: </b> Obtain the value of $\\theta$ that maximizes Q($\\theta$, $\\theta^{(t)})$:\n",
    "\n",
    "$$\n",
    "\\theta^{(t+1)} = argmax_{\\theta} \\, Q(\\theta, \\theta^{(t)})\n",
    "$$\n",
    "\n",
    "The algorithm keeps iterating until it reaches a point where the difference between the estimates is negligible, and the algorithm is thought to have converged.\n",
    "\n",
    "In a nutshell, the algorithm starts with $\\theta^{(0)}$, then it estimates the values for the missing data using the observed data and the parameters $\\theta^{(0)}$, then it calculates the maximum likelihood parameter estimates for the complete-data, then it estimates new values for the previous missing data, and then the process keeps repeating until it converges. \n",
    "\n",
    "\n",
    "Expectation Maximization only works with MCAR and MAR missing data, and it works specifically well with distributions from the exponential family. One thing to bear in mind is that it calculates the local maximum likelihood estimates, and so for multimodal distributions, the global likelihood might not be obtained. \n",
    "\n",
    "- - - - - -\n",
    "\n",
    "Let us work through a simulated dataset from a multivariate normal distribution, where we are going to remove data randomly using the help of a binomial distribution as we did before; so that they fall under the MCAR missing data category.\n",
    "\n",
    "We are going to simulate random vectors of size 3 from a multivariate normal distribution with the following mean vector and variance covariance matrix (Feel free to change the parameters if you'd like):"
   ]
  },
  {
   "cell_type": "code",
   "execution_count": 233,
   "id": "d755270b",
   "metadata": {},
   "outputs": [
    {
     "data": {
      "text/plain": [
       "array([ 9.22781297, 10.30629951,  4.95207463])"
      ]
     },
     "execution_count": 233,
     "metadata": {},
     "output_type": "execute_result"
    }
   ],
   "source": [
    "#The mean vector\n",
    "Mean = random.normal(10,5,3)\n",
    "Mean"
   ]
  },
  {
   "cell_type": "code",
   "execution_count": 234,
   "id": "5e3525c3",
   "metadata": {},
   "outputs": [
    {
     "data": {
      "text/plain": [
       "array([[1, 1, 1],\n",
       "       [1, 1, 1],\n",
       "       [1, 1, 1]])"
      ]
     },
     "execution_count": 234,
     "metadata": {},
     "output_type": "execute_result"
    }
   ],
   "source": [
    "#The variance-covariance matrix\n",
    "Cov_matrix = np.array([[1,1,1], [1,1,1], [1,1,1]])\n",
    "Cov_matrix"
   ]
  },
  {
   "cell_type": "code",
   "execution_count": 235,
   "id": "d02a0a34",
   "metadata": {},
   "outputs": [],
   "source": [
    "#Generate 200 vectors from a multivariate normal distribution with the mean vector and var-cov matrix specified above \n",
    "sim_array = random.multivariate_normal(Mean, Cov_matrix, 200)"
   ]
  },
  {
   "cell_type": "code",
   "execution_count": 236,
   "id": "8a442786",
   "metadata": {},
   "outputs": [
    {
     "data": {
      "text/plain": [
       "array([[ 8.77210963,  9.85059616,  4.49637129],\n",
       "       [10.2155584 , 11.29404494,  5.93982007],\n",
       "       [ 9.82557538, 10.90406191,  5.54983704],\n",
       "       [ 8.61339306,  9.6918796 ,  4.33765473],\n",
       "       [10.65598589, 11.73447243,  6.38024755],\n",
       "       [ 9.1705285 , 10.24901504,  4.89479017],\n",
       "       [ 9.30493217, 10.38341871,  5.02919384],\n",
       "       [ 7.85128103,  8.92976756,  3.57554269],\n",
       "       [ 9.16193006, 10.2404166 ,  4.88619173],\n",
       "       [ 9.75143103, 10.82991757,  5.4756927 ]])"
      ]
     },
     "execution_count": 236,
     "metadata": {},
     "output_type": "execute_result"
    }
   ],
   "source": [
    "#View the first 10 vectors\n",
    "sim_array[:10,:]"
   ]
  },
  {
   "cell_type": "markdown",
   "id": "17a95461",
   "metadata": {},
   "source": [
    "Now, we are going to remove some of the data randomly from the third entry of the vectors so that we could then try imputing them using EM and other simple imputations methods. \n",
    "\n",
    "Let us start by creating a copy from the array so that we could have a full array and another array with MCAR values in the third entry that we could impute and compare to the original array."
   ]
  },
  {
   "cell_type": "code",
   "execution_count": 237,
   "id": "e077c539",
   "metadata": {},
   "outputs": [],
   "source": [
    "#Create a copy from the original array\n",
    "sim_array_missing = sim_array.copy()"
   ]
  },
  {
   "cell_type": "code",
   "execution_count": 238,
   "id": "f9cc5163",
   "metadata": {},
   "outputs": [],
   "source": [
    "#Remove data from the third entry randomly (as done before)\n",
    "sim_array_missing[:,2] = sim_array_missing[:,2]*random.binomial(1,0.5,200)\n",
    "sim_array_missing[:,2] = np.where(sim_array_missing[:,2] == 0, np.nan, sim_array_missing[:,2])"
   ]
  },
  {
   "cell_type": "markdown",
   "id": "0f349b5f",
   "metadata": {},
   "source": [
    "Download a library called `impyute` using `pip install impyute`. \n",
    "\n",
    "Then, import impyute as impy into the notebook:"
   ]
  },
  {
   "cell_type": "code",
   "execution_count": 239,
   "id": "3ec590e0",
   "metadata": {},
   "outputs": [],
   "source": [
    "#import impyute\n",
    "import impyute as impy"
   ]
  },
  {
   "cell_type": "markdown",
   "id": "cc7db6ae",
   "metadata": {},
   "source": [
    "Quickly research how impyute is used, and then create three arrays where each array has its missing values imputed using one of the following methods: \n",
    "\n",
    "- Expectation Maximization\n",
    "- Mean\n",
    "- Median "
   ]
  },
  {
   "cell_type": "code",
   "execution_count": 240,
   "id": "a2add050",
   "metadata": {},
   "outputs": [],
   "source": [
    "#Create the array imputed with EM\n",
    "sim_array_em_imputed = impy.em(sim_array_missing)"
   ]
  },
  {
   "cell_type": "code",
   "execution_count": 241,
   "id": "8b924b4f",
   "metadata": {},
   "outputs": [],
   "source": [
    "#Create the array imputed with the mean\n",
    "sim_array_mean_imputed = impy.mean(sim_array_missing)"
   ]
  },
  {
   "cell_type": "code",
   "execution_count": 242,
   "id": "2a91c9a0",
   "metadata": {},
   "outputs": [],
   "source": [
    "#Create the array imputed with the median\n",
    "sim_array_median_imputed = impy.median(sim_array_missing)"
   ]
  },
  {
   "cell_type": "markdown",
   "id": "0d372ed5",
   "metadata": {},
   "source": [
    "## Comparing them together"
   ]
  },
  {
   "cell_type": "markdown",
   "id": "0f7398f4",
   "metadata": {},
   "source": [
    "Now, we are going to specify the entries that were imputed in the three imputation methods, and then compare them by concatenating them together alongside the original data, and then using matplotlib to plot a graph for the data from the three imputed methods as well as the original data. \n",
    "\n",
    "Let us start by specifying the indices of the observations where there was a missing value in the third entry: \n"
   ]
  },
  {
   "cell_type": "code",
   "execution_count": 243,
   "id": "25d41245",
   "metadata": {},
   "outputs": [],
   "source": [
    "#Create an array with the indices of the observations where there was a missing value in the third entry\n",
    "indices = np.argwhere(np.isnan(sim_array_missing))[:,0]"
   ]
  },
  {
   "cell_type": "code",
   "execution_count": 244,
   "id": "9e0cd817",
   "metadata": {},
   "outputs": [],
   "source": [
    "#Create an array with the EM imputed values \n",
    "a = sim_array_em_imputed[indices,2]"
   ]
  },
  {
   "cell_type": "code",
   "execution_count": 245,
   "id": "1a49a8b3",
   "metadata": {},
   "outputs": [],
   "source": [
    "#Create an array with the mean imputed values\n",
    "b = sim_array_mean_imputed[indices,2]"
   ]
  },
  {
   "cell_type": "code",
   "execution_count": 246,
   "id": "ff548d8a",
   "metadata": {},
   "outputs": [],
   "source": [
    "#Create an array with the median imputed values \n",
    "c = sim_array_median_imputed[indices,2]"
   ]
  },
  {
   "cell_type": "code",
   "execution_count": 247,
   "id": "19012c85",
   "metadata": {},
   "outputs": [],
   "source": [
    "#Create an array with the original data \n",
    "d = sim_array[indices,2]"
   ]
  },
  {
   "cell_type": "markdown",
   "id": "4609558e",
   "metadata": {},
   "source": [
    "Now, create three datasets where each dataset contain the imputed values from one data imputation method, and one final dataset with the original data."
   ]
  },
  {
   "cell_type": "code",
   "execution_count": 248,
   "id": "0d389dd3",
   "metadata": {},
   "outputs": [
    {
     "data": {
      "text/html": [
       "<div>\n",
       "<style scoped>\n",
       "    .dataframe tbody tr th:only-of-type {\n",
       "        vertical-align: middle;\n",
       "    }\n",
       "\n",
       "    .dataframe tbody tr th {\n",
       "        vertical-align: top;\n",
       "    }\n",
       "\n",
       "    .dataframe thead th {\n",
       "        text-align: right;\n",
       "    }\n",
       "</style>\n",
       "<table border=\"1\" class=\"dataframe\">\n",
       "  <thead>\n",
       "    <tr style=\"text-align: right;\">\n",
       "      <th></th>\n",
       "      <th>EM_imputed</th>\n",
       "    </tr>\n",
       "  </thead>\n",
       "  <tbody>\n",
       "    <tr>\n",
       "      <th>0</th>\n",
       "      <td>4.448951</td>\n",
       "    </tr>\n",
       "    <tr>\n",
       "      <th>1</th>\n",
       "      <td>4.027320</td>\n",
       "    </tr>\n",
       "    <tr>\n",
       "      <th>2</th>\n",
       "      <td>4.004348</td>\n",
       "    </tr>\n",
       "    <tr>\n",
       "      <th>3</th>\n",
       "      <td>4.979473</td>\n",
       "    </tr>\n",
       "    <tr>\n",
       "      <th>4</th>\n",
       "      <td>3.767864</td>\n",
       "    </tr>\n",
       "    <tr>\n",
       "      <th>...</th>\n",
       "      <td>...</td>\n",
       "    </tr>\n",
       "    <tr>\n",
       "      <th>95</th>\n",
       "      <td>5.392949</td>\n",
       "    </tr>\n",
       "    <tr>\n",
       "      <th>96</th>\n",
       "      <td>4.563252</td>\n",
       "    </tr>\n",
       "    <tr>\n",
       "      <th>97</th>\n",
       "      <td>3.639849</td>\n",
       "    </tr>\n",
       "    <tr>\n",
       "      <th>98</th>\n",
       "      <td>5.269673</td>\n",
       "    </tr>\n",
       "    <tr>\n",
       "      <th>99</th>\n",
       "      <td>4.713082</td>\n",
       "    </tr>\n",
       "  </tbody>\n",
       "</table>\n",
       "<p>100 rows × 1 columns</p>\n",
       "</div>"
      ],
      "text/plain": [
       "    EM_imputed\n",
       "0     4.448951\n",
       "1     4.027320\n",
       "2     4.004348\n",
       "3     4.979473\n",
       "4     3.767864\n",
       "..         ...\n",
       "95    5.392949\n",
       "96    4.563252\n",
       "97    3.639849\n",
       "98    5.269673\n",
       "99    4.713082\n",
       "\n",
       "[100 rows x 1 columns]"
      ]
     },
     "execution_count": 248,
     "metadata": {},
     "output_type": "execute_result"
    }
   ],
   "source": [
    "#Create a dataset with the EM imputed values\n",
    "EM = pd.DataFrame(data=a, columns=['EM_imputed'])\n",
    "EM"
   ]
  },
  {
   "cell_type": "code",
   "execution_count": 249,
   "id": "b1774538",
   "metadata": {},
   "outputs": [
    {
     "data": {
      "text/html": [
       "<div>\n",
       "<style scoped>\n",
       "    .dataframe tbody tr th:only-of-type {\n",
       "        vertical-align: middle;\n",
       "    }\n",
       "\n",
       "    .dataframe tbody tr th {\n",
       "        vertical-align: top;\n",
       "    }\n",
       "\n",
       "    .dataframe thead th {\n",
       "        text-align: right;\n",
       "    }\n",
       "</style>\n",
       "<table border=\"1\" class=\"dataframe\">\n",
       "  <thead>\n",
       "    <tr style=\"text-align: right;\">\n",
       "      <th></th>\n",
       "      <th>Mean_imputed</th>\n",
       "    </tr>\n",
       "  </thead>\n",
       "  <tbody>\n",
       "    <tr>\n",
       "      <th>0</th>\n",
       "      <td>4.881911</td>\n",
       "    </tr>\n",
       "    <tr>\n",
       "      <th>1</th>\n",
       "      <td>4.881911</td>\n",
       "    </tr>\n",
       "    <tr>\n",
       "      <th>2</th>\n",
       "      <td>4.881911</td>\n",
       "    </tr>\n",
       "    <tr>\n",
       "      <th>3</th>\n",
       "      <td>4.881911</td>\n",
       "    </tr>\n",
       "    <tr>\n",
       "      <th>4</th>\n",
       "      <td>4.881911</td>\n",
       "    </tr>\n",
       "    <tr>\n",
       "      <th>...</th>\n",
       "      <td>...</td>\n",
       "    </tr>\n",
       "    <tr>\n",
       "      <th>95</th>\n",
       "      <td>4.881911</td>\n",
       "    </tr>\n",
       "    <tr>\n",
       "      <th>96</th>\n",
       "      <td>4.881911</td>\n",
       "    </tr>\n",
       "    <tr>\n",
       "      <th>97</th>\n",
       "      <td>4.881911</td>\n",
       "    </tr>\n",
       "    <tr>\n",
       "      <th>98</th>\n",
       "      <td>4.881911</td>\n",
       "    </tr>\n",
       "    <tr>\n",
       "      <th>99</th>\n",
       "      <td>4.881911</td>\n",
       "    </tr>\n",
       "  </tbody>\n",
       "</table>\n",
       "<p>100 rows × 1 columns</p>\n",
       "</div>"
      ],
      "text/plain": [
       "    Mean_imputed\n",
       "0       4.881911\n",
       "1       4.881911\n",
       "2       4.881911\n",
       "3       4.881911\n",
       "4       4.881911\n",
       "..           ...\n",
       "95      4.881911\n",
       "96      4.881911\n",
       "97      4.881911\n",
       "98      4.881911\n",
       "99      4.881911\n",
       "\n",
       "[100 rows x 1 columns]"
      ]
     },
     "execution_count": 249,
     "metadata": {},
     "output_type": "execute_result"
    }
   ],
   "source": [
    "#Create a dataset with the mean imputed values\n",
    "Mean = pd.DataFrame(data=b, columns=['Mean_imputed'])\n",
    "Mean"
   ]
  },
  {
   "cell_type": "code",
   "execution_count": 250,
   "id": "7f828e20",
   "metadata": {},
   "outputs": [
    {
     "data": {
      "text/html": [
       "<div>\n",
       "<style scoped>\n",
       "    .dataframe tbody tr th:only-of-type {\n",
       "        vertical-align: middle;\n",
       "    }\n",
       "\n",
       "    .dataframe tbody tr th {\n",
       "        vertical-align: top;\n",
       "    }\n",
       "\n",
       "    .dataframe thead th {\n",
       "        text-align: right;\n",
       "    }\n",
       "</style>\n",
       "<table border=\"1\" class=\"dataframe\">\n",
       "  <thead>\n",
       "    <tr style=\"text-align: right;\">\n",
       "      <th></th>\n",
       "      <th>Median_imputed</th>\n",
       "    </tr>\n",
       "  </thead>\n",
       "  <tbody>\n",
       "    <tr>\n",
       "      <th>0</th>\n",
       "      <td>5.030792</td>\n",
       "    </tr>\n",
       "    <tr>\n",
       "      <th>1</th>\n",
       "      <td>5.030792</td>\n",
       "    </tr>\n",
       "    <tr>\n",
       "      <th>2</th>\n",
       "      <td>5.030792</td>\n",
       "    </tr>\n",
       "    <tr>\n",
       "      <th>3</th>\n",
       "      <td>5.030792</td>\n",
       "    </tr>\n",
       "    <tr>\n",
       "      <th>4</th>\n",
       "      <td>5.030792</td>\n",
       "    </tr>\n",
       "    <tr>\n",
       "      <th>...</th>\n",
       "      <td>...</td>\n",
       "    </tr>\n",
       "    <tr>\n",
       "      <th>95</th>\n",
       "      <td>5.030792</td>\n",
       "    </tr>\n",
       "    <tr>\n",
       "      <th>96</th>\n",
       "      <td>5.030792</td>\n",
       "    </tr>\n",
       "    <tr>\n",
       "      <th>97</th>\n",
       "      <td>5.030792</td>\n",
       "    </tr>\n",
       "    <tr>\n",
       "      <th>98</th>\n",
       "      <td>5.030792</td>\n",
       "    </tr>\n",
       "    <tr>\n",
       "      <th>99</th>\n",
       "      <td>5.030792</td>\n",
       "    </tr>\n",
       "  </tbody>\n",
       "</table>\n",
       "<p>100 rows × 1 columns</p>\n",
       "</div>"
      ],
      "text/plain": [
       "    Median_imputed\n",
       "0         5.030792\n",
       "1         5.030792\n",
       "2         5.030792\n",
       "3         5.030792\n",
       "4         5.030792\n",
       "..             ...\n",
       "95        5.030792\n",
       "96        5.030792\n",
       "97        5.030792\n",
       "98        5.030792\n",
       "99        5.030792\n",
       "\n",
       "[100 rows x 1 columns]"
      ]
     },
     "execution_count": 250,
     "metadata": {},
     "output_type": "execute_result"
    }
   ],
   "source": [
    "#Create a dataset with the median imputed values\n",
    "Median = pd.DataFrame(data=c, columns=['Median_imputed'])\n",
    "Median "
   ]
  },
  {
   "cell_type": "code",
   "execution_count": 251,
   "id": "4dfe1835",
   "metadata": {},
   "outputs": [
    {
     "data": {
      "text/html": [
       "<div>\n",
       "<style scoped>\n",
       "    .dataframe tbody tr th:only-of-type {\n",
       "        vertical-align: middle;\n",
       "    }\n",
       "\n",
       "    .dataframe tbody tr th {\n",
       "        vertical-align: top;\n",
       "    }\n",
       "\n",
       "    .dataframe thead th {\n",
       "        text-align: right;\n",
       "    }\n",
       "</style>\n",
       "<table border=\"1\" class=\"dataframe\">\n",
       "  <thead>\n",
       "    <tr style=\"text-align: right;\">\n",
       "      <th></th>\n",
       "      <th>Original</th>\n",
       "    </tr>\n",
       "  </thead>\n",
       "  <tbody>\n",
       "    <tr>\n",
       "      <th>0</th>\n",
       "      <td>4.496371</td>\n",
       "    </tr>\n",
       "    <tr>\n",
       "      <th>1</th>\n",
       "      <td>5.549837</td>\n",
       "    </tr>\n",
       "    <tr>\n",
       "      <th>2</th>\n",
       "      <td>4.894790</td>\n",
       "    </tr>\n",
       "    <tr>\n",
       "      <th>3</th>\n",
       "      <td>5.029194</td>\n",
       "    </tr>\n",
       "    <tr>\n",
       "      <th>4</th>\n",
       "      <td>6.046100</td>\n",
       "    </tr>\n",
       "    <tr>\n",
       "      <th>...</th>\n",
       "      <td>...</td>\n",
       "    </tr>\n",
       "    <tr>\n",
       "      <th>95</th>\n",
       "      <td>6.151752</td>\n",
       "    </tr>\n",
       "    <tr>\n",
       "      <th>96</th>\n",
       "      <td>6.697981</td>\n",
       "    </tr>\n",
       "    <tr>\n",
       "      <th>97</th>\n",
       "      <td>2.464250</td>\n",
       "    </tr>\n",
       "    <tr>\n",
       "      <th>98</th>\n",
       "      <td>3.735412</td>\n",
       "    </tr>\n",
       "    <tr>\n",
       "      <th>99</th>\n",
       "      <td>7.042981</td>\n",
       "    </tr>\n",
       "  </tbody>\n",
       "</table>\n",
       "<p>100 rows × 1 columns</p>\n",
       "</div>"
      ],
      "text/plain": [
       "    Original\n",
       "0   4.496371\n",
       "1   5.549837\n",
       "2   4.894790\n",
       "3   5.029194\n",
       "4   6.046100\n",
       "..       ...\n",
       "95  6.151752\n",
       "96  6.697981\n",
       "97  2.464250\n",
       "98  3.735412\n",
       "99  7.042981\n",
       "\n",
       "[100 rows x 1 columns]"
      ]
     },
     "execution_count": 251,
     "metadata": {},
     "output_type": "execute_result"
    }
   ],
   "source": [
    "#Create a dataset with the original values\n",
    "Original = pd.DataFrame(data=d, columns=['Original'])\n",
    "Original"
   ]
  },
  {
   "cell_type": "markdown",
   "id": "199abc90",
   "metadata": {},
   "source": [
    "Now, concatenate the four datasets together to help in the comparison between the values from the different imputation methods:"
   ]
  },
  {
   "cell_type": "code",
   "execution_count": 252,
   "id": "35887ef1",
   "metadata": {},
   "outputs": [],
   "source": [
    "#Concatenate the above four datasets \n",
    "full_dataset = pd.concat((EM, Mean, Median, Original), axis=1)"
   ]
  },
  {
   "cell_type": "code",
   "execution_count": 253,
   "id": "661555b5",
   "metadata": {},
   "outputs": [
    {
     "data": {
      "text/html": [
       "<div>\n",
       "<style scoped>\n",
       "    .dataframe tbody tr th:only-of-type {\n",
       "        vertical-align: middle;\n",
       "    }\n",
       "\n",
       "    .dataframe tbody tr th {\n",
       "        vertical-align: top;\n",
       "    }\n",
       "\n",
       "    .dataframe thead th {\n",
       "        text-align: right;\n",
       "    }\n",
       "</style>\n",
       "<table border=\"1\" class=\"dataframe\">\n",
       "  <thead>\n",
       "    <tr style=\"text-align: right;\">\n",
       "      <th></th>\n",
       "      <th>EM_imputed</th>\n",
       "      <th>Mean_imputed</th>\n",
       "      <th>Median_imputed</th>\n",
       "      <th>Original</th>\n",
       "    </tr>\n",
       "  </thead>\n",
       "  <tbody>\n",
       "    <tr>\n",
       "      <th>0</th>\n",
       "      <td>4.448951</td>\n",
       "      <td>4.881911</td>\n",
       "      <td>5.030792</td>\n",
       "      <td>4.496371</td>\n",
       "    </tr>\n",
       "    <tr>\n",
       "      <th>1</th>\n",
       "      <td>4.027320</td>\n",
       "      <td>4.881911</td>\n",
       "      <td>5.030792</td>\n",
       "      <td>5.549837</td>\n",
       "    </tr>\n",
       "    <tr>\n",
       "      <th>2</th>\n",
       "      <td>4.004348</td>\n",
       "      <td>4.881911</td>\n",
       "      <td>5.030792</td>\n",
       "      <td>4.894790</td>\n",
       "    </tr>\n",
       "    <tr>\n",
       "      <th>3</th>\n",
       "      <td>4.979473</td>\n",
       "      <td>4.881911</td>\n",
       "      <td>5.030792</td>\n",
       "      <td>5.029194</td>\n",
       "    </tr>\n",
       "    <tr>\n",
       "      <th>4</th>\n",
       "      <td>3.767864</td>\n",
       "      <td>4.881911</td>\n",
       "      <td>5.030792</td>\n",
       "      <td>6.046100</td>\n",
       "    </tr>\n",
       "    <tr>\n",
       "      <th>...</th>\n",
       "      <td>...</td>\n",
       "      <td>...</td>\n",
       "      <td>...</td>\n",
       "      <td>...</td>\n",
       "    </tr>\n",
       "    <tr>\n",
       "      <th>95</th>\n",
       "      <td>5.392949</td>\n",
       "      <td>4.881911</td>\n",
       "      <td>5.030792</td>\n",
       "      <td>6.151752</td>\n",
       "    </tr>\n",
       "    <tr>\n",
       "      <th>96</th>\n",
       "      <td>4.563252</td>\n",
       "      <td>4.881911</td>\n",
       "      <td>5.030792</td>\n",
       "      <td>6.697981</td>\n",
       "    </tr>\n",
       "    <tr>\n",
       "      <th>97</th>\n",
       "      <td>3.639849</td>\n",
       "      <td>4.881911</td>\n",
       "      <td>5.030792</td>\n",
       "      <td>2.464250</td>\n",
       "    </tr>\n",
       "    <tr>\n",
       "      <th>98</th>\n",
       "      <td>5.269673</td>\n",
       "      <td>4.881911</td>\n",
       "      <td>5.030792</td>\n",
       "      <td>3.735412</td>\n",
       "    </tr>\n",
       "    <tr>\n",
       "      <th>99</th>\n",
       "      <td>4.713082</td>\n",
       "      <td>4.881911</td>\n",
       "      <td>5.030792</td>\n",
       "      <td>7.042981</td>\n",
       "    </tr>\n",
       "  </tbody>\n",
       "</table>\n",
       "<p>100 rows × 4 columns</p>\n",
       "</div>"
      ],
      "text/plain": [
       "    EM_imputed  Mean_imputed  Median_imputed  Original\n",
       "0     4.448951      4.881911        5.030792  4.496371\n",
       "1     4.027320      4.881911        5.030792  5.549837\n",
       "2     4.004348      4.881911        5.030792  4.894790\n",
       "3     4.979473      4.881911        5.030792  5.029194\n",
       "4     3.767864      4.881911        5.030792  6.046100\n",
       "..         ...           ...             ...       ...\n",
       "95    5.392949      4.881911        5.030792  6.151752\n",
       "96    4.563252      4.881911        5.030792  6.697981\n",
       "97    3.639849      4.881911        5.030792  2.464250\n",
       "98    5.269673      4.881911        5.030792  3.735412\n",
       "99    4.713082      4.881911        5.030792  7.042981\n",
       "\n",
       "[100 rows x 4 columns]"
      ]
     },
     "execution_count": 253,
     "metadata": {},
     "output_type": "execute_result"
    }
   ],
   "source": [
    "#View the new dataset\n",
    "full_dataset"
   ]
  },
  {
   "cell_type": "markdown",
   "id": "c11bee48",
   "metadata": {},
   "source": [
    "Now, plot a line graph for the data imputed from the three imputation methods as well as the original data in one plot:"
   ]
  },
  {
   "cell_type": "code",
   "execution_count": 254,
   "id": "6f1d5d6a",
   "metadata": {},
   "outputs": [
    {
     "data": {
      "image/png": "[encoded data removed]",
      "text/plain": [
       "<Figure size 3000x1000 with 1 Axes>"
      ]
     },
     "metadata": {},
     "output_type": "display_data"
    }
   ],
   "source": [
    "#Plot a line graph for the data imputed from the three imputation methods and the original data \n",
    "x = np.linspace(1,a.size, a.size)\n",
    "fig, ax = plt.subplots(figsize=(30,10))\n",
    "ax.plot(x, a, marker='o',label='EM')\n",
    "ax.plot(x,b,marker='o', label='Mean')\n",
    "ax.plot(x,c,marker='o', label='Median')\n",
    "ax.plot(x,d,marker='o', label='Original')\n",
    "ax.legend()\n",
    "plt.show()"
   ]
  },
  {
   "cell_type": "markdown",
   "id": "5ab3461e",
   "metadata": {},
   "source": [
    "- - - - - -"
   ]
  },
  {
   "cell_type": "markdown",
   "id": "3e30601c",
   "metadata": {},
   "source": [
    "## Linear Regression imputation"
   ]
  },
  {
   "cell_type": "markdown",
   "id": "8f98ce8c",
   "metadata": {},
   "source": [
    "If you have a dataset where one of the variables has some missing values, and this variable correlates strongly with one other or more variables in the dataset, then Linear Regression imputation might work really well. \n",
    "\n",
    "It fits a linear regression model where the variable with the missing values is the target/response variable, and the other variable/s (has no missing data) that correlate with it as the predictor variable/s. \n",
    "\n",
    "Because relationships/correlations between variables are conserved in this imputation method, it has an advantage over the simpler imputation methods such as the mean and median in some of the cases.\n",
    "\n",
    "There are two versions for this imputation method: \n",
    "\n",
    "<b> 1) Deterministic Regression Imputation: </b>\n",
    "\n",
    "This is when the missing values are imputed with the exact predictions from the linear regression model, without adding any error terms to it. A disadvantage for this is that it reduces the variability of the imputed variable. This is because the imputed values would lie exactly on the regression hyperplane, which is not a very good representative of real world data. This leads to the second version.\n",
    "\n",
    "<b> 2) Stochastic Regression Imputation: </b>\n",
    "\n",
    "This follows the same idea of Deterministic Regression Imputation but with the addition of a random error term to the predicted value. \n",
    "\n",
    "You will try by yourself an example of imputing missing data using both methods to see how each one performs. "
   ]
  },
  {
   "cell_type": "markdown",
   "id": "76e54d63",
   "metadata": {},
   "source": [
    "Again, let us simulate two variables that are correlated.\n",
    "\n",
    "Start by generating 100 data points from a normal distribution of mean 5 and standard deviation 1. Call this array col1."
   ]
  },
  {
   "cell_type": "code",
   "execution_count": 255,
   "id": "bd64a5df",
   "metadata": {},
   "outputs": [
    {
     "data": {
      "text/plain": [
       "array([5.30372288, 5.4189027 , 5.27601867, 4.96765858, 6.71622348,\n",
       "       5.31589849, 5.53911109, 5.98400873, 4.5693653 , 4.05450154,\n",
       "       4.63628328, 4.24735764, 6.48897293, 4.33869898, 6.06274383,\n",
       "       5.35337892, 4.83599779, 5.31616625, 5.15266628, 4.65877457,\n",
       "       4.23540171, 5.92485506, 4.42491761, 5.06258553, 4.9401619 ,\n",
       "       4.18148687, 6.27046676, 7.54014891, 4.47604068, 6.55749078,\n",
       "       5.87433196, 4.17391375, 4.66509266, 5.15440417, 5.52977017,\n",
       "       3.27423123, 5.66939445, 4.64251845, 4.60005133, 3.93346615,\n",
       "       6.09775976, 6.09801757, 3.81195953, 3.78918454, 6.77330962,\n",
       "       5.54461105, 2.55145973, 5.31431313, 5.98405194, 3.57978212,\n",
       "       3.6082313 , 6.07709669, 4.92862148, 5.74184466, 5.65834601,\n",
       "       6.15665269, 5.30213257, 4.68355572, 4.52884047, 4.5831477 ,\n",
       "       5.60731149, 3.58625691, 6.14637114, 4.04212615, 6.40693223,\n",
       "       5.06771947, 4.26629199, 3.3925818 , 5.42678301, 5.01641025,\n",
       "       3.55596701, 4.46831695, 4.96411612, 4.74057135, 6.48944705,\n",
       "       5.0717951 , 6.05309377, 4.78225974, 4.61900964, 5.75818654,\n",
       "       5.9187477 , 4.2944332 , 6.75384916, 4.55504847, 3.57531098,\n",
       "       5.73129317, 5.58260602, 5.86665754, 5.4870913 , 6.21425822,\n",
       "       6.13303692, 3.7175272 , 4.66257386, 4.15479533, 3.45551253,\n",
       "       6.67404156, 6.53654209, 3.78340462, 4.78045645, 6.32548335])"
      ]
     },
     "execution_count": 255,
     "metadata": {},
     "output_type": "execute_result"
    }
   ],
   "source": [
    "# Generate 100 data points from a normal distribution of mean 5 and standard deviation 1. \n",
    "v1 = random.normal(5,1,100)\n",
    "v1"
   ]
  },
  {
   "cell_type": "markdown",
   "id": "0ca237d4",
   "metadata": {},
   "source": [
    "Simulate another random variable that correlates with it. Remember to add a random noise/term to prevent the two variables from correlating perfectly. Call this array col2."
   ]
  },
  {
   "cell_type": "code",
   "execution_count": 256,
   "id": "bb38fd18",
   "metadata": {},
   "outputs": [
    {
     "data": {
      "text/plain": [
       "array([10.14188893, 11.55053018, 10.10973502, 10.45769726, 12.29633241,\n",
       "       12.08334831, 10.221328  , 12.47673783,  9.46583209,  9.41283413,\n",
       "       10.41927421,  8.7738894 , 12.74634915,  8.24277917, 12.41559169,\n",
       "       10.59401537,  9.77186406, 10.67052704,  9.97431669, 10.07819691,\n",
       "        8.62463686, 11.0578627 ,  8.78817968,  9.8182814 , 10.21901524,\n",
       "        8.47752774, 14.5604612 , 15.48376609,  9.9640951 , 14.01520281,\n",
       "       13.22317039,  7.47374108,  8.27619095, 11.62467008, 11.79622437,\n",
       "        6.5949954 , 10.28222704, 10.08661518, 10.10099312,  8.13143369,\n",
       "       13.79612628, 13.01685361,  6.98639512,  8.38770166, 13.28008542,\n",
       "        9.13344642,  5.52476687, 11.74317703, 14.19908454,  7.08023112,\n",
       "        7.66677901, 12.6403061 ,  8.95181196, 11.88901375,  9.63537823,\n",
       "       10.80946833, 10.52846244,  8.53118123,  8.83423651,  9.36659647,\n",
       "       12.34800177,  7.62225513, 12.41599591,  7.28312991, 14.22956702,\n",
       "        9.90254481,  6.95310474,  5.50050232, 10.03225107, 10.24944782,\n",
       "        7.29326499,  8.11154296, 10.8235037 ,  9.83007992, 12.09826018,\n",
       "        8.70101492, 11.01564938, 10.50122981,  9.38557904, 11.16146621,\n",
       "       11.36294575,  7.34898249, 14.16059178,  9.7079128 ,  5.88144694,\n",
       "       10.45998318, 10.76647416, 10.63843303, 10.5783887 , 11.45179836,\n",
       "       12.71099656,  6.31584173, 10.04846193,  9.48240647,  8.14711141,\n",
       "       14.19665274, 12.86590048,  6.13767136,  9.37496248, 11.24139924])"
      ]
     },
     "execution_count": 256,
     "metadata": {},
     "output_type": "execute_result"
    }
   ],
   "source": [
    "#Generate another 100 data points that correlate with the previously generated 100 data points\n",
    "v2 = (2*v1) + random.normal(0,1,100) \n",
    "v2"
   ]
  },
  {
   "cell_type": "code",
   "execution_count": 257,
   "id": "cf4e757e",
   "metadata": {},
   "outputs": [
    {
     "data": {
      "image/png": "[encoded data removed]",
      "text/plain": [
       "<Figure size 640x480 with 1 Axes>"
      ]
     },
     "metadata": {},
     "output_type": "display_data"
    }
   ],
   "source": [
    "#Create a scatterplot for col2 against col1\n",
    "plt.scatter(v1, v2)\n",
    "plt.show()"
   ]
  },
  {
   "cell_type": "markdown",
   "id": "45ef6d0b",
   "metadata": {},
   "source": [
    "Again, we will remove data randomly from col2 using the binomial distribution; so that the missing data fall under the MCAR type."
   ]
  },
  {
   "cell_type": "code",
   "execution_count": 258,
   "id": "59f03b84",
   "metadata": {},
   "outputs": [],
   "source": [
    "#Create a copy of v2.\n",
    "v2_missing = v2.copy()"
   ]
  },
  {
   "cell_type": "code",
   "execution_count": 259,
   "id": "9ac47b3f",
   "metadata": {},
   "outputs": [],
   "source": [
    "#Remove data randomly\n",
    "v2_missing = random.binomial(1,0.5,size=col2_missing.size)*v2_missing\n",
    "v2_missing = np.where(v2_missing == 0, np.nan, v2_missing)"
   ]
  },
  {
   "cell_type": "code",
   "execution_count": 260,
   "id": "c1e24e26",
   "metadata": {},
   "outputs": [
    {
     "data": {
      "text/plain": [
       "array([        nan,         nan, 10.10973502, 10.45769726, 12.29633241,\n",
       "       12.08334831,         nan, 12.47673783,  9.46583209,         nan,\n",
       "               nan,         nan,         nan,         nan,         nan,\n",
       "       10.59401537,         nan, 10.67052704,  9.97431669, 10.07819691,\n",
       "        8.62463686, 11.0578627 ,         nan,  9.8182814 , 10.21901524,\n",
       "               nan,         nan,         nan,  9.9640951 , 14.01520281,\n",
       "       13.22317039,         nan,         nan, 11.62467008,         nan,\n",
       "               nan,         nan, 10.08661518,         nan,  8.13143369,\n",
       "               nan, 13.01685361,  6.98639512,  8.38770166,         nan,\n",
       "               nan,         nan,         nan, 14.19908454,  7.08023112,\n",
       "        7.66677901,         nan,  8.95181196, 11.88901375,  9.63537823,\n",
       "       10.80946833,         nan,  8.53118123,         nan,  9.36659647,\n",
       "               nan,         nan,         nan,         nan,         nan,\n",
       "        9.90254481,         nan,         nan, 10.03225107,         nan,\n",
       "        7.29326499,  8.11154296, 10.8235037 ,  9.83007992,         nan,\n",
       "               nan, 11.01564938, 10.50122981,         nan,         nan,\n",
       "               nan,         nan, 14.16059178,  9.7079128 ,         nan,\n",
       "       10.45998318, 10.76647416, 10.63843303,         nan, 11.45179836,\n",
       "       12.71099656,         nan,         nan,  9.48240647,         nan,\n",
       "               nan, 12.86590048,         nan,         nan, 11.24139924])"
      ]
     },
     "execution_count": 260,
     "metadata": {},
     "output_type": "execute_result"
    }
   ],
   "source": [
    "#View v2 with missing data\n",
    "v2_missing"
   ]
  },
  {
   "cell_type": "code",
   "execution_count": 261,
   "id": "91e46036",
   "metadata": {},
   "outputs": [],
   "source": [
    "#Find the indices of the observations that having a missing value for v2\n",
    "indices = np.argwhere(np.isnan(v2_missing))[:,0]"
   ]
  },
  {
   "cell_type": "code",
   "execution_count": 262,
   "id": "500df481",
   "metadata": {},
   "outputs": [
    {
     "data": {
      "text/html": [
       "<div>\n",
       "<style scoped>\n",
       "    .dataframe tbody tr th:only-of-type {\n",
       "        vertical-align: middle;\n",
       "    }\n",
       "\n",
       "    .dataframe tbody tr th {\n",
       "        vertical-align: top;\n",
       "    }\n",
       "\n",
       "    .dataframe thead th {\n",
       "        text-align: right;\n",
       "    }\n",
       "</style>\n",
       "<table border=\"1\" class=\"dataframe\">\n",
       "  <thead>\n",
       "    <tr style=\"text-align: right;\">\n",
       "      <th></th>\n",
       "      <th>V1</th>\n",
       "      <th>V2</th>\n",
       "    </tr>\n",
       "  </thead>\n",
       "  <tbody>\n",
       "    <tr>\n",
       "      <th>0</th>\n",
       "      <td>5.303723</td>\n",
       "      <td>NaN</td>\n",
       "    </tr>\n",
       "    <tr>\n",
       "      <th>1</th>\n",
       "      <td>5.418903</td>\n",
       "      <td>NaN</td>\n",
       "    </tr>\n",
       "    <tr>\n",
       "      <th>2</th>\n",
       "      <td>5.276019</td>\n",
       "      <td>10.109735</td>\n",
       "    </tr>\n",
       "    <tr>\n",
       "      <th>3</th>\n",
       "      <td>4.967659</td>\n",
       "      <td>10.457697</td>\n",
       "    </tr>\n",
       "    <tr>\n",
       "      <th>4</th>\n",
       "      <td>6.716223</td>\n",
       "      <td>12.296332</td>\n",
       "    </tr>\n",
       "    <tr>\n",
       "      <th>...</th>\n",
       "      <td>...</td>\n",
       "      <td>...</td>\n",
       "    </tr>\n",
       "    <tr>\n",
       "      <th>95</th>\n",
       "      <td>6.674042</td>\n",
       "      <td>NaN</td>\n",
       "    </tr>\n",
       "    <tr>\n",
       "      <th>96</th>\n",
       "      <td>6.536542</td>\n",
       "      <td>12.865900</td>\n",
       "    </tr>\n",
       "    <tr>\n",
       "      <th>97</th>\n",
       "      <td>3.783405</td>\n",
       "      <td>NaN</td>\n",
       "    </tr>\n",
       "    <tr>\n",
       "      <th>98</th>\n",
       "      <td>4.780456</td>\n",
       "      <td>NaN</td>\n",
       "    </tr>\n",
       "    <tr>\n",
       "      <th>99</th>\n",
       "      <td>6.325483</td>\n",
       "      <td>11.241399</td>\n",
       "    </tr>\n",
       "  </tbody>\n",
       "</table>\n",
       "<p>100 rows × 2 columns</p>\n",
       "</div>"
      ],
      "text/plain": [
       "          V1         V2\n",
       "0   5.303723        NaN\n",
       "1   5.418903        NaN\n",
       "2   5.276019  10.109735\n",
       "3   4.967659  10.457697\n",
       "4   6.716223  12.296332\n",
       "..       ...        ...\n",
       "95  6.674042        NaN\n",
       "96  6.536542  12.865900\n",
       "97  3.783405        NaN\n",
       "98  4.780456        NaN\n",
       "99  6.325483  11.241399\n",
       "\n",
       "[100 rows x 2 columns]"
      ]
     },
     "execution_count": 262,
     "metadata": {},
     "output_type": "execute_result"
    }
   ],
   "source": [
    "dataset = pd.DataFrame(columns=['V1','V2'])\n",
    "dataset['V1'] = v1\n",
    "dataset['V2'] = v2_missing\n",
    "dataset"
   ]
  },
  {
   "cell_type": "markdown",
   "id": "c3d5abdf",
   "metadata": {},
   "source": [
    "Now, we are going to fit a linear regression model for the observations with no missing data. Recall in the third project session, we went through the steps of creating a linear regression model step by step. Now, we are going to make use of a library called `sklearn` that has a built-in function called LinearRegression. \n",
    "\n",
    "Read more about how to use it here, and then use it to fit a linear regression model where v1 is the predictor variable and v2 is the target/response variable. \n"
   ]
  },
  {
   "cell_type": "code",
   "execution_count": 263,
   "id": "268847a0",
   "metadata": {},
   "outputs": [],
   "source": [
    "#Import LinearRegression from sklearn.linear_model\n",
    "from sklearn.linear_model import LinearRegression"
   ]
  },
  {
   "cell_type": "code",
   "execution_count": 264,
   "id": "88346663",
   "metadata": {},
   "outputs": [],
   "source": [
    "#Find the indices of the observations that have no missing values \n",
    "indices2 = np.argwhere(~np.isnan(v2_missing))[:,0]"
   ]
  },
  {
   "cell_type": "code",
   "execution_count": 265,
   "id": "2bf6225a",
   "metadata": {},
   "outputs": [],
   "source": [
    "#Create X_train for the v1 values for observations with no missing values\n",
    "X_train = v1[indices2]"
   ]
  },
  {
   "cell_type": "code",
   "execution_count": 266,
   "id": "60f9c8bf",
   "metadata": {},
   "outputs": [],
   "source": [
    "#Create y_train for the v2 values for observations with no missing values\n",
    "y_train = v2_missing[indices2]"
   ]
  },
  {
   "cell_type": "markdown",
   "id": "42429b75",
   "metadata": {},
   "source": [
    "The LinearRegression function requires the X_train values to follow a specific format, where each entry is an array on its own, and all of those individual arrays are stacked on top of each others. I will reformat it for you."
   ]
  },
  {
   "cell_type": "code",
   "execution_count": 267,
   "id": "85e84b3c",
   "metadata": {},
   "outputs": [],
   "source": [
    "X_train = np.reshape(X_train, [X_train.size,1])"
   ]
  },
  {
   "cell_type": "code",
   "execution_count": 268,
   "id": "6503ec8f",
   "metadata": {},
   "outputs": [],
   "source": [
    "#Fit the linear regression model\n",
    "regress_model = LinearRegression().fit(X_train,y_train)"
   ]
  },
  {
   "cell_type": "markdown",
   "id": "6b656fca",
   "metadata": {},
   "source": [
    "## Deterministic Linear Regression"
   ]
  },
  {
   "cell_type": "markdown",
   "id": "b94ef36a",
   "metadata": {},
   "source": [
    "Let us start by imputing the missing values using the Deterministic Linear Regression approach. \n",
    "\n",
    "Start by using the fitted regression model to predict values for the missing data:"
   ]
  },
  {
   "cell_type": "code",
   "execution_count": 269,
   "id": "b16a8bdc",
   "metadata": {},
   "outputs": [],
   "source": [
    "#Create an array of the v1 values of the observations that have missing values \n",
    "X_test = v1[indices]"
   ]
  },
  {
   "cell_type": "code",
   "execution_count": 270,
   "id": "a9e11b9c",
   "metadata": {},
   "outputs": [],
   "source": [
    "#Reshaping of the array to be suitable for usage in the regression model\n",
    "X_test = np.reshape(X_test, [X_test.size,1])"
   ]
  },
  {
   "cell_type": "code",
   "execution_count": 271,
   "id": "2653057c",
   "metadata": {},
   "outputs": [],
   "source": [
    "#Create an array for the missing v2 values \n",
    "y_test = regress_model.predict(X_test)"
   ]
  },
  {
   "cell_type": "code",
   "execution_count": 272,
   "id": "de60ec17",
   "metadata": {},
   "outputs": [
    {
     "data": {
      "text/plain": [
       "array([10.10973502, 10.45769726, 12.29633241, 12.08334831, 12.47673783,\n",
       "        9.46583209, 10.59401537, 10.67052704,  9.97431669, 10.07819691,\n",
       "        8.62463686, 11.0578627 ,  9.8182814 , 10.21901524,  9.9640951 ,\n",
       "       14.01520281, 13.22317039, 11.62467008, 10.08661518,  8.13143369,\n",
       "       13.01685361,  6.98639512,  8.38770166, 14.19908454,  7.08023112,\n",
       "        7.66677901,  8.95181196, 11.88901375,  9.63537823, 10.80946833,\n",
       "        8.53118123,  9.36659647,  9.90254481, 10.03225107,  7.29326499,\n",
       "        8.11154296, 10.8235037 ,  9.83007992, 11.01564938, 10.50122981,\n",
       "       14.16059178,  9.7079128 , 10.45998318, 10.76647416, 10.63843303,\n",
       "       11.45179836, 12.71099656,  9.48240647, 12.86590048, 11.24139924])"
      ]
     },
     "execution_count": 272,
     "metadata": {},
     "output_type": "execute_result"
    }
   ],
   "source": [
    "y_train"
   ]
  },
  {
   "cell_type": "markdown",
   "id": "b4faa1ee",
   "metadata": {},
   "source": [
    "Now, create a dataset where each row has the imputed value of v2 by linear regression, and the original value of v2 from the original array:"
   ]
  },
  {
   "cell_type": "code",
   "execution_count": 273,
   "id": "397ca100",
   "metadata": {},
   "outputs": [],
   "source": [
    "#Create the dataset as specified above\n",
    "original = v2[indices]\n",
    "imputed = y_test\n",
    "df = pd.DataFrame(columns=['Original', 'Imputed'])\n",
    "df['Original'] = original\n",
    "df['Imputed'] = imputed"
   ]
  },
  {
   "cell_type": "code",
   "execution_count": 274,
   "id": "f289d16a",
   "metadata": {},
   "outputs": [
    {
     "data": {
      "text/html": [
       "<div>\n",
       "<style scoped>\n",
       "    .dataframe tbody tr th:only-of-type {\n",
       "        vertical-align: middle;\n",
       "    }\n",
       "\n",
       "    .dataframe tbody tr th {\n",
       "        vertical-align: top;\n",
       "    }\n",
       "\n",
       "    .dataframe thead th {\n",
       "        text-align: right;\n",
       "    }\n",
       "</style>\n",
       "<table border=\"1\" class=\"dataframe\">\n",
       "  <thead>\n",
       "    <tr style=\"text-align: right;\">\n",
       "      <th></th>\n",
       "      <th>Original</th>\n",
       "      <th>Imputed</th>\n",
       "    </tr>\n",
       "  </thead>\n",
       "  <tbody>\n",
       "    <tr>\n",
       "      <th>0</th>\n",
       "      <td>10.141889</td>\n",
       "      <td>10.647822</td>\n",
       "    </tr>\n",
       "    <tr>\n",
       "      <th>1</th>\n",
       "      <td>11.550530</td>\n",
       "      <td>10.853750</td>\n",
       "    </tr>\n",
       "    <tr>\n",
       "      <th>2</th>\n",
       "      <td>10.221328</td>\n",
       "      <td>11.068668</td>\n",
       "    </tr>\n",
       "    <tr>\n",
       "      <th>3</th>\n",
       "      <td>9.412834</td>\n",
       "      <td>8.414368</td>\n",
       "    </tr>\n",
       "    <tr>\n",
       "      <th>4</th>\n",
       "      <td>10.419274</td>\n",
       "      <td>9.454522</td>\n",
       "    </tr>\n",
       "    <tr>\n",
       "      <th>5</th>\n",
       "      <td>8.773889</td>\n",
       "      <td>8.759171</td>\n",
       "    </tr>\n",
       "    <tr>\n",
       "      <th>6</th>\n",
       "      <td>12.746349</td>\n",
       "      <td>12.766904</td>\n",
       "    </tr>\n",
       "    <tr>\n",
       "      <th>7</th>\n",
       "      <td>8.242779</td>\n",
       "      <td>8.922478</td>\n",
       "    </tr>\n",
       "    <tr>\n",
       "      <th>8</th>\n",
       "      <td>12.415592</td>\n",
       "      <td>12.004859</td>\n",
       "    </tr>\n",
       "    <tr>\n",
       "      <th>9</th>\n",
       "      <td>9.771864</td>\n",
       "      <td>9.811587</td>\n",
       "    </tr>\n",
       "    <tr>\n",
       "      <th>10</th>\n",
       "      <td>8.788180</td>\n",
       "      <td>9.076626</td>\n",
       "    </tr>\n",
       "    <tr>\n",
       "      <th>11</th>\n",
       "      <td>8.477528</td>\n",
       "      <td>8.641402</td>\n",
       "    </tr>\n",
       "    <tr>\n",
       "      <th>12</th>\n",
       "      <td>14.560461</td>\n",
       "      <td>12.376242</td>\n",
       "    </tr>\n",
       "    <tr>\n",
       "      <th>13</th>\n",
       "      <td>15.483766</td>\n",
       "      <td>14.646278</td>\n",
       "    </tr>\n",
       "    <tr>\n",
       "      <th>14</th>\n",
       "      <td>7.473741</td>\n",
       "      <td>8.627862</td>\n",
       "    </tr>\n",
       "    <tr>\n",
       "      <th>15</th>\n",
       "      <td>8.276191</td>\n",
       "      <td>9.506030</td>\n",
       "    </tr>\n",
       "    <tr>\n",
       "      <th>16</th>\n",
       "      <td>11.796224</td>\n",
       "      <td>11.051967</td>\n",
       "    </tr>\n",
       "    <tr>\n",
       "      <th>17</th>\n",
       "      <td>6.594995</td>\n",
       "      <td>7.019340</td>\n",
       "    </tr>\n",
       "    <tr>\n",
       "      <th>18</th>\n",
       "      <td>10.282227</td>\n",
       "      <td>11.301598</td>\n",
       "    </tr>\n",
       "    <tr>\n",
       "      <th>19</th>\n",
       "      <td>10.100993</td>\n",
       "      <td>9.389744</td>\n",
       "    </tr>\n",
       "    <tr>\n",
       "      <th>20</th>\n",
       "      <td>13.796126</td>\n",
       "      <td>12.067463</td>\n",
       "    </tr>\n",
       "    <tr>\n",
       "      <th>21</th>\n",
       "      <td>13.280085</td>\n",
       "      <td>13.275263</td>\n",
       "    </tr>\n",
       "    <tr>\n",
       "      <th>22</th>\n",
       "      <td>9.133446</td>\n",
       "      <td>11.078501</td>\n",
       "    </tr>\n",
       "    <tr>\n",
       "      <th>23</th>\n",
       "      <td>5.524767</td>\n",
       "      <td>5.727113</td>\n",
       "    </tr>\n",
       "    <tr>\n",
       "      <th>24</th>\n",
       "      <td>11.743177</td>\n",
       "      <td>10.666756</td>\n",
       "    </tr>\n",
       "    <tr>\n",
       "      <th>25</th>\n",
       "      <td>12.640306</td>\n",
       "      <td>12.030520</td>\n",
       "    </tr>\n",
       "    <tr>\n",
       "      <th>26</th>\n",
       "      <td>10.528462</td>\n",
       "      <td>10.644979</td>\n",
       "    </tr>\n",
       "    <tr>\n",
       "      <th>27</th>\n",
       "      <td>8.834237</td>\n",
       "      <td>9.262428</td>\n",
       "    </tr>\n",
       "    <tr>\n",
       "      <th>28</th>\n",
       "      <td>12.348002</td>\n",
       "      <td>11.190602</td>\n",
       "    </tr>\n",
       "    <tr>\n",
       "      <th>29</th>\n",
       "      <td>7.622255</td>\n",
       "      <td>7.577204</td>\n",
       "    </tr>\n",
       "    <tr>\n",
       "      <th>30</th>\n",
       "      <td>12.415996</td>\n",
       "      <td>12.154374</td>\n",
       "    </tr>\n",
       "    <tr>\n",
       "      <th>31</th>\n",
       "      <td>7.283130</td>\n",
       "      <td>8.392242</td>\n",
       "    </tr>\n",
       "    <tr>\n",
       "      <th>32</th>\n",
       "      <td>14.229567</td>\n",
       "      <td>12.620225</td>\n",
       "    </tr>\n",
       "    <tr>\n",
       "      <th>33</th>\n",
       "      <td>6.953105</td>\n",
       "      <td>8.793023</td>\n",
       "    </tr>\n",
       "    <tr>\n",
       "      <th>34</th>\n",
       "      <td>5.500502</td>\n",
       "      <td>7.230936</td>\n",
       "    </tr>\n",
       "    <tr>\n",
       "      <th>35</th>\n",
       "      <td>10.249448</td>\n",
       "      <td>10.134143</td>\n",
       "    </tr>\n",
       "    <tr>\n",
       "      <th>36</th>\n",
       "      <td>12.098260</td>\n",
       "      <td>12.767752</td>\n",
       "    </tr>\n",
       "    <tr>\n",
       "      <th>37</th>\n",
       "      <td>8.701015</td>\n",
       "      <td>10.233164</td>\n",
       "    </tr>\n",
       "    <tr>\n",
       "      <th>38</th>\n",
       "      <td>9.385579</td>\n",
       "      <td>9.423639</td>\n",
       "    </tr>\n",
       "    <tr>\n",
       "      <th>39</th>\n",
       "      <td>11.161466</td>\n",
       "      <td>11.460348</td>\n",
       "    </tr>\n",
       "    <tr>\n",
       "      <th>40</th>\n",
       "      <td>11.362946</td>\n",
       "      <td>11.747411</td>\n",
       "    </tr>\n",
       "    <tr>\n",
       "      <th>41</th>\n",
       "      <td>7.348982</td>\n",
       "      <td>8.843336</td>\n",
       "    </tr>\n",
       "    <tr>\n",
       "      <th>42</th>\n",
       "      <td>5.881447</td>\n",
       "      <td>7.557634</td>\n",
       "    </tr>\n",
       "    <tr>\n",
       "      <th>43</th>\n",
       "      <td>10.578389</td>\n",
       "      <td>10.975663</td>\n",
       "    </tr>\n",
       "    <tr>\n",
       "      <th>44</th>\n",
       "      <td>6.315842</td>\n",
       "      <td>7.811899</td>\n",
       "    </tr>\n",
       "    <tr>\n",
       "      <th>45</th>\n",
       "      <td>10.048462</td>\n",
       "      <td>9.501527</td>\n",
       "    </tr>\n",
       "    <tr>\n",
       "      <th>46</th>\n",
       "      <td>8.147111</td>\n",
       "      <td>7.343449</td>\n",
       "    </tr>\n",
       "    <tr>\n",
       "      <th>47</th>\n",
       "      <td>14.196653</td>\n",
       "      <td>13.097784</td>\n",
       "    </tr>\n",
       "    <tr>\n",
       "      <th>48</th>\n",
       "      <td>6.137671</td>\n",
       "      <td>7.929680</td>\n",
       "    </tr>\n",
       "    <tr>\n",
       "      <th>49</th>\n",
       "      <td>9.374962</td>\n",
       "      <td>9.712286</td>\n",
       "    </tr>\n",
       "  </tbody>\n",
       "</table>\n",
       "</div>"
      ],
      "text/plain": [
       "     Original    Imputed\n",
       "0   10.141889  10.647822\n",
       "1   11.550530  10.853750\n",
       "2   10.221328  11.068668\n",
       "3    9.412834   8.414368\n",
       "4   10.419274   9.454522\n",
       "5    8.773889   8.759171\n",
       "6   12.746349  12.766904\n",
       "7    8.242779   8.922478\n",
       "8   12.415592  12.004859\n",
       "9    9.771864   9.811587\n",
       "10   8.788180   9.076626\n",
       "11   8.477528   8.641402\n",
       "12  14.560461  12.376242\n",
       "13  15.483766  14.646278\n",
       "14   7.473741   8.627862\n",
       "15   8.276191   9.506030\n",
       "16  11.796224  11.051967\n",
       "17   6.594995   7.019340\n",
       "18  10.282227  11.301598\n",
       "19  10.100993   9.389744\n",
       "20  13.796126  12.067463\n",
       "21  13.280085  13.275263\n",
       "22   9.133446  11.078501\n",
       "23   5.524767   5.727113\n",
       "24  11.743177  10.666756\n",
       "25  12.640306  12.030520\n",
       "26  10.528462  10.644979\n",
       "27   8.834237   9.262428\n",
       "28  12.348002  11.190602\n",
       "29   7.622255   7.577204\n",
       "30  12.415996  12.154374\n",
       "31   7.283130   8.392242\n",
       "32  14.229567  12.620225\n",
       "33   6.953105   8.793023\n",
       "34   5.500502   7.230936\n",
       "35  10.249448  10.134143\n",
       "36  12.098260  12.767752\n",
       "37   8.701015  10.233164\n",
       "38   9.385579   9.423639\n",
       "39  11.161466  11.460348\n",
       "40  11.362946  11.747411\n",
       "41   7.348982   8.843336\n",
       "42   5.881447   7.557634\n",
       "43  10.578389  10.975663\n",
       "44   6.315842   7.811899\n",
       "45  10.048462   9.501527\n",
       "46   8.147111   7.343449\n",
       "47  14.196653  13.097784\n",
       "48   6.137671   7.929680\n",
       "49   9.374962   9.712286"
      ]
     },
     "execution_count": 274,
     "metadata": {},
     "output_type": "execute_result"
    }
   ],
   "source": [
    "#View the dataset\n",
    "df"
   ]
  },
  {
   "cell_type": "code",
   "execution_count": 275,
   "id": "ec028698",
   "metadata": {},
   "outputs": [
    {
     "data": {
      "image/png": "[encoded data removed]",
      "text/plain": [
       "<Figure size 640x480 with 1 Axes>"
      ]
     },
     "metadata": {},
     "output_type": "display_data"
    }
   ],
   "source": [
    "#Plot the observations using the original values and the observations with the imputed values\n",
    "plt.scatter(X_test, v2[indices], label='Original')\n",
    "plt.scatter(X_test, y_test, label='imputed')\n",
    "plt.legend()\n",
    "plt.show()"
   ]
  },
  {
   "cell_type": "markdown",
   "id": "ddfb42b9",
   "metadata": {},
   "source": [
    "Now, I will leave you to try and impute data using Stochastic Linear Regression. This resource might help you out: https://www.kaggle.com/shashankasubrahmanya/missing-data-imputation-using-regression but feel free to do your own research."
   ]
  }
 ],
 "metadata": {
  "kernelspec": {
   "display_name": "Python 3",
   "language": "python",
   "name": "python3"
  },
  "language_info": {
   "codemirror_mode": {
    "name": "ipython",
    "version": 3
   },
   "file_extension": ".py",
   "mimetype": "text/x-python",
   "name": "python",
   "nbconvert_exporter": "python",
   "pygments_lexer": "ipython3",
   "version": "3.8.5"
  }
 },
 "nbformat": 4,
 "nbformat_minor": 5
}
