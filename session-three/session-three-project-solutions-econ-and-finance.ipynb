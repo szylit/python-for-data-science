{
 "cells": [
  {
   "cell_type": "markdown",
   "metadata": {},
   "source": [
    "# Python for Data Science Project Session 3: Economics and Finance"
   ]
  },
  {
   "cell_type": "markdown",
   "metadata": {},
   "source": [
    "## Modern Portfolio Theory (MPT)"
   ]
  },
  {
   "cell_type": "markdown",
   "metadata": {},
   "source": [
    "In the first part of the notebook we will optimise a portfolio consisting of two assets: Amazon (AMZN) and Alibaba (BABA) stock. We will implement the ideas of the Modern Portfolio Theory. Although to complete this notebook you don't need any knowledge about finance, if you want to learn more about MPT, you can do it [here](https://corporatefinanceinstitute.com/resources/knowledge/trading-investing/modern-portfolio-theory-mpt/)."
   ]
  },
  {
   "cell_type": "markdown",
   "metadata": {},
   "source": [
    "We start by importing packages required that we going to use in this notebook: numpy, pandas, pandas_datareader and matplotlib."
   ]
  },
  {
   "cell_type": "code",
   "execution_count": 1,
   "metadata": {},
   "outputs": [],
   "source": [
    "import numpy as np\n",
    "import pandas as pd\n",
    "from pandas_datareader import data as wb\n",
    "import matplotlib.pyplot as plt"
   ]
  },
  {
   "cell_type": "markdown",
   "metadata": {},
   "source": [
    "Before we start working on data, first we must get them. In the first section of the notebook, we will be working on the daily prices of the Amazon and Alibaba stocks. First, we need to create dataframe `stock` and then using [DataReader](https://pandas-datareader.readthedocs.io/en/latest/remote_data.html#remote-data-yahoo) we can get the data from Yahoo Finance. The starting date of our data doesn't matter, but for sake of simplicity, let's start from 1st January 2016."
   ]
  },
  {
   "cell_type": "code",
   "execution_count": 2,
   "metadata": {},
   "outputs": [],
   "source": [
    "stock = pd.DataFrame()"
   ]
  },
  {
   "cell_type": "code",
   "execution_count": 3,
   "metadata": {},
   "outputs": [],
   "source": [
    "stock['AMZN']=wb.DataReader('AMZN',data_source=\"yahoo\",start='2016-1-1')['Adj Close']"
   ]
  },
  {
   "cell_type": "code",
   "execution_count": 4,
   "metadata": {},
   "outputs": [],
   "source": [
    "stock['BABA']=wb.DataReader('BABA',data_source=\"yahoo\",start='2016-1-1')['Adj Close']"
   ]
  },
  {
   "cell_type": "markdown",
   "metadata": {},
   "source": [
    "Now, let's display our data to see if we correctly downloaded the data."
   ]
  },
  {
   "cell_type": "code",
   "execution_count": 5,
   "metadata": {},
   "outputs": [
    {
     "data": {
      "text/html": [
       "<div>\n",
       "<style scoped>\n",
       "    .dataframe tbody tr th:only-of-type {\n",
       "        vertical-align: middle;\n",
       "    }\n",
       "\n",
       "    .dataframe tbody tr th {\n",
       "        vertical-align: top;\n",
       "    }\n",
       "\n",
       "    .dataframe thead th {\n",
       "        text-align: right;\n",
       "    }\n",
       "</style>\n",
       "<table border=\"1\" class=\"dataframe\">\n",
       "  <thead>\n",
       "    <tr style=\"text-align: right;\">\n",
       "      <th></th>\n",
       "      <th>AMZN</th>\n",
       "      <th>BABA</th>\n",
       "    </tr>\n",
       "    <tr>\n",
       "      <th>Date</th>\n",
       "      <th></th>\n",
       "      <th></th>\n",
       "    </tr>\n",
       "  </thead>\n",
       "  <tbody>\n",
       "    <tr>\n",
       "      <th>2016-01-04</th>\n",
       "      <td>636.989990</td>\n",
       "      <td>76.690002</td>\n",
       "    </tr>\n",
       "    <tr>\n",
       "      <th>2016-01-05</th>\n",
       "      <td>633.789978</td>\n",
       "      <td>78.629997</td>\n",
       "    </tr>\n",
       "    <tr>\n",
       "      <th>2016-01-06</th>\n",
       "      <td>632.650024</td>\n",
       "      <td>77.330002</td>\n",
       "    </tr>\n",
       "    <tr>\n",
       "      <th>2016-01-07</th>\n",
       "      <td>607.940002</td>\n",
       "      <td>72.720001</td>\n",
       "    </tr>\n",
       "    <tr>\n",
       "      <th>2016-01-08</th>\n",
       "      <td>607.049988</td>\n",
       "      <td>70.800003</td>\n",
       "    </tr>\n",
       "    <tr>\n",
       "      <th>...</th>\n",
       "      <td>...</td>\n",
       "      <td>...</td>\n",
       "    </tr>\n",
       "    <tr>\n",
       "      <th>2021-10-28</th>\n",
       "      <td>3446.570068</td>\n",
       "      <td>169.789993</td>\n",
       "    </tr>\n",
       "    <tr>\n",
       "      <th>2021-10-29</th>\n",
       "      <td>3372.429932</td>\n",
       "      <td>164.940002</td>\n",
       "    </tr>\n",
       "    <tr>\n",
       "      <th>2021-11-01</th>\n",
       "      <td>3318.110107</td>\n",
       "      <td>170.169998</td>\n",
       "    </tr>\n",
       "    <tr>\n",
       "      <th>2021-11-02</th>\n",
       "      <td>3312.750000</td>\n",
       "      <td>162.899994</td>\n",
       "    </tr>\n",
       "    <tr>\n",
       "      <th>2021-11-03</th>\n",
       "      <td>3389.429932</td>\n",
       "      <td>166.440002</td>\n",
       "    </tr>\n",
       "  </tbody>\n",
       "</table>\n",
       "<p>1471 rows × 2 columns</p>\n",
       "</div>"
      ],
      "text/plain": [
       "                   AMZN        BABA\n",
       "Date                               \n",
       "2016-01-04   636.989990   76.690002\n",
       "2016-01-05   633.789978   78.629997\n",
       "2016-01-06   632.650024   77.330002\n",
       "2016-01-07   607.940002   72.720001\n",
       "2016-01-08   607.049988   70.800003\n",
       "...                 ...         ...\n",
       "2021-10-28  3446.570068  169.789993\n",
       "2021-10-29  3372.429932  164.940002\n",
       "2021-11-01  3318.110107  170.169998\n",
       "2021-11-02  3312.750000  162.899994\n",
       "2021-11-03  3389.429932  166.440002\n",
       "\n",
       "[1471 rows x 2 columns]"
      ]
     },
     "execution_count": 5,
     "metadata": {},
     "output_type": "execute_result"
    }
   ],
   "source": [
    "stock"
   ]
  },
  {
   "cell_type": "markdown",
   "metadata": {},
   "source": [
    "Once we get our data, we can create a table with daily logarithmic returns. To do this, we can use [`.log()`](https://numpy.org/doc/stable/reference/generated/numpy.log.html) and [`.shift()`](https://pandas.pydata.org/docs/reference/api/pandas.DataFrame.shift.html)."
   ]
  },
  {
   "cell_type": "code",
   "execution_count": 6,
   "metadata": {},
   "outputs": [],
   "source": [
    "log_returns = np.log(stock/stock.shift(1))"
   ]
  },
  {
   "cell_type": "markdown",
   "metadata": {},
   "source": [
    "Now let's display our returns!"
   ]
  },
  {
   "cell_type": "code",
   "execution_count": 7,
   "metadata": {},
   "outputs": [
    {
     "data": {
      "text/html": [
       "<div>\n",
       "<style scoped>\n",
       "    .dataframe tbody tr th:only-of-type {\n",
       "        vertical-align: middle;\n",
       "    }\n",
       "\n",
       "    .dataframe tbody tr th {\n",
       "        vertical-align: top;\n",
       "    }\n",
       "\n",
       "    .dataframe thead th {\n",
       "        text-align: right;\n",
       "    }\n",
       "</style>\n",
       "<table border=\"1\" class=\"dataframe\">\n",
       "  <thead>\n",
       "    <tr style=\"text-align: right;\">\n",
       "      <th></th>\n",
       "      <th>AMZN</th>\n",
       "      <th>BABA</th>\n",
       "    </tr>\n",
       "    <tr>\n",
       "      <th>Date</th>\n",
       "      <th></th>\n",
       "      <th></th>\n",
       "    </tr>\n",
       "  </thead>\n",
       "  <tbody>\n",
       "    <tr>\n",
       "      <th>2016-01-04</th>\n",
       "      <td>NaN</td>\n",
       "      <td>NaN</td>\n",
       "    </tr>\n",
       "    <tr>\n",
       "      <th>2016-01-05</th>\n",
       "      <td>-0.005036</td>\n",
       "      <td>0.024982</td>\n",
       "    </tr>\n",
       "    <tr>\n",
       "      <th>2016-01-06</th>\n",
       "      <td>-0.001800</td>\n",
       "      <td>-0.016671</td>\n",
       "    </tr>\n",
       "    <tr>\n",
       "      <th>2016-01-07</th>\n",
       "      <td>-0.039841</td>\n",
       "      <td>-0.061466</td>\n",
       "    </tr>\n",
       "    <tr>\n",
       "      <th>2016-01-08</th>\n",
       "      <td>-0.001465</td>\n",
       "      <td>-0.026757</td>\n",
       "    </tr>\n",
       "    <tr>\n",
       "      <th>...</th>\n",
       "      <td>...</td>\n",
       "      <td>...</td>\n",
       "    </tr>\n",
       "    <tr>\n",
       "      <th>2021-10-28</th>\n",
       "      <td>0.015815</td>\n",
       "      <td>0.003304</td>\n",
       "    </tr>\n",
       "    <tr>\n",
       "      <th>2021-10-29</th>\n",
       "      <td>-0.021746</td>\n",
       "      <td>-0.028981</td>\n",
       "    </tr>\n",
       "    <tr>\n",
       "      <th>2021-11-01</th>\n",
       "      <td>-0.016238</td>\n",
       "      <td>0.031216</td>\n",
       "    </tr>\n",
       "    <tr>\n",
       "      <th>2021-11-02</th>\n",
       "      <td>-0.001617</td>\n",
       "      <td>-0.043661</td>\n",
       "    </tr>\n",
       "    <tr>\n",
       "      <th>2021-11-03</th>\n",
       "      <td>0.022883</td>\n",
       "      <td>0.021498</td>\n",
       "    </tr>\n",
       "  </tbody>\n",
       "</table>\n",
       "<p>1471 rows × 2 columns</p>\n",
       "</div>"
      ],
      "text/plain": [
       "                AMZN      BABA\n",
       "Date                          \n",
       "2016-01-04       NaN       NaN\n",
       "2016-01-05 -0.005036  0.024982\n",
       "2016-01-06 -0.001800 -0.016671\n",
       "2016-01-07 -0.039841 -0.061466\n",
       "2016-01-08 -0.001465 -0.026757\n",
       "...              ...       ...\n",
       "2021-10-28  0.015815  0.003304\n",
       "2021-10-29 -0.021746 -0.028981\n",
       "2021-11-01 -0.016238  0.031216\n",
       "2021-11-02 -0.001617 -0.043661\n",
       "2021-11-03  0.022883  0.021498\n",
       "\n",
       "[1471 rows x 2 columns]"
      ]
     },
     "execution_count": 7,
     "metadata": {},
     "output_type": "execute_result"
    }
   ],
   "source": [
    "log_returns"
   ]
  },
  {
   "cell_type": "markdown",
   "metadata": {},
   "source": [
    "As we can see, our values are really small. It shouldn't concern us, since the returns are daily. What should concern us is the first row. Since there are no values before it, we have got NaN. To prevent any errors in the future, we can delete those values using [`.dropna()`](https://pandas.pydata.org/pandas-docs/stable/reference/api/pandas.DataFrame.dropna.html)."
   ]
  },
  {
   "cell_type": "code",
   "execution_count": 8,
   "metadata": {},
   "outputs": [],
   "source": [
    "log_returns = log_returns.dropna()"
   ]
  },
  {
   "cell_type": "markdown",
   "metadata": {},
   "source": [
    "### Efficient Frontier"
   ]
  },
  {
   "cell_type": "markdown",
   "metadata": {},
   "source": [
    "Now it's time to explain the basic assumptions of the Markowitz model. As we already know, we have two stocks with different returns. If our portfolio would consist only of the Amazon stock, our returns will be equal to Amazon stock returns, and the portfolio's variance would be equal to the Amazon stock variance. On the other hand, if our portfolio would consist only of Alibaba stock, our returns will be equal to Alibaba stock returns, and the portfolio's variance would be equal to the amazon stock variance. However, if our portfolio consist of mix of those two stocks, our returns and variability would be:"
   ]
  },
  {
   "cell_type": "markdown",
   "metadata": {},
   "source": [
    "$$ returns = w_1 r_1+w_2 r_2\\\\ variance=w_1^2 v_1+w_2^2 v_2+2 w_1 w_2 cov() $$\n",
    "$ w_1 - weight\\,of\\,1st\\,stock\\\\ $ \n",
    "$ w_2 - weight\\,of\\,2nd\\,stock\\\\ $ \n",
    "$ r_1 - returns\\,of\\,1st\\,stock\\\\ $ \n",
    "$ r_2 - returns\\,of\\,2nd\\,stock\\\\ $ \n",
    "$ v_1 - variance\\,of\\,1st\\,stock\\\\ $ \n",
    "$ v_2 - variance\\,of\\,2nd\\,stock\\\\ $ \n",
    "$ cov() - covariance\\,of\\,two\\,stocks\\\\ $ \n"
   ]
  },
  {
   "cell_type": "markdown",
   "metadata": {},
   "source": [
    "Now, what we can observe is that while mixing the weights of two stocks, we can achieve two different combinations of stock 1 and stock 2 with the same variance, but with different returns. This could be nicely represented on a graph."
   ]
  },
  {
   "cell_type": "markdown",
   "metadata": {},
   "source": [
    "To create a curve that will represent all the possible combinations of two stocks, we will use random numbers. The idea is as follows. Once we create a sufficiently large number of random portfolios consisting of two stocks, it would create a sufficiently good representation of all possible combinations."
   ]
  },
  {
   "cell_type": "markdown",
   "metadata": {},
   "source": [
    "First, we need to create two empty arrays called returns and volatilities which we will expand by our randomly generated portfolios."
   ]
  },
  {
   "cell_type": "code",
   "execution_count": 9,
   "metadata": {},
   "outputs": [],
   "source": [
    "returns = []\n",
    "volatilities = []"
   ]
  },
  {
   "cell_type": "markdown",
   "metadata": {},
   "source": [
    "Then, we need to create a loop that will execute a sufficiently large number of times (100 is enough). Within this loop, we need to generate one random number `ran` in range (0,1) which would be the weight of the first stock (you can use [`random.random()`](https://docs.python.org/3/library/random.html)). We don't need to generate the weight of the second stock, since it is just 1 - `ran` (because those two weights need to sum up to 1). Then we can append the arrays that we created before with the returns and volatility given randomly generated weight. The returns of the stocks we can get by taking the mean of the logarithmic returns calculated before (we need to multiply the mean daily returns by 250 to achieve annual returns because there are about 250 trading days in a year). We can get variances and covariance by using the [`.cov()`](https://numpy.org/doc/stable/reference/generated/numpy.cov.html) (note that this command returns covariance matrix, you need to use `.iloc[]` to get the values that you want)."
   ]
  },
  {
   "cell_type": "code",
   "execution_count": 10,
   "metadata": {},
   "outputs": [],
   "source": [
    "for i in range (100):\n",
    "    ran=np.random.random(1)[0]\n",
    "    returns.append(ran*log_returns.mean()[0]*250+(1-ran)*log_returns.mean()[1]*250)\n",
    "    volatilities.append((ran**2)*log_returns.cov().iloc[0,0]*250+((1-ran)**2)*log_returns.cov().iloc[1,1]*250+ran*(1-ran)*log_returns.cov().iloc[0,1]*250)"
   ]
  },
  {
   "cell_type": "markdown",
   "metadata": {},
   "source": [
    "Let's display the values that we have calculated."
   ]
  },
  {
   "cell_type": "code",
   "execution_count": 11,
   "metadata": {},
   "outputs": [
    {
     "data": {
      "text/plain": [
       "([0.16023502842483922,\n",
       "  0.28124364820463027,\n",
       "  0.1972111338328813,\n",
       "  0.19662324894834532,\n",
       "  0.16349929564184357,\n",
       "  0.19478274496186226,\n",
       "  0.18094307016036731,\n",
       "  0.2221021259707028,\n",
       "  0.18039520724567276,\n",
       "  0.25021635537942366,\n",
       "  0.1503612966687935,\n",
       "  0.1368788005304041,\n",
       "  0.22834897631245576,\n",
       "  0.16811491620560307,\n",
       "  0.15794735927506548,\n",
       "  0.18603155155803436,\n",
       "  0.27005991788986755,\n",
       "  0.2727868158220161,\n",
       "  0.14612766471089975,\n",
       "  0.2468955359207336,\n",
       "  0.14784663253644945,\n",
       "  0.14621542359579526,\n",
       "  0.2773493574095031,\n",
       "  0.25196720699788566,\n",
       "  0.2663210419380006,\n",
       "  0.2590773155853649,\n",
       "  0.1950445746513938,\n",
       "  0.22055129399287177,\n",
       "  0.15647766386281084,\n",
       "  0.21075014468246628,\n",
       "  0.1590047097049783,\n",
       "  0.13625152634893417,\n",
       "  0.14737346844953012,\n",
       "  0.20714168284453788,\n",
       "  0.2183220088189378,\n",
       "  0.19705292096951293,\n",
       "  0.26952151348494424,\n",
       "  0.1827043427749595,\n",
       "  0.14254791417945487,\n",
       "  0.13533572611576733,\n",
       "  0.21222246413613466,\n",
       "  0.18881562425537124,\n",
       "  0.1823873506506774,\n",
       "  0.22358256270722227,\n",
       "  0.22658265218814286,\n",
       "  0.18310897599011347,\n",
       "  0.1872722365129281,\n",
       "  0.22235531719101922,\n",
       "  0.2806763684037203,\n",
       "  0.15278777219389042,\n",
       "  0.20940854305975726,\n",
       "  0.2311592488800639,\n",
       "  0.2713081668581541,\n",
       "  0.16136005959225166,\n",
       "  0.2524513790415826,\n",
       "  0.24697044634086535,\n",
       "  0.15526554243203008,\n",
       "  0.2512401554909951,\n",
       "  0.19469868825404318,\n",
       "  0.1603270544414442,\n",
       "  0.16635832203282166,\n",
       "  0.14132829625050505,\n",
       "  0.2715506595291237,\n",
       "  0.19125211494735067,\n",
       "  0.18358480129285898,\n",
       "  0.21114486041043987,\n",
       "  0.17541054700644576,\n",
       "  0.2789945928386642,\n",
       "  0.26852190891724503,\n",
       "  0.2743677272387104,\n",
       "  0.21771398660522273,\n",
       "  0.18064514081948801,\n",
       "  0.1419211636775943,\n",
       "  0.26228517095091547,\n",
       "  0.1869014014056921,\n",
       "  0.21700840357344525,\n",
       "  0.26922437166876667,\n",
       "  0.16489219189337245,\n",
       "  0.22686691674352144,\n",
       "  0.2370701869513897,\n",
       "  0.15255640890408617,\n",
       "  0.19326018214552138,\n",
       "  0.21838709182345467,\n",
       "  0.20286524263802802,\n",
       "  0.2784101719847443,\n",
       "  0.19452405799893618,\n",
       "  0.1958895791325893,\n",
       "  0.145802177499595,\n",
       "  0.19900697358197958,\n",
       "  0.2610515604108397,\n",
       "  0.13659796059491708,\n",
       "  0.19524104557445154,\n",
       "  0.25854543179109796,\n",
       "  0.20922341878040585,\n",
       "  0.15765151450100318,\n",
       "  0.2131861736047138,\n",
       "  0.2420507648743866,\n",
       "  0.14659170935606974,\n",
       "  0.17836309518057109,\n",
       "  0.22136681738796726],\n",
       " [0.0874896297160777,\n",
       "  0.0833159842942917,\n",
       "  0.06548276780050351,\n",
       "  0.065689925681101,\n",
       "  0.08481262571283396,\n",
       "  0.06636830007213543,\n",
       "  0.07291724261299663,\n",
       "  0.06094313587545366,\n",
       "  0.07322908388303895,\n",
       "  0.06575842854786977,\n",
       "  0.09645252488296333,\n",
       "  0.11079232964317491,\n",
       "  0.061101646603106116,\n",
       "  0.08127005409676859,\n",
       "  0.08945047447723713,\n",
       "  0.07021225929224861,\n",
       "  0.07550668810449782,\n",
       "  0.07725694220906337,\n",
       "  0.10069410496116106,\n",
       "  0.06464030770155706,\n",
       "  0.09894306895799612,\n",
       "  0.1006037537590957,\n",
       "  0.08040730401382672,\n",
       "  0.06640718737951803,\n",
       "  0.07326819424929538,\n",
       "  0.06946211868523043,\n",
       "  0.06626903680742127,\n",
       "  0.06098446937372711,\n",
       "  0.09074704866578141,\n",
       "  0.061988049246830074,\n",
       "  0.08853550121782243,\n",
       "  0.11151854295665409,\n",
       "  0.09942112714602679,\n",
       "  0.0626803848347779,\n",
       "  0.06110011089655034,\n",
       "  0.06553806501407858,\n",
       "  0.07517284420902241,\n",
       "  0.0719418692118339,\n",
       "  0.10446719459848224,\n",
       "  0.11258821983073147,\n",
       "  0.061755474385058726,\n",
       "  0.06887851311753064,\n",
       "  0.07211436130256318,\n",
       "  0.06093362034189438,\n",
       "  0.06100402353937125,\n",
       "  0.07172363520547438,\n",
       "  0.06960511691809149,\n",
       "  0.06093943527529797,\n",
       "  0.08287968541211078,\n",
       "  0.0941293191214321,\n",
       "  0.06222516355233394,\n",
       "  0.061342780908425695,\n",
       "  0.07629555940851374,\n",
       "  0.08655094127175378,\n",
       "  0.0665938121380204,\n",
       "  0.06466390772219868,\n",
       "  0.09183807846480464,\n",
       "  0.06613282001234809,\n",
       "  0.06640036112055976,\n",
       "  0.08741221200748506,\n",
       "  0.0825847633325509,\n",
       "  0.10579173747792646,\n",
       "  0.07645122242030335,\n",
       "  0.0677961488433466,\n",
       "  0.07146979985413944,\n",
       "  0.061922860036873494,\n",
       "  0.07625033324293055,\n",
       "  0.08161145662414196,\n",
       "  0.07456328550642054,\n",
       "  0.07831708592670841,\n",
       "  0.06114316168550831,\n",
       "  0.07308632592046597,\n",
       "  0.10514538585175891,\n",
       "  0.0710612437208557,\n",
       "  0.06978443679338345,\n",
       "  0.06119930432516982,\n",
       "  0.074990254501951,\n",
       "  0.08371360228371905,\n",
       "  0.06101692363378759,\n",
       "  0.06219391726067698,\n",
       "  0.09434744713605328,\n",
       "  0.06696365185296495,\n",
       "  0.061095795008109036,\n",
       "  0.06372586059173682,\n",
       "  0.08117958084232825,\n",
       "  0.06646727029065708,\n",
       "  0.06595492418251628,\n",
       "  0.10103010420745895,\n",
       "  0.06487851470119016,\n",
       "  0.07043003577547644,\n",
       "  0.1111168169460382,\n",
       "  0.06619515273188933,\n",
       "  0.06921024463145097,\n",
       "  0.06225976813157018,\n",
       "  0.08970915345446447,\n",
       "  0.06161890567117105,\n",
       "  0.06327302325887245,\n",
       "  0.10021751790096206,\n",
       "  0.07442073404690733,\n",
       "  0.06095873265855542])"
      ]
     },
     "execution_count": 11,
     "metadata": {},
     "output_type": "execute_result"
    }
   ],
   "source": [
    "returns, volatilities"
   ]
  },
  {
   "cell_type": "markdown",
   "metadata": {},
   "source": [
    "Now, we can plot our results. Create a scatter plot with volatility on the x-axis and returns on the y-axis."
   ]
  },
  {
   "cell_type": "code",
   "execution_count": 12,
   "metadata": {},
   "outputs": [
    {
     "data": {
      "image/png": "[encoded data removed]",
      "text/plain": [
       "<Figure size 720x432 with 1 Axes>"
      ]
     },
     "metadata": {
      "needs_background": "light"
     },
     "output_type": "display_data"
    }
   ],
   "source": [
    "plt.figure(figsize=(10,6))\n",
    "plt.scatter(volatilities,returns)\n",
    "plt.xlabel(\"Volatility\")\n",
    "plt.ylabel(\"Returns\")\n",
    "plt.show()"
   ]
  },
  {
   "cell_type": "markdown",
   "metadata": {},
   "source": [
    "As we can see, our axes are not starting at 0. We can fix that by using [`.gca()`](https://matplotlib.org/3.1.1/api/_as_gen/matplotlib.pyplot.gca.html), [`set_xlim()`](https://matplotlib.org/stable/api/_as_gen/matplotlib.pyplot.xlim.html) and [`set_ylim()`](https://matplotlib.org/stable/api/_as_gen/matplotlib.pyplot.ylim.html) ."
   ]
  },
  {
   "cell_type": "code",
   "execution_count": 13,
   "metadata": {},
   "outputs": [
    {
     "data": {
      "image/png": "[encoded data removed]",
      "text/plain": [
       "<Figure size 720x432 with 1 Axes>"
      ]
     },
     "metadata": {
      "needs_background": "light"
     },
     "output_type": "display_data"
    }
   ],
   "source": [
    "plt.figure(figsize=(10,6))\n",
    "plt.scatter(volatilities,returns)\n",
    "ax = plt.gca()\n",
    "ax.set_xlim([0, 0.20])\n",
    "ax.set_ylim([0, 0.35])\n",
    "plt.xlabel(\"Volatility\")\n",
    "plt.ylabel(\"Returns\")\n",
    "plt.show()"
   ]
  },
  {
   "cell_type": "markdown",
   "metadata": {},
   "source": [
    "The upper part of this curve is called \"Efficient Frontier\". It represents all the combinations of two assets that maximise the returns on the given level of risk (volatility). This notebook won't cover all the details about the Markowitz portfolio model, so if you want to learn more details about this model you can easily find them just by googling."
   ]
  },
  {
   "cell_type": "markdown",
   "metadata": {},
   "source": [
    "### Capital Allocation Line (CAL)"
   ]
  },
  {
   "cell_type": "markdown",
   "metadata": {},
   "source": [
    "In this part of the notebook, we will calculate the Capital Allocation Line. That's the line that runs from the risk-free rate (the point where the returns are equal to the risk-free rate, and the volatility (risk) is equal to 0) and is tangent to our Efficient Frontier. This line shows all of the possible efficient allocations of the risk-free and risky assets. Once again, we won't go into details of the meaning of this line, we will just focus on computing it."
   ]
  },
  {
   "cell_type": "markdown",
   "metadata": {},
   "source": [
    "Let's begin by setting our risk-free rate, which would be stored in a variable called `interest_rate`."
   ]
  },
  {
   "cell_type": "code",
   "execution_count": 14,
   "metadata": {},
   "outputs": [],
   "source": [
    "interest_rate = 0.1"
   ]
  },
  {
   "cell_type": "markdown",
   "metadata": {},
   "source": [
    "Since in our example the Efficient Frontier is not a function but a set of points, to calculate the tangent line we will use a simple trick. To begin, let's calculate the equation of the line that goes through risk-free rate point and point (`volatilities[0]`, `returns[0]`). We can do it by creating linespace `x` and then calculating `y` by the following formula:"
   ]
  },
  {
   "cell_type": "markdown",
   "metadata": {},
   "source": [
    "$$ y = risk\\,free\\,rate\\,+\\frac{return_0-risk\\,free\\,rate\\,}{volatility_0}*x $$"
   ]
  },
  {
   "cell_type": "code",
   "execution_count": 15,
   "metadata": {},
   "outputs": [],
   "source": [
    "x = np.linspace(0, 0.2)\n",
    "y = interest_rate + (returns[0]-interest_rate)/volatilities[0]*x"
   ]
  },
  {
   "cell_type": "markdown",
   "metadata": {},
   "source": [
    "We can our line on top of the previous graph to see if it actually goes through our chosen points."
   ]
  },
  {
   "cell_type": "code",
   "execution_count": 16,
   "metadata": {},
   "outputs": [
    {
     "data": {
      "image/png": "[encoded data removed]",
      "text/plain": [
       "<Figure size 720x432 with 1 Axes>"
      ]
     },
     "metadata": {
      "needs_background": "light"
     },
     "output_type": "display_data"
    }
   ],
   "source": [
    "plt.figure(figsize=(10,6))\n",
    "plt.scatter(volatilities,returns)\n",
    "plt.plot(x, y, color='orange')\n",
    "ax = plt.gca()\n",
    "ax.set_xlim([0, 0.20])\n",
    "ax.set_ylim([0, 0.35])\n",
    "plt.show()"
   ]
  },
  {
   "cell_type": "markdown",
   "metadata": {},
   "source": [
    "Once we know how to compute the line that goes through chosen point, we can calculate the tangent line. To do this, we will use the property of the tangent line. In our case, the tangent line goes through one of the points on the line and lies above all the other points on our curve. What we need to do is find such a point, that the line that goes through it is above every other line. Let's create a matrix called `point` that would store the coordinates of our candidates for such point."
   ]
  },
  {
   "cell_type": "code",
   "execution_count": 17,
   "metadata": {},
   "outputs": [],
   "source": [
    "point = [volatilities[0],returns[0]]"
   ]
  },
  {
   "cell_type": "markdown",
   "metadata": {},
   "source": [
    "Now, what we need to do is to check if there is any other point that lies above it. If it does, it would become our new candidate for point of tangency. Once we try it for all points on our curve, our candidate will be our final point of tangency."
   ]
  },
  {
   "cell_type": "code",
   "execution_count": 18,
   "metadata": {},
   "outputs": [],
   "source": [
    "for j in range(100):\n",
    "        if(returns[j]>interest_rate + (point[1]-interest_rate)/point[0]*volatilities[j]):\n",
    "            point[0]=volatilities[j]\n",
    "            point[1]=returns[j]"
   ]
  },
  {
   "cell_type": "markdown",
   "metadata": {},
   "source": [
    "Let's change the `y` that it represents the line that goes through risk-free rate and `point`."
   ]
  },
  {
   "cell_type": "code",
   "execution_count": 19,
   "metadata": {},
   "outputs": [],
   "source": [
    "y = interest_rate + (point[1]-interest_rate)/point[0]*x"
   ]
  },
  {
   "cell_type": "markdown",
   "metadata": {},
   "source": [
    "Finally, we can plot everything together and confirm that the line that we have computed actually is tangent to our curve."
   ]
  },
  {
   "cell_type": "code",
   "execution_count": 20,
   "metadata": {},
   "outputs": [
    {
     "data": {
      "image/png": "[encoded data removed]",
      "text/plain": [
       "<Figure size 720x432 with 1 Axes>"
      ]
     },
     "metadata": {
      "needs_background": "light"
     },
     "output_type": "display_data"
    }
   ],
   "source": [
    "plt.figure(figsize=(10,6))\n",
    "plt.scatter(volatilities,returns)\n",
    "plt.plot(x, y, color='orange')\n",
    "ax = plt.gca()\n",
    "ax.set_xlim([0, 0.20])\n",
    "ax.set_ylim([0, 0.35])\n",
    "plt.show()"
   ]
  },
  {
   "cell_type": "markdown",
   "metadata": {},
   "source": [
    "# 3x3 Nash equilibria"
   ]
  },
  {
   "cell_type": "markdown",
   "metadata": {},
   "source": [
    "At the end of this notebook, we create a framework for finding nash equilibria in the 3x3 games."
   ]
  },
  {
   "cell_type": "markdown",
   "metadata": {},
   "source": [
    "Let's say that we have two firms. They are setting their level of cost spend on marketing. They could either spend 2, 3 or 4. If they spend the same amount, they both sell 4, so their profit is 4 minus marketing costs. If one of the firms spend more, it attracts a majority of clients and sells 7, and the other firm sells 1. The game could be represented by the following payoff matrix:"
   ]
  },
  {
   "cell_type": "markdown",
   "metadata": {},
   "source": [
    "<table>\n",
    "    <tr>\n",
    "        <td></td><td></td><td>Firm 2</td><td></td><td></td>\n",
    "    </tr>\n",
    "    <tr>\n",
    "        <td></td><td></td><td>Low</td><td>Medium</td><td>High</td>\n",
    "    </tr>\n",
    "    <tr>\n",
    "        <td></td><td>Low</td><td>2;2</td><td>-1;4</td><td>-1;3</td>\n",
    "    </tr>\n",
    "    <tr>\n",
    "        <td>Firm 1</td><td>Medium</td><td>4;-1</td><td>1;1</td><td>-2;3</td>\n",
    "    </tr>\n",
    "    <tr>\n",
    "        <td></td><td>High</td><td>3;-1</td><td>3;-2</td><td>0;0</td>\n",
    "    </tr>\n",
    "    \n",
    "</table>"
   ]
  },
  {
   "cell_type": "markdown",
   "metadata": {},
   "source": [
    "To find the Nash Equilibria, we need to first create the matrix and fill it with payoffs. To create 2x3x3 matrix we can use [`.zeros()`](https://numpy.org/doc/stable/reference/generated/numpy.zeros.html)."
   ]
  },
  {
   "cell_type": "code",
   "execution_count": 21,
   "metadata": {},
   "outputs": [],
   "source": [
    "payoff_matrix = np.zeros((2,3,3))"
   ]
  },
  {
   "cell_type": "markdown",
   "metadata": {},
   "source": [
    "Let's display our payoff matrix."
   ]
  },
  {
   "cell_type": "code",
   "execution_count": 22,
   "metadata": {},
   "outputs": [
    {
     "data": {
      "text/plain": [
       "array([[[0., 0., 0.],\n",
       "        [0., 0., 0.],\n",
       "        [0., 0., 0.]],\n",
       "\n",
       "       [[0., 0., 0.],\n",
       "        [0., 0., 0.],\n",
       "        [0., 0., 0.]]])"
      ]
     },
     "execution_count": 22,
     "metadata": {},
     "output_type": "execute_result"
    }
   ],
   "source": [
    "payoff_matrix"
   ]
  },
  {
   "cell_type": "markdown",
   "metadata": {},
   "source": [
    "For such a simple 3x3 game, we can easily enter the values manually, but to practise for other more complicated cases, we will create a function that returns one player given marketing expenditures. The function should be as follows:"
   ]
  },
  {
   "cell_type": "markdown",
   "metadata": {},
   "source": [
    " - if the players spend the same amount on marketing, return 4 - player's spending\n",
    " - if the player spends more than the opponent, return 7-player's spending \n",
    " - if the player spends less than the opponent, return 1-player's spending"
   ]
  },
  {
   "cell_type": "code",
   "execution_count": 23,
   "metadata": {},
   "outputs": [],
   "source": [
    "def payoff(player,opponent):\n",
    "    if player==opponent :\n",
    "        return 4-player\n",
    "    if player>opponent :\n",
    "        return 7-player\n",
    "    if player<opponent :\n",
    "        return 1-player"
   ]
  },
  {
   "cell_type": "markdown",
   "metadata": {},
   "source": [
    "Once you created the function you can fill the payoffs matrix with values."
   ]
  },
  {
   "cell_type": "code",
   "execution_count": 24,
   "metadata": {},
   "outputs": [],
   "source": [
    "for i in range(3):\n",
    "    for j in range(3):\n",
    "        payoff_matrix[0,i,j]=payoff(i+2,j+2)\n",
    "        payoff_matrix[1,i,j]=payoff(j+2,i+2)"
   ]
  },
  {
   "cell_type": "markdown",
   "metadata": {},
   "source": [
    "Now check if you have correctly filled the matrix."
   ]
  },
  {
   "cell_type": "code",
   "execution_count": 25,
   "metadata": {},
   "outputs": [
    {
     "data": {
      "text/plain": [
       "array([[[ 2., -1., -1.],\n",
       "        [ 4.,  1., -2.],\n",
       "        [ 3.,  3.,  0.]],\n",
       "\n",
       "       [[ 2.,  4.,  3.],\n",
       "        [-1.,  1.,  3.],\n",
       "        [-1., -2.,  0.]]])"
      ]
     },
     "execution_count": 25,
     "metadata": {},
     "output_type": "execute_result"
    }
   ],
   "source": [
    "payoff_matrix"
   ]
  },
  {
   "cell_type": "markdown",
   "metadata": {},
   "source": [
    "Now given the payoff matrix we can compute Best Responses. Best Response for some choice of your opponent is the choice that gives no less than any other choice e.g. choosing medium is the best response of player 1 to player 2 choosing low. Let's use `.zeros()` and create the matrix of the same size as the payoff matrix filled with zeros. If the strategy is the best response, we will change the value to 1 (so for example, for player 1 playing low with response to low is not the best response, since playing medium gives higher payoff, but if player 1 plays medium with response to low, he doesn't have any other response that gives qual or higher payoff, so for player 1 paying medium is the best response to low). Let's create a loop that goes through every value in the best response matrix and checks whether it is the best response."
   ]
  },
  {
   "cell_type": "code",
   "execution_count": 26,
   "metadata": {},
   "outputs": [],
   "source": [
    "best_response = np.zeros((2,3,3))"
   ]
  },
  {
   "cell_type": "code",
   "execution_count": 27,
   "metadata": {},
   "outputs": [],
   "source": [
    "for i in range(3):\n",
    "    for j in range(3):\n",
    "        if payoff_matrix[1,i,j]>=payoff_matrix[1,i,0] and payoff_matrix[1,i,j]>=payoff_matrix[1,i,1] and payoff_matrix[1,i,j]>=payoff_matrix[1,i,2] :\n",
    "            best_response[1,i,j]=1\n",
    "        if payoff_matrix[0,j,i]>=payoff_matrix[0,0,i] and payoff_matrix[0,j,i]>=payoff_matrix[0,1,i] and payoff_matrix[0,j,i]>=payoff_matrix[0,2,i] :\n",
    "            best_response[0,j,i]=1"
   ]
  },
  {
   "cell_type": "code",
   "execution_count": 28,
   "metadata": {},
   "outputs": [
    {
     "data": {
      "text/plain": [
       "array([[[0., 0., 0.],\n",
       "        [1., 0., 0.],\n",
       "        [0., 1., 1.]],\n",
       "\n",
       "       [[0., 1., 0.],\n",
       "        [0., 0., 1.],\n",
       "        [0., 0., 1.]]])"
      ]
     },
     "execution_count": 28,
     "metadata": {},
     "output_type": "execute_result"
    }
   ],
   "source": [
    "best_response"
   ]
  },
  {
   "cell_type": "markdown",
   "metadata": {},
   "source": [
    "If the strategy is the best response for both player 1 and player 2, no one has any incentives to change their choice and we are in the Nash Equilibrium. We can create an empty array called `nash_equilibria` and run a loop that checks if the given strategy is the best response for both players 1 and 2."
   ]
  },
  {
   "cell_type": "code",
   "execution_count": 29,
   "metadata": {},
   "outputs": [],
   "source": [
    "nash_equilibria =[]"
   ]
  },
  {
   "cell_type": "code",
   "execution_count": 30,
   "metadata": {},
   "outputs": [],
   "source": [
    "for i in range(3):\n",
    "    for j in range(3):\n",
    "        if best_response[0,i,j]==1 and best_response[1,i,j]==1 :\n",
    "            nash_equilibria.append([i+2,j+2])"
   ]
  },
  {
   "cell_type": "markdown",
   "metadata": {},
   "source": [
    "Now, we can display our Nash Equilibria."
   ]
  },
  {
   "cell_type": "code",
   "execution_count": 31,
   "metadata": {},
   "outputs": [
    {
     "data": {
      "text/plain": [
       "[[4, 4]]"
      ]
     },
     "execution_count": 31,
     "metadata": {},
     "output_type": "execute_result"
    }
   ],
   "source": [
    "nash_equilibria"
   ]
  }
 ],
 "metadata": {
  "kernelspec": {
   "display_name": "Python 3",
   "language": "python",
   "name": "python3"
  },
  "language_info": {
   "codemirror_mode": {
    "name": "ipython",
    "version": 3
   },
   "file_extension": ".py",
   "mimetype": "text/x-python",
   "name": "python",
   "nbconvert_exporter": "python",
   "pygments_lexer": "ipython3",
   "version": "3.8.5"
  }
 },
 "nbformat": 4,
 "nbformat_minor": 4
}
