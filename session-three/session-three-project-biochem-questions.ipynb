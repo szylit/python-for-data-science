{
 "cells": [
  {
   "cell_type": "code",
   "execution_count": 24,
   "id": "c2deba9b",
   "metadata": {},
   "outputs": [],
   "source": [
    "from rdkit import Chem\n",
    "from rdkit.Chem.Draw import IPythonConsole\n",
    "from rdkit.Chem import Draw\n",
    "IPythonConsole.ipython_useSVG=False  #< set this to True if you want SVGs instead of PNGs"
   ]
  },
  {
   "cell_type": "markdown",
   "id": "101445dc",
   "metadata": {},
   "source": [
    "Draw a molecule of Butan-1-ol."
   ]
  },
  {
   "cell_type": "code",
   "execution_count": 25,
   "id": "f4df48cb",
   "metadata": {},
   "outputs": [],
   "source": [
    "# C means a single carbon in the chain, O is an oxygen in that chain and automatically\n",
    "# means alcohol.\n",
    "But1 = Chem.MolFromSmiles(\"CCCCO\")\n",
    "\n",
    "# Enter Here:"
   ]
  },
  {
   "cell_type": "markdown",
   "id": "68a826ad",
   "metadata": {},
   "source": [
    "Draw a molecule of phenyl acetaldehyde"
   ]
  },
  {
   "cell_type": "code",
   "execution_count": 1,
   "id": "d82b1bff",
   "metadata": {},
   "outputs": [
    {
     "ename": "SyntaxError",
     "evalue": "invalid syntax (Temp/ipykernel_29312/4082275599.py, line 1)",
     "output_type": "error",
     "traceback": [
      "\u001b[1;36m  File \u001b[1;32m\"C:\\Users\\umara\\AppData\\Local\\Temp/ipykernel_29312/4082275599.py\"\u001b[1;36m, line \u001b[1;32m1\u001b[0m\n\u001b[1;33m    Phe = # Enter Here:\u001b[0m\n\u001b[1;37m                       ^\u001b[0m\n\u001b[1;31mSyntaxError\u001b[0m\u001b[1;31m:\u001b[0m invalid syntax\n"
     ]
    }
   ],
   "source": [
    "Phe = # Enter Here:\n"
   ]
  },
  {
   "cell_type": "markdown",
   "id": "82309ff7",
   "metadata": {},
   "source": [
    "Find the molecular weight of Butan-1-ol."
   ]
  },
  {
   "cell_type": "code",
   "execution_count": null,
   "id": "ef9a5f99",
   "metadata": {},
   "outputs": [],
   "source": [
    "from rdkit.Chem import Descriptors\n",
    "\n",
    "# Descriptor object used to make calculations in rdkit.\n",
    "Mw_1 = Descriptors.MolWt(But1)\n",
    "\n",
    "# Enter Here:"
   ]
  },
  {
   "cell_type": "markdown",
   "id": "897e820e",
   "metadata": {},
   "source": [
    "Calculate the molecular weight of Phenylacetaldehyde."
   ]
  },
  {
   "cell_type": "code",
   "execution_count": null,
   "id": "5270b893",
   "metadata": {},
   "outputs": [],
   "source": [
    "Mw_2 = # Enter Here:"
   ]
  },
  {
   "cell_type": "markdown",
   "id": "02a7e642",
   "metadata": {},
   "source": [
    "Draw the molecules of benzene and cyclobutadiene."
   ]
  },
  {
   "cell_type": "code",
   "execution_count": null,
   "id": "bcddeb57",
   "metadata": {},
   "outputs": [],
   "source": [
    "benz = # Enter Here:\n",
    "sqr = # Enter Here:\n",
    "\n",
    "Draw.MolsToGridImage((benz,sqr))"
   ]
  },
  {
   "cell_type": "markdown",
   "id": "e14f1135",
   "metadata": {},
   "source": [
    "Draw the molecules of benzyl chloride and cyclopentadienyl radical."
   ]
  },
  {
   "cell_type": "code",
   "execution_count": null,
   "id": "a85223ea",
   "metadata": {},
   "outputs": [],
   "source": [
    "ben_cl = # Enter Here:\n",
    "cyp_r = # Enter Here:\n",
    "\n",
    "# Enter Here:"
   ]
  },
  {
   "cell_type": "markdown",
   "id": "85cd5003",
   "metadata": {},
   "source": [
    "Find the hybridisation of each carbon atom on CC1=CC(=C1I)C."
   ]
  },
  {
   "cell_type": "code",
   "execution_count": null,
   "id": "a1737975",
   "metadata": {},
   "outputs": [],
   "source": [
    "iodo_sqr = # Enter Here:\n",
    "for x in iodo_sqr.GetAtoms():\n",
    "    print(x.GetIdx(), x.GetHybridization())"
   ]
  },
  {
   "cell_type": "markdown",
   "id": "63df5f16",
   "metadata": {},
   "source": [
    "Find the hybridisation of each carbon atom on benzyl chloride."
   ]
  },
  {
   "cell_type": "code",
   "execution_count": null,
   "id": "746bd1e4",
   "metadata": {},
   "outputs": [],
   "source": [
    "# Enter Here:"
   ]
  },
  {
   "cell_type": "markdown",
   "id": "33a6a81d",
   "metadata": {},
   "source": [
    "Use the RingInfo object to find information about the atoms on the cyclopentadienyl radical ring and whether the ring is aromatic."
   ]
  },
  {
   "cell_type": "code",
   "execution_count": null,
   "id": "739492aa",
   "metadata": {},
   "outputs": [],
   "source": [
    "ri = cyp_r.GetRingInfo()\n",
    "\n",
    "def isRingAromatic(mol, bondRing):\n",
    "        for id in bondRing:\n",
    "            if not mol.GetBondWithIdx(id).GetIsAromatic():\n",
    "                return False # If the ring is not aromatic, it will return False.\n",
    "        return True # If the ring is aromatic, it will return True."
   ]
  },
  {
   "cell_type": "markdown",
   "id": "29e1382c",
   "metadata": {},
   "source": [
    "Print whether the ring is aromatic."
   ]
  },
  {
   "cell_type": "code",
   "execution_count": null,
   "id": "5a004e0a",
   "metadata": {},
   "outputs": [],
   "source": [
    "print(isRingAromatic(cyp_r, ri.BondRings()[0]))"
   ]
  },
  {
   "cell_type": "markdown",
   "id": "fca9c3fe",
   "metadata": {},
   "source": [
    "Using Smiles print the molecule 1,2,3,4-tetrahydronaphthalene."
   ]
  },
  {
   "cell_type": "code",
   "execution_count": null,
   "id": "5145585a",
   "metadata": {},
   "outputs": [],
   "source": [
    "twin = # Enter Here:"
   ]
  },
  {
   "cell_type": "markdown",
   "id": "228e0c57",
   "metadata": {},
   "source": [
    "Retrieve information about the atoms on the rings and whether either of the rings are aromatic."
   ]
  },
  {
   "cell_type": "code",
   "execution_count": null,
   "id": "580f3684",
   "metadata": {},
   "outputs": [],
   "source": [
    "# Enter Here:"
   ]
  },
  {
   "cell_type": "markdown",
   "id": "92dfb2dd",
   "metadata": {},
   "source": [
    "Print whether Ring 1 or 2 are aromatic."
   ]
  },
  {
   "cell_type": "code",
   "execution_count": null,
   "id": "d270854e",
   "metadata": {},
   "outputs": [],
   "source": [
    "# For Ring 1 \n",
    "\n",
    "# Enter Here:\n",
    "\n",
    "# For Ring 2\n",
    "\n",
    "# Enter Here:"
   ]
  },
  {
   "cell_type": "markdown",
   "id": "a220c9a9",
   "metadata": {},
   "source": [
    "For help downloading RDKIT use this website: https://www.linkedin.com/pulse/using-rdkit-jupyter-notebooks-lee-davies/\n"
   ]
  }
 ],
 "metadata": {
  "kernelspec": {
   "display_name": "Python 3 (ipykernel)",
   "language": "python",
   "name": "python3"
  },
  "language_info": {
   "codemirror_mode": {
    "name": "ipython",
    "version": 3
   },
   "file_extension": ".py",
   "mimetype": "text/x-python",
   "name": "python",
   "nbconvert_exporter": "python",
   "pygments_lexer": "ipython3",
   "version": "3.7.11"
  }
 },
 "nbformat": 4,
 "nbformat_minor": 5
}
