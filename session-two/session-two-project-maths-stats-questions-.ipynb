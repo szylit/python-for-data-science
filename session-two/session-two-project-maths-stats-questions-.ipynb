{
 "cells": [
  {
   "cell_type": "markdown",
   "id": "convertible-subsection",
   "metadata": {},
   "source": [
    "# Python for Data Science Practice Session 2 : Mathematics and Statistics"
   ]
  },
  {
   "cell_type": "markdown",
   "id": "preceding-parking",
   "metadata": {},
   "source": [
    "## Simpson's Paradox"
   ]
  },
  {
   "cell_type": "markdown",
   "id": "express-cattle",
   "metadata": {},
   "source": [
    "Simpson's Paradox is a phenomenon in Probability and Statistics in which a trend appears in several groups of data but disappears or reverses when the groups are combined. You can read more about it and find a couple of examples here: https://en.wikipedia.org/wiki/Simpson%27s_paradox\n",
    "\n",
    "In this section, we are going to investigate a dataset which will turn out to be a great example of this paradox. This dataset shows the expenditures on 1000 people from different ethnic groups, age groups and genders. An allegation of discrimination was made and supported by a univariate analysis that examined the average annual expenditures on consumers by ethnicity. In specific, the analysis concluded that the average annual expenditures on Hispanic consumers was approximately one-third of the average annual expenditures on White non-Hispanic consumers. \n",
    "\n",
    "In this section, we are going to carry out our own analysis and investigate whether the data supports the allegation or not. "
   ]
  },
  {
   "cell_type": "code",
   "execution_count": 1,
   "id": "electric-guarantee",
   "metadata": {},
   "outputs": [],
   "source": [
    "# Import pandas and matplotlib.pyplot\n"
   ]
  },
  {
   "cell_type": "code",
   "execution_count": 2,
   "id": "illegal-apple",
   "metadata": {},
   "outputs": [],
   "source": [
    "# Import the dataset 'californiaDDSDataV2.csv' into a dataframe\n"
   ]
  },
  {
   "cell_type": "code",
   "execution_count": 2,
   "id": "smoking-direction",
   "metadata": {},
   "outputs": [],
   "source": [
    "# View the dataframe\n"
   ]
  },
  {
   "cell_type": "code",
   "execution_count": 3,
   "id": "bronze-closer",
   "metadata": {},
   "outputs": [],
   "source": [
    "# Produce a summary for the dataframe\n"
   ]
  },
  {
   "cell_type": "code",
   "execution_count": 4,
   "id": "usual-confirmation",
   "metadata": {},
   "outputs": [],
   "source": [
    "# Import the unique ethnic groups in the dataframe\n"
   ]
  },
  {
   "cell_type": "markdown",
   "id": "residential-portuguese",
   "metadata": {},
   "source": [
    "- - - - -\n",
    "Let us now check the average annual expenditures of each ethnic group to check whether the result supports the allegation made."
   ]
  },
  {
   "cell_type": "code",
   "execution_count": 5,
   "id": "coastal-castle",
   "metadata": {},
   "outputs": [],
   "source": [
    "# Group the data by the mean of the expenditures of each ethnic group and arrange them ascendingly  \n"
   ]
  },
  {
   "cell_type": "markdown",
   "id": "working-destruction",
   "metadata": {},
   "source": [
    "The 'White not Hispanic' group has an average expenditure of slightly more than double of that of the 'Hispanic' class, which is not too far off from what the analysis mentioned above stated. Furthermore, Other, Multi Race and Hispanic have much smaller averages than the rest of the ethnic groups. This result goes well with the allegation. \n",
    "\n",
    "Let us plot a box plot of the expenditures of the different ethnic groups to visualise the data and have a clearer view. \n",
    "\n",
    "You can find the documenation of plotting a box plot here: https://matplotlib.org/3.1.1/api/_as_gen/matplotlib.axes.Axes.boxplot.html\n",
    "- - - - -\n",
    "To start off, create variables that contain the expenditures of each ethnic group separately. Name them `White_not_Hispanic`, `Hispanic`, `Black`, `Multi_Race`, `Asian`, `American_Indian`, `Native_Hawaiian` and `Other`."
   ]
  },
  {
   "cell_type": "code",
   "execution_count": 7,
   "id": "specific-insurance",
   "metadata": {},
   "outputs": [],
   "source": [
    "# Create variables that contain the expenditures of each ethnic group separately\n"
   ]
  },
  {
   "cell_type": "code",
   "execution_count": 9,
   "id": "regional-essay",
   "metadata": {},
   "outputs": [],
   "source": [
    "# Create a list of the variables\n"
   ]
  },
  {
   "cell_type": "markdown",
   "id": "younger-potato",
   "metadata": {},
   "source": [
    "Now, plot the box plot of the annual expenditures of each ethnic groups. \n",
    "\n",
    "For better visualisation, I would like for the boxes to be represented horizontally on the graph, and for the mean of every box to be visible on the plot. Read the documentation and figure out the parameters that you need to adjust in order to achieve this this."
   ]
  },
  {
   "cell_type": "code",
   "execution_count": 6,
   "id": "cubic-providence",
   "metadata": {},
   "outputs": [],
   "source": [
    "# Plot the boxplot\n"
   ]
  },
  {
   "cell_type": "markdown",
   "id": "therapeutic-jacksonville",
   "metadata": {},
   "source": [
    "Looking at the above boxplot, there are signs that might support the presence of discrimination towards some of the ethnic groups:\n",
    "1) Other, Asian, Multi Race, Black and Hispanic have significantly smaller median values than White not Hispanic, Native Hawaiian and American Indian.\n",
    "\n",
    "2) Other, Multi Race and Hispanic generally have significantly smaller mean, Q3 and maximum values (i.e. the edge of the right whisker of the box) than the rest of the ethnic groups.\n",
    "\n",
    "3) Comparing Hispanic with White not Hispanic, there is a big difference between the size of the box of both ethnic groups. The Hispanic group's box has a much smaller median and mean, as well as a much smaller maximum value.\n",
    "\n",
    "But, is this enough to conclude that the allegation is in fact true?\n",
    "\n",
    "Should we use the above box plot as evidence, or is there more to it that we cannot observe solely from this analysis? \n"
   ]
  },
  {
   "cell_type": "markdown",
   "id": "metallic-jacob",
   "metadata": {},
   "source": [
    "One thing to notice is that we haven't considered all the grouping options that we have. We tried grouping the data by the mean of the expenditures of each ethnic group, but we didn't consider grouping the data by Gender, or Age groups. Let us try doing both:"
   ]
  },
  {
   "cell_type": "code",
   "execution_count": 7,
   "id": "reduced-future",
   "metadata": {},
   "outputs": [],
   "source": [
    "# Group the data by the mean of the expenditures of each Gender group and arrange them ascendingly\n"
   ]
  },
  {
   "cell_type": "markdown",
   "id": "ethical-capture",
   "metadata": {},
   "source": [
    "The mean expenditures for Males and Females are very close which isn't very interesting for our Analysis. Keep in mind though that this result came from using all the data, hence results might turn out to be very different when looking at specific ethnic groups. This is something for you to explore on your own to check and see if there is gender discrimination.\n",
    "\n",
    "Let us now group the data by the average annual expenditures of each age group."
   ]
  },
  {
   "cell_type": "code",
   "execution_count": 8,
   "id": "removable-grave",
   "metadata": {},
   "outputs": [],
   "source": [
    "# Group the data by the mean of the expenditures of each Age group and arrange them ascendingly\n"
   ]
  },
  {
   "cell_type": "markdown",
   "id": "proof-peninsula",
   "metadata": {},
   "source": [
    "Now this is interesting. It is clear that as we increase the age group, the average of the annual expenditures increases. \n",
    "\n",
    "Also, there is a huge leap from the mean of expenditures of people of ages less than 21 to the mean of expenditures of people of ages more than 21. \n",
    "\n",
    "A thing to keep in mind is that the people in each ethnic group are not divided equally among the 6 age groups that are present, so some of the ethnic groups have more people in a specific age group than the other ethnic groups.\n",
    "\n",
    "I would like for you to take a moment and think about the consequences of this before moving on to the next tasks, because this is where the paradox stems from.\n",
    "- - - - -\n",
    "\n",
    "In the next tasks, I would like for you to create box plots of the expenditures of the different ethnic groups, with respect to a specific age group.\n",
    "\n",
    "So, in total, I would like for you to create six box plots corresponding to the six age groups that are present, following the same exact procedures that we followed in the previous box plot."
   ]
  },
  {
   "cell_type": "markdown",
   "id": "finite-wonder",
   "metadata": {},
   "source": [
    "## Ages 0 to 5"
   ]
  },
  {
   "cell_type": "code",
   "execution_count": 10,
   "id": "applicable-growth",
   "metadata": {},
   "outputs": [],
   "source": [
    "# Create variables that contain the expenditures of each ethnic group separately\n"
   ]
  },
  {
   "cell_type": "code",
   "execution_count": 11,
   "id": "sophisticated-vacation",
   "metadata": {},
   "outputs": [],
   "source": [
    "# Create a list of the variables\n"
   ]
  },
  {
   "cell_type": "code",
   "execution_count": 12,
   "id": "commercial-broadway",
   "metadata": {},
   "outputs": [],
   "source": [
    "# Plot the boxplot\n"
   ]
  },
  {
   "cell_type": "markdown",
   "id": "southern-character",
   "metadata": {},
   "source": [
    "## Ages 6 to 12"
   ]
  },
  {
   "cell_type": "code",
   "execution_count": 13,
   "id": "indonesian-scotland",
   "metadata": {},
   "outputs": [],
   "source": [
    "# Create variables that contain the expenditures of each ethnic group separately\n"
   ]
  },
  {
   "cell_type": "code",
   "execution_count": 14,
   "id": "frequent-trust",
   "metadata": {},
   "outputs": [],
   "source": [
    "# Create a list of the variables\n"
   ]
  },
  {
   "cell_type": "code",
   "execution_count": 15,
   "id": "announced-technical",
   "metadata": {},
   "outputs": [],
   "source": [
    "# Plot the boxplot\n"
   ]
  },
  {
   "cell_type": "markdown",
   "id": "facial-reservation",
   "metadata": {},
   "source": [
    "## Ages 13 to 17"
   ]
  },
  {
   "cell_type": "code",
   "execution_count": 16,
   "id": "resident-office",
   "metadata": {},
   "outputs": [],
   "source": [
    "# Create variables that contain the expenditures of each ethnic group separately\n"
   ]
  },
  {
   "cell_type": "code",
   "execution_count": 20,
   "id": "dying-grounds",
   "metadata": {},
   "outputs": [],
   "source": [
    "# Create a list of the variables\n",
    "data_13to17 = [White_not_Hispanic_13to17, Hispanic_13to17, Black_13to17, Multi_Race_13to17, Asian_13to17, American_Indian_13to17, Native_Hawaiian_13to17, Other_13to17]"
   ]
  },
  {
   "cell_type": "code",
   "execution_count": 17,
   "id": "intermediate-soundtrack",
   "metadata": {},
   "outputs": [],
   "source": [
    "# Plot the boxplot\n"
   ]
  },
  {
   "cell_type": "markdown",
   "id": "abandoned-establishment",
   "metadata": {},
   "source": [
    "## Ages 18 to 21"
   ]
  },
  {
   "cell_type": "code",
   "execution_count": 18,
   "id": "indie-video",
   "metadata": {},
   "outputs": [],
   "source": [
    "# Create variables that contain the expenditures of each ethnic group separately\n"
   ]
  },
  {
   "cell_type": "code",
   "execution_count": 19,
   "id": "temporal-period",
   "metadata": {},
   "outputs": [],
   "source": [
    "# Create a list of the variables\n"
   ]
  },
  {
   "cell_type": "code",
   "execution_count": 20,
   "id": "inappropriate-steal",
   "metadata": {},
   "outputs": [],
   "source": [
    "# Plot the boxplot\n"
   ]
  },
  {
   "cell_type": "markdown",
   "id": "surface-clark",
   "metadata": {},
   "source": [
    "## Ages 22 to 50"
   ]
  },
  {
   "cell_type": "code",
   "execution_count": 21,
   "id": "instrumental-commonwealth",
   "metadata": {},
   "outputs": [],
   "source": [
    "# Create variables that contain the expenditures of each ethnic group separately\n"
   ]
  },
  {
   "cell_type": "code",
   "execution_count": 22,
   "id": "polar-concern",
   "metadata": {},
   "outputs": [],
   "source": [
    "# Create a list of the variables\n"
   ]
  },
  {
   "cell_type": "code",
   "execution_count": 23,
   "id": "emerging-manhattan",
   "metadata": {},
   "outputs": [],
   "source": [
    "# Plot the boxplot\n"
   ]
  },
  {
   "cell_type": "markdown",
   "id": "accompanied-lecture",
   "metadata": {},
   "source": [
    "## Ages 51+"
   ]
  },
  {
   "cell_type": "code",
   "execution_count": 24,
   "id": "brazilian-glance",
   "metadata": {},
   "outputs": [],
   "source": [
    "# Create variables that contain the expenditures of each ethnic group separately\n"
   ]
  },
  {
   "cell_type": "code",
   "execution_count": 25,
   "id": "efficient-rabbit",
   "metadata": {},
   "outputs": [],
   "source": [
    "# Create a list of the variables\n"
   ]
  },
  {
   "cell_type": "code",
   "execution_count": 26,
   "id": "optional-remedy",
   "metadata": {},
   "outputs": [],
   "source": [
    "# Plot the boxplot \n"
   ]
  },
  {
   "cell_type": "markdown",
   "id": "respiratory-tutorial",
   "metadata": {},
   "source": [
    "Now, I want you to plot the six box plots together as well as the first box plot that included the data of all of the age groups together so that we can compare them easily. Adjust the figure sizes of the box plots in order for all of the plots to fit on your screen for ease of visualisation."
   ]
  },
  {
   "cell_type": "code",
   "execution_count": 27,
   "id": "loaded-scanning",
   "metadata": {},
   "outputs": [],
   "source": [
    "# Plot the six box plots together with the first boxplot\n"
   ]
  },
  {
   "cell_type": "markdown",
   "id": "consolidated-religion",
   "metadata": {},
   "source": [
    "Now, take a close look into all of the plots. For each age group, there doesn't seem to be any obvious discrimination towards any of the ethnic groups as we saw in the first boxplot that included all of the age groups at the same time. \n",
    "\n",
    "Also, regarding the analysis that concluded that the average annual expenditures on Hispanic consumers was approximately one-third of the average expenditures on White not Hispanic consumers, It turns out that this is not the case when considering the data of each age group separately. In fact, the average annual expenditures of the Hispanic group is larger than the average annual expenditures of the White non Hispanic group in 5 out of 6 of the age groups, which is the complete opposite of what the analysis stated.\n",
    "\n",
    "But, why is this the case? I will leave this for you to discover. \n",
    "\n",
    "<b>HINT</b>: Remember when I asked you to take a moment and think about the consequences before? Count the number of Hispanic and White non Hispanic people for each age group, and alongside that, keep in mind the annual expenditures for each of the Hispanic and White non Hispanic groups.\n",
    "- - - -\n",
    "\n",
    "This was an example of Simpson's Paradox. A thing to learn here is to make sure that you've considered every aspect of the data that you have before making a strong allegation like the one that was made here. \n",
    "- - - - "
   ]
  },
  {
   "cell_type": "markdown",
   "id": "stupid-wilderness",
   "metadata": {},
   "source": [
    "# The Mandelbrot Set"
   ]
  },
  {
   "cell_type": "markdown",
   "id": "chicken-daniel",
   "metadata": {},
   "source": [
    "The Mandelbrot Set is the set of complex numbers $c$ for which the function $f_{c}(z) = z^2 + c$ does not diverge when iterated from $z = 0$. When drawn on a complex plane, it shows some very interesting features like the appearance of the Fibonacci sequence in its structure and being able to approximate $\\pi$ in an unexpected way. \n",
    "\n",
    "Have a look at these videos if you'd like to know more: \n",
    "- https://www.youtube.com/watch?v=4LQvjSf6SSw\n",
    "- https://www.youtube.com/watch?v=d0vY0CKYhPY&t=412s\n",
    "- https://www.youtube.com/watch?v=FFftmWSzgmk&t=351s\n",
    "\n",
    "It is famously known for its appealing structure when graphed, which is what we are going to do in the upcoming tasks.\n",
    "\n",
    "The Mandelbrot set image can be drawn in Python by sampling the complex numbers $c$ and testing for each sample point $c$ whether the sequence $f_{c}(0)$, $f_{c}(f_{c}(0)), \\dotsc$  diverges. Then, the real and imaginary parts of the sampled complex numbers $c$ are treated as the co-ordinates of the image (i.e. the location of the pixel on the grid of the image), where the pixels are coloured according to the number of iterations needed by the function $f_{c}$ for its magnitude to pass a specific threshold (we are going to set the threshhold at $2$) "
   ]
  },
  {
   "cell_type": "markdown",
   "id": "outdoor-development",
   "metadata": {},
   "source": [
    "Let's go through the process step by step. Firstly, let's import the packages needed: `matplotlib.pyplot` and `numpy`.\n",
    "\n",
    "<b>NOTE:</b> We are going to explore `numpy` properly in the upcoming session, but for now, we are going to need some of its functions for the plotting of the image."
   ]
  },
  {
   "cell_type": "code",
   "execution_count": 28,
   "id": "vital-choir",
   "metadata": {},
   "outputs": [],
   "source": [
    "# Import matplotlib.pyplot and numpy (as np)\n"
   ]
  },
  {
   "cell_type": "markdown",
   "id": "revised-internet",
   "metadata": {},
   "source": [
    "Now, create a function called `mandelbrot` that returns the number of iterations needed for the function $f_{c}$ for some complex number $c$ to pass the threshold value of $2$, starting from $z=0$. It should include the parameters `Re` for the real part of $c$, `Im` for the imaginary part of $c$, and `max_iter` for the maximum number of iterations that the function can go through before terminating and returning `max_iter` as the result."
   ]
  },
  {
   "cell_type": "code",
   "execution_count": 29,
   "id": "exempt-least",
   "metadata": {},
   "outputs": [],
   "source": [
    "# Define the function mandelbrot\n"
   ]
  },
  {
   "cell_type": "markdown",
   "id": "moving-uncle",
   "metadata": {},
   "source": [
    "In the next steps, we are going to go through the process of creating the image.\n",
    "\n",
    "To start off, create two variables, `rows` and `columns`, which contain the number of pixels we would like to have per each row/column of pixels in the image. We would like to have a 2000x2000 image."
   ]
  },
  {
   "cell_type": "code",
   "execution_count": 31,
   "id": "fundamental-mississippi",
   "metadata": {},
   "outputs": [],
   "source": [
    "# Create the variables rows and columns\n"
   ]
  },
  {
   "cell_type": "markdown",
   "id": "opposite-brain",
   "metadata": {},
   "source": [
    "Now, use `numpy.zeros` in order to create a 2000x2000 array of zeros. You can find its documentation here: https://numpy.org/doc/stable/reference/generated/numpy.zeros.html"
   ]
  },
  {
   "cell_type": "code",
   "execution_count": 32,
   "id": "urban-personality",
   "metadata": {},
   "outputs": [],
   "source": [
    "# Create a 2000x2000 array of zeros, name it result\n"
   ]
  },
  {
   "cell_type": "markdown",
   "id": "excessive-opening",
   "metadata": {},
   "source": [
    "For this image, we are going to consider the ranges $[-2,1]$ for the real part of $c$ and $[-1,1]$ for the imaginary part. What we would like to do now is to create a 1D array of 2000 evenly spaced numbers between $[-2,1]$ and $[-1,1]$ which represent the values of the real and imaginary parts of the co-ordinates of the image (i.e. the sampled values of $c$)\n",
    "\n",
    "We do this by using the function `numpy.linspace`. You can find its documentation here: https://numpy.org/doc/stable/reference/generated/numpy.linspace.html\n",
    "\n",
    "Call the first array `Re_vals` and the second array `Im_vals`."
   ]
  },
  {
   "cell_type": "code",
   "execution_count": 33,
   "id": "personalized-imagination",
   "metadata": {},
   "outputs": [],
   "source": [
    "# Create Re_vals and Im_vals\n"
   ]
  },
  {
   "cell_type": "markdown",
   "id": "ruled-bookmark",
   "metadata": {},
   "source": [
    "Now, I would like for you to:\n",
    "1) Loop over both the indexes and the values of `Re_vals` and `Im_vals` in order to replace each entry in the 2000x2000 array called `result` with the number of iterations that is associated with each co-ordinate (i.e. each $c$ value).\n",
    "\n",
    "2) Transpose the result array (I will leave it for you to think about why we do this)."
   ]
  },
  {
   "cell_type": "code",
   "execution_count": 34,
   "id": "enabling-symphony",
   "metadata": {},
   "outputs": [],
   "source": [
    "# Fill in the result array \n"
   ]
  },
  {
   "cell_type": "markdown",
   "id": "backed-documentary",
   "metadata": {},
   "source": [
    "For the final step, create a plot for the image which has the `dpi` set to $150$, and then use `ax.imshow()` in order to create the image. You can find its documentation here: https://matplotlib.org/stable/api/_as_gen/matplotlib.axes.Axes.imshow.html\n",
    "\n",
    "I would like for you to set the following parameters in `ax.imshow()` as follows: \n",
    "1) `cmap`='hot'\n",
    "\n",
    "2)`interpolation`='bilinear'\n",
    "\n",
    "3) `extent`=$[-2,1,-1,1]$ \n",
    "\n"
   ]
  },
  {
   "cell_type": "code",
   "execution_count": 36,
   "id": "labeled-vitamin",
   "metadata": {},
   "outputs": [],
   "source": [
    "# Plot the image\n"
   ]
  },
  {
   "cell_type": "markdown",
   "id": "modern-modeling",
   "metadata": {},
   "source": [
    "There you go!\n",
    "\n",
    "You can go the extra mile and produce an animation of this fractal as well. You can find a guide of how to do this here: https://matplotlib.org/matplotblog/posts/animated-fractals/ "
   ]
  },
  {
   "cell_type": "markdown",
   "id": "advisory-belize",
   "metadata": {},
   "source": [
    "## Rejection Sampling"
   ]
  },
  {
   "cell_type": "markdown",
   "id": "chief-filter",
   "metadata": {},
   "source": [
    "Rejection Sampling is a technique that is used to generate observations from distributions. The basic intuition behind it is to uniformly sample points on a 2D square/rectangle that contains the probability density function inside, choose the points that lie underneath the probability density function, and then their x co-ordinates are the simulated samples from this distribution.\n",
    "\n",
    "You can read more about it here: https://en.wikipedia.org/wiki/Rejection_sampling#:~:text=Rejection%20sampling%20is%20based%20on,graph%20of%20its%20density%20function.\n",
    "\n",
    "We are going to test out this technique on the Standard Normal Distribution and simulate points manually."
   ]
  },
  {
   "cell_type": "markdown",
   "id": "nervous-stress",
   "metadata": {},
   "source": [
    "Firstly, import the libraries `math`, `random` and `numpy`"
   ]
  },
  {
   "cell_type": "code",
   "execution_count": 37,
   "id": "compliant-breast",
   "metadata": {},
   "outputs": [],
   "source": [
    "# Import math, random and numpy\n"
   ]
  },
  {
   "cell_type": "markdown",
   "id": "wound-testimony",
   "metadata": {},
   "source": [
    "Here are the main steps of the process:\n",
    "1) Generate random uniform points on a rectangle that ranges from $[-3,3]$ on the x-axis and from $[0,0.6]$ on the y-axis.\n",
    "\n",
    "2) Plot the probability density function of the Standard Normal Distribution.\n",
    "\n",
    "3) Identify the points that are underneath the density function of the Standard Normal Distribution.\n",
    "\n",
    "4) Extract the x co-ordinates of those points.\n",
    " - - - "
   ]
  },
  {
   "cell_type": "markdown",
   "id": "reduced-breeding",
   "metadata": {},
   "source": [
    "To start off, create 4 empty sets: \n",
    "1) `xs` - this will contain the x co-ordinates of the uniformly sampled points\n",
    "\n",
    "2) `ys` - this will contain the y co-ordinates of the uniformly sampled points\n",
    "\n",
    "3) `xs_samples` - this will contain the x co-ordinates of the uniformly sampled points that fall underneath the density function\n",
    "\n",
    "4) `ys_samples` - this will contain the y co-ordinates of the uniformly sampled points that fall underneath the density function"
   ]
  },
  {
   "cell_type": "code",
   "execution_count": 38,
   "id": "suited-leone",
   "metadata": {},
   "outputs": [],
   "source": [
    "# Create the 4 variables mentioned \n"
   ]
  },
  {
   "cell_type": "markdown",
   "id": "professional-radius",
   "metadata": {},
   "source": [
    "Now, let N be the number of points that we will uniformly sample. Set N to 2000."
   ]
  },
  {
   "cell_type": "code",
   "execution_count": 39,
   "id": "balanced-flower",
   "metadata": {},
   "outputs": [],
   "source": [
    "# Create N\n"
   ]
  },
  {
   "cell_type": "markdown",
   "id": "narrative-hunter",
   "metadata": {},
   "source": [
    "For the following task, I would like for you to:\n",
    "1) Fill in the variables `xs` and `ys` with N uniformly sampled points from $[-3,3]$ and $[0,0.6]$.\n",
    "\n",
    "2) For each point, check if it lies underneath the density function of the Standard Normal Distribution. If it does, add the x and y co-ordinates of this point to `xs_samples` and `ys_samples`. "
   ]
  },
  {
   "cell_type": "code",
   "execution_count": null,
   "id": "ancient-letter",
   "metadata": {},
   "outputs": [],
   "source": []
  },
  {
   "cell_type": "markdown",
   "id": "formed-motel",
   "metadata": {},
   "source": [
    "Plot a figure which contains all of the uniformly sampled points and a graph of the density function, where the points above the density function are coloured in `blue`, the points below the density function are coloured in `green`, and the density function coloured in `red`."
   ]
  },
  {
   "cell_type": "code",
   "execution_count": 42,
   "id": "controlling-jefferson",
   "metadata": {},
   "outputs": [],
   "source": [
    "# Plot the figure as instructed\n"
   ]
  },
  {
   "cell_type": "markdown",
   "id": "accessory-ethics",
   "metadata": {},
   "source": [
    "Now, according to Rejection Sampling, the simulated points in `xs_samples` should follow a Standard Normal Distribution. To check if this is true, we are going to plot a `qqplot` using the library called `statsmodels.api`. You will need to download it on your environment before importing it into Python. \n",
    "\n",
    "Use the following command: `pip install statsmodels` to install it."
   ]
  },
  {
   "cell_type": "code",
   "execution_count": 43,
   "id": "worth-corner",
   "metadata": {},
   "outputs": [],
   "source": [
    "# Import statsmodels.api\n"
   ]
  },
  {
   "cell_type": "markdown",
   "id": "virgin-rainbow",
   "metadata": {},
   "source": [
    "The `qqplot` function requires the data to be presented in an array instead of a list, so the next line of code does so:"
   ]
  },
  {
   "cell_type": "code",
   "execution_count": 44,
   "id": "instructional-luxury",
   "metadata": {},
   "outputs": [],
   "source": [
    "# This converts xs_samples from a list to a numpy array\n",
    "xs_samples = np.array(xs_samples)"
   ]
  },
  {
   "cell_type": "markdown",
   "id": "changing-vintage",
   "metadata": {},
   "source": [
    "Using the documentation here: https://www.statsmodels.org/stable/generated/statsmodels.graphics.gofplots.qqplot.html\n",
    "Plot a qqplot of `xs_samples`. "
   ]
  },
  {
   "cell_type": "code",
   "execution_count": 45,
   "id": "whole-ensemble",
   "metadata": {},
   "outputs": [],
   "source": [
    "# Plot the qqplot of xs_samples\n"
   ]
  },
  {
   "cell_type": "markdown",
   "id": "composite-kruger",
   "metadata": {},
   "source": [
    "This is very strong evidence that the values simulated in `xs_samples` do in fact follow a Standard Normal Distribution, which supports the validity of Rejection Sampling."
   ]
  },
  {
   "cell_type": "markdown",
   "id": "renewable-publication",
   "metadata": {},
   "source": [
    "Bonus: \n",
    "1) Play around with the value N, and check the results.\n",
    "\n",
    "2) Try out this technique on other distributions too."
   ]
  }
 ],
 "metadata": {
  "kernelspec": {
   "display_name": "Python 3",
   "language": "python",
   "name": "python3"
  },
  "language_info": {
   "codemirror_mode": {
    "name": "ipython",
    "version": 3
   },
   "file_extension": ".py",
   "mimetype": "text/x-python",
   "name": "python",
   "nbconvert_exporter": "python",
   "pygments_lexer": "ipython3",
   "version": "3.8.5"
  }
 },
 "nbformat": 4,
 "nbformat_minor": 5
}
