{
 "cells": [
  {
   "cell_type": "markdown",
   "metadata": {},
   "source": [
    "We need to import some libraries and the directory that our notebook is in, this allows us to import any file in the directory as well as edit and save new files to the directory."
   ]
  },
  {
   "cell_type": "code",
   "execution_count": 36,
   "metadata": {},
   "outputs": [],
   "source": [
    "import pandas as pd\n",
    "import numpy as np\n",
    "import matplotlib.pyplot as plt\n",
    "import os\n",
    "# os is the directory"
   ]
  },
  {
   "cell_type": "markdown",
   "metadata": {},
   "source": [
    "We can read and edit datasets using Python libraries such as pandas. First we need to import the excel file from the directory we've imported above and assign it to a variable called phage."
   ]
  },
  {
   "cell_type": "code",
   "execution_count": 37,
   "metadata": {},
   "outputs": [],
   "source": [
    "phage = pd.read_csv(\"Phage Dataset.csv\")"
   ]
  },
  {
   "cell_type": "markdown",
   "metadata": {},
   "source": [
    "Call the variable 'phage' using the .head() function."
   ]
  },
  {
   "cell_type": "code",
   "execution_count": 38,
   "metadata": {},
   "outputs": [],
   "source": [
    "# Enter here: "
   ]
  },
  {
   "cell_type": "markdown",
   "metadata": {},
   "source": [
    "We may not need all the columns, so getting rid of some to save space or to make it easier on the eye would be useful. Your task is to keep the columns between and including PO4 conc (uM) and Host growth rate/Phage growth rate and get rid of the rest."
   ]
  },
  {
   "cell_type": "code",
   "execution_count": 39,
   "metadata": {},
   "outputs": [],
   "source": [
    "keep_col = ['Repeat', 'Host growth rate (d-1)','PO4 conc (uM)','Latent period (days)','Burst size (phages per cell)', 'Adsorption constant (k)', 'Phage Productivity (d-1)', 'Host growth rate/Phage growth rate']\n",
    "new_phage = phage[keep_col]\n",
    "new_phage.to_csv(\"newPhagefile.csv\", index= False) # Given the new file a .csv file type."
   ]
  },
  {
   "cell_type": "markdown",
   "metadata": {},
   "source": [
    "We can create a new variable called phage_new to store the new file we have created above. "
   ]
  },
  {
   "cell_type": "code",
   "execution_count": 40,
   "metadata": {},
   "outputs": [],
   "source": [
    "phage_new = pd.read_csv(\"newPhagefile.csv\")"
   ]
  },
  {
   "cell_type": "markdown",
   "metadata": {},
   "source": [
    "Call the new variable using the .head() function."
   ]
  },
  {
   "cell_type": "code",
   "execution_count": 41,
   "metadata": {},
   "outputs": [],
   "source": [
    "# Enter here:"
   ]
  },
  {
   "cell_type": "markdown",
   "metadata": {},
   "source": [
    "Find the mean of the Latent period, Burst size and Adsorption constant."
   ]
  },
  {
   "cell_type": "code",
   "execution_count": 42,
   "metadata": {},
   "outputs": [],
   "source": [
    "# The question asks us for only 3 columns so we can rid of the others.\n",
    "\n",
    "# Enter here:\n",
    "\n",
    "# The new file should be called QPhagefile.csv \n",
    "\n",
    "# Assign the new file to a variable called question_phage"
   ]
  },
  {
   "cell_type": "markdown",
   "metadata": {},
   "source": [
    "Assign the new file to a new variable called 'df'"
   ]
  },
  {
   "cell_type": "code",
   "execution_count": 43,
   "metadata": {},
   "outputs": [],
   "source": [
    "# Enter here:"
   ]
  },
  {
   "cell_type": "markdown",
   "metadata": {},
   "source": [
    "We can now work out the mean."
   ]
  },
  {
   "cell_type": "code",
   "execution_count": 44,
   "metadata": {},
   "outputs": [],
   "source": [
    "# Each measurement was carried out 3 times (look at the repeat column\n",
    "avg = df.groupby(np.arange(len(df))//3).mean()\n",
    "\n",
    "# groupby just groups the data the way you want it to.\n",
    "# arange just gives you a list of numbers according to the parameter given in the bracket"
   ]
  },
  {
   "cell_type": "markdown",
   "metadata": {},
   "source": [
    "Print the mean."
   ]
  },
  {
   "cell_type": "code",
   "execution_count": 45,
   "metadata": {},
   "outputs": [],
   "source": [
    "# Enter here:"
   ]
  },
  {
   "cell_type": "markdown",
   "metadata": {},
   "source": [
    "An outlier is a value in a data set that is very different from the other values. Using the following equation: $$Outlier = Mean \\pm 2\\sigma$$ find the outlier in the first row of each column shown above. First we need to find the standard deviation."
   ]
  },
  {
   "cell_type": "code",
   "execution_count": 46,
   "metadata": {},
   "outputs": [],
   "source": [
    "std = df.groupby(np.arange(len(df))//3).std()"
   ]
  },
  {
   "cell_type": "markdown",
   "metadata": {},
   "source": [
    "Print the standard deviation."
   ]
  },
  {
   "cell_type": "code",
   "execution_count": 47,
   "metadata": {},
   "outputs": [],
   "source": [
    "# Enter here:"
   ]
  },
  {
   "cell_type": "markdown",
   "metadata": {},
   "source": [
    "We only need the first row of standard deviations for the question. Arrays make iterating easier so convert the csv file to an array and iterate the $$2\\sigma$$ equation over the array."
   ]
  },
  {
   "cell_type": "code",
   "execution_count": 48,
   "metadata": {},
   "outputs": [
    {
     "name": "stdout",
     "output_type": "stream",
     "text": [
      "0    0.048113\n",
      "Name: Latent period (days), dtype: float64\n",
      "0    0.18037\n",
      "Name: Burst size (phages per cell), dtype: float64\n",
      "0    1.269961e-09\n",
      "Name: Adsorption constant (k), dtype: float64\n"
     ]
    }
   ],
   "source": [
    "# This give us only the first row.\n",
    "std_que = std.iloc[0:1]\n",
    "\n",
    "# Create an empty array\n",
    "std_data = []\n",
    "\n",
    "# Append the first row of our Standard deviation csv file to the empty array\n",
    "for i in std_que:\n",
    "    std_data.append(std_que[i])\n",
    "    \n",
    "# Iterate through our new appended array the equation 2*s\n",
    "for s in std_data:\n",
    "    print(2*s)"
   ]
  },
  {
   "cell_type": "markdown",
   "metadata": {},
   "source": [
    "Convert the convert the avg csv file we created earlier into an array."
   ]
  },
  {
   "cell_type": "code",
   "execution_count": 49,
   "metadata": {},
   "outputs": [],
   "source": [
    "# Enter here:"
   ]
  },
  {
   "cell_type": "markdown",
   "metadata": {},
   "source": [
    "We can now work out the first set of outliers: $$Outlier = Mean + 2\\sigma$$"
   ]
  },
  {
   "cell_type": "code",
   "execution_count": 50,
   "metadata": {},
   "outputs": [],
   "source": [
    "Lat_o = mean_data[0] + std_data[0]\n",
    "Burs_o = mean_data[1] + std_data[1]\n",
    "k_o = mean_data[2] + std_data[2]"
   ]
  },
  {
   "cell_type": "markdown",
   "metadata": {},
   "source": [
    "Print the values of each outlier."
   ]
  },
  {
   "cell_type": "code",
   "execution_count": 51,
   "metadata": {},
   "outputs": [
    {
     "name": "stdout",
     "output_type": "stream",
     "text": [
      "Outlier are \n",
      " 0    0.537945\n",
      "Name: Latent period (days), dtype: float64 \n",
      " 0    1.696852\n",
      "Name: Burst size (phages per cell), dtype: float64 \n",
      " 0    1.335498e-08\n",
      "Name: Adsorption constant (k), dtype: float64 .\n"
     ]
    }
   ],
   "source": [
    "# \\n separates creates a new line.\n",
    "print('Outlier are', '\\n', Lat_o, '\\n', Burs_o, '\\n', k_o,'.')"
   ]
  },
  {
   "cell_type": "markdown",
   "metadata": {},
   "source": [
    "Find the second set of Outliers: $$Outlier = Mean - 2\\sigma$$"
   ]
  },
  {
   "cell_type": "code",
   "execution_count": 52,
   "metadata": {},
   "outputs": [],
   "source": [
    "# Enter here:"
   ]
  },
  {
   "cell_type": "markdown",
   "metadata": {},
   "source": [
    "Print the second set of outliers."
   ]
  },
  {
   "cell_type": "code",
   "execution_count": 53,
   "metadata": {},
   "outputs": [],
   "source": [
    "# Enter here:"
   ]
  }
 ],
 "metadata": {
  "kernelspec": {
   "display_name": "Python 3",
   "language": "python",
   "name": "python3"
  },
  "language_info": {
   "codemirror_mode": {
    "name": "ipython",
    "version": 3
   },
   "file_extension": ".py",
   "mimetype": "text/x-python",
   "name": "python",
   "nbconvert_exporter": "python",
   "pygments_lexer": "ipython3",
   "version": "3.8.5"
  }
 },
 "nbformat": 4,
 "nbformat_minor": 4
}
