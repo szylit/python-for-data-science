{
 "cells": [
  {
   "cell_type": "markdown",
   "metadata": {},
   "source": [
    "We need to import some libraries and the directory that our notebook is in, this allows us to import any file in the directory as well as edit and save new files to the directory."
   ]
  },
  {
   "cell_type": "code",
   "execution_count": 64,
   "metadata": {},
   "outputs": [],
   "source": [
    "import pandas as pd\n",
    "import numpy as np\n",
    "import matplotlib.pyplot as plt\n",
    "import os\n",
    "# os is the directory"
   ]
  },
  {
   "cell_type": "markdown",
   "metadata": {},
   "source": [
    "We can read and edit datasets using Python libraries such as pandas. First we need to import the excel file from the directory we've imported above and assign it to a variable called phage."
   ]
  },
  {
   "cell_type": "code",
   "execution_count": 65,
   "metadata": {},
   "outputs": [],
   "source": [
    "phage = pd.read_csv(\"Phage Dataset.csv\")"
   ]
  },
  {
   "cell_type": "markdown",
   "metadata": {},
   "source": [
    "Call the variable 'phage' using the .head() function."
   ]
  },
  {
   "cell_type": "code",
   "execution_count": 66,
   "metadata": {},
   "outputs": [
    {
     "data": {
      "text/html": [
       "<div>\n",
       "<style scoped>\n",
       "    .dataframe tbody tr th:only-of-type {\n",
       "        vertical-align: middle;\n",
       "    }\n",
       "\n",
       "    .dataframe tbody tr th {\n",
       "        vertical-align: top;\n",
       "    }\n",
       "\n",
       "    .dataframe thead th {\n",
       "        text-align: right;\n",
       "    }\n",
       "</style>\n",
       "<table border=\"1\" class=\"dataframe\">\n",
       "  <thead>\n",
       "    <tr style=\"text-align: right;\">\n",
       "      <th></th>\n",
       "      <th>Line</th>\n",
       "      <th>Host growth rate (d-1)</th>\n",
       "      <th>PO4 conc (uM)</th>\n",
       "      <th>Repeat</th>\n",
       "      <th>Latent period (days)</th>\n",
       "      <th>Burst size (phages per cell)</th>\n",
       "      <th>k</th>\n",
       "      <th>Adsorption constant (k)</th>\n",
       "      <th>Phage Productivity (d-1)</th>\n",
       "      <th>Host growth rate/Phage growth rate</th>\n",
       "      <th>(anything &gt;1 tilts toward host survival, anything &lt; 1 toward phage survival)</th>\n",
       "    </tr>\n",
       "  </thead>\n",
       "  <tbody>\n",
       "    <tr>\n",
       "      <th>0</th>\n",
       "      <td>1</td>\n",
       "      <td>0.25</td>\n",
       "      <td>0.1</td>\n",
       "      <td>1</td>\n",
       "      <td>0.500000</td>\n",
       "      <td>1.60</td>\n",
       "      <td>5.6</td>\n",
       "      <td>1.344000e-08</td>\n",
       "      <td>0.055372</td>\n",
       "      <td>4.514906</td>\n",
       "      <td>NaN</td>\n",
       "    </tr>\n",
       "    <tr>\n",
       "      <th>1</th>\n",
       "      <td>2</td>\n",
       "      <td>0.25</td>\n",
       "      <td>0.1</td>\n",
       "      <td>2</td>\n",
       "      <td>0.541667</td>\n",
       "      <td>1.70</td>\n",
       "      <td>5.1</td>\n",
       "      <td>1.224000e-08</td>\n",
       "      <td>0.059327</td>\n",
       "      <td>4.213928</td>\n",
       "      <td>NaN</td>\n",
       "    </tr>\n",
       "    <tr>\n",
       "      <th>2</th>\n",
       "      <td>3</td>\n",
       "      <td>0.25</td>\n",
       "      <td>0.1</td>\n",
       "      <td>3</td>\n",
       "      <td>0.500000</td>\n",
       "      <td>1.52</td>\n",
       "      <td>5.2</td>\n",
       "      <td>1.248000e-08</td>\n",
       "      <td>0.042606</td>\n",
       "      <td>5.867700</td>\n",
       "      <td>NaN</td>\n",
       "    </tr>\n",
       "    <tr>\n",
       "      <th>3</th>\n",
       "      <td>7</td>\n",
       "      <td>0.25</td>\n",
       "      <td>1.0</td>\n",
       "      <td>1</td>\n",
       "      <td>0.416667</td>\n",
       "      <td>3.92</td>\n",
       "      <td>5.2</td>\n",
       "      <td>1.248000e-08</td>\n",
       "      <td>0.316020</td>\n",
       "      <td>0.791088</td>\n",
       "      <td>NaN</td>\n",
       "    </tr>\n",
       "    <tr>\n",
       "      <th>4</th>\n",
       "      <td>8</td>\n",
       "      <td>0.25</td>\n",
       "      <td>1.0</td>\n",
       "      <td>2</td>\n",
       "      <td>0.375000</td>\n",
       "      <td>4.12</td>\n",
       "      <td>5.4</td>\n",
       "      <td>1.296000e-08</td>\n",
       "      <td>0.356569</td>\n",
       "      <td>0.701127</td>\n",
       "      <td>NaN</td>\n",
       "    </tr>\n",
       "  </tbody>\n",
       "</table>\n",
       "</div>"
      ],
      "text/plain": [
       "   Line  Host growth rate (d-1)  PO4 conc (uM)  Repeat  Latent period (days)  \\\n",
       "0     1                    0.25            0.1       1              0.500000   \n",
       "1     2                    0.25            0.1       2              0.541667   \n",
       "2     3                    0.25            0.1       3              0.500000   \n",
       "3     7                    0.25            1.0       1              0.416667   \n",
       "4     8                    0.25            1.0       2              0.375000   \n",
       "\n",
       "   Burst size (phages per cell)    k  Adsorption constant (k)  \\\n",
       "0                          1.60  5.6             1.344000e-08   \n",
       "1                          1.70  5.1             1.224000e-08   \n",
       "2                          1.52  5.2             1.248000e-08   \n",
       "3                          3.92  5.2             1.248000e-08   \n",
       "4                          4.12  5.4             1.296000e-08   \n",
       "\n",
       "   Phage Productivity (d-1)  Host growth rate/Phage growth rate  \\\n",
       "0                  0.055372                            4.514906   \n",
       "1                  0.059327                            4.213928   \n",
       "2                  0.042606                            5.867700   \n",
       "3                  0.316020                            0.791088   \n",
       "4                  0.356569                            0.701127   \n",
       "\n",
       "    (anything >1 tilts toward host survival, anything < 1 toward phage survival)  \n",
       "0                                                NaN                              \n",
       "1                                                NaN                              \n",
       "2                                                NaN                              \n",
       "3                                                NaN                              \n",
       "4                                                NaN                              "
      ]
     },
     "execution_count": 66,
     "metadata": {},
     "output_type": "execute_result"
    }
   ],
   "source": [
    "phage.head()"
   ]
  },
  {
   "cell_type": "markdown",
   "metadata": {},
   "source": [
    "We may not need all the columns, so getting rid of some to save space or to make it easier on the eye would be useful. Your task is to keep the columns between and including PO4 conc (uM) and Host growth rate/Phage growth rate and get rid of the rest."
   ]
  },
  {
   "cell_type": "code",
   "execution_count": 67,
   "metadata": {},
   "outputs": [],
   "source": [
    "keep_col = ['Repeat', 'Host growth rate (d-1)','PO4 conc (uM)','Latent period (days)','Burst size (phages per cell)', 'Adsorption constant (k)', 'Phage Productivity (d-1)', 'Host growth rate/Phage growth rate']\n",
    "new_phage = phage[keep_col]\n",
    "new_phage.to_csv(\"newPhagefile.csv\", index= False)"
   ]
  },
  {
   "cell_type": "markdown",
   "metadata": {},
   "source": [
    "We can create a new variable called phage_new to store the new file we have created above. "
   ]
  },
  {
   "cell_type": "code",
   "execution_count": 68,
   "metadata": {},
   "outputs": [],
   "source": [
    "phage_new = pd.read_csv(\"newPhagefile.csv\")"
   ]
  },
  {
   "cell_type": "markdown",
   "metadata": {},
   "source": [
    "Call the new variable using the .head() function."
   ]
  },
  {
   "cell_type": "code",
   "execution_count": 69,
   "metadata": {},
   "outputs": [
    {
     "data": {
      "text/html": [
       "<div>\n",
       "<style scoped>\n",
       "    .dataframe tbody tr th:only-of-type {\n",
       "        vertical-align: middle;\n",
       "    }\n",
       "\n",
       "    .dataframe tbody tr th {\n",
       "        vertical-align: top;\n",
       "    }\n",
       "\n",
       "    .dataframe thead th {\n",
       "        text-align: right;\n",
       "    }\n",
       "</style>\n",
       "<table border=\"1\" class=\"dataframe\">\n",
       "  <thead>\n",
       "    <tr style=\"text-align: right;\">\n",
       "      <th></th>\n",
       "      <th>Repeat</th>\n",
       "      <th>Host growth rate (d-1)</th>\n",
       "      <th>PO4 conc (uM)</th>\n",
       "      <th>Latent period (days)</th>\n",
       "      <th>Burst size (phages per cell)</th>\n",
       "      <th>Adsorption constant (k)</th>\n",
       "      <th>Phage Productivity (d-1)</th>\n",
       "      <th>Host growth rate/Phage growth rate</th>\n",
       "    </tr>\n",
       "  </thead>\n",
       "  <tbody>\n",
       "    <tr>\n",
       "      <th>0</th>\n",
       "      <td>1</td>\n",
       "      <td>0.25</td>\n",
       "      <td>0.1</td>\n",
       "      <td>0.500000</td>\n",
       "      <td>1.60</td>\n",
       "      <td>1.344000e-08</td>\n",
       "      <td>0.055372</td>\n",
       "      <td>4.514906</td>\n",
       "    </tr>\n",
       "    <tr>\n",
       "      <th>1</th>\n",
       "      <td>2</td>\n",
       "      <td>0.25</td>\n",
       "      <td>0.1</td>\n",
       "      <td>0.541667</td>\n",
       "      <td>1.70</td>\n",
       "      <td>1.224000e-08</td>\n",
       "      <td>0.059327</td>\n",
       "      <td>4.213928</td>\n",
       "    </tr>\n",
       "    <tr>\n",
       "      <th>2</th>\n",
       "      <td>3</td>\n",
       "      <td>0.25</td>\n",
       "      <td>0.1</td>\n",
       "      <td>0.500000</td>\n",
       "      <td>1.52</td>\n",
       "      <td>1.248000e-08</td>\n",
       "      <td>0.042606</td>\n",
       "      <td>5.867700</td>\n",
       "    </tr>\n",
       "    <tr>\n",
       "      <th>3</th>\n",
       "      <td>1</td>\n",
       "      <td>0.25</td>\n",
       "      <td>1.0</td>\n",
       "      <td>0.416667</td>\n",
       "      <td>3.92</td>\n",
       "      <td>1.248000e-08</td>\n",
       "      <td>0.316020</td>\n",
       "      <td>0.791088</td>\n",
       "    </tr>\n",
       "    <tr>\n",
       "      <th>4</th>\n",
       "      <td>2</td>\n",
       "      <td>0.25</td>\n",
       "      <td>1.0</td>\n",
       "      <td>0.375000</td>\n",
       "      <td>4.12</td>\n",
       "      <td>1.296000e-08</td>\n",
       "      <td>0.356569</td>\n",
       "      <td>0.701127</td>\n",
       "    </tr>\n",
       "  </tbody>\n",
       "</table>\n",
       "</div>"
      ],
      "text/plain": [
       "   Repeat  Host growth rate (d-1)  PO4 conc (uM)  Latent period (days)  \\\n",
       "0       1                    0.25            0.1              0.500000   \n",
       "1       2                    0.25            0.1              0.541667   \n",
       "2       3                    0.25            0.1              0.500000   \n",
       "3       1                    0.25            1.0              0.416667   \n",
       "4       2                    0.25            1.0              0.375000   \n",
       "\n",
       "   Burst size (phages per cell)  Adsorption constant (k)  \\\n",
       "0                          1.60             1.344000e-08   \n",
       "1                          1.70             1.224000e-08   \n",
       "2                          1.52             1.248000e-08   \n",
       "3                          3.92             1.248000e-08   \n",
       "4                          4.12             1.296000e-08   \n",
       "\n",
       "   Phage Productivity (d-1)  Host growth rate/Phage growth rate  \n",
       "0                  0.055372                            4.514906  \n",
       "1                  0.059327                            4.213928  \n",
       "2                  0.042606                            5.867700  \n",
       "3                  0.316020                            0.791088  \n",
       "4                  0.356569                            0.701127  "
      ]
     },
     "execution_count": 69,
     "metadata": {},
     "output_type": "execute_result"
    }
   ],
   "source": [
    "phage_new.head()"
   ]
  },
  {
   "cell_type": "markdown",
   "metadata": {},
   "source": [
    "Find the mean of Latent period, Burst size and Adsorption constant. "
   ]
  },
  {
   "cell_type": "code",
   "execution_count": 70,
   "metadata": {},
   "outputs": [],
   "source": [
    "# The question asks us for only 3 columns so we can rid of the others.\n",
    "keep_colQ = ['Latent period (days)','Burst size (phages per cell)', 'Adsorption constant (k)']\n",
    "question_phage = phage[keep_colQ]\n",
    "question_phage.to_csv(\"QPhagefile.csv\", index= False)"
   ]
  },
  {
   "cell_type": "markdown",
   "metadata": {},
   "source": [
    "Assign the new file to a new variable called 'df'"
   ]
  },
  {
   "cell_type": "code",
   "execution_count": 71,
   "metadata": {},
   "outputs": [],
   "source": [
    "df = pd.read_csv('QPhagefile.csv')"
   ]
  },
  {
   "cell_type": "markdown",
   "metadata": {},
   "source": [
    "We can now work out the mean."
   ]
  },
  {
   "cell_type": "code",
   "execution_count": 72,
   "metadata": {},
   "outputs": [],
   "source": [
    "# Each measurement was carried out 3 times (look at the repeat column\n",
    "avg = df.groupby(np.arange(len(df))//3).mean()\n",
    "\n",
    "# groupby just groups the data the way you want it to.\n",
    "# arange just gives you a list of numbers according to the parameter given in the bracket"
   ]
  },
  {
   "cell_type": "markdown",
   "metadata": {},
   "source": [
    "Print the mean."
   ]
  },
  {
   "cell_type": "code",
   "execution_count": 73,
   "metadata": {},
   "outputs": [
    {
     "data": {
      "text/html": [
       "<div>\n",
       "<style scoped>\n",
       "    .dataframe tbody tr th:only-of-type {\n",
       "        vertical-align: middle;\n",
       "    }\n",
       "\n",
       "    .dataframe tbody tr th {\n",
       "        vertical-align: top;\n",
       "    }\n",
       "\n",
       "    .dataframe thead th {\n",
       "        text-align: right;\n",
       "    }\n",
       "</style>\n",
       "<table border=\"1\" class=\"dataframe\">\n",
       "  <thead>\n",
       "    <tr style=\"text-align: right;\">\n",
       "      <th></th>\n",
       "      <th>Latent period (days)</th>\n",
       "      <th>Burst size (phages per cell)</th>\n",
       "      <th>Adsorption constant (k)</th>\n",
       "    </tr>\n",
       "  </thead>\n",
       "  <tbody>\n",
       "    <tr>\n",
       "      <th>0</th>\n",
       "      <td>0.513889</td>\n",
       "      <td>1.606667</td>\n",
       "      <td>1.272000e-08</td>\n",
       "    </tr>\n",
       "    <tr>\n",
       "      <th>1</th>\n",
       "      <td>0.402778</td>\n",
       "      <td>3.813333</td>\n",
       "      <td>1.264000e-08</td>\n",
       "    </tr>\n",
       "    <tr>\n",
       "      <th>2</th>\n",
       "      <td>0.388889</td>\n",
       "      <td>6.933333</td>\n",
       "      <td>1.280000e-08</td>\n",
       "    </tr>\n",
       "    <tr>\n",
       "      <th>3</th>\n",
       "      <td>0.333333</td>\n",
       "      <td>14.603333</td>\n",
       "      <td>1.304000e-08</td>\n",
       "    </tr>\n",
       "    <tr>\n",
       "      <th>4</th>\n",
       "      <td>0.263889</td>\n",
       "      <td>19.100000</td>\n",
       "      <td>1.264000e-08</td>\n",
       "    </tr>\n",
       "    <tr>\n",
       "      <th>5</th>\n",
       "      <td>0.236111</td>\n",
       "      <td>25.276667</td>\n",
       "      <td>1.208000e-08</td>\n",
       "    </tr>\n",
       "    <tr>\n",
       "      <th>6</th>\n",
       "      <td>0.444444</td>\n",
       "      <td>11.430000</td>\n",
       "      <td>1.472000e-08</td>\n",
       "    </tr>\n",
       "    <tr>\n",
       "      <th>7</th>\n",
       "      <td>0.402778</td>\n",
       "      <td>19.356667</td>\n",
       "      <td>1.512000e-08</td>\n",
       "    </tr>\n",
       "    <tr>\n",
       "      <th>8</th>\n",
       "      <td>0.333333</td>\n",
       "      <td>30.260000</td>\n",
       "      <td>1.440000e-08</td>\n",
       "    </tr>\n",
       "    <tr>\n",
       "      <th>9</th>\n",
       "      <td>0.291667</td>\n",
       "      <td>47.666667</td>\n",
       "      <td>1.416000e-08</td>\n",
       "    </tr>\n",
       "    <tr>\n",
       "      <th>10</th>\n",
       "      <td>0.263889</td>\n",
       "      <td>56.739000</td>\n",
       "      <td>1.480000e-08</td>\n",
       "    </tr>\n",
       "    <tr>\n",
       "      <th>11</th>\n",
       "      <td>0.236111</td>\n",
       "      <td>85.163333</td>\n",
       "      <td>1.528000e-08</td>\n",
       "    </tr>\n",
       "    <tr>\n",
       "      <th>12</th>\n",
       "      <td>0.333333</td>\n",
       "      <td>31.670000</td>\n",
       "      <td>1.712000e-08</td>\n",
       "    </tr>\n",
       "    <tr>\n",
       "      <th>13</th>\n",
       "      <td>0.277778</td>\n",
       "      <td>54.326667</td>\n",
       "      <td>1.792000e-08</td>\n",
       "    </tr>\n",
       "    <tr>\n",
       "      <th>14</th>\n",
       "      <td>0.263889</td>\n",
       "      <td>63.933333</td>\n",
       "      <td>1.760000e-08</td>\n",
       "    </tr>\n",
       "    <tr>\n",
       "      <th>15</th>\n",
       "      <td>0.250000</td>\n",
       "      <td>74.050000</td>\n",
       "      <td>1.712000e-08</td>\n",
       "    </tr>\n",
       "    <tr>\n",
       "      <th>16</th>\n",
       "      <td>0.250000</td>\n",
       "      <td>83.673333</td>\n",
       "      <td>1.720000e-08</td>\n",
       "    </tr>\n",
       "    <tr>\n",
       "      <th>17</th>\n",
       "      <td>0.236111</td>\n",
       "      <td>87.930000</td>\n",
       "      <td>1.752000e-08</td>\n",
       "    </tr>\n",
       "  </tbody>\n",
       "</table>\n",
       "</div>"
      ],
      "text/plain": [
       "    Latent period (days)  Burst size (phages per cell)  \\\n",
       "0               0.513889                      1.606667   \n",
       "1               0.402778                      3.813333   \n",
       "2               0.388889                      6.933333   \n",
       "3               0.333333                     14.603333   \n",
       "4               0.263889                     19.100000   \n",
       "5               0.236111                     25.276667   \n",
       "6               0.444444                     11.430000   \n",
       "7               0.402778                     19.356667   \n",
       "8               0.333333                     30.260000   \n",
       "9               0.291667                     47.666667   \n",
       "10              0.263889                     56.739000   \n",
       "11              0.236111                     85.163333   \n",
       "12              0.333333                     31.670000   \n",
       "13              0.277778                     54.326667   \n",
       "14              0.263889                     63.933333   \n",
       "15              0.250000                     74.050000   \n",
       "16              0.250000                     83.673333   \n",
       "17              0.236111                     87.930000   \n",
       "\n",
       "    Adsorption constant (k)  \n",
       "0              1.272000e-08  \n",
       "1              1.264000e-08  \n",
       "2              1.280000e-08  \n",
       "3              1.304000e-08  \n",
       "4              1.264000e-08  \n",
       "5              1.208000e-08  \n",
       "6              1.472000e-08  \n",
       "7              1.512000e-08  \n",
       "8              1.440000e-08  \n",
       "9              1.416000e-08  \n",
       "10             1.480000e-08  \n",
       "11             1.528000e-08  \n",
       "12             1.712000e-08  \n",
       "13             1.792000e-08  \n",
       "14             1.760000e-08  \n",
       "15             1.712000e-08  \n",
       "16             1.720000e-08  \n",
       "17             1.752000e-08  "
      ]
     },
     "execution_count": 73,
     "metadata": {},
     "output_type": "execute_result"
    }
   ],
   "source": [
    "avg"
   ]
  },
  {
   "cell_type": "markdown",
   "metadata": {},
   "source": [
    "An outlier is a value in a data set that is very different from the other values. Using the following equation: $$Outlier = Mean \\pm 2\\sigma$$ find the outlier in the first row of each column shown above. First we need to find the standard deviation."
   ]
  },
  {
   "cell_type": "code",
   "execution_count": 74,
   "metadata": {},
   "outputs": [],
   "source": [
    "std = df.groupby(np.arange(len(df))//3).std()"
   ]
  },
  {
   "cell_type": "markdown",
   "metadata": {},
   "source": [
    "Print the standard deviation."
   ]
  },
  {
   "cell_type": "code",
   "execution_count": 75,
   "metadata": {},
   "outputs": [
    {
     "data": {
      "text/html": [
       "<div>\n",
       "<style scoped>\n",
       "    .dataframe tbody tr th:only-of-type {\n",
       "        vertical-align: middle;\n",
       "    }\n",
       "\n",
       "    .dataframe tbody tr th {\n",
       "        vertical-align: top;\n",
       "    }\n",
       "\n",
       "    .dataframe thead th {\n",
       "        text-align: right;\n",
       "    }\n",
       "</style>\n",
       "<table border=\"1\" class=\"dataframe\">\n",
       "  <thead>\n",
       "    <tr style=\"text-align: right;\">\n",
       "      <th></th>\n",
       "      <th>Latent period (days)</th>\n",
       "      <th>Burst size (phages per cell)</th>\n",
       "      <th>Adsorption constant (k)</th>\n",
       "    </tr>\n",
       "  </thead>\n",
       "  <tbody>\n",
       "    <tr>\n",
       "      <th>0</th>\n",
       "      <td>0.024056</td>\n",
       "      <td>0.090185</td>\n",
       "      <td>6.349803e-10</td>\n",
       "    </tr>\n",
       "    <tr>\n",
       "      <th>1</th>\n",
       "      <td>0.024056</td>\n",
       "      <td>0.371663</td>\n",
       "      <td>2.771281e-10</td>\n",
       "    </tr>\n",
       "    <tr>\n",
       "      <th>2</th>\n",
       "      <td>0.048113</td>\n",
       "      <td>1.628906</td>\n",
       "      <td>1.385641e-10</td>\n",
       "    </tr>\n",
       "    <tr>\n",
       "      <th>3</th>\n",
       "      <td>0.000000</td>\n",
       "      <td>1.713486</td>\n",
       "      <td>1.385641e-10</td>\n",
       "    </tr>\n",
       "    <tr>\n",
       "      <th>4</th>\n",
       "      <td>0.024056</td>\n",
       "      <td>1.128184</td>\n",
       "      <td>1.385641e-10</td>\n",
       "    </tr>\n",
       "    <tr>\n",
       "      <th>5</th>\n",
       "      <td>0.024056</td>\n",
       "      <td>3.384735</td>\n",
       "      <td>1.385641e-10</td>\n",
       "    </tr>\n",
       "    <tr>\n",
       "      <th>6</th>\n",
       "      <td>0.024056</td>\n",
       "      <td>1.247117</td>\n",
       "      <td>6.039868e-10</td>\n",
       "    </tr>\n",
       "    <tr>\n",
       "      <th>7</th>\n",
       "      <td>0.024056</td>\n",
       "      <td>5.000403</td>\n",
       "      <td>2.400000e-10</td>\n",
       "    </tr>\n",
       "    <tr>\n",
       "      <th>8</th>\n",
       "      <td>0.000000</td>\n",
       "      <td>5.586877</td>\n",
       "      <td>0.000000e+00</td>\n",
       "    </tr>\n",
       "    <tr>\n",
       "      <th>9</th>\n",
       "      <td>0.041667</td>\n",
       "      <td>4.539794</td>\n",
       "      <td>2.400000e-10</td>\n",
       "    </tr>\n",
       "    <tr>\n",
       "      <th>10</th>\n",
       "      <td>0.024056</td>\n",
       "      <td>6.235278</td>\n",
       "      <td>1.385641e-10</td>\n",
       "    </tr>\n",
       "    <tr>\n",
       "      <th>11</th>\n",
       "      <td>0.024056</td>\n",
       "      <td>7.875661</td>\n",
       "      <td>3.666061e-10</td>\n",
       "    </tr>\n",
       "    <tr>\n",
       "      <th>12</th>\n",
       "      <td>0.041667</td>\n",
       "      <td>10.725106</td>\n",
       "      <td>1.385641e-10</td>\n",
       "    </tr>\n",
       "    <tr>\n",
       "      <th>13</th>\n",
       "      <td>0.024056</td>\n",
       "      <td>8.262598</td>\n",
       "      <td>8.428523e-10</td>\n",
       "    </tr>\n",
       "    <tr>\n",
       "      <th>14</th>\n",
       "      <td>0.024056</td>\n",
       "      <td>2.567885</td>\n",
       "      <td>1.385641e-10</td>\n",
       "    </tr>\n",
       "    <tr>\n",
       "      <th>15</th>\n",
       "      <td>0.000000</td>\n",
       "      <td>4.491904</td>\n",
       "      <td>1.385641e-10</td>\n",
       "    </tr>\n",
       "    <tr>\n",
       "      <th>16</th>\n",
       "      <td>0.000000</td>\n",
       "      <td>5.446929</td>\n",
       "      <td>1.385641e-10</td>\n",
       "    </tr>\n",
       "    <tr>\n",
       "      <th>17</th>\n",
       "      <td>0.024056</td>\n",
       "      <td>2.243145</td>\n",
       "      <td>2.400000e-10</td>\n",
       "    </tr>\n",
       "  </tbody>\n",
       "</table>\n",
       "</div>"
      ],
      "text/plain": [
       "    Latent period (days)  Burst size (phages per cell)  \\\n",
       "0               0.024056                      0.090185   \n",
       "1               0.024056                      0.371663   \n",
       "2               0.048113                      1.628906   \n",
       "3               0.000000                      1.713486   \n",
       "4               0.024056                      1.128184   \n",
       "5               0.024056                      3.384735   \n",
       "6               0.024056                      1.247117   \n",
       "7               0.024056                      5.000403   \n",
       "8               0.000000                      5.586877   \n",
       "9               0.041667                      4.539794   \n",
       "10              0.024056                      6.235278   \n",
       "11              0.024056                      7.875661   \n",
       "12              0.041667                     10.725106   \n",
       "13              0.024056                      8.262598   \n",
       "14              0.024056                      2.567885   \n",
       "15              0.000000                      4.491904   \n",
       "16              0.000000                      5.446929   \n",
       "17              0.024056                      2.243145   \n",
       "\n",
       "    Adsorption constant (k)  \n",
       "0              6.349803e-10  \n",
       "1              2.771281e-10  \n",
       "2              1.385641e-10  \n",
       "3              1.385641e-10  \n",
       "4              1.385641e-10  \n",
       "5              1.385641e-10  \n",
       "6              6.039868e-10  \n",
       "7              2.400000e-10  \n",
       "8              0.000000e+00  \n",
       "9              2.400000e-10  \n",
       "10             1.385641e-10  \n",
       "11             3.666061e-10  \n",
       "12             1.385641e-10  \n",
       "13             8.428523e-10  \n",
       "14             1.385641e-10  \n",
       "15             1.385641e-10  \n",
       "16             1.385641e-10  \n",
       "17             2.400000e-10  "
      ]
     },
     "execution_count": 75,
     "metadata": {},
     "output_type": "execute_result"
    }
   ],
   "source": [
    "std"
   ]
  },
  {
   "cell_type": "markdown",
   "metadata": {},
   "source": [
    "We only need the first row of standard deviations for the question. Arrays make iterating easier so convert the csv file to an array and iterate the $$2\\sigma$$ equation over the array."
   ]
  },
  {
   "cell_type": "code",
   "execution_count": 76,
   "metadata": {},
   "outputs": [
    {
     "name": "stdout",
     "output_type": "stream",
     "text": [
      "0    0.048113\n",
      "Name: Latent period (days), dtype: float64\n",
      "0    0.18037\n",
      "Name: Burst size (phages per cell), dtype: float64\n",
      "0    1.269961e-09\n",
      "Name: Adsorption constant (k), dtype: float64\n"
     ]
    }
   ],
   "source": [
    "# This give us only the first row.\n",
    "std_que = std.iloc[0:1]\n",
    "\n",
    "# Create an empty array\n",
    "std_data = []\n",
    "\n",
    "# Append the first row of our Standard deviation csv file to the empty array\n",
    "for i in std_que:\n",
    "    std_data.append(std_que[i])\n",
    "    \n",
    "# Iterate through our new appended array the equation 2*s\n",
    "for s in std_data:\n",
    "    print(2*s)"
   ]
  },
  {
   "cell_type": "markdown",
   "metadata": {},
   "source": [
    "Convert the convert the avg csv file we created earlier into an array. Print the array."
   ]
  },
  {
   "cell_type": "code",
   "execution_count": 77,
   "metadata": {},
   "outputs": [
    {
     "data": {
      "text/plain": [
       "[0    0.513889\n",
       " Name: Latent period (days), dtype: float64,\n",
       " 0    1.606667\n",
       " Name: Burst size (phages per cell), dtype: float64,\n",
       " 0    1.272000e-08\n",
       " Name: Adsorption constant (k), dtype: float64]"
      ]
     },
     "execution_count": 77,
     "metadata": {},
     "output_type": "execute_result"
    }
   ],
   "source": [
    "mean = avg.iloc[0:1]\n",
    "\n",
    "mean_data = []\n",
    "for n in mean:\n",
    "    mean_data.append(mean[n])\n",
    "\n",
    "mean_data"
   ]
  },
  {
   "cell_type": "markdown",
   "metadata": {},
   "source": [
    "We can now work out the first set of outliers: $$Outlier = Mean + 2\\sigma$$"
   ]
  },
  {
   "cell_type": "code",
   "execution_count": 78,
   "metadata": {},
   "outputs": [],
   "source": [
    "Lat_op = mean_data[0] + std_data[0]\n",
    "Burs_op = mean_data[1] + std_data[1]\n",
    "k_op = mean_data[2] + std_data[2]"
   ]
  },
  {
   "cell_type": "markdown",
   "metadata": {},
   "source": [
    "Print the values of each outlier."
   ]
  },
  {
   "cell_type": "code",
   "execution_count": 79,
   "metadata": {},
   "outputs": [
    {
     "name": "stdout",
     "output_type": "stream",
     "text": [
      "First set of outliers are: \n",
      " 0    0.537945\n",
      "Name: Latent period (days), dtype: float64 \n",
      " 0    1.696852\n",
      "Name: Burst size (phages per cell), dtype: float64 \n",
      " 0    1.335498e-08\n",
      "Name: Adsorption constant (k), dtype: float64 .\n"
     ]
    }
   ],
   "source": [
    "# \\n separates creates a new line.\n",
    "print('First set of outliers are:', '\\n', Lat_op, '\\n', Burs_op, '\\n', k_op,'.')"
   ]
  },
  {
   "cell_type": "markdown",
   "metadata": {},
   "source": [
    "Find the second set of Outliers: $$Outlier = Mean - 2\\sigma$$"
   ]
  },
  {
   "cell_type": "code",
   "execution_count": 80,
   "metadata": {},
   "outputs": [],
   "source": [
    "Lat_on = mean_data[0] - std_data[0]\n",
    "Burs_on = mean_data[1] - std_data[1]\n",
    "k_on = mean_data[2] - std_data[2]"
   ]
  },
  {
   "cell_type": "markdown",
   "metadata": {},
   "source": [
    "Print the second set of outliers."
   ]
  },
  {
   "cell_type": "code",
   "execution_count": 81,
   "metadata": {},
   "outputs": [
    {
     "name": "stdout",
     "output_type": "stream",
     "text": [
      "Second set of outliers are: \n",
      " 0    0.489833\n",
      "Name: Latent period (days), dtype: float64 \n",
      " 0    1.516482\n",
      "Name: Burst size (phages per cell), dtype: float64 \n",
      " 0    1.208502e-08\n",
      "Name: Adsorption constant (k), dtype: float64 .\n"
     ]
    }
   ],
   "source": [
    "print('Second set of outliers are:', '\\n', Lat_on, '\\n', Burs_on, '\\n', k_on,'.')"
   ]
  },
  {
   "cell_type": "code",
   "execution_count": null,
   "metadata": {},
   "outputs": [],
   "source": []
  }
 ],
 "metadata": {
  "kernelspec": {
   "display_name": "Python 3",
   "language": "python",
   "name": "python3"
  },
  "language_info": {
   "codemirror_mode": {
    "name": "ipython",
    "version": 3
   },
   "file_extension": ".py",
   "mimetype": "text/x-python",
   "name": "python",
   "nbconvert_exporter": "python",
   "pygments_lexer": "ipython3",
   "version": "3.8.5"
  }
 },
 "nbformat": 4,
 "nbformat_minor": 4
}
