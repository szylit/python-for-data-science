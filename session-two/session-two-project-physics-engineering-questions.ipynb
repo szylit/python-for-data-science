{
 "cells": [
  {
   "cell_type": "markdown",
   "metadata": {},
   "source": [
    "# Python for Data Science Project Session 2: Physics and Engineering"
   ]
  },
  {
   "cell_type": "markdown",
   "metadata": {},
   "source": [
    "In this project session, we will look at four mini-topics related to physics and engineering, applying the techniques we learnt in the second teaching session regarding the use of `matplotlib` for visualisation."
   ]
  },
  {
   "cell_type": "markdown",
   "metadata": {},
   "source": [
    "We start by importing all packages required for this session."
   ]
  },
  {
   "cell_type": "code",
   "execution_count": null,
   "metadata": {},
   "outputs": [],
   "source": [
    "import math\n",
    "import random\n",
    "\n",
    "import pandas as pd\n",
    "import matplotlib.pyplot as plt\n",
    "import numpy as np"
   ]
  },
  {
   "cell_type": "markdown",
   "metadata": {},
   "source": [
    "> **Note**\n",
    ">\n",
    "> Notice how we have split up our imports into two groups. When importing packages in Python, the convention is to split built-in, 3rd-party and user-written imports with a blank line. "
   ]
  },
  {
   "cell_type": "markdown",
   "metadata": {},
   "source": [
    "## Signal Processing"
   ]
  },
  {
   "cell_type": "markdown",
   "metadata": {},
   "source": [
    "The first topic we will look at is signal processing. In this, we will plot the interface patterns of multiple sine waves."
   ]
  },
  {
   "cell_type": "markdown",
   "metadata": {},
   "source": [
    "Before we get started on that, we need to introduce a methodology for plotting generic functions using `matplotlib`. To do this, we will introduce a small amount of `numpy` code (which we will cover in detail in the next teaching session)."
   ]
  },
  {
   "cell_type": "markdown",
   "metadata": {},
   "source": [
    "Namely, we can use `np.linspace` to generate a sequence of equally spaced points. View [the documentation](https://numpy.org/doc/stable/reference/generated/numpy.linspace.html) to understand what each of the three parameters are for."
   ]
  },
  {
   "cell_type": "code",
   "execution_count": null,
   "metadata": {},
   "outputs": [],
   "source": [
    "xs = np.linspace(-10, 10, 1000)"
   ]
  },
  {
   "cell_type": "markdown",
   "metadata": {},
   "source": [
    "We can then write a function for the operation we want to perform and use a list comprehension to apply it to each value of x."
   ]
  },
  {
   "cell_type": "code",
   "execution_count": null,
   "metadata": {},
   "outputs": [],
   "source": [
    "def f(x):\n",
    "    return x**3 - 2 * x**2 + 3 * x - 2\n",
    "\n",
    "ys = [f(x) for x in xs]"
   ]
  },
  {
   "cell_type": "markdown",
   "metadata": {},
   "source": [
    "> **Note**\n",
    ">\n",
    "> There are cleaner ways to do this using just `numpy` but we will have to wait for next week to cover them"
   ]
  },
  {
   "cell_type": "markdown",
   "metadata": {},
   "source": [
    "Or, if the function is short enough, we can put it directly into the list comprehension."
   ]
  },
  {
   "cell_type": "code",
   "execution_count": null,
   "metadata": {},
   "outputs": [],
   "source": [
    "ys = [x**3 - 2 * x**2 + 3 * x - 2 for x in xs]"
   ]
  },
  {
   "cell_type": "markdown",
   "metadata": {},
   "source": [
    "Once we have corresponding pairs of x and y values, we can plot them using `matplotlib`."
   ]
  },
  {
   "cell_type": "code",
   "execution_count": null,
   "metadata": {},
   "outputs": [],
   "source": [
    "fig, ax = plt.subplots()\n",
    "ax.plot(xs, ys)\n",
    "plt.show()"
   ]
  },
  {
   "cell_type": "markdown",
   "metadata": {},
   "source": [
    "Even though this curve looks smooth, it is actual made of multiple short lines (1000 to be exact). When plotting functions we have to choose the value of the `num` parameter of `np.linspace` carefully; too small and our plot will look choppy, but too large and our code will take a long time to run."
   ]
  },
  {
   "cell_type": "markdown",
   "metadata": {},
   "source": [
    "With that out of the way, let's start off our signal processing."
   ]
  },
  {
   "cell_type": "markdown",
   "metadata": {},
   "source": [
    "Create a variable `xs` containing 1000 points equally spaced between -5 and 5. Use three list comprehensions and `math.sin()` to create three lists `y1s`, `y2s`, `y3s` given by\n",
    "\n",
    "$$y_1 = \\sin(x) \\\\ y_2 = \\sin(2x) \\\\ y_3 = \\sin(3x)$$. "
   ]
  },
  {
   "cell_type": "code",
   "execution_count": null,
   "metadata": {},
   "outputs": [],
   "source": [
    "# Create xs and y#s\n"
   ]
  },
  {
   "cell_type": "markdown",
   "metadata": {},
   "source": [
    "Plot these three curves on the same set of axes and add a legend giving the formula of each curve. Set the y limits to be ±1.5."
   ]
  },
  {
   "cell_type": "markdown",
   "metadata": {},
   "source": [
    "> **Bonus**\n",
    ">\n",
    "> If you're familiar with LaTeX, note that you are free to use it in axis, legend, and plot labels."
   ]
  },
  {
   "cell_type": "code",
   "execution_count": null,
   "metadata": {},
   "outputs": [],
   "source": [
    "# Plot the three sine waves\n"
   ]
  },
  {
   "cell_type": "markdown",
   "metadata": {},
   "source": [
    "Create a new variable `zs` which is the element-wise sum of `y1s`, `y2s` and `y3s`. Note, you can't just use `y1s + y2s + y3s` as this gives the concatenation of the three lists."
   ]
  },
  {
   "cell_type": "markdown",
   "metadata": {},
   "source": [
    "> **Hints**\n",
    ">\n",
    "> There are a few approaches:\n",
    "> 1. (Simple) Set `zs = []`, loop through `i in range(len(y1s))` and append the sum of the corresponding `y#s` to `zs` at each point\n",
    "> 2. (Clean) Use list comprehension on the `zip` of the `y#s`"
   ]
  },
  {
   "cell_type": "code",
   "execution_count": null,
   "metadata": {},
   "outputs": [],
   "source": [
    "# Calculate the sum of the function outputs\n"
   ]
  },
  {
   "cell_type": "markdown",
   "metadata": {},
   "source": [
    "Take the plot from before but modify it so the lines are dashed and 50% transparent. Also, increase the figure size to 10x6 inches and allow the y limit to be set automatically. Add a black line for `zs`. Label the axes \"x\" and \"f(x)\" respectively."
   ]
  },
  {
   "cell_type": "code",
   "execution_count": null,
   "metadata": {},
   "outputs": [],
   "source": [
    "# Plot the original sine waves and their interference patterns\n"
   ]
  },
  {
   "cell_type": "markdown",
   "metadata": {},
   "source": [
    "> **Bonus**\n",
    ">\n",
    "> Create a function called `plot_sine_interference(n)` which accepts a positive integer `n` and creates a plot as above but for $\\sin(x),\\ldots,\\sin(nx)$. Instead of using `y1s`...`yns`, it would be best to let `ys` be a list of list and use a `for` loop to add the plots. You are free to stop using the legend for this version."
   ]
  },
  {
   "cell_type": "markdown",
   "metadata": {},
   "source": [
    "## Brownian Motion"
   ]
  },
  {
   "cell_type": "markdown",
   "metadata": {},
   "source": [
    "Brownian motion is the pattern generated by random fluctuations in a particles position inside a fluid, a 2D example of which is shown below."
   ]
  },
  {
   "cell_type": "markdown",
   "metadata": {},
   "source": [
    "![Brownian motion animation](images/brownian_motion.gif)"
   ]
  },
  {
   "cell_type": "markdown",
   "metadata": {},
   "source": [
    "In this mini-project, we will plot the trajectories of particles following Brownian motion, given a dataset of there positions over time."
   ]
  },
  {
   "cell_type": "markdown",
   "metadata": {},
   "source": [
    "Before we continue, it will likely be helpful to draw attention to the use of Matplotlib within a `for` loop. This is of particular importance when we want to create plots for various subsets of the dataset. We will provide an illustrate example using the iris dataset, giving sepal and petal measurements for three types of iris flowers."
   ]
  },
  {
   "cell_type": "code",
   "execution_count": null,
   "metadata": {},
   "outputs": [],
   "source": [
    "iris = pd.read_csv('https://raw.githubusercontent.com/mwaskom/seaborn-data/master/iris.csv')\n",
    "iris.head()"
   ]
  },
  {
   "cell_type": "markdown",
   "metadata": {},
   "source": [
    "We could manually add each species to the plot, but it is more elegant to loop over the unique values of the column."
   ]
  },
  {
   "cell_type": "code",
   "execution_count": null,
   "metadata": {},
   "outputs": [],
   "source": [
    "fig, ax = plt.subplots()\n",
    "for species in iris.species.unique():\n",
    "    iris_subset = iris.loc[iris.species == species]\n",
    "    ax.scatter(iris_subset.sepal_length, iris_subset.sepal_width,\n",
    "               label=species)\n",
    "ax.legend()\n",
    "ax.set_xlabel(\"Sepal Length\")\n",
    "ax.set_ylabel(\"Sepal Width\")\n",
    "plt.show()"
   ]
  },
  {
   "cell_type": "markdown",
   "metadata": {},
   "source": [
    "You can now download the Brownian motion dataset from the [session resources](https://education.wdss.io/python-for-data-science/session-two/). This consists of the motion of 100 particles relative to their starting point over a one second interval. Import it below."
   ]
  },
  {
   "cell_type": "code",
   "execution_count": null,
   "metadata": {},
   "outputs": [],
   "source": [
    "# Load the Brownian motion dataset\n"
   ]
  },
  {
   "cell_type": "markdown",
   "metadata": {},
   "source": [
    "Create an 8x8 inch line plot showing the paths of each of the particles over time. Use black lines with 80% transparency for each. "
   ]
  },
  {
   "cell_type": "code",
   "execution_count": null,
   "metadata": {},
   "outputs": [],
   "source": [
    "# Plot the Brownian motion\n"
   ]
  },
  {
   "cell_type": "markdown",
   "metadata": {},
   "source": [
    "We would now like to add histograms to the top and right of the plot, showing the distribution of the x and y coordinates, respectively. Recreate the above plot using `plt.figure` rather than subplots. Use the bottom-left four-fifths for the line plot and use the top/right fifths for two histograms. The histograms should have 50 bins each, be coloured light grey, and have a black outlines. Note, you can create a rotated histogram using `orientation='horizontal'`. You can also remove axis ticks using `ax.get_xaxis().set_ticks([])`/`ax.get_yaxis().set_ticks([])`"
   ]
  },
  {
   "cell_type": "code",
   "execution_count": null,
   "metadata": {},
   "outputs": [],
   "source": [
    "# Add marginal histograms to the plot\n"
   ]
  },
  {
   "cell_type": "markdown",
   "metadata": {},
   "source": [
    "> **Digressions**\n",
    ">\n",
    "> The Brownian motion above is an extremely simple type generated by adding random Gaussian noise to your position at any time step. A sensible question is, is a particle likely to return to its starting position and, if so, after how long. It turns out that the answer depends on the dimension we are looking at. In one dimension, the particle has a 100% chance of returning to the start and will do so on average in a finite amount of time. In two dimensions, there is still a 100% chance of return, but the expected time of return is infinite. In three dimensions, there is a greater than 50% chance of never returning to the start. This observation has lead to the invention of the phrase \"a drunk man will eventually find his way home, but a drunk bird might well become lost forever\"."
   ]
  },
  {
   "cell_type": "markdown",
   "metadata": {},
   "source": [
    "## Heatmaps"
   ]
  },
  {
   "cell_type": "markdown",
   "metadata": {},
   "source": [
    "For the second topic of this session, we will look at generating heat maps. Interestingly, we generate heatmaps using the same method we would use for displaying an image. We will return to how we can load images in the third teaching session."
   ]
  },
  {
   "cell_type": "markdown",
   "metadata": {},
   "source": [
    "We will start by providing an example of how we can create such a heatmap. We do this by using the `imshow` method of a set of axes, passing in a 2D list of lists. We will not focus on how we generate such objects since we'll find an easier approach in the next session. Instead we focus on plotting them."
   ]
  },
  {
   "cell_type": "code",
   "execution_count": null,
   "metadata": {},
   "outputs": [],
   "source": [
    "# Hyperbola\n",
    "z = [[x ** 2 - y ** 2\n",
    "     for y in np.linspace(-5, 5, 1000)]\n",
    "    for x in np.linspace(-5, 5, 1000)]"
   ]
  },
  {
   "cell_type": "code",
   "execution_count": null,
   "metadata": {},
   "outputs": [],
   "source": [
    "fig, ax = plt.subplots(figsize=(8, 8))\n",
    "ax.imshow(z)\n",
    "plt.show()"
   ]
  },
  {
   "cell_type": "markdown",
   "metadata": {},
   "source": [
    "We will use heatmaps to plot the strength of a gravitational field created by $n$ planets. We start by creating a list of planets, giving their position, mass and radius (feel free to play with these after)."
   ]
  },
  {
   "cell_type": "code",
   "execution_count": null,
   "metadata": {},
   "outputs": [],
   "source": [
    "planets = [\n",
    "    {'x': 4, 'y': 2, 'm': 3e5, 'r': 0.2},\n",
    "    {'x': -1, 'y': 3, 'm': 2e4, 'r': 0.1},\n",
    "    {'x': -2, 'y': -4, 'm': 5e3, 'r': 0.4},\n",
    "]"
   ]
  },
  {
   "cell_type": "markdown",
   "metadata": {},
   "source": [
    "We then use the following code to calculate the logarithm of the sum of all absolute gravitational forces acting on each point in the grid $[-5, 5] \\times [-5, 5]$."
   ]
  },
  {
   "cell_type": "code",
   "execution_count": null,
   "metadata": {},
   "outputs": [],
   "source": [
    "z = [[math.log(sum(\n",
    "    p['m'] / r2 if (r2 := ((p['x']-x)**2 + (p['y']-y)**2)) > p['r']**2 else 0\n",
    "    for p in planets))\n",
    "    for y in np.linspace(-5, 5, 200)]\n",
    "    for x in np.linspace(-5, 5, 200)]"
   ]
  },
  {
   "cell_type": "markdown",
   "metadata": {},
   "source": [
    "Let's visualise this as a heatmap. Make sure to include a colour bar using the same method as we did for scatter plots. Set the colour map to 'magma' using [the documentation](https://matplotlib.org/stable/tutorials/introductory/customizing.html?highlight=image.cmap#a-sample-matplotlibrc-file) of `imshow`."
   ]
  },
  {
   "cell_type": "code",
   "execution_count": null,
   "metadata": {},
   "outputs": [],
   "source": [
    "# Create a heatmap of `z`\n"
   ]
  },
  {
   "cell_type": "markdown",
   "metadata": {},
   "source": [
    "**(Hard)** At this point, our x and y ticks are not correct. Use `set_xticks` and `set_xticklabels` to correct this."
   ]
  },
  {
   "cell_type": "code",
   "execution_count": null,
   "metadata": {},
   "outputs": [],
   "source": [
    "# Correct the axis ticks\n"
   ]
  },
  {
   "cell_type": "markdown",
   "metadata": {},
   "source": [
    "## Monte Carlo Simulations"
   ]
  },
  {
   "cell_type": "markdown",
   "metadata": {},
   "source": [
    "For the last of our mini-projects, we will take a look at Monte Carlo simulation. This sounds fancy, but essentially boils down to using simulation and randomness to answer questions and is incredibly useful for statistical mechanics and numerical methods."
   ]
  },
  {
   "cell_type": "markdown",
   "metadata": {},
   "source": [
    "We will look at a textbook of approximating the value of $\\pi \\approx 3.14159$ with needing to use any maths or equations. We do this by placing points randomly in a 2-by-2 square and asking how many fall inside a circle of radius one placed at its centre as shown below."
   ]
  },
  {
   "cell_type": "markdown",
   "metadata": {},
   "source": [
    "<img src=\"images/pi_monte_carlo.png\" alt=\"Estimating Pi using Monte Carlo Methods\" style=\"width: 400px;\"/>"
   ]
  },
  {
   "cell_type": "markdown",
   "metadata": {},
   "source": [
    "It turns out that if we calculate the ratio of the number of points inside the circle to all points and multiply this by four, we obtain an approximation of $\\pi$. An explanation of this is provided in [this video](https://www.youtube.com/watch?v=ELetCV_wX_c)."
   ]
  },
  {
   "cell_type": "markdown",
   "metadata": {},
   "source": [
    "We will replicate this method for ourselves. The number of points we will generate will be `N`, set initially to be 1000 (feel free to play around with this later)."
   ]
  },
  {
   "cell_type": "code",
   "execution_count": null,
   "metadata": {},
   "outputs": [],
   "source": [
    "N = 1000"
   ]
  },
  {
   "cell_type": "markdown",
   "metadata": {},
   "source": [
    "Start by creating two lists `xs` and `ys` containing random numbers between -1 and 1. To do this, use list comprehensions with `random.uniform(-1, 1)`."
   ]
  },
  {
   "cell_type": "code",
   "execution_count": null,
   "metadata": {},
   "outputs": [],
   "source": [
    "# Generate random x and y coordinates\n"
   ]
  },
  {
   "cell_type": "markdown",
   "metadata": {},
   "source": [
    "Using a similar method to how we created `zs` first mini-project, create a list `in_circle` which is `True` if the corresponding point from `xs` and `ys` is in the circle."
   ]
  },
  {
   "cell_type": "markdown",
   "metadata": {},
   "source": [
    "> **Hint**\n",
    ">\n",
    "> A point $(x, y)$ is in the circle if and only if $x^2 + y^2 \\leq 1$"
   ]
  },
  {
   "cell_type": "code",
   "execution_count": null,
   "metadata": {},
   "outputs": [],
   "source": [
    "# Determine which points lie within the circle\n"
   ]
  },
  {
   "cell_type": "markdown",
   "metadata": {},
   "source": [
    "Using `xs`, `ys` and `in_circle`, plot the simulated points coloured by whether they are in the circle. Make sure to use `figsize` to make the plot square and the points are a reasonable size."
   ]
  },
  {
   "cell_type": "code",
   "execution_count": null,
   "metadata": {},
   "outputs": [],
   "source": [
    "# Plot the simulated points coloured by whether they lie in the circle\n"
   ]
  },
  {
   "cell_type": "markdown",
   "metadata": {},
   "source": [
    "> **Bonus**\n",
    ">\n",
    "> Add a custom legend to the plot using [this guide](https://matplotlib.org/stable/gallery/text_labels_and_annotations/custom_legends.html)."
   ]
  },
  {
   "cell_type": "markdown",
   "metadata": {},
   "source": [
    "Run the following code which creates two lists `ns` and `pis` giving the estimate of $\\pi$ we obtain using the first $n$ points."
   ]
  },
  {
   "cell_type": "code",
   "execution_count": null,
   "metadata": {},
   "outputs": [],
   "source": [
    "ns = []\n",
    "pis = []\n",
    "count = 0\n",
    "for n in range(1, N+1):\n",
    "    ns.append(n)\n",
    "    count += in_circle[n-1]\n",
    "    pis.append(4 * count / n)"
   ]
  },
  {
   "cell_type": "markdown",
   "metadata": {},
   "source": [
    "Create a labelled line plot of `pis` and `ns` and add a horizontal line at $y=3.14159$ by reading [this documentation](https://matplotlib.org/stable/api/_as_gen/matplotlib.axes.Axes.axhline.html)."
   ]
  },
  {
   "cell_type": "code",
   "execution_count": null,
   "metadata": {},
   "outputs": [],
   "source": [
    "# Plot the convergence of the estimates of pi\n"
   ]
  },
  {
   "cell_type": "markdown",
   "metadata": {},
   "source": [
    "> **Bonus**\n",
    ">\n",
    "> Can you use a loop to add multiple runs of the simulation to the plot?"
   ]
  }
 ],
 "metadata": {
  "kernelspec": {
   "display_name": "Python for Data Science",
   "language": "python",
   "name": "pyds"
  },
  "language_info": {
   "codemirror_mode": {
    "name": "ipython",
    "version": 3
   },
   "file_extension": ".py",
   "mimetype": "text/x-python",
   "name": "python",
   "nbconvert_exporter": "python",
   "pygments_lexer": "ipython3",
   "version": "3.8.5"
  }
 },
 "nbformat": 4,
 "nbformat_minor": 4
}
